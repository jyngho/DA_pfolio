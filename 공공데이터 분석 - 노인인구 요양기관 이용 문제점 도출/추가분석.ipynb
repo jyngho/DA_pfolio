{
 "cells": [
  {
   "cell_type": "code",
   "execution_count": 2,
   "id": "b8e41bc2",
   "metadata": {},
   "outputs": [],
   "source": [
    "import pandas as pd\n",
    "import numpy as np\n",
    "\n",
    "import seaborn as sns\n",
    "import matplotlib.pyplot as plt\n",
    "\n",
    "from matplotlib import font_manager, rc\n",
    "\n",
    "import platform\n",
    "\n",
    "path = \"c:/Windows/Fonts/malgun.ttf\"\n",
    "if platform.system() == 'Darwin':\n",
    "    rc('font', family='AppleGothic')\n",
    "elif platform.system() == 'Windows':\n",
    "    font_name = font_manager.FontProperties(fname=path).get_name()\n",
    "    rc('font', family=font_name)\n",
    "else:\n",
    "    print('Unknown system...')\n",
    "rc('axes', unicode_minus=False)\n"
   ]
  },
  {
   "cell_type": "markdown",
   "id": "cd89347e",
   "metadata": {},
   "source": [
    "# 시설형 장기요양기관"
   ]
  },
  {
   "cell_type": "code",
   "execution_count": 4,
   "id": "24462a73",
   "metadata": {},
   "outputs": [],
   "source": [
    "df = pd.read_csv(\"data/시군구별급여종류병장기요양기관현황.csv\",encoding='cp949')"
   ]
  },
  {
   "cell_type": "code",
   "execution_count": 6,
   "id": "5181aed2",
   "metadata": {},
   "outputs": [
    {
     "data": {
      "text/plain": [
       "Index(['시·군·구별', '급여종류별', '항목', '단위', '2016 년', '2017 년', '2018 년', '2019 년',\n",
       "       '2020 년'],\n",
       "      dtype='object')"
      ]
     },
     "execution_count": 6,
     "metadata": {},
     "output_type": "execute_result"
    }
   ],
   "source": [
    "df.columns"
   ]
  },
  {
   "cell_type": "code",
   "execution_count": 7,
   "id": "25790c59",
   "metadata": {},
   "outputs": [
    {
     "data": {
      "text/plain": [
       "array(['합계', '서울', '종로구', '중구', '용산구', '성동구', '광진구', '동대문구', '중랑구', '성북구',\n",
       "       '강북구', '도봉구', '노원구', '은평구', '서대문구', '마포구', '양천구', '강서구', '구로구',\n",
       "       '금천구', '영등포구', '동작구', '관악구', '서초구', '강남구', '송파구', '강동구', '부산',\n",
       "       '서구', '동구', '영도구', '부산진구', '동래구', '남구', '북구', '해운대구', '사하구', '금정구',\n",
       "       '연제구', '수영구', '사상구', '기장군', '대구', '수성구', '달서구', '달성군', '인천',\n",
       "       '미추홀구', '연수구', '남동구', '부평구', '계양구', '강화군', '옹진군', '광주', '광산구',\n",
       "       '대전', '유성구', '대덕구', '울산', '울주군', '세종', '경기', '수원시장안구', '수원시권선구',\n",
       "       '수원시팔달구', '수원시영통구', '성남시수정구', '성남시중원구', '성남시분당구', '의정부시', '안양시만안구',\n",
       "       '안양시동안구', '부천시', '광명시', '평택시', '동두천시', '안산시상록구', '안산시단원구',\n",
       "       '고양시덕양구', '고양시일산동구', '고양시일산서구', '과천시', '구리시', '남양주시', '오산시', '시흥시',\n",
       "       '군포시', '의왕시', '하남시', '용인시처인구', '용인시기흥구', '용인시수지구', '파주시', '이천시',\n",
       "       '안성시', '김포시', '화성시', '광주시', '양주시', '포천시', '여주시', '연천군', '가평군',\n",
       "       '양평군', '강원', '춘천시', '원주시', '강릉시', '동해시', '태백시', '속초시', '삼척시',\n",
       "       '홍천군', '횡성군', '영월군', '평창군', '정선군', '철원군', '화천군', '양구군', '인제군',\n",
       "       '고성군', '양양군', '충북', '청주시상당구', '청주시서원구', '청주시흥덕구', '청주시청원구', '충주시',\n",
       "       '제천시', '보은군', '옥천군', '영동군', '증평군', '진천군', '괴산군', '음성군', '단양군',\n",
       "       '충남', '천안시동남구', '천안시서북구', '공주시', '보령시', '아산시', '서산시', '논산시', '계룡시',\n",
       "       '당진시', '금산군', '부여군', '서천군', '청양군', '홍성군', '예산군', '태안군', '전북',\n",
       "       '전주시완산구', '전주시덕진구', '군산시', '익산시', '정읍시', '남원시', '김제시', '완주군',\n",
       "       '진안군', '무주군', '장수군', '임실군', '순창군', '고창군', '부안군', '전남', '목포시',\n",
       "       '여수시', '순천시', '나주시', '광양시', '담양군', '곡성군', '구례군', '고흥군', '보성군',\n",
       "       '화순군', '장흥군', '강진군', '해남군', '영암군', '무안군', '함평군', '영광군', '장성군',\n",
       "       '완도군', '진도군', '신안군', '경북', '포항시남구', '포항시북구', '경주시', '김천시', '안동시',\n",
       "       '구미시', '영주시', '영천시', '상주시', '문경시', '경산시', '군위군', '의성군', '청송군',\n",
       "       '영양군', '영덕군', '청도군', '고령군', '성주군', '칠곡군', '예천군', '봉화군', '울진군',\n",
       "       '울릉군', '경남', '창원시의창구', '창원시성산구', '창원시마산합포구', '창원시마산회원구', '창원시진해구',\n",
       "       '진주시', '통영시', '사천시', '김해시', '밀양시', '거제시', '양산시', '의령군', '함안군',\n",
       "       '창녕군', '남해군', '하동군', '산청군', '함양군', '거창군', '합천군', '제주', '제주시',\n",
       "       '서귀포시'], dtype=object)"
      ]
     },
     "execution_count": 7,
     "metadata": {},
     "output_type": "execute_result"
    }
   ],
   "source": [
    "df['시·군·구별'].unique()"
   ]
  },
  {
   "cell_type": "code",
   "execution_count": 12,
   "id": "c2da2bf9",
   "metadata": {},
   "outputs": [
    {
     "data": {
      "text/plain": [
       "array(['계', '재가', '방문요양', '방문목욕', '방문간호', '주야간보호', '단기보호', '복지용구', '시설',\n",
       "       '노인요양시설', '노인요양공동생활가정'], dtype=object)"
      ]
     },
     "execution_count": 12,
     "metadata": {},
     "output_type": "execute_result"
    }
   ],
   "source": [
    "df['급여종류별'].unique()"
   ]
  },
  {
   "cell_type": "code",
   "execution_count": 33,
   "id": "f1f2bf06",
   "metadata": {},
   "outputs": [],
   "source": [
    "a=df[df['급여종류별'].str.contains(\"노인요양시설|노인요양공동생활가정\")]"
   ]
  },
  {
   "cell_type": "code",
   "execution_count": 40,
   "id": "a7c8ec24",
   "metadata": {
    "scrolled": false
   },
   "outputs": [],
   "source": [
    "a = a[a['항목']=='기관수[개]']"
   ]
  },
  {
   "cell_type": "code",
   "execution_count": 46,
   "id": "adce68f8",
   "metadata": {
    "scrolled": false
   },
   "outputs": [],
   "source": [
    "a=a[a['시·군·구별'] == '합계']"
   ]
  },
  {
   "cell_type": "code",
   "execution_count": 59,
   "id": "fc5ee30c",
   "metadata": {},
   "outputs": [
    {
     "data": {
      "text/plain": [
       "Index(['시·군·구별', '급여종류별', '항목', '단위', '2016 년', '2017 년', '2018 년', '2019 년',\n",
       "       '2020 년'],\n",
       "      dtype='object')"
      ]
     },
     "execution_count": 59,
     "metadata": {},
     "output_type": "execute_result"
    }
   ],
   "source": [
    "a.columns"
   ]
  },
  {
   "cell_type": "code",
   "execution_count": 63,
   "id": "b3ca5468",
   "metadata": {},
   "outputs": [],
   "source": [
    "q = ['시·군·구별', '급여종류별', '항목', '단위', '2016 년', '2017 년', '2018 년', '2019 년',\n",
    "       '2020 년']"
   ]
  },
  {
   "cell_type": "code",
   "execution_count": 64,
   "id": "34749684",
   "metadata": {},
   "outputs": [
    {
     "name": "stderr",
     "output_type": "stream",
     "text": [
      "/var/folders/gw/2f6prwyn0kj6f1ksrvqg41340000gn/T/ipykernel_17724/1838021317.py:2: SettingWithCopyWarning: \n",
      "A value is trying to be set on a copy of a slice from a DataFrame.\n",
      "Try using .loc[row_indexer,col_indexer] = value instead\n",
      "\n",
      "See the caveats in the documentation: https://pandas.pydata.org/pandas-docs/stable/user_guide/indexing.html#returning-a-view-versus-a-copy\n",
      "  a[i] = a[i].astype(int,errors='ignore')\n"
     ]
    }
   ],
   "source": [
    "for i in q:\n",
    "    a[i] = a[i].astype(int,errors='ignore')"
   ]
  },
  {
   "cell_type": "code",
   "execution_count": 65,
   "id": "da7d9fad",
   "metadata": {},
   "outputs": [
    {
     "name": "stdout",
     "output_type": "stream",
     "text": [
      "5187\n",
      "5304\n",
      "5320\n",
      "5543\n",
      "5763\n"
     ]
    }
   ],
   "source": [
    "print(a['2016 년'].sum())\n",
    "print(a['2017 년'].sum())\n",
    "print(a['2018 년'].sum())\n",
    "print(a['2019 년'].sum())\n",
    "print(a['2020 년'].sum())"
   ]
  },
  {
   "cell_type": "code",
   "execution_count": 66,
   "id": "e5f0c404",
   "metadata": {},
   "outputs": [],
   "source": [
    "aa = new_data = {\n",
    "    '시·군·구별' : ['합계'],\n",
    "    '급여종류별' : ['시설형요양기관'],\n",
    "    '항목' : ['기관수[개]'],\n",
    "    '단위' : ['개'],\n",
    "    '2016년' : [5187],\n",
    "    '2017년' : [5304],\n",
    "    '2018년' : [5320],\n",
    "    '2019년' : [5543],\n",
    "    '2020년' : [5763],}"
   ]
  },
  {
   "cell_type": "code",
   "execution_count": 103,
   "id": "1b27a97d",
   "metadata": {},
   "outputs": [],
   "source": [
    "ww = pd.DataFrame(aa)\n",
    " \n",
    "ss = pd.concat([a,ww])"
   ]
  },
  {
   "cell_type": "code",
   "execution_count": 104,
   "id": "e9eda9d2",
   "metadata": {
    "scrolled": true
   },
   "outputs": [
    {
     "data": {
      "text/html": [
       "<div>\n",
       "<style scoped>\n",
       "    .dataframe tbody tr th:only-of-type {\n",
       "        vertical-align: middle;\n",
       "    }\n",
       "\n",
       "    .dataframe tbody tr th {\n",
       "        vertical-align: top;\n",
       "    }\n",
       "\n",
       "    .dataframe thead th {\n",
       "        text-align: right;\n",
       "    }\n",
       "</style>\n",
       "<table border=\"1\" class=\"dataframe\">\n",
       "  <thead>\n",
       "    <tr style=\"text-align: right;\">\n",
       "      <th></th>\n",
       "      <th>시·군·구별</th>\n",
       "      <th>급여종류별</th>\n",
       "      <th>항목</th>\n",
       "      <th>단위</th>\n",
       "      <th>2016 년</th>\n",
       "      <th>2017 년</th>\n",
       "      <th>2018 년</th>\n",
       "      <th>2019 년</th>\n",
       "      <th>2020 년</th>\n",
       "      <th>2016년</th>\n",
       "      <th>2017년</th>\n",
       "      <th>2018년</th>\n",
       "      <th>2019년</th>\n",
       "      <th>2020년</th>\n",
       "    </tr>\n",
       "  </thead>\n",
       "  <tbody>\n",
       "    <tr>\n",
       "      <th>14</th>\n",
       "      <td>합계</td>\n",
       "      <td>노인요양시설</td>\n",
       "      <td>기관수[개]</td>\n",
       "      <td>개</td>\n",
       "      <td>3137.0</td>\n",
       "      <td>3289.0</td>\n",
       "      <td>3389.0</td>\n",
       "      <td>3604.0</td>\n",
       "      <td>3850.0</td>\n",
       "      <td>NaN</td>\n",
       "      <td>NaN</td>\n",
       "      <td>NaN</td>\n",
       "      <td>NaN</td>\n",
       "      <td>NaN</td>\n",
       "    </tr>\n",
       "    <tr>\n",
       "      <th>16</th>\n",
       "      <td>합계</td>\n",
       "      <td>노인요양공동생활가정</td>\n",
       "      <td>기관수[개]</td>\n",
       "      <td>개</td>\n",
       "      <td>2050.0</td>\n",
       "      <td>2015.0</td>\n",
       "      <td>1931.0</td>\n",
       "      <td>1939.0</td>\n",
       "      <td>1913.0</td>\n",
       "      <td>NaN</td>\n",
       "      <td>NaN</td>\n",
       "      <td>NaN</td>\n",
       "      <td>NaN</td>\n",
       "      <td>NaN</td>\n",
       "    </tr>\n",
       "    <tr>\n",
       "      <th>0</th>\n",
       "      <td>합계</td>\n",
       "      <td>시설형요양기관</td>\n",
       "      <td>기관수[개]</td>\n",
       "      <td>개</td>\n",
       "      <td>NaN</td>\n",
       "      <td>NaN</td>\n",
       "      <td>NaN</td>\n",
       "      <td>NaN</td>\n",
       "      <td>NaN</td>\n",
       "      <td>5187.0</td>\n",
       "      <td>5304.0</td>\n",
       "      <td>5320.0</td>\n",
       "      <td>5543.0</td>\n",
       "      <td>5763.0</td>\n",
       "    </tr>\n",
       "  </tbody>\n",
       "</table>\n",
       "</div>"
      ],
      "text/plain": [
       "   시·군·구별       급여종류별      항목 단위  2016 년  2017 년  2018 년  2019 년  2020 년  \\\n",
       "14     합계      노인요양시설  기관수[개]  개  3137.0  3289.0  3389.0  3604.0  3850.0   \n",
       "16     합계  노인요양공동생활가정  기관수[개]  개  2050.0  2015.0  1931.0  1939.0  1913.0   \n",
       "0      합계     시설형요양기관  기관수[개]  개     NaN     NaN     NaN     NaN     NaN   \n",
       "\n",
       "     2016년   2017년   2018년   2019년   2020년  \n",
       "14     NaN     NaN     NaN     NaN     NaN  \n",
       "16     NaN     NaN     NaN     NaN     NaN  \n",
       "0   5187.0  5304.0  5320.0  5543.0  5763.0  "
      ]
     },
     "execution_count": 104,
     "metadata": {},
     "output_type": "execute_result"
    }
   ],
   "source": [
    "ss"
   ]
  },
  {
   "cell_type": "code",
   "execution_count": 105,
   "id": "3056f53d",
   "metadata": {},
   "outputs": [
    {
     "data": {
      "text/plain": [
       "Index(['시·군·구별', '급여종류별', '항목', '단위', '2016 년', '2017 년', '2018 년', '2019 년',\n",
       "       '2020 년', '2016년', '2017년', '2018년', '2019년', '2020년'],\n",
       "      dtype='object')"
      ]
     },
     "execution_count": 105,
     "metadata": {},
     "output_type": "execute_result"
    }
   ],
   "source": [
    "ss.columns"
   ]
  },
  {
   "cell_type": "code",
   "execution_count": 108,
   "id": "e0a3dd8b",
   "metadata": {},
   "outputs": [],
   "source": [
    "r=['시·군·구별', '급여종류별', '항목', '2016년', '2017년', '2018년', '2019년', '2020년']"
   ]
  },
  {
   "cell_type": "code",
   "execution_count": 109,
   "id": "75b9c5ac",
   "metadata": {},
   "outputs": [],
   "source": [
    "ss = ss.loc[0:,r]"
   ]
  },
  {
   "cell_type": "code",
   "execution_count": 126,
   "id": "a195e523",
   "metadata": {},
   "outputs": [],
   "source": [
    "w = ss.T.iloc[3:]"
   ]
  },
  {
   "cell_type": "code",
   "execution_count": 127,
   "id": "79ae1aa6",
   "metadata": {},
   "outputs": [
    {
     "data": {
      "text/html": [
       "<div>\n",
       "<style scoped>\n",
       "    .dataframe tbody tr th:only-of-type {\n",
       "        vertical-align: middle;\n",
       "    }\n",
       "\n",
       "    .dataframe tbody tr th {\n",
       "        vertical-align: top;\n",
       "    }\n",
       "\n",
       "    .dataframe thead th {\n",
       "        text-align: right;\n",
       "    }\n",
       "</style>\n",
       "<table border=\"1\" class=\"dataframe\">\n",
       "  <thead>\n",
       "    <tr style=\"text-align: right;\">\n",
       "      <th></th>\n",
       "      <th>0</th>\n",
       "    </tr>\n",
       "  </thead>\n",
       "  <tbody>\n",
       "    <tr>\n",
       "      <th>2016년</th>\n",
       "      <td>5187.0</td>\n",
       "    </tr>\n",
       "    <tr>\n",
       "      <th>2017년</th>\n",
       "      <td>5304.0</td>\n",
       "    </tr>\n",
       "    <tr>\n",
       "      <th>2018년</th>\n",
       "      <td>5320.0</td>\n",
       "    </tr>\n",
       "    <tr>\n",
       "      <th>2019년</th>\n",
       "      <td>5543.0</td>\n",
       "    </tr>\n",
       "    <tr>\n",
       "      <th>2020년</th>\n",
       "      <td>5763.0</td>\n",
       "    </tr>\n",
       "  </tbody>\n",
       "</table>\n",
       "</div>"
      ],
      "text/plain": [
       "            0\n",
       "2016년  5187.0\n",
       "2017년  5304.0\n",
       "2018년  5320.0\n",
       "2019년  5543.0\n",
       "2020년  5763.0"
      ]
     },
     "execution_count": 127,
     "metadata": {},
     "output_type": "execute_result"
    }
   ],
   "source": [
    "w"
   ]
  },
  {
   "cell_type": "code",
   "execution_count": 148,
   "id": "78539161",
   "metadata": {
    "scrolled": false
   },
   "outputs": [
    {
     "data": {
      "image/png": "[encoded data removed]",
      "text/plain": [
       "<Figure size 1080x576 with 1 Axes>"
      ]
     },
     "metadata": {
      "needs_background": "light"
     },
     "output_type": "display_data"
    }
   ],
   "source": [
    "#시도별 고령화 비율\n",
    "fig, ax = plt.subplots(figsize=(15,8))\n",
    "ax.plot(w,marker='o')\n",
    "plt.grid(True)\n",
    "plt.xticks(size=15)\n",
    "plt.yticks(size=15)\n",
    "plt.title(\"16년~20년 시설형 장기요양기관 수\",size=20)\n",
    "plt.ylim(4500,6000);"
   ]
  },
  {
   "cell_type": "markdown",
   "id": "5c6631f0",
   "metadata": {},
   "source": [
    "# 요양병원 "
   ]
  },
  {
   "cell_type": "code",
   "execution_count": 159,
   "id": "1709ef64",
   "metadata": {},
   "outputs": [],
   "source": [
    "new_data = {\n",
    "    '2016년' : [1428],\n",
    "    '2017년' : [1529],\n",
    "    '2018년' : [1560],\n",
    "    '2019년' : [1577],\n",
    "    '2020년' : [1582],}"
   ]
  },
  {
   "cell_type": "code",
   "execution_count": 160,
   "id": "1800f21f",
   "metadata": {},
   "outputs": [],
   "source": [
    "we = pd.DataFrame(new_data)"
   ]
  },
  {
   "cell_type": "code",
   "execution_count": 162,
   "id": "4637f5d2",
   "metadata": {},
   "outputs": [
    {
     "data": {
      "text/html": [
       "<div>\n",
       "<style scoped>\n",
       "    .dataframe tbody tr th:only-of-type {\n",
       "        vertical-align: middle;\n",
       "    }\n",
       "\n",
       "    .dataframe tbody tr th {\n",
       "        vertical-align: top;\n",
       "    }\n",
       "\n",
       "    .dataframe thead th {\n",
       "        text-align: right;\n",
       "    }\n",
       "</style>\n",
       "<table border=\"1\" class=\"dataframe\">\n",
       "  <thead>\n",
       "    <tr style=\"text-align: right;\">\n",
       "      <th></th>\n",
       "      <th>0</th>\n",
       "    </tr>\n",
       "  </thead>\n",
       "  <tbody>\n",
       "    <tr>\n",
       "      <th>2016년</th>\n",
       "      <td>1428</td>\n",
       "    </tr>\n",
       "    <tr>\n",
       "      <th>2017년</th>\n",
       "      <td>1529</td>\n",
       "    </tr>\n",
       "    <tr>\n",
       "      <th>2018년</th>\n",
       "      <td>1560</td>\n",
       "    </tr>\n",
       "    <tr>\n",
       "      <th>2019년</th>\n",
       "      <td>1577</td>\n",
       "    </tr>\n",
       "    <tr>\n",
       "      <th>2020년</th>\n",
       "      <td>1582</td>\n",
       "    </tr>\n",
       "  </tbody>\n",
       "</table>\n",
       "</div>"
      ],
      "text/plain": [
       "          0\n",
       "2016년  1428\n",
       "2017년  1529\n",
       "2018년  1560\n",
       "2019년  1577\n",
       "2020년  1582"
      ]
     },
     "execution_count": 162,
     "metadata": {},
     "output_type": "execute_result"
    }
   ],
   "source": [
    "we.T"
   ]
  },
  {
   "cell_type": "code",
   "execution_count": 171,
   "id": "4365d509",
   "metadata": {},
   "outputs": [
    {
     "data": {
      "text/plain": [
       "(1350.0, 1650.0)"
      ]
     },
     "execution_count": 171,
     "metadata": {},
     "output_type": "execute_result"
    },
    {
     "data": {
      "image/png": "[encoded data removed]",
      "text/plain": [
       "<Figure size 1080x576 with 1 Axes>"
      ]
     },
     "metadata": {
      "needs_background": "light"
     },
     "output_type": "display_data"
    }
   ],
   "source": [
    "#16~20년 요양병원 수\n",
    "fig, ax = plt.subplots(figsize=(15,8))\n",
    "ax.plot(we.T,marker='o')\n",
    "plt.grid(True)\n",
    "plt.xticks(size=15)\n",
    "plt.yticks(size=15)\n",
    "plt.title(\"16년~20년 요양병원 수\",size=20)\n",
    "plt.ylim(1350,1650)"
   ]
  }
 ],
 "metadata": {
  "kernelspec": {
   "display_name": "Python 3 (ipykernel)",
   "language": "python",
   "name": "python3"
  },
  "language_info": {
   "codemirror_mode": {
    "name": "ipython",
    "version": 3
   },
   "file_extension": ".py",
   "mimetype": "text/x-python",
   "name": "python",
   "nbconvert_exporter": "python",
   "pygments_lexer": "ipython3",
   "version": "3.11.4"
  },
  "toc": {
   "base_numbering": 1,
   "nav_menu": {},
   "number_sections": true,
   "sideBar": true,
   "skip_h1_title": false,
   "title_cell": "Table of Contents",
   "title_sidebar": "Contents",
   "toc_cell": false,
   "toc_position": {},
   "toc_section_display": true,
   "toc_window_display": false
  },
  "varInspector": {
   "cols": {
    "lenName": 16,
    "lenType": 16,
    "lenVar": 40
   },
   "kernels_config": {
    "python": {
     "delete_cmd_postfix": "",
     "delete_cmd_prefix": "del ",
     "library": "var_list.py",
     "varRefreshCmd": "print(var_dic_list())"
    },
    "r": {
     "delete_cmd_postfix": ") ",
     "delete_cmd_prefix": "rm(",
     "library": "var_list.r",
     "varRefreshCmd": "cat(var_dic_list()) "
    }
   },
   "types_to_exclude": [
    "module",
    "function",
    "builtin_function_or_method",
    "instance",
    "_Feature"
   ],
   "window_display": false
  }
 },
 "nbformat": 4,
 "nbformat_minor": 5
}
