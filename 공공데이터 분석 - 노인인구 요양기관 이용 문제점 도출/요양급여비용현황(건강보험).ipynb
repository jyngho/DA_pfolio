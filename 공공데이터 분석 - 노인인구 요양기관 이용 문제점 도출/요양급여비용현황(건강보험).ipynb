{
 "cells": [
  {
   "cell_type": "code",
   "execution_count": 1,
   "id": "7882e586",
   "metadata": {},
   "outputs": [],
   "source": [
    "import pandas as pd\n",
    "import numpy as np\n",
    "\n",
    "import seaborn as sns\n",
    "import matplotlib.pyplot as plt\n",
    "\n",
    "from matplotlib import font_manager, rc\n",
    "\n",
    "import platform\n",
    "\n",
    "path = \"c:/Windows/Fonts/malgun.ttf\"\n",
    "if platform.system() == 'Darwin':\n",
    "    rc('font', family='Apple SD Gothic Neo')\n",
    "elif platform.system() == 'Windows':\n",
    "    font_name = font_manager.FontProperties(fname=path).get_name()\n",
    "    rc('font', family=font_name)\n",
    "else:\n",
    "    print('Unknown system...')\n",
    "rc('axes', unicode_minus=False)"
   ]
  },
  {
   "cell_type": "code",
   "execution_count": 2,
   "id": "1b316bdb",
   "metadata": {},
   "outputs": [],
   "source": [
    "df = pd.read_excel('data/노인대상요양기관종별급여비용현황.xlsx', sheet_name = None)"
   ]
  },
  {
   "cell_type": "code",
   "execution_count": 3,
   "id": "5ef29f60",
   "metadata": {
    "scrolled": true
   },
   "outputs": [
    {
     "name": "stdout",
     "output_type": "stream",
     "text": [
      "dict_keys(['a6569', 'a7074', 'a7579', 'a8084', 'a85'])\n"
     ]
    }
   ],
   "source": [
    "print(df.keys())\n",
    "locals().update(df)"
   ]
  },
  {
   "cell_type": "code",
   "execution_count": 4,
   "id": "2917ccdd",
   "metadata": {
    "scrolled": true
   },
   "outputs": [
    {
     "data": {
      "text/plain": [
       "Index(['요양기관종별(1)', '요양기관종별(2)', '진료구분별(1)', '청구건수', '내원일수 (일)', '요양일수 (일)',\n",
       "       '원외처방횟수 (회)', '원외처방일수 (일)', '요양급여비용(계) (천원)', '요양급여비용(급여비) (천원)',\n",
       "       '원외처방률 (%)', '원외처방횟수당 처방일수 (일)', '건당내원일수 (일)', '건당요양급여비용 (원)',\n",
       "       '건당급여비 (원)', '내원일당요양급여비용 (원)', '요양일당요양급여비용 (원)'],\n",
       "      dtype='object')"
      ]
     },
     "execution_count": 4,
     "metadata": {},
     "output_type": "execute_result"
    }
   ],
   "source": [
    "a6569.columns"
   ]
  },
  {
   "cell_type": "code",
   "execution_count": 5,
   "id": "6b677458",
   "metadata": {
    "scrolled": false
   },
   "outputs": [
    {
     "data": {
      "text/plain": [
       "dict_keys(['a6569', 'a7074', 'a7579', 'a8084', 'a85'])"
      ]
     },
     "execution_count": 5,
     "metadata": {},
     "output_type": "execute_result"
    }
   ],
   "source": [
    "df.keys()"
   ]
  },
  {
   "cell_type": "code",
   "execution_count": 6,
   "id": "9e9965df",
   "metadata": {},
   "outputs": [],
   "source": [
    "my_keys = ['a6569', 'a7074', 'a7579', 'a8084', 'a85']"
   ]
  },
  {
   "cell_type": "code",
   "execution_count": 7,
   "id": "d5850aa4",
   "metadata": {},
   "outputs": [],
   "source": [
    "my_columns = ['청구건수', '내원일수 (일)', '요양일수 (일)',\n",
    "       '원외처방횟수 (회)', '원외처방일수 (일)', '요양급여비용(계) (천원)', '요양급여비용(급여비) (천원)',\n",
    "       '원외처방률 (%)', '원외처방횟수당 처방일수 (일)', '건당내원일수 (일)', '건당요양급여비용 (원)',\n",
    "       '건당급여비 (원)', '내원일당요양급여비용 (원)', '요양일당요양급여비용 (원)']"
   ]
  },
  {
   "cell_type": "code",
   "execution_count": 8,
   "id": "610956b5",
   "metadata": {},
   "outputs": [],
   "source": [
    "a6569 = a6569.replace(\"-\", 0)"
   ]
  },
  {
   "cell_type": "code",
   "execution_count": 9,
   "id": "e48ab412",
   "metadata": {},
   "outputs": [],
   "source": [
    "a7074 = a7074.replace(\"-\", 0)"
   ]
  },
  {
   "cell_type": "code",
   "execution_count": 10,
   "id": "6883fcf9",
   "metadata": {},
   "outputs": [],
   "source": [
    "a7579 = a7579.replace(\"-\", 0)"
   ]
  },
  {
   "cell_type": "code",
   "execution_count": 11,
   "id": "a47e5636",
   "metadata": {},
   "outputs": [],
   "source": [
    "a8084 = a8084.replace(\"-\", 0)"
   ]
  },
  {
   "cell_type": "code",
   "execution_count": 12,
   "id": "e6e4256e",
   "metadata": {},
   "outputs": [],
   "source": [
    "a85 = a85.replace(\"-\", 0)"
   ]
  },
  {
   "cell_type": "code",
   "execution_count": 13,
   "id": "78927896",
   "metadata": {},
   "outputs": [],
   "source": [
    "for i in my_columns:\n",
    "    a6569[i] = a6569[i].astype(float, errors='ignore')"
   ]
  },
  {
   "cell_type": "code",
   "execution_count": 80,
   "id": "ac4cf268",
   "metadata": {},
   "outputs": [],
   "source": [
    "for i in my_columns:\n",
    "    a7074[i] = a7074[i].astype(float, errors='ignore')"
   ]
  },
  {
   "cell_type": "code",
   "execution_count": 81,
   "id": "23df2f35",
   "metadata": {},
   "outputs": [],
   "source": [
    "for i in my_columns:\n",
    "    a7579[i] = a7579[i].astype(float, errors='ignore')"
   ]
  },
  {
   "cell_type": "code",
   "execution_count": 82,
   "id": "754b4a60",
   "metadata": {},
   "outputs": [],
   "source": [
    "for i in my_columns:\n",
    "    a8084[i] = a8084[i].astype(float, errors='ignore')"
   ]
  },
  {
   "cell_type": "code",
   "execution_count": 83,
   "id": "61f844fd",
   "metadata": {},
   "outputs": [],
   "source": [
    "for i in my_columns:\n",
    "    a85[i] = a85[i].astype(float, errors='ignore')"
   ]
  },
  {
   "cell_type": "markdown",
   "id": "2f76fc6a",
   "metadata": {},
   "source": [
    "## 20년도 65세 이상 청구건수"
   ]
  },
  {
   "cell_type": "code",
   "execution_count": 18,
   "id": "53ac4c6d",
   "metadata": {},
   "outputs": [],
   "source": [
    "#진료구분별에서 합계만 추출 "
   ]
  },
  {
   "cell_type": "code",
   "execution_count": 19,
   "id": "b9f89fd3",
   "metadata": {},
   "outputs": [],
   "source": [
    "a6569 = a6569.groupby(\"진료구분별(1)\").get_group(\"계\")"
   ]
  },
  {
   "cell_type": "code",
   "execution_count": 20,
   "id": "a9bb9516",
   "metadata": {},
   "outputs": [],
   "source": [
    "a7074 = a7074.groupby(\"진료구분별(1)\").get_group(\"계\")"
   ]
  },
  {
   "cell_type": "code",
   "execution_count": 21,
   "id": "c73d76bb",
   "metadata": {},
   "outputs": [],
   "source": [
    "a7579 = a7579.groupby(\"진료구분별(1)\").get_group(\"계\")"
   ]
  },
  {
   "cell_type": "code",
   "execution_count": 22,
   "id": "bd08f6dc",
   "metadata": {},
   "outputs": [],
   "source": [
    "a8084 = a8084.groupby(\"진료구분별(1)\").get_group(\"계\")"
   ]
  },
  {
   "cell_type": "code",
   "execution_count": 23,
   "id": "df714870",
   "metadata": {},
   "outputs": [],
   "source": [
    "a85 = a85.groupby(\"진료구분별(1)\").get_group(\"계\")"
   ]
  },
  {
   "cell_type": "code",
   "execution_count": null,
   "id": "6c15adc7",
   "metadata": {},
   "outputs": [],
   "source": []
  },
  {
   "cell_type": "code",
   "execution_count": 24,
   "id": "33d52379",
   "metadata": {},
   "outputs": [],
   "source": [
    "#청구건수 순위 분류 "
   ]
  },
  {
   "cell_type": "code",
   "execution_count": 25,
   "id": "36e46d63",
   "metadata": {
    "scrolled": false
   },
   "outputs": [],
   "source": [
    "a = a6569.groupby(['요양기관종별(2)','진료구분별(1)'])[['청구건수']].sum().sort_values(by='요양기관종별(2)')"
   ]
  },
  {
   "cell_type": "code",
   "execution_count": 26,
   "id": "ff9d7555",
   "metadata": {
    "scrolled": false
   },
   "outputs": [],
   "source": [
    "b = a7074.groupby(['요양기관종별(2)','진료구분별(1)'])[['청구건수']].sum().sort_values(by='요양기관종별(2)')"
   ]
  },
  {
   "cell_type": "code",
   "execution_count": 27,
   "id": "ef303729",
   "metadata": {},
   "outputs": [],
   "source": [
    "c = a7579.groupby(['요양기관종별(2)','진료구분별(1)'])[['청구건수']].sum().sort_values(by='요양기관종별(2)')"
   ]
  },
  {
   "cell_type": "code",
   "execution_count": 28,
   "id": "93a70592",
   "metadata": {},
   "outputs": [],
   "source": [
    "d = a8084.groupby(['요양기관종별(2)','진료구분별(1)'])[['청구건수']].sum().sort_values(by='요양기관종별(2)')"
   ]
  },
  {
   "cell_type": "code",
   "execution_count": 29,
   "id": "c014397a",
   "metadata": {},
   "outputs": [],
   "source": [
    "e = a85.groupby(['요양기관종별(2)','진료구분별(1)'])[['청구건수']].sum().sort_values(by='요양기관종별(2)')"
   ]
  },
  {
   "cell_type": "code",
   "execution_count": 30,
   "id": "c07ad633",
   "metadata": {},
   "outputs": [],
   "source": [
    "f = a+b+c+d+e"
   ]
  },
  {
   "cell_type": "code",
   "execution_count": 89,
   "id": "0efe33ca",
   "metadata": {},
   "outputs": [],
   "source": [
    "고령인구의료보험청구건수 = f.sort_values('청구건수',ascending=False)\n",
    "고령인구의료보험청구건수 = 고령인구의료보험청구건수.reset_index()\n",
    "고령인구의료보험청구건수.set_index(\"요양기관종별(2)\")\n",
    "a=고령인구의료보험청구건수.drop(columns={'진료구분별(1)'})"
   ]
  },
  {
   "cell_type": "code",
   "execution_count": 93,
   "id": "c7cc432f",
   "metadata": {},
   "outputs": [],
   "source": [
    "a.to_csv(\"고령인구의료보험청구건수.csv\",encoding='utf-8-sig')"
   ]
  },
  {
   "cell_type": "code",
   "execution_count": 90,
   "id": "e0f78f97",
   "metadata": {},
   "outputs": [
    {
     "data": {
      "text/plain": [
       "<matplotlib.legend.Legend at 0x7f7ce0f704f0>"
      ]
     },
     "execution_count": 90,
     "metadata": {},
     "output_type": "execute_result"
    },
    {
     "data": {
      "image/png": "[encoded data removed]",
      "text/plain": [
       "<Figure size 1080x576 with 1 Axes>"
      ]
     },
     "metadata": {
      "needs_background": "light"
     },
     "output_type": "display_data"
    }
   ],
   "source": [
    "fig, ax = plt.subplots(figsize=(15,8))\n",
    "ax.bar(a['요양기관종별(2)'], a['청구건수'],label='단위 : 억',)\n",
    "plt.grid(False)\n",
    "plt.xticks(rotation=45,size=15)\n",
    "plt.yticks(size=15)\n",
    "plt.title(\"청구건수\",size=20);\n",
    "plt.legend(loc='best',fontsize=20)"
   ]
  },
  {
   "cell_type": "markdown",
   "id": "99e352ee",
   "metadata": {},
   "source": [
    "## 20년도 65세 이상 요양급여비용 "
   ]
  },
  {
   "cell_type": "code",
   "execution_count": 33,
   "id": "2bc6c8f0",
   "metadata": {},
   "outputs": [],
   "source": [
    "q = a6569.groupby(['요양기관종별(2)','진료구분별(1)'])[['요양급여비용(계) (천원)']].sum().sort_values(by='요양기관종별(2)')"
   ]
  },
  {
   "cell_type": "code",
   "execution_count": 34,
   "id": "4d8fc5bd",
   "metadata": {},
   "outputs": [],
   "source": [
    "w = a7074.groupby(['요양기관종별(2)','진료구분별(1)'])[['요양급여비용(계) (천원)']].sum().sort_values(by='요양기관종별(2)')"
   ]
  },
  {
   "cell_type": "code",
   "execution_count": 35,
   "id": "07b87056",
   "metadata": {},
   "outputs": [],
   "source": [
    "e = a7579.groupby(['요양기관종별(2)','진료구분별(1)'])[['요양급여비용(계) (천원)']].sum().sort_values(by='요양기관종별(2)')"
   ]
  },
  {
   "cell_type": "code",
   "execution_count": 36,
   "id": "897662e8",
   "metadata": {},
   "outputs": [],
   "source": [
    "r = a8084.groupby(['요양기관종별(2)','진료구분별(1)'])[['요양급여비용(계) (천원)']].sum().sort_values(by='요양기관종별(2)')"
   ]
  },
  {
   "cell_type": "code",
   "execution_count": 37,
   "id": "7662e777",
   "metadata": {},
   "outputs": [],
   "source": [
    "t = a85.groupby(['요양기관종별(2)','진료구분별(1)'])[['요양급여비용(계) (천원)']].sum().sort_values(by='요양기관종별(2)')"
   ]
  },
  {
   "cell_type": "code",
   "execution_count": 38,
   "id": "80c04fae",
   "metadata": {
    "scrolled": false
   },
   "outputs": [],
   "source": [
    "#노인인구\n",
    "노인요양급여비용 = (q+w+e+r+t).sort_values(by='요양급여비용(계) (천원)',ascending=False)"
   ]
  },
  {
   "cell_type": "code",
   "execution_count": 39,
   "id": "d8106887",
   "metadata": {},
   "outputs": [
    {
     "data": {
      "text/plain": [
       "28843161852.0"
      ]
     },
     "execution_count": 39,
     "metadata": {},
     "output_type": "execute_result"
    }
   ],
   "source": [
    "노인요양급여비용['요양급여비용(계) (천원)'].sum()"
   ]
  },
  {
   "cell_type": "code",
   "execution_count": 40,
   "id": "926f906f",
   "metadata": {
    "scrolled": true
   },
   "outputs": [
    {
     "data": {
      "text/plain": [
       "28843161852000.0"
      ]
     },
     "execution_count": 40,
     "metadata": {},
     "output_type": "execute_result"
    }
   ],
   "source": [
    "(28843161852.0)*1000\n",
    "#노인요양급여비용 : 28조"
   ]
  },
  {
   "cell_type": "code",
   "execution_count": 41,
   "id": "8d1dd129",
   "metadata": {},
   "outputs": [
    {
     "data": {
      "text/html": [
       "<div>\n",
       "<style scoped>\n",
       "    .dataframe tbody tr th:only-of-type {\n",
       "        vertical-align: middle;\n",
       "    }\n",
       "\n",
       "    .dataframe tbody tr th {\n",
       "        vertical-align: top;\n",
       "    }\n",
       "\n",
       "    .dataframe thead th {\n",
       "        text-align: right;\n",
       "    }\n",
       "</style>\n",
       "<table border=\"1\" class=\"dataframe\">\n",
       "  <thead>\n",
       "    <tr style=\"text-align: right;\">\n",
       "      <th></th>\n",
       "      <th>요양기관종별(2)</th>\n",
       "      <th>진료구분별(1)</th>\n",
       "      <th>요양급여비용(계) (천원)</th>\n",
       "    </tr>\n",
       "  </thead>\n",
       "  <tbody>\n",
       "    <tr>\n",
       "      <th>0</th>\n",
       "      <td>종합병원</td>\n",
       "      <td>계</td>\n",
       "      <td>6.803015e+09</td>\n",
       "    </tr>\n",
       "    <tr>\n",
       "      <th>1</th>\n",
       "      <td>상급종합병원</td>\n",
       "      <td>계</td>\n",
       "      <td>6.109330e+09</td>\n",
       "    </tr>\n",
       "    <tr>\n",
       "      <th>2</th>\n",
       "      <td>요양병원</td>\n",
       "      <td>계</td>\n",
       "      <td>5.174420e+09</td>\n",
       "    </tr>\n",
       "    <tr>\n",
       "      <th>3</th>\n",
       "      <td>의원</td>\n",
       "      <td>계</td>\n",
       "      <td>4.980955e+09</td>\n",
       "    </tr>\n",
       "    <tr>\n",
       "      <th>4</th>\n",
       "      <td>병원</td>\n",
       "      <td>계</td>\n",
       "      <td>2.623789e+09</td>\n",
       "    </tr>\n",
       "    <tr>\n",
       "      <th>5</th>\n",
       "      <td>치과의원</td>\n",
       "      <td>계</td>\n",
       "      <td>1.953977e+09</td>\n",
       "    </tr>\n",
       "    <tr>\n",
       "      <th>6</th>\n",
       "      <td>한의원</td>\n",
       "      <td>계</td>\n",
       "      <td>8.703264e+08</td>\n",
       "    </tr>\n",
       "    <tr>\n",
       "      <th>7</th>\n",
       "      <td>한방병원</td>\n",
       "      <td>계</td>\n",
       "      <td>1.097662e+08</td>\n",
       "    </tr>\n",
       "    <tr>\n",
       "      <th>8</th>\n",
       "      <td>치과병원</td>\n",
       "      <td>계</td>\n",
       "      <td>1.066992e+08</td>\n",
       "    </tr>\n",
       "    <tr>\n",
       "      <th>9</th>\n",
       "      <td>보건지소</td>\n",
       "      <td>계</td>\n",
       "      <td>5.373809e+07</td>\n",
       "    </tr>\n",
       "    <tr>\n",
       "      <th>10</th>\n",
       "      <td>보건진료소</td>\n",
       "      <td>계</td>\n",
       "      <td>4.207945e+07</td>\n",
       "    </tr>\n",
       "    <tr>\n",
       "      <th>11</th>\n",
       "      <td>보건의료원</td>\n",
       "      <td>계</td>\n",
       "      <td>9.117127e+06</td>\n",
       "    </tr>\n",
       "    <tr>\n",
       "      <th>12</th>\n",
       "      <td>보건소</td>\n",
       "      <td>계</td>\n",
       "      <td>5.948492e+06</td>\n",
       "    </tr>\n",
       "    <tr>\n",
       "      <th>13</th>\n",
       "      <td>조산원</td>\n",
       "      <td>계</td>\n",
       "      <td>0.000000e+00</td>\n",
       "    </tr>\n",
       "  </tbody>\n",
       "</table>\n",
       "</div>"
      ],
      "text/plain": [
       "   요양기관종별(2) 진료구분별(1)  요양급여비용(계) (천원)\n",
       "0       종합병원        계    6.803015e+09\n",
       "1     상급종합병원        계    6.109330e+09\n",
       "2       요양병원        계    5.174420e+09\n",
       "3         의원        계    4.980955e+09\n",
       "4         병원        계    2.623789e+09\n",
       "5       치과의원        계    1.953977e+09\n",
       "6        한의원        계    8.703264e+08\n",
       "7       한방병원        계    1.097662e+08\n",
       "8       치과병원        계    1.066992e+08\n",
       "9       보건지소        계    5.373809e+07\n",
       "10     보건진료소        계    4.207945e+07\n",
       "11     보건의료원        계    9.117127e+06\n",
       "12       보건소        계    5.948492e+06\n",
       "13       조산원        계    0.000000e+00"
      ]
     },
     "execution_count": 41,
     "metadata": {},
     "output_type": "execute_result"
    }
   ],
   "source": [
    "노인요양급여비용 = 노인요양급여비용.reset_index()\n",
    "노인요양급여비용"
   ]
  },
  {
   "cell_type": "code",
   "execution_count": 96,
   "id": "fbe4953c",
   "metadata": {},
   "outputs": [],
   "source": [
    "노인요양급여비용.to_csv(\"노인요양급여비용.csv\",encoding='utf-8-sig')"
   ]
  },
  {
   "cell_type": "code",
   "execution_count": 42,
   "id": "2363b475",
   "metadata": {},
   "outputs": [
    {
     "data": {
      "text/plain": [
       "<matplotlib.legend.Legend at 0x7f7ce104db50>"
      ]
     },
     "execution_count": 42,
     "metadata": {},
     "output_type": "execute_result"
    },
    {
     "data": {
      "image/png": "[encoded data removed]",
      "text/plain": [
       "<Figure size 1080x576 with 1 Axes>"
      ]
     },
     "metadata": {
      "needs_background": "light"
     },
     "output_type": "display_data"
    }
   ],
   "source": [
    "fig, ax = plt.subplots(figsize=(15,8))\n",
    "ax.bar(노인요양급여비용['요양기관종별(2)'], 노인요양급여비용['요양급여비용(계) (천원)'],label='단위 : 조',)\n",
    "plt.grid(False)\n",
    "plt.xticks(rotation=45,size=15)\n",
    "plt.yticks(size=15)\n",
    "plt.title(\"노인요양급여비용(약국제외): 총 28조\",size=20);\n",
    "plt.legend(loc='best',fontsize=20)"
   ]
  },
  {
   "cell_type": "code",
   "execution_count": 43,
   "id": "1ba8ac2a",
   "metadata": {
    "scrolled": true
   },
   "outputs": [
    {
     "data": {
      "text/plain": [
       "5174420000000.0"
      ]
     },
     "execution_count": 43,
     "metadata": {},
     "output_type": "execute_result"
    }
   ],
   "source": [
    "(5.174420e+09) * 1000\n",
    "#요양병원 : 5조\n",
    "\n",
    "#요양병원 17퍼 차지 "
   ]
  },
  {
   "cell_type": "markdown",
   "id": "be1d42b4",
   "metadata": {},
   "source": [
    "##  20년도 전체인구 요양급여비용"
   ]
  },
  {
   "cell_type": "code",
   "execution_count": 44,
   "id": "c6811874",
   "metadata": {},
   "outputs": [],
   "source": [
    "ef = pd.read_csv(\"data/요양기관종별 요양급여비용 심사실적.csv\",encoding='euc-kr')"
   ]
  },
  {
   "cell_type": "code",
   "execution_count": 45,
   "id": "f23b2a6f",
   "metadata": {
    "scrolled": true
   },
   "outputs": [
    {
     "data": {
      "text/html": [
       "<div>\n",
       "<style scoped>\n",
       "    .dataframe tbody tr th:only-of-type {\n",
       "        vertical-align: middle;\n",
       "    }\n",
       "\n",
       "    .dataframe tbody tr th {\n",
       "        vertical-align: top;\n",
       "    }\n",
       "\n",
       "    .dataframe thead th {\n",
       "        text-align: right;\n",
       "    }\n",
       "</style>\n",
       "<table border=\"1\" class=\"dataframe\">\n",
       "  <thead>\n",
       "    <tr style=\"text-align: right;\">\n",
       "      <th></th>\n",
       "      <th>요양기관종별(1)</th>\n",
       "      <th>요양기관종별(2)</th>\n",
       "      <th>진료구분별(1)</th>\n",
       "      <th>청구건수 (건)</th>\n",
       "      <th>내원일수 (일)</th>\n",
       "      <th>요양일수 (일)</th>\n",
       "      <th>원외처방횟수 (회)</th>\n",
       "      <th>원외처방일수 (일)</th>\n",
       "      <th>요양급여비용(계) (천원)</th>\n",
       "      <th>요양급여비용(급여비) (천원)</th>\n",
       "      <th>원외처방률 (%)</th>\n",
       "      <th>원외처방횟수당 처방일수 (일)</th>\n",
       "      <th>건당내원일수 (일)</th>\n",
       "      <th>건당요양급여비용 (원)</th>\n",
       "      <th>건당급여비 (원)</th>\n",
       "      <th>내원일당요양급여비용 (원)</th>\n",
       "      <th>요양일당요양급여비용 (원)</th>\n",
       "    </tr>\n",
       "  </thead>\n",
       "  <tbody>\n",
       "    <tr>\n",
       "      <th>0</th>\n",
       "      <td>총계</td>\n",
       "      <td>소계</td>\n",
       "      <td>계</td>\n",
       "      <td>1276343311</td>\n",
       "      <td>1399063660</td>\n",
       "      <td>9566016842</td>\n",
       "      <td>-</td>\n",
       "      <td>-</td>\n",
       "      <td>86833855541</td>\n",
       "      <td>65387120553</td>\n",
       "      <td>-</td>\n",
       "      <td>-</td>\n",
       "      <td>1.1</td>\n",
       "      <td>68033</td>\n",
       "      <td>51230</td>\n",
       "      <td>62066</td>\n",
       "      <td>9077</td>\n",
       "    </tr>\n",
       "    <tr>\n",
       "      <th>1</th>\n",
       "      <td>의료기관</td>\n",
       "      <td>소계</td>\n",
       "      <td>계</td>\n",
       "      <td>836908155</td>\n",
       "      <td>959628504</td>\n",
       "      <td>1485819652</td>\n",
       "      <td>448817552</td>\n",
       "      <td>8113844444</td>\n",
       "      <td>69030049048</td>\n",
       "      <td>52469263703</td>\n",
       "      <td>-</td>\n",
       "      <td>-</td>\n",
       "      <td>1.15</td>\n",
       "      <td>82482</td>\n",
       "      <td>62694</td>\n",
       "      <td>71934</td>\n",
       "      <td>46459</td>\n",
       "    </tr>\n",
       "    <tr>\n",
       "      <th>2</th>\n",
       "      <td>의료기관</td>\n",
       "      <td>소계</td>\n",
       "      <td>입원</td>\n",
       "      <td>16125155</td>\n",
       "      <td>140210972</td>\n",
       "      <td>211806664</td>\n",
       "      <td>316352</td>\n",
       "      <td>4049731</td>\n",
       "      <td>32854812930</td>\n",
       "      <td>26676393779</td>\n",
       "      <td>-</td>\n",
       "      <td>-</td>\n",
       "      <td>8.7</td>\n",
       "      <td>2037488</td>\n",
       "      <td>1654334</td>\n",
       "      <td>234324</td>\n",
       "      <td>155117</td>\n",
       "    </tr>\n",
       "    <tr>\n",
       "      <th>3</th>\n",
       "      <td>의료기관</td>\n",
       "      <td>소계</td>\n",
       "      <td>외래</td>\n",
       "      <td>820783000</td>\n",
       "      <td>819417532</td>\n",
       "      <td>1274012988</td>\n",
       "      <td>448501200</td>\n",
       "      <td>8109794713</td>\n",
       "      <td>36175236119</td>\n",
       "      <td>25792869924</td>\n",
       "      <td>54.73</td>\n",
       "      <td>18.08</td>\n",
       "      <td>1</td>\n",
       "      <td>44074</td>\n",
       "      <td>31425</td>\n",
       "      <td>44148</td>\n",
       "      <td>28395</td>\n",
       "    </tr>\n",
       "    <tr>\n",
       "      <th>4</th>\n",
       "      <td>의료기관</td>\n",
       "      <td>상급종합병원</td>\n",
       "      <td>계</td>\n",
       "      <td>42447866</td>\n",
       "      <td>54634461</td>\n",
       "      <td>129324413</td>\n",
       "      <td>16384596</td>\n",
       "      <td>1175406304</td>\n",
       "      <td>15213991446</td>\n",
       "      <td>12088839255</td>\n",
       "      <td>-</td>\n",
       "      <td>71.74</td>\n",
       "      <td>1.29</td>\n",
       "      <td>358416</td>\n",
       "      <td>284793</td>\n",
       "      <td>278469</td>\n",
       "      <td>117642</td>\n",
       "    </tr>\n",
       "  </tbody>\n",
       "</table>\n",
       "</div>"
      ],
      "text/plain": [
       "  요양기관종별(1) 요양기관종별(2) 진료구분별(1)    청구건수 (건)    내원일수 (일)    요양일수 (일) 원외처방횟수 (회)  \\\n",
       "0        총계        소계        계  1276343311  1399063660  9566016842          -   \n",
       "1      의료기관        소계        계   836908155   959628504  1485819652  448817552   \n",
       "2      의료기관        소계       입원    16125155   140210972   211806664     316352   \n",
       "3      의료기관        소계       외래   820783000   819417532  1274012988  448501200   \n",
       "4      의료기관    상급종합병원        계    42447866    54634461   129324413   16384596   \n",
       "\n",
       "   원외처방일수 (일) 요양급여비용(계) (천원) 요양급여비용(급여비) (천원) 원외처방률 (%) 원외처방횟수당 처방일수 (일)  \\\n",
       "0           -    86833855541      65387120553         -                -   \n",
       "1  8113844444    69030049048      52469263703         -                -   \n",
       "2     4049731    32854812930      26676393779         -                -   \n",
       "3  8109794713    36175236119      25792869924     54.73            18.08   \n",
       "4  1175406304    15213991446      12088839255         -            71.74   \n",
       "\n",
       "  건당내원일수 (일) 건당요양급여비용 (원) 건당급여비 (원) 내원일당요양급여비용 (원) 요양일당요양급여비용 (원)  \n",
       "0        1.1        68033     51230          62066           9077  \n",
       "1       1.15        82482     62694          71934          46459  \n",
       "2        8.7      2037488   1654334         234324         155117  \n",
       "3          1        44074     31425          44148          28395  \n",
       "4       1.29       358416    284793         278469         117642  "
      ]
     },
     "execution_count": 45,
     "metadata": {},
     "output_type": "execute_result"
    }
   ],
   "source": [
    "ef.head()"
   ]
  },
  {
   "cell_type": "code",
   "execution_count": 46,
   "id": "923af9b2",
   "metadata": {},
   "outputs": [
    {
     "data": {
      "text/plain": [
       "Index(['요양기관종별(1)', '요양기관종별(2)', '진료구분별(1)', '청구건수 (건)', '내원일수 (일)',\n",
       "       '요양일수 (일)', '원외처방횟수 (회)', '원외처방일수 (일)', '요양급여비용(계) (천원)',\n",
       "       '요양급여비용(급여비) (천원)', '원외처방률 (%)', '원외처방횟수당 처방일수 (일)', '건당내원일수 (일)',\n",
       "       '건당요양급여비용 (원)', '건당급여비 (원)', '내원일당요양급여비용 (원)', '요양일당요양급여비용 (원)'],\n",
       "      dtype='object')"
      ]
     },
     "execution_count": 46,
     "metadata": {},
     "output_type": "execute_result"
    }
   ],
   "source": [
    "ef.columns"
   ]
  },
  {
   "cell_type": "code",
   "execution_count": 47,
   "id": "d502caa1",
   "metadata": {},
   "outputs": [],
   "source": [
    "a = ['요양기관종별(1)', '요양기관종별(2)', '진료구분별(1)', '청구건수 (건)', '내원일수 (일)',\n",
    "       '요양일수 (일)', '원외처방횟수 (회)', '원외처방일수 (일)', '요양급여비용(계) (천원)',\n",
    "       '요양급여비용(급여비) (천원)', '원외처방률 (%)', '원외처방횟수당 처방일수 (일)', '건당내원일수 (일)',\n",
    "       '건당요양급여비용 (원)', '건당급여비 (원)', '내원일당요양급여비용 (원)', '요양일당요양급여비용 (원)']"
   ]
  },
  {
   "cell_type": "code",
   "execution_count": 48,
   "id": "d1f6a35c",
   "metadata": {},
   "outputs": [],
   "source": [
    "#컴마제거\n",
    "for i in a:\n",
    "    ef[i] = ef[i].str.replace(\",\", '')"
   ]
  },
  {
   "cell_type": "code",
   "execution_count": 49,
   "id": "fbcf2ec4",
   "metadata": {},
   "outputs": [],
   "source": [
    "#하이픈제거\n",
    "ef.replace('-',0,inplace=True)"
   ]
  },
  {
   "cell_type": "code",
   "execution_count": 50,
   "id": "f8a49f96",
   "metadata": {},
   "outputs": [],
   "source": [
    "for i in a:\n",
    "    ef[i] = ef[i].astype(float, errors='ignore')"
   ]
  },
  {
   "cell_type": "code",
   "execution_count": 51,
   "id": "4623915d",
   "metadata": {
    "scrolled": false
   },
   "outputs": [],
   "source": [
    "ef = ef.groupby(\"진료구분별(1)\").get_group(\"계\")"
   ]
  },
  {
   "cell_type": "code",
   "execution_count": 52,
   "id": "55ae73bb",
   "metadata": {
    "scrolled": true
   },
   "outputs": [],
   "source": [
    "#약국제거\n",
    "ef = ef.groupby(\"요양기관종별(1)\").get_group(\"의료기관\")"
   ]
  },
  {
   "cell_type": "code",
   "execution_count": 53,
   "id": "9772c4a6",
   "metadata": {
    "scrolled": true
   },
   "outputs": [],
   "source": [
    "ef = ef.sort_values(\"요양급여비용(계) (천원)\", ascending=False)"
   ]
  },
  {
   "cell_type": "code",
   "execution_count": 54,
   "id": "77b59ea2",
   "metadata": {},
   "outputs": [
    {
     "data": {
      "text/plain": [
       "Index(['요양기관종별(1)', '요양기관종별(2)', '진료구분별(1)', '청구건수 (건)', '내원일수 (일)',\n",
       "       '요양일수 (일)', '원외처방횟수 (회)', '원외처방일수 (일)', '요양급여비용(계) (천원)',\n",
       "       '요양급여비용(급여비) (천원)', '원외처방률 (%)', '원외처방횟수당 처방일수 (일)', '건당내원일수 (일)',\n",
       "       '건당요양급여비용 (원)', '건당급여비 (원)', '내원일당요양급여비용 (원)', '요양일당요양급여비용 (원)'],\n",
       "      dtype='object')"
      ]
     },
     "execution_count": 54,
     "metadata": {},
     "output_type": "execute_result"
    }
   ],
   "source": [
    "ef.columns"
   ]
  },
  {
   "cell_type": "code",
   "execution_count": 55,
   "id": "f6d64a53",
   "metadata": {
    "scrolled": true
   },
   "outputs": [
    {
     "data": {
      "text/html": [
       "<div>\n",
       "<style scoped>\n",
       "    .dataframe tbody tr th:only-of-type {\n",
       "        vertical-align: middle;\n",
       "    }\n",
       "\n",
       "    .dataframe tbody tr th {\n",
       "        vertical-align: top;\n",
       "    }\n",
       "\n",
       "    .dataframe thead th {\n",
       "        text-align: right;\n",
       "    }\n",
       "</style>\n",
       "<table border=\"1\" class=\"dataframe\">\n",
       "  <thead>\n",
       "    <tr style=\"text-align: right;\">\n",
       "      <th></th>\n",
       "      <th>요양기관종별(2)</th>\n",
       "      <th>요양급여비용(계) (천원)</th>\n",
       "    </tr>\n",
       "  </thead>\n",
       "  <tbody>\n",
       "    <tr>\n",
       "      <th>16</th>\n",
       "      <td>의원</td>\n",
       "      <td>1.703419e+10</td>\n",
       "    </tr>\n",
       "    <tr>\n",
       "      <th>4</th>\n",
       "      <td>상급종합병원</td>\n",
       "      <td>1.521399e+10</td>\n",
       "    </tr>\n",
       "    <tr>\n",
       "      <th>7</th>\n",
       "      <td>종합병원</td>\n",
       "      <td>1.491337e+10</td>\n",
       "    </tr>\n",
       "    <tr>\n",
       "      <th>10</th>\n",
       "      <td>병원</td>\n",
       "      <td>7.753520e+09</td>\n",
       "    </tr>\n",
       "    <tr>\n",
       "      <th>13</th>\n",
       "      <td>요양병원</td>\n",
       "      <td>6.163374e+09</td>\n",
       "    </tr>\n",
       "    <tr>\n",
       "      <th>22</th>\n",
       "      <td>치과의원</td>\n",
       "      <td>4.554619e+09</td>\n",
       "    </tr>\n",
       "    <tr>\n",
       "      <th>43</th>\n",
       "      <td>한의원</td>\n",
       "      <td>2.465955e+09</td>\n",
       "    </tr>\n",
       "    <tr>\n",
       "      <th>40</th>\n",
       "      <td>한방병원</td>\n",
       "      <td>4.840019e+08</td>\n",
       "    </tr>\n",
       "    <tr>\n",
       "      <th>19</th>\n",
       "      <td>치과병원</td>\n",
       "      <td>3.064490e+08</td>\n",
       "    </tr>\n",
       "    <tr>\n",
       "      <th>34</th>\n",
       "      <td>보건지소</td>\n",
       "      <td>6.235880e+07</td>\n",
       "    </tr>\n",
       "    <tr>\n",
       "      <th>37</th>\n",
       "      <td>보건진료소</td>\n",
       "      <td>5.094289e+07</td>\n",
       "    </tr>\n",
       "    <tr>\n",
       "      <th>28</th>\n",
       "      <td>보건의료원</td>\n",
       "      <td>1.596360e+07</td>\n",
       "    </tr>\n",
       "    <tr>\n",
       "      <th>31</th>\n",
       "      <td>보건소</td>\n",
       "      <td>1.066532e+07</td>\n",
       "    </tr>\n",
       "    <tr>\n",
       "      <th>25</th>\n",
       "      <td>조산원</td>\n",
       "      <td>6.391940e+05</td>\n",
       "    </tr>\n",
       "  </tbody>\n",
       "</table>\n",
       "</div>"
      ],
      "text/plain": [
       "   요양기관종별(2)  요양급여비용(계) (천원)\n",
       "16        의원    1.703419e+10\n",
       "4     상급종합병원    1.521399e+10\n",
       "7       종합병원    1.491337e+10\n",
       "10        병원    7.753520e+09\n",
       "13      요양병원    6.163374e+09\n",
       "22      치과의원    4.554619e+09\n",
       "43       한의원    2.465955e+09\n",
       "40      한방병원    4.840019e+08\n",
       "19      치과병원    3.064490e+08\n",
       "34      보건지소    6.235880e+07\n",
       "37     보건진료소    5.094289e+07\n",
       "28     보건의료원    1.596360e+07\n",
       "31       보건소    1.066532e+07\n",
       "25       조산원    6.391940e+05"
      ]
     },
     "execution_count": 55,
     "metadata": {},
     "output_type": "execute_result"
    }
   ],
   "source": [
    "a = ['요양기관종별(2)','요양급여비용(계) (천원)']\n",
    "ef = ef.loc[16:,a]\n",
    "ef"
   ]
  },
  {
   "cell_type": "code",
   "execution_count": 97,
   "id": "3b2caf20",
   "metadata": {},
   "outputs": [],
   "source": [
    "ef.to_csv(\"전체인구요양급여비용.csv\",encoding='utf-8-sig')"
   ]
  },
  {
   "cell_type": "code",
   "execution_count": 56,
   "id": "96c32c88",
   "metadata": {},
   "outputs": [
    {
     "data": {
      "text/plain": [
       "17034190000000.0"
      ]
     },
     "execution_count": 56,
     "metadata": {},
     "output_type": "execute_result"
    }
   ],
   "source": [
    "(1.703419e+10) * 1000\n"
   ]
  },
  {
   "cell_type": "code",
   "execution_count": 57,
   "id": "302982e3",
   "metadata": {},
   "outputs": [
    {
     "data": {
      "text/plain": [
       "<matplotlib.legend.Legend at 0x7f7d12e6bca0>"
      ]
     },
     "execution_count": 57,
     "metadata": {},
     "output_type": "execute_result"
    },
    {
     "data": {
      "image/png": "[encoded data removed]",
      "text/plain": [
       "<Figure size 1080x576 with 1 Axes>"
      ]
     },
     "metadata": {
      "needs_background": "light"
     },
     "output_type": "display_data"
    }
   ],
   "source": [
    "fig, ax = plt.subplots(figsize=(15,8))\n",
    "ax.bar(ef['요양기관종별(2)'], ef['요양급여비용(계) (천원)'], label = \"단위 : 십조\")\n",
    "plt.xticks(rotation=45,size=15)\n",
    "plt.yticks(size=15)\n",
    "plt.title(\"전체인구 요양급여비용 : 총 69조(약국제외)\",size=20,);\n",
    "# plt.legend(loc='best',fontsize=20)\n",
    "plt.ylim(100000,18000000000)\n",
    "plt.legend(loc='best',fontsize=20)"
   ]
  },
  {
   "cell_type": "code",
   "execution_count": 58,
   "id": "83141c64",
   "metadata": {},
   "outputs": [
    {
     "data": {
      "text/plain": [
       "28843161852000"
      ]
     },
     "execution_count": 58,
     "metadata": {},
     "output_type": "execute_result"
    }
   ],
   "source": [
    "#노인인구 (약국제외)\n",
    "28843161852000"
   ]
  },
  {
   "cell_type": "code",
   "execution_count": 59,
   "id": "532f256c",
   "metadata": {},
   "outputs": [],
   "source": [
    "#2020년 기준 전체 건강보험 요양급여비용 (약국제외) (69조)에서 65세이상 인구 요양급여비용 (약국제외) (28조)의 비율 : 40%"
   ]
  },
  {
   "cell_type": "markdown",
   "id": "09795cf6",
   "metadata": {},
   "source": [
    "## 65세 이상 요양급여비용 3년비교"
   ]
  },
  {
   "cell_type": "code",
   "execution_count": 60,
   "id": "de5456ca",
   "metadata": {},
   "outputs": [],
   "source": [
    "sf = pd.read_csv(\"data/18년~20년 노인대상요양기관종별급여비용현황.csv\",encoding='utf-8-sig')"
   ]
  },
  {
   "cell_type": "code",
   "execution_count": 61,
   "id": "feb0305e",
   "metadata": {},
   "outputs": [
    {
     "data": {
      "text/html": [
       "<div>\n",
       "<style scoped>\n",
       "    .dataframe tbody tr th:only-of-type {\n",
       "        vertical-align: middle;\n",
       "    }\n",
       "\n",
       "    .dataframe tbody tr th {\n",
       "        vertical-align: top;\n",
       "    }\n",
       "\n",
       "    .dataframe thead th {\n",
       "        text-align: right;\n",
       "    }\n",
       "</style>\n",
       "<table border=\"1\" class=\"dataframe\">\n",
       "  <thead>\n",
       "    <tr style=\"text-align: right;\">\n",
       "      <th></th>\n",
       "      <th>년도</th>\n",
       "      <th>2018전체</th>\n",
       "      <th>2018요양</th>\n",
       "      <th>2019전체</th>\n",
       "      <th>2019요양</th>\n",
       "      <th>2020전체</th>\n",
       "      <th>2020요양</th>\n",
       "    </tr>\n",
       "  </thead>\n",
       "  <tbody>\n",
       "    <tr>\n",
       "      <th>0</th>\n",
       "      <td>65~69세</td>\n",
       "      <td>5,825,839,713</td>\n",
       "      <td>332,600,612</td>\n",
       "      <td>6,585,033,320</td>\n",
       "      <td>344,824,410</td>\n",
       "      <td>7,070,647,100</td>\n",
       "      <td>362,624,069</td>\n",
       "    </tr>\n",
       "    <tr>\n",
       "      <th>1</th>\n",
       "      <td>70~74세</td>\n",
       "      <td>5,445,443,030</td>\n",
       "      <td>469,156,142</td>\n",
       "      <td>6,220,250,864</td>\n",
       "      <td>486,604,026</td>\n",
       "      <td>6,418,183,944</td>\n",
       "      <td>496,287,399</td>\n",
       "    </tr>\n",
       "    <tr>\n",
       "      <th>2</th>\n",
       "      <td>75~79세</td>\n",
       "      <td>5,753,780,394</td>\n",
       "      <td>957,334,387</td>\n",
       "      <td>6,275,483,809</td>\n",
       "      <td>945,292,937</td>\n",
       "      <td>6,207,848,960</td>\n",
       "      <td>919,247,412</td>\n",
       "    </tr>\n",
       "    <tr>\n",
       "      <th>3</th>\n",
       "      <td>80~84세</td>\n",
       "      <td>4,221,424,260</td>\n",
       "      <td>1,284,931,984</td>\n",
       "      <td>4,787,658,475</td>\n",
       "      <td>1,340,454,795</td>\n",
       "      <td>4,979,861,646</td>\n",
       "      <td>1,368,600,252</td>\n",
       "    </tr>\n",
       "    <tr>\n",
       "      <th>4</th>\n",
       "      <td>85세~</td>\n",
       "      <td>3,367,880,685</td>\n",
       "      <td>1,742,102,365</td>\n",
       "      <td>3,823,517,028</td>\n",
       "      <td>1,875,354,811</td>\n",
       "      <td>4,166,620,201</td>\n",
       "      <td>2,027,661,326</td>\n",
       "    </tr>\n",
       "  </tbody>\n",
       "</table>\n",
       "</div>"
      ],
      "text/plain": [
       "       년도         2018전체         2018요양         2019전체         2019요양  \\\n",
       "0  65~69세  5,825,839,713    332,600,612  6,585,033,320    344,824,410   \n",
       "1  70~74세  5,445,443,030    469,156,142  6,220,250,864    486,604,026   \n",
       "2  75~79세  5,753,780,394    957,334,387  6,275,483,809    945,292,937   \n",
       "3  80~84세  4,221,424,260  1,284,931,984  4,787,658,475  1,340,454,795   \n",
       "4    85세~  3,367,880,685  1,742,102,365  3,823,517,028  1,875,354,811   \n",
       "\n",
       "          2020전체         2020요양  \n",
       "0  7,070,647,100    362,624,069  \n",
       "1  6,418,183,944    496,287,399  \n",
       "2  6,207,848,960    919,247,412  \n",
       "3  4,979,861,646  1,368,600,252  \n",
       "4  4,166,620,201  2,027,661,326  "
      ]
     },
     "execution_count": 61,
     "metadata": {},
     "output_type": "execute_result"
    }
   ],
   "source": [
    "sf.head()"
   ]
  },
  {
   "cell_type": "code",
   "execution_count": 62,
   "id": "c739b044",
   "metadata": {},
   "outputs": [
    {
     "data": {
      "text/plain": [
       "Index(['년도', '2018전체', '2018요양', '2019전체', '2019요양', '2020전체', '2020요양'], dtype='object')"
      ]
     },
     "execution_count": 62,
     "metadata": {},
     "output_type": "execute_result"
    }
   ],
   "source": [
    "sf.columns"
   ]
  },
  {
   "cell_type": "code",
   "execution_count": 63,
   "id": "5a917dd3",
   "metadata": {},
   "outputs": [],
   "source": [
    "a = ['2018전체', '2018요양', '2019전체', '2019요양', '2020전체', '2020요양']"
   ]
  },
  {
   "cell_type": "code",
   "execution_count": 64,
   "id": "dbf0f73b",
   "metadata": {},
   "outputs": [],
   "source": [
    "for i in a:\n",
    "    sf[i] = sf[i].str.replace(',','')"
   ]
  },
  {
   "cell_type": "code",
   "execution_count": 65,
   "id": "655570d6",
   "metadata": {},
   "outputs": [
    {
     "data": {
      "text/html": [
       "<div>\n",
       "<style scoped>\n",
       "    .dataframe tbody tr th:only-of-type {\n",
       "        vertical-align: middle;\n",
       "    }\n",
       "\n",
       "    .dataframe tbody tr th {\n",
       "        vertical-align: top;\n",
       "    }\n",
       "\n",
       "    .dataframe thead th {\n",
       "        text-align: right;\n",
       "    }\n",
       "</style>\n",
       "<table border=\"1\" class=\"dataframe\">\n",
       "  <thead>\n",
       "    <tr style=\"text-align: right;\">\n",
       "      <th></th>\n",
       "      <th>년도</th>\n",
       "      <th>2018전체</th>\n",
       "      <th>2018요양</th>\n",
       "      <th>2019전체</th>\n",
       "      <th>2019요양</th>\n",
       "      <th>2020전체</th>\n",
       "      <th>2020요양</th>\n",
       "    </tr>\n",
       "  </thead>\n",
       "  <tbody>\n",
       "    <tr>\n",
       "      <th>0</th>\n",
       "      <td>65~69세</td>\n",
       "      <td>5825839713</td>\n",
       "      <td>332600612</td>\n",
       "      <td>6585033320</td>\n",
       "      <td>344824410</td>\n",
       "      <td>7070647100</td>\n",
       "      <td>362624069</td>\n",
       "    </tr>\n",
       "    <tr>\n",
       "      <th>1</th>\n",
       "      <td>70~74세</td>\n",
       "      <td>5445443030</td>\n",
       "      <td>469156142</td>\n",
       "      <td>6220250864</td>\n",
       "      <td>486604026</td>\n",
       "      <td>6418183944</td>\n",
       "      <td>496287399</td>\n",
       "    </tr>\n",
       "    <tr>\n",
       "      <th>2</th>\n",
       "      <td>75~79세</td>\n",
       "      <td>5753780394</td>\n",
       "      <td>957334387</td>\n",
       "      <td>6275483809</td>\n",
       "      <td>945292937</td>\n",
       "      <td>6207848960</td>\n",
       "      <td>919247412</td>\n",
       "    </tr>\n",
       "    <tr>\n",
       "      <th>3</th>\n",
       "      <td>80~84세</td>\n",
       "      <td>4221424260</td>\n",
       "      <td>1284931984</td>\n",
       "      <td>4787658475</td>\n",
       "      <td>1340454795</td>\n",
       "      <td>4979861646</td>\n",
       "      <td>1368600252</td>\n",
       "    </tr>\n",
       "    <tr>\n",
       "      <th>4</th>\n",
       "      <td>85세~</td>\n",
       "      <td>3367880685</td>\n",
       "      <td>1742102365</td>\n",
       "      <td>3823517028</td>\n",
       "      <td>1875354811</td>\n",
       "      <td>4166620201</td>\n",
       "      <td>2027661326</td>\n",
       "    </tr>\n",
       "  </tbody>\n",
       "</table>\n",
       "</div>"
      ],
      "text/plain": [
       "       년도      2018전체      2018요양      2019전체      2019요양      2020전체  \\\n",
       "0  65~69세  5825839713   332600612  6585033320   344824410  7070647100   \n",
       "1  70~74세  5445443030   469156142  6220250864   486604026  6418183944   \n",
       "2  75~79세  5753780394   957334387  6275483809   945292937  6207848960   \n",
       "3  80~84세  4221424260  1284931984  4787658475  1340454795  4979861646   \n",
       "4    85세~  3367880685  1742102365  3823517028  1875354811  4166620201   \n",
       "\n",
       "       2020요양  \n",
       "0   362624069  \n",
       "1   496287399  \n",
       "2   919247412  \n",
       "3  1368600252  \n",
       "4  2027661326  "
      ]
     },
     "execution_count": 65,
     "metadata": {},
     "output_type": "execute_result"
    }
   ],
   "source": [
    "sf.head()"
   ]
  },
  {
   "cell_type": "code",
   "execution_count": 66,
   "id": "42c1e7de",
   "metadata": {},
   "outputs": [],
   "source": [
    "for i in a:\n",
    "    sf[i] = sf[i].astype(int, errors='ignore')"
   ]
  },
  {
   "cell_type": "code",
   "execution_count": 67,
   "id": "7d56f5fe",
   "metadata": {},
   "outputs": [
    {
     "name": "stdout",
     "output_type": "stream",
     "text": [
      "<class 'pandas.core.frame.DataFrame'>\n",
      "RangeIndex: 5 entries, 0 to 4\n",
      "Data columns (total 7 columns):\n",
      " #   Column  Non-Null Count  Dtype \n",
      "---  ------  --------------  ----- \n",
      " 0   년도      5 non-null      object\n",
      " 1   2018전체  5 non-null      int64 \n",
      " 2   2018요양  5 non-null      int64 \n",
      " 3   2019전체  5 non-null      int64 \n",
      " 4   2019요양  5 non-null      int64 \n",
      " 5   2020전체  5 non-null      int64 \n",
      " 6   2020요양  5 non-null      int64 \n",
      "dtypes: int64(6), object(1)\n",
      "memory usage: 408.0+ bytes\n"
     ]
    }
   ],
   "source": [
    "sf.info()"
   ]
  },
  {
   "cell_type": "code",
   "execution_count": 68,
   "id": "83a3517c",
   "metadata": {},
   "outputs": [],
   "source": [
    "sf.insert(3, '2018요양비율', (sf['2018요양']/sf['2018전체'])*100)"
   ]
  },
  {
   "cell_type": "code",
   "execution_count": 69,
   "id": "bbcea5f4",
   "metadata": {},
   "outputs": [],
   "source": [
    "sf.insert(6, '2019요양비율', (sf['2019요양']/sf['2019전체'])*100)"
   ]
  },
  {
   "cell_type": "code",
   "execution_count": 70,
   "id": "4e395a7c",
   "metadata": {},
   "outputs": [],
   "source": [
    "sf.insert(9, '2020요양비율', (sf['2020요양']/sf['2020전체'])*100)"
   ]
  },
  {
   "cell_type": "code",
   "execution_count": 71,
   "id": "ed3c0ee3",
   "metadata": {},
   "outputs": [
    {
     "data": {
      "text/plain": [
       "<matplotlib.legend.Legend at 0x7f7d12efbb50>"
      ]
     },
     "execution_count": 71,
     "metadata": {},
     "output_type": "execute_result"
    },
    {
     "data": {
      "image/png": "[encoded data removed]",
      "text/plain": [
       "<Figure size 1080x576 with 1 Axes>"
      ]
     },
     "metadata": {
      "needs_background": "light"
     },
     "output_type": "display_data"
    }
   ],
   "source": [
    "fig, ax = plt.subplots(figsize=(15,8))\n",
    "ax.bar(sf['년도'], sf['2020요양'],label='십억')\n",
    "plt.xticks(rotation=0,size=15)\n",
    "plt.yticks(size=15)\n",
    "plt.title(\"2020년도 고령인구 요양병원 지출비용\",size=20);\n",
    "plt.legend(loc='best',fontsize=20)"
   ]
  },
  {
   "cell_type": "code",
   "execution_count": 72,
   "id": "38fd5e9d",
   "metadata": {},
   "outputs": [
    {
     "name": "stderr",
     "output_type": "stream",
     "text": [
      "No handles with labels found to put in legend.\n"
     ]
    },
    {
     "data": {
      "text/plain": [
       "<matplotlib.legend.Legend at 0x7f7cf0f6b1c0>"
      ]
     },
     "execution_count": 72,
     "metadata": {},
     "output_type": "execute_result"
    },
    {
     "data": {
      "image/png": "[encoded data removed]",
      "text/plain": [
       "<Figure size 1080x576 with 1 Axes>"
      ]
     },
     "metadata": {
      "needs_background": "light"
     },
     "output_type": "display_data"
    }
   ],
   "source": [
    "fig, ax = plt.subplots(figsize=(15,8))\n",
    "ax.bar(sf['년도'], sf['2020요양비율'])\n",
    "plt.xticks(rotation=0,size=15)\n",
    "plt.yticks(size=20)\n",
    "plt.title(\"2020 고령인구 요양급여 비용 중 요양병원 지출 비율 \",size=20);\n",
    "plt.legend(loc='best',fontsize=20)"
   ]
  },
  {
   "cell_type": "code",
   "execution_count": 73,
   "id": "8cb6c7d1",
   "metadata": {},
   "outputs": [
    {
     "name": "stdout",
     "output_type": "stream",
     "text": [
      "24614368082\n",
      "27691943496\n",
      "28843161851\n"
     ]
    }
   ],
   "source": [
    "print((sf['2018전체']).sum())\n",
    "print((sf['2019전체']).sum())\n",
    "print((sf['2020전체']).sum())"
   ]
  },
  {
   "cell_type": "code",
   "execution_count": 74,
   "id": "3f3e82b0",
   "metadata": {},
   "outputs": [
    {
     "data": {
      "text/html": [
       "<div>\n",
       "<style scoped>\n",
       "    .dataframe tbody tr th:only-of-type {\n",
       "        vertical-align: middle;\n",
       "    }\n",
       "\n",
       "    .dataframe tbody tr th {\n",
       "        vertical-align: top;\n",
       "    }\n",
       "\n",
       "    .dataframe thead th {\n",
       "        text-align: right;\n",
       "    }\n",
       "</style>\n",
       "<table border=\"1\" class=\"dataframe\">\n",
       "  <thead>\n",
       "    <tr style=\"text-align: right;\">\n",
       "      <th></th>\n",
       "      <th>년도</th>\n",
       "      <th>금액</th>\n",
       "    </tr>\n",
       "  </thead>\n",
       "  <tbody>\n",
       "    <tr>\n",
       "      <th>0</th>\n",
       "      <td>2018년</td>\n",
       "      <td>24614368082</td>\n",
       "    </tr>\n",
       "    <tr>\n",
       "      <th>1</th>\n",
       "      <td>2019년</td>\n",
       "      <td>27691943496</td>\n",
       "    </tr>\n",
       "    <tr>\n",
       "      <th>2</th>\n",
       "      <td>2020년</td>\n",
       "      <td>28843161851</td>\n",
       "    </tr>\n",
       "  </tbody>\n",
       "</table>\n",
       "</div>"
      ],
      "text/plain": [
       "      년도           금액\n",
       "0  2018년  24614368082\n",
       "1  2019년  27691943496\n",
       "2  2020년  28843161851"
      ]
     },
     "execution_count": 74,
     "metadata": {},
     "output_type": "execute_result"
    }
   ],
   "source": [
    "ff = pd.DataFrame([['2018년', '24614368082'],\n",
    "                   ['2019년', '27691943496'],\n",
    "                   ['2020년', '28843161851']],columns=['년도','금액'])\n",
    "ff"
   ]
  },
  {
   "cell_type": "code",
   "execution_count": 75,
   "id": "4144ca8b",
   "metadata": {},
   "outputs": [
    {
     "name": "stdout",
     "output_type": "stream",
     "text": [
      "<class 'pandas.core.frame.DataFrame'>\n",
      "RangeIndex: 3 entries, 0 to 2\n",
      "Data columns (total 2 columns):\n",
      " #   Column  Non-Null Count  Dtype \n",
      "---  ------  --------------  ----- \n",
      " 0   년도      3 non-null      object\n",
      " 1   금액      3 non-null      object\n",
      "dtypes: object(2)\n",
      "memory usage: 176.0+ bytes\n"
     ]
    }
   ],
   "source": [
    "ff.info()"
   ]
  },
  {
   "cell_type": "code",
   "execution_count": 76,
   "id": "1c998903",
   "metadata": {},
   "outputs": [],
   "source": [
    "ff['금액'] = ff['금액'].astype(int)"
   ]
  },
  {
   "cell_type": "code",
   "execution_count": 77,
   "id": "2d33c5c8",
   "metadata": {
    "scrolled": true
   },
   "outputs": [
    {
     "name": "stdout",
     "output_type": "stream",
     "text": [
      "<class 'pandas.core.frame.DataFrame'>\n",
      "RangeIndex: 3 entries, 0 to 2\n",
      "Data columns (total 2 columns):\n",
      " #   Column  Non-Null Count  Dtype \n",
      "---  ------  --------------  ----- \n",
      " 0   년도      3 non-null      object\n",
      " 1   금액      3 non-null      int64 \n",
      "dtypes: int64(1), object(1)\n",
      "memory usage: 176.0+ bytes\n"
     ]
    }
   ],
   "source": [
    "ff.info()"
   ]
  },
  {
   "cell_type": "code",
   "execution_count": 78,
   "id": "11588ab2",
   "metadata": {},
   "outputs": [
    {
     "data": {
      "text/plain": [
       "Text(0.5, 1.0, '2018~2020 노인인구 요양병원 지출 금액, 17퍼 증가')"
      ]
     },
     "execution_count": 78,
     "metadata": {},
     "output_type": "execute_result"
    },
    {
     "data": {
      "image/png": "[encoded data removed]",
      "text/plain": [
       "<Figure size 1080x576 with 1 Axes>"
      ]
     },
     "metadata": {
      "needs_background": "light"
     },
     "output_type": "display_data"
    }
   ],
   "source": [
    "fig, ax = plt.subplots(figsize=(15,8))\n",
    "ax.bar(ff['년도'],ff['금액'],label='백억')\n",
    "plt.ylim(20614368082, 30843161851)\n",
    "plt.plot(ff['년도'],ff['금액'],marker='o',color='green',markersize=10)\n",
    "plt.xticks(size=20)\n",
    "plt.legend(loc = 'best',fontsize=20)\n",
    "plt.title('2018~2020 노인인구 요양병원 지출 금액, 17퍼 증가',size=20)"
   ]
  },
  {
   "cell_type": "code",
   "execution_count": 101,
   "id": "58935e49",
   "metadata": {},
   "outputs": [],
   "source": [
    "ff.to_csv(\"2018~2019 노인인구 요양병원 지출금액 17퍼증가.csv\",encoding='utf-8-sig')"
   ]
  },
  {
   "cell_type": "code",
   "execution_count": null,
   "id": "2b5b1c29",
   "metadata": {},
   "outputs": [],
   "source": []
  }
 ],
 "metadata": {
  "kernelspec": {
   "display_name": "Python 3 (ipykernel)",
   "language": "python",
   "name": "python3"
  },
  "language_info": {
   "codemirror_mode": {
    "name": "ipython",
    "version": 3
   },
   "file_extension": ".py",
   "mimetype": "text/x-python",
   "name": "python",
   "nbconvert_exporter": "python",
   "pygments_lexer": "ipython3",
   "version": "3.11.4"
  },
  "toc": {
   "base_numbering": 1,
   "nav_menu": {},
   "number_sections": true,
   "sideBar": true,
   "skip_h1_title": false,
   "title_cell": "Table of Contents",
   "title_sidebar": "Contents",
   "toc_cell": false,
   "toc_position": {
    "height": "calc(100% - 180px)",
    "left": "10px",
    "top": "150px",
    "width": "288px"
   },
   "toc_section_display": true,
   "toc_window_display": true
  },
  "varInspector": {
   "cols": {
    "lenName": 16,
    "lenType": 16,
    "lenVar": 40
   },
   "kernels_config": {
    "python": {
     "delete_cmd_postfix": "",
     "delete_cmd_prefix": "del ",
     "library": "var_list.py",
     "varRefreshCmd": "print(var_dic_list())"
    },
    "r": {
     "delete_cmd_postfix": ") ",
     "delete_cmd_prefix": "rm(",
     "library": "var_list.r",
     "varRefreshCmd": "cat(var_dic_list()) "
    }
   },
   "types_to_exclude": [
    "module",
    "function",
    "builtin_function_or_method",
    "instance",
    "_Feature"
   ],
   "window_display": false
  }
 },
 "nbformat": 4,
 "nbformat_minor": 5
}
