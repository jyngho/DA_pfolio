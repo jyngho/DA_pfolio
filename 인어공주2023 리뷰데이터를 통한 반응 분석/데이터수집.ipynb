{
 "cells": [
  {
   "cell_type": "markdown",
   "id": "9b4e72e5",
   "metadata": {},
   "source": [
    "# 개봉 전 코멘트 데이터"
   ]
  },
  {
   "cell_type": "markdown",
   "id": "d9e1e865",
   "metadata": {},
   "source": [
    "## xb5i75"
   ]
  },
  {
   "cell_type": "code",
   "execution_count": 193,
   "id": "a0536dcc",
   "metadata": {},
   "outputs": [],
   "source": [
    "#Fans Defend Halle Bailey’s 'The Little Mermaid' After The Actress Receives Offensive, Racist Slurs Following Movie’s Official Sneak Peek\n",
    "#https://www.reddit.com/r/entertainment/comments/xb5i75/fans_defend_halle_baileys_the_little_mermaid/\n",
    "#xb5i75"
   ]
  },
  {
   "cell_type": "code",
   "execution_count": 194,
   "id": "ae3d9c29",
   "metadata": {},
   "outputs": [],
   "source": [
    "#pip install praw"
   ]
  },
  {
   "cell_type": "code",
   "execution_count": 113,
   "id": "f8f6b762",
   "metadata": {},
   "outputs": [],
   "source": [
    "import pandas as pd"
   ]
  },
  {
   "cell_type": "code",
   "execution_count": 114,
   "id": "ee749e57",
   "metadata": {},
   "outputs": [],
   "source": [
    "import numpy as np"
   ]
  },
  {
   "cell_type": "code",
   "execution_count": 115,
   "id": "8f9da1a9",
   "metadata": {},
   "outputs": [],
   "source": [
    "#reddit API 코드\n",
    "import praw\n",
    "\n",
    "reddit = praw.Reddit(client_id='iYv0lxCPxdviv70yJY5N1A',\n",
    "                     client_secret='4hGrGCvmuT_xX8aBRIZuGInbWtMXxg',\n",
    "                     username='',\n",
    "                     password='',\n",
    "                     user_agent='mac: my_app : v7.7.0 (by /u/jyngho)')"
   ]
  },
  {
   "cell_type": "code",
   "execution_count": 116,
   "id": "240692fb",
   "metadata": {},
   "outputs": [],
   "source": [
    "# 게시글 가져오기\n",
    "submission = reddit.submission(id='xb5i75')"
   ]
  },
  {
   "cell_type": "code",
   "execution_count": 117,
   "id": "45879cd9",
   "metadata": {},
   "outputs": [],
   "source": [
    "# 댓글 가져오기\n",
    "submission.comments.replace_more(limit=None)\n",
    "comments = submission.comments.list()"
   ]
  },
  {
   "cell_type": "code",
   "execution_count": 119,
   "id": "c2caf506",
   "metadata": {},
   "outputs": [],
   "source": [
    "# 댓글 정보를 저장할 리스트 생성\n",
    "comment_list = []"
   ]
  },
  {
   "cell_type": "code",
   "execution_count": 120,
   "id": "08d93be7",
   "metadata": {},
   "outputs": [],
   "source": [
    "# 댓글 스크랩\n",
    "for comment in comments:\n",
    "    # MoreComments 객체인 경우, 건너뜀\n",
    "    if isinstance(comment, praw.models.MoreComments):\n",
    "        continue\n",
    "    # 댓글 정보를 딕셔너리 형태로 저장\n",
    "    comment_dict = {\n",
    "        'title': submission.title,\n",
    "        'body': comment.body,\n",
    "    }\n",
    "    comment_list.append(comment_dict)"
   ]
  },
  {
   "cell_type": "code",
   "execution_count": 121,
   "id": "f64aff0a",
   "metadata": {},
   "outputs": [],
   "source": [
    "# 데이터프레임으로 변환\n",
    "df = pd.DataFrame(comment_list, columns=['title', 'body'])"
   ]
  },
  {
   "cell_type": "code",
   "execution_count": 122,
   "id": "1db9fe34",
   "metadata": {},
   "outputs": [],
   "source": [
    "df.title = \"Fans Defend Halle Bailey’s 'The Little Mermaid' After The Actress Receives Offensive, Racist Slurs Following Movie’s Official Sneak Peek\""
   ]
  },
  {
   "cell_type": "code",
   "execution_count": 123,
   "id": "c8838119",
   "metadata": {},
   "outputs": [
    {
     "data": {
      "text/html": [
       "<div>\n",
       "<style scoped>\n",
       "    .dataframe tbody tr th:only-of-type {\n",
       "        vertical-align: middle;\n",
       "    }\n",
       "\n",
       "    .dataframe tbody tr th {\n",
       "        vertical-align: top;\n",
       "    }\n",
       "\n",
       "    .dataframe thead th {\n",
       "        text-align: right;\n",
       "    }\n",
       "</style>\n",
       "<table border=\"1\" class=\"dataframe\">\n",
       "  <thead>\n",
       "    <tr style=\"text-align: right;\">\n",
       "      <th></th>\n",
       "      <th>title</th>\n",
       "      <th>body</th>\n",
       "    </tr>\n",
       "  </thead>\n",
       "  <tbody>\n",
       "    <tr>\n",
       "      <th>0</th>\n",
       "      <td>Fans Defend Halle Bailey’s 'The Little Mermaid...</td>\n",
       "      <td>##[Clarification on rule 5](https://www.reddit...</td>\n",
       "    </tr>\n",
       "    <tr>\n",
       "      <th>1</th>\n",
       "      <td>Fans Defend Halle Bailey’s 'The Little Mermaid...</td>\n",
       "      <td>I will never not read this actress’s name as H...</td>\n",
       "    </tr>\n",
       "    <tr>\n",
       "      <th>2</th>\n",
       "      <td>Fans Defend Halle Bailey’s 'The Little Mermaid...</td>\n",
       "      <td>[removed]</td>\n",
       "    </tr>\n",
       "    <tr>\n",
       "      <th>3</th>\n",
       "      <td>Fans Defend Halle Bailey’s 'The Little Mermaid...</td>\n",
       "      <td>Her voice seemed beautiful honestly. Just feel...</td>\n",
       "    </tr>\n",
       "    <tr>\n",
       "      <th>4</th>\n",
       "      <td>Fans Defend Halle Bailey’s 'The Little Mermaid...</td>\n",
       "      <td>Am I the only one who keeps reading Halle Berr...</td>\n",
       "    </tr>\n",
       "    <tr>\n",
       "      <th>...</th>\n",
       "      <td>...</td>\n",
       "      <td>...</td>\n",
       "    </tr>\n",
       "    <tr>\n",
       "      <th>656</th>\n",
       "      <td>Fans Defend Halle Bailey’s 'The Little Mermaid...</td>\n",
       "      <td>[removed]</td>\n",
       "    </tr>\n",
       "    <tr>\n",
       "      <th>657</th>\n",
       "      <td>Fans Defend Halle Bailey’s 'The Little Mermaid...</td>\n",
       "      <td>I second this</td>\n",
       "    </tr>\n",
       "    <tr>\n",
       "      <th>658</th>\n",
       "      <td>Fans Defend Halle Bailey’s 'The Little Mermaid...</td>\n",
       "      <td>[removed]</td>\n",
       "    </tr>\n",
       "    <tr>\n",
       "      <th>659</th>\n",
       "      <td>Fans Defend Halle Bailey’s 'The Little Mermaid...</td>\n",
       "      <td>[removed]</td>\n",
       "    </tr>\n",
       "    <tr>\n",
       "      <th>660</th>\n",
       "      <td>Fans Defend Halle Bailey’s 'The Little Mermaid...</td>\n",
       "      <td>I third this</td>\n",
       "    </tr>\n",
       "  </tbody>\n",
       "</table>\n",
       "<p>661 rows × 2 columns</p>\n",
       "</div>"
      ],
      "text/plain": [
       "                                                 title  \\\n",
       "0    Fans Defend Halle Bailey’s 'The Little Mermaid...   \n",
       "1    Fans Defend Halle Bailey’s 'The Little Mermaid...   \n",
       "2    Fans Defend Halle Bailey’s 'The Little Mermaid...   \n",
       "3    Fans Defend Halle Bailey’s 'The Little Mermaid...   \n",
       "4    Fans Defend Halle Bailey’s 'The Little Mermaid...   \n",
       "..                                                 ...   \n",
       "656  Fans Defend Halle Bailey’s 'The Little Mermaid...   \n",
       "657  Fans Defend Halle Bailey’s 'The Little Mermaid...   \n",
       "658  Fans Defend Halle Bailey’s 'The Little Mermaid...   \n",
       "659  Fans Defend Halle Bailey’s 'The Little Mermaid...   \n",
       "660  Fans Defend Halle Bailey’s 'The Little Mermaid...   \n",
       "\n",
       "                                                  body  \n",
       "0    ##[Clarification on rule 5](https://www.reddit...  \n",
       "1    I will never not read this actress’s name as H...  \n",
       "2                                            [removed]  \n",
       "3    Her voice seemed beautiful honestly. Just feel...  \n",
       "4    Am I the only one who keeps reading Halle Berr...  \n",
       "..                                                 ...  \n",
       "656                                          [removed]  \n",
       "657                                      I second this  \n",
       "658                                          [removed]  \n",
       "659                                          [removed]  \n",
       "660                                       I third this  \n",
       "\n",
       "[661 rows x 2 columns]"
      ]
     },
     "execution_count": 123,
     "metadata": {},
     "output_type": "execute_result"
    }
   ],
   "source": [
    "df"
   ]
  },
  {
   "cell_type": "code",
   "execution_count": null,
   "id": "1be265f8",
   "metadata": {},
   "outputs": [],
   "source": [
    "df.to_csv(\"xb5i75.csv\",  encoding='utf-8-sig')"
   ]
  },
  {
   "cell_type": "markdown",
   "id": "692905df",
   "metadata": {},
   "source": [
    "## 11pvjso"
   ]
  },
  {
   "cell_type": "code",
   "execution_count": 1,
   "id": "87942555",
   "metadata": {},
   "outputs": [],
   "source": [
    "#The Little Mermaid | Official Trailer\n",
    "#https://www.reddit.com/r/boxoffice/comments/11pvjso/the_little_mermaid_official_trailer/\n",
    "#11pvjso"
   ]
  },
  {
   "cell_type": "code",
   "execution_count": 2,
   "id": "efa42196",
   "metadata": {},
   "outputs": [],
   "source": [
    "import pandas as pd"
   ]
  },
  {
   "cell_type": "code",
   "execution_count": 3,
   "id": "975ee224",
   "metadata": {},
   "outputs": [],
   "source": [
    "import numpy as np"
   ]
  },
  {
   "cell_type": "code",
   "execution_count": 4,
   "id": "5813932d",
   "metadata": {},
   "outputs": [],
   "source": [
    "import praw\n",
    "\n",
    "reddit = praw.Reddit(client_id='iYv0lxCPxdviv70yJY5N1A',\n",
    "                     client_secret='4hGrGCvmuT_xX8aBRIZuGInbWtMXxg',\n",
    "                     username='',\n",
    "                     password='',\n",
    "                     user_agent='mac: my_app : v7.7.0 (by /u/jyngho)')"
   ]
  },
  {
   "cell_type": "code",
   "execution_count": 5,
   "id": "5d84e029",
   "metadata": {},
   "outputs": [],
   "source": [
    "submission = reddit.submission(id='11pvjso')"
   ]
  },
  {
   "cell_type": "code",
   "execution_count": 6,
   "id": "892cc9df",
   "metadata": {},
   "outputs": [],
   "source": [
    "submission.comments.replace_more(limit=None)\n",
    "comments = submission.comments.list()"
   ]
  },
  {
   "cell_type": "code",
   "execution_count": 7,
   "id": "ad40f028",
   "metadata": {},
   "outputs": [],
   "source": [
    "comment_list = []"
   ]
  },
  {
   "cell_type": "code",
   "execution_count": 8,
   "id": "196477f4",
   "metadata": {},
   "outputs": [],
   "source": [
    "for comment in comments:\n",
    "    if isinstance(comment, praw.models.MoreComments):\n",
    "        continue\n",
    "    comment_dict = {\n",
    "        'title': submission.title,\n",
    "        'body': comment.body,\n",
    "    }\n",
    "    comment_list.append(comment_dict)"
   ]
  },
  {
   "cell_type": "code",
   "execution_count": 9,
   "id": "cb884b04",
   "metadata": {},
   "outputs": [],
   "source": [
    "df = pd.DataFrame(comment_list, columns=['title', 'body'])"
   ]
  },
  {
   "cell_type": "code",
   "execution_count": 10,
   "id": "08e46715",
   "metadata": {},
   "outputs": [],
   "source": [
    "df.title = \"Official Character Posters for 'The Little Mermaid'\""
   ]
  },
  {
   "cell_type": "code",
   "execution_count": 11,
   "id": "966802bd",
   "metadata": {},
   "outputs": [
    {
     "data": {
      "text/html": [
       "<div>\n",
       "<style scoped>\n",
       "    .dataframe tbody tr th:only-of-type {\n",
       "        vertical-align: middle;\n",
       "    }\n",
       "\n",
       "    .dataframe tbody tr th {\n",
       "        vertical-align: top;\n",
       "    }\n",
       "\n",
       "    .dataframe thead th {\n",
       "        text-align: right;\n",
       "    }\n",
       "</style>\n",
       "<table border=\"1\" class=\"dataframe\">\n",
       "  <thead>\n",
       "    <tr style=\"text-align: right;\">\n",
       "      <th></th>\n",
       "      <th>title</th>\n",
       "      <th>body</th>\n",
       "    </tr>\n",
       "  </thead>\n",
       "  <tbody>\n",
       "    <tr>\n",
       "      <th>0</th>\n",
       "      <td>Official Character Posters for 'The Little Mer...</td>\n",
       "      <td>[removed]</td>\n",
       "    </tr>\n",
       "    <tr>\n",
       "      <th>1</th>\n",
       "      <td>Official Character Posters for 'The Little Mer...</td>\n",
       "      <td>[removed]</td>\n",
       "    </tr>\n",
       "    <tr>\n",
       "      <th>2</th>\n",
       "      <td>Official Character Posters for 'The Little Mer...</td>\n",
       "      <td>800M-1B imo. GA does NOT care about VFX, they ...</td>\n",
       "    </tr>\n",
       "    <tr>\n",
       "      <th>3</th>\n",
       "      <td>Official Character Posters for 'The Little Mer...</td>\n",
       "      <td>Remember when Aladdin’s trailer came out and e...</td>\n",
       "    </tr>\n",
       "    <tr>\n",
       "      <th>4</th>\n",
       "      <td>Official Character Posters for 'The Little Mer...</td>\n",
       "      <td>I want to like it, I really do. I think a lot ...</td>\n",
       "    </tr>\n",
       "    <tr>\n",
       "      <th>...</th>\n",
       "      <td>...</td>\n",
       "      <td>...</td>\n",
       "    </tr>\n",
       "    <tr>\n",
       "      <th>275</th>\n",
       "      <td>Official Character Posters for 'The Little Mer...</td>\n",
       "      <td>I’ll be honest I dont know how to analyze that...</td>\n",
       "    </tr>\n",
       "    <tr>\n",
       "      <th>276</th>\n",
       "      <td>Official Character Posters for 'The Little Mer...</td>\n",
       "      <td>Wakanda forever had the advantage of being mad...</td>\n",
       "    </tr>\n",
       "    <tr>\n",
       "      <th>277</th>\n",
       "      <td>Official Character Posters for 'The Little Mer...</td>\n",
       "      <td>Honestly, neither do I. Either way Spider-vers...</td>\n",
       "    </tr>\n",
       "    <tr>\n",
       "      <th>278</th>\n",
       "      <td>Official Character Posters for 'The Little Mer...</td>\n",
       "      <td>Lol more excuses\\nBuh buh buh</td>\n",
       "    </tr>\n",
       "    <tr>\n",
       "      <th>279</th>\n",
       "      <td>Official Character Posters for 'The Little Mer...</td>\n",
       "      <td>Ok then explain to me why so many people will ...</td>\n",
       "    </tr>\n",
       "  </tbody>\n",
       "</table>\n",
       "<p>280 rows × 2 columns</p>\n",
       "</div>"
      ],
      "text/plain": [
       "                                                 title  \\\n",
       "0    Official Character Posters for 'The Little Mer...   \n",
       "1    Official Character Posters for 'The Little Mer...   \n",
       "2    Official Character Posters for 'The Little Mer...   \n",
       "3    Official Character Posters for 'The Little Mer...   \n",
       "4    Official Character Posters for 'The Little Mer...   \n",
       "..                                                 ...   \n",
       "275  Official Character Posters for 'The Little Mer...   \n",
       "276  Official Character Posters for 'The Little Mer...   \n",
       "277  Official Character Posters for 'The Little Mer...   \n",
       "278  Official Character Posters for 'The Little Mer...   \n",
       "279  Official Character Posters for 'The Little Mer...   \n",
       "\n",
       "                                                  body  \n",
       "0                                            [removed]  \n",
       "1                                            [removed]  \n",
       "2    800M-1B imo. GA does NOT care about VFX, they ...  \n",
       "3    Remember when Aladdin’s trailer came out and e...  \n",
       "4    I want to like it, I really do. I think a lot ...  \n",
       "..                                                 ...  \n",
       "275  I’ll be honest I dont know how to analyze that...  \n",
       "276  Wakanda forever had the advantage of being mad...  \n",
       "277  Honestly, neither do I. Either way Spider-vers...  \n",
       "278                      Lol more excuses\\nBuh buh buh  \n",
       "279  Ok then explain to me why so many people will ...  \n",
       "\n",
       "[280 rows x 2 columns]"
      ]
     },
     "execution_count": 11,
     "metadata": {},
     "output_type": "execute_result"
    }
   ],
   "source": [
    "df"
   ]
  },
  {
   "cell_type": "code",
   "execution_count": 226,
   "id": "23d8ba64",
   "metadata": {},
   "outputs": [],
   "source": [
    "df.to_csv(\"11pvjso.csv\",index=False, encoding='utf-8-sig')"
   ]
  },
  {
   "cell_type": "markdown",
   "id": "f110b81b",
   "metadata": {},
   "source": [
    "## 12zkbg0"
   ]
  },
  {
   "cell_type": "code",
   "execution_count": 25,
   "id": "4d8f9c37",
   "metadata": {},
   "outputs": [],
   "source": [
    "#https://www.reddit.com/r/movies/comments/12zkbg0/official_character_posters_for_the_little_mermaid/"
   ]
  },
  {
   "cell_type": "code",
   "execution_count": 26,
   "id": "b74c8eee",
   "metadata": {},
   "outputs": [],
   "source": [
    "import pandas as pd"
   ]
  },
  {
   "cell_type": "code",
   "execution_count": 27,
   "id": "00df29bc",
   "metadata": {},
   "outputs": [],
   "source": [
    "import numpy as np"
   ]
  },
  {
   "cell_type": "code",
   "execution_count": 28,
   "id": "2e685d9d",
   "metadata": {},
   "outputs": [],
   "source": [
    "import praw\n",
    "\n",
    "reddit = praw.Reddit(client_id='iYv0lxCPxdviv70yJY5N1A',\n",
    "                     client_secret='4hGrGCvmuT_xX8aBRIZuGInbWtMXxg',\n",
    "                     username='',\n",
    "                     password='',\n",
    "                     user_agent='mac: my_app : v7.7.0 (by /u/jyngho)')"
   ]
  },
  {
   "cell_type": "code",
   "execution_count": 29,
   "id": "82ef7cc2",
   "metadata": {},
   "outputs": [],
   "source": [
    "submission = reddit.submission(id='12zkbg0')"
   ]
  },
  {
   "cell_type": "code",
   "execution_count": 30,
   "id": "6bedad71",
   "metadata": {},
   "outputs": [],
   "source": [
    "submission.comments.replace_more(limit=None)\n",
    "comments = submission.comments.list()"
   ]
  },
  {
   "cell_type": "code",
   "execution_count": 31,
   "id": "7d7f56ee",
   "metadata": {},
   "outputs": [],
   "source": [
    "comment_list = []"
   ]
  },
  {
   "cell_type": "code",
   "execution_count": 32,
   "id": "941b3f99",
   "metadata": {},
   "outputs": [],
   "source": [
    "for comment in comments:\n",
    "    if isinstance(comment, praw.models.MoreComments):\n",
    "        continue\n",
    "    comment_dict = {\n",
    "        'title': submission.title,\n",
    "        'body': comment.body,\n",
    "    }\n",
    "    comment_list.append(comment_dict)"
   ]
  },
  {
   "cell_type": "code",
   "execution_count": 33,
   "id": "e25231c4",
   "metadata": {},
   "outputs": [],
   "source": [
    "df = pd.DataFrame(comment_list, columns=['title', 'body'])"
   ]
  },
  {
   "cell_type": "code",
   "execution_count": 34,
   "id": "b96881d6",
   "metadata": {},
   "outputs": [],
   "source": [
    "df.title = \"Official Character Posters for 'The Little Mermaid'\""
   ]
  },
  {
   "cell_type": "code",
   "execution_count": 36,
   "id": "cd8767bc",
   "metadata": {},
   "outputs": [
    {
     "data": {
      "text/html": [
       "<div>\n",
       "<style scoped>\n",
       "    .dataframe tbody tr th:only-of-type {\n",
       "        vertical-align: middle;\n",
       "    }\n",
       "\n",
       "    .dataframe tbody tr th {\n",
       "        vertical-align: top;\n",
       "    }\n",
       "\n",
       "    .dataframe thead th {\n",
       "        text-align: right;\n",
       "    }\n",
       "</style>\n",
       "<table border=\"1\" class=\"dataframe\">\n",
       "  <thead>\n",
       "    <tr style=\"text-align: right;\">\n",
       "      <th></th>\n",
       "      <th>title</th>\n",
       "      <th>body</th>\n",
       "    </tr>\n",
       "  </thead>\n",
       "  <tbody>\n",
       "    <tr>\n",
       "      <th>0</th>\n",
       "      <td>Official Character Posters for 'The Little Mer...</td>\n",
       "      <td>[removed]</td>\n",
       "    </tr>\n",
       "    <tr>\n",
       "      <th>1</th>\n",
       "      <td>Official Character Posters for 'The Little Mer...</td>\n",
       "      <td>I'll never understand why they always opt for ...</td>\n",
       "    </tr>\n",
       "    <tr>\n",
       "      <th>2</th>\n",
       "      <td>Official Character Posters for 'The Little Mer...</td>\n",
       "      <td>Looking at these, I thought Nicholas Cage was ...</td>\n",
       "    </tr>\n",
       "    <tr>\n",
       "      <th>3</th>\n",
       "      <td>Official Character Posters for 'The Little Mer...</td>\n",
       "      <td>King Triton: I need you to step out of the sea...</td>\n",
       "    </tr>\n",
       "    <tr>\n",
       "      <th>4</th>\n",
       "      <td>Official Character Posters for 'The Little Mer...</td>\n",
       "      <td>Why do the animals always look scarier in thes...</td>\n",
       "    </tr>\n",
       "    <tr>\n",
       "      <th>...</th>\n",
       "      <td>...</td>\n",
       "      <td>...</td>\n",
       "    </tr>\n",
       "    <tr>\n",
       "      <th>695</th>\n",
       "      <td>Official Character Posters for 'The Little Mer...</td>\n",
       "      <td>It’s racist because people of certain backgrou...</td>\n",
       "    </tr>\n",
       "    <tr>\n",
       "      <th>696</th>\n",
       "      <td>Official Character Posters for 'The Little Mer...</td>\n",
       "      <td>Good is subjective</td>\n",
       "    </tr>\n",
       "    <tr>\n",
       "      <th>697</th>\n",
       "      <td>Official Character Posters for 'The Little Mer...</td>\n",
       "      <td>Well yes, but what’s the point in any discussi...</td>\n",
       "    </tr>\n",
       "    <tr>\n",
       "      <th>698</th>\n",
       "      <td>Official Character Posters for 'The Little Mer...</td>\n",
       "      <td>Now you're understanding</td>\n",
       "    </tr>\n",
       "    <tr>\n",
       "      <th>699</th>\n",
       "      <td>Official Character Posters for 'The Little Mer...</td>\n",
       "      <td>Why are you commenting if all discussion is po...</td>\n",
       "    </tr>\n",
       "  </tbody>\n",
       "</table>\n",
       "<p>700 rows × 2 columns</p>\n",
       "</div>"
      ],
      "text/plain": [
       "                                                 title  \\\n",
       "0    Official Character Posters for 'The Little Mer...   \n",
       "1    Official Character Posters for 'The Little Mer...   \n",
       "2    Official Character Posters for 'The Little Mer...   \n",
       "3    Official Character Posters for 'The Little Mer...   \n",
       "4    Official Character Posters for 'The Little Mer...   \n",
       "..                                                 ...   \n",
       "695  Official Character Posters for 'The Little Mer...   \n",
       "696  Official Character Posters for 'The Little Mer...   \n",
       "697  Official Character Posters for 'The Little Mer...   \n",
       "698  Official Character Posters for 'The Little Mer...   \n",
       "699  Official Character Posters for 'The Little Mer...   \n",
       "\n",
       "                                                  body  \n",
       "0                                            [removed]  \n",
       "1    I'll never understand why they always opt for ...  \n",
       "2    Looking at these, I thought Nicholas Cage was ...  \n",
       "3    King Triton: I need you to step out of the sea...  \n",
       "4    Why do the animals always look scarier in thes...  \n",
       "..                                                 ...  \n",
       "695  It’s racist because people of certain backgrou...  \n",
       "696                                 Good is subjective  \n",
       "697  Well yes, but what’s the point in any discussi...  \n",
       "698                           Now you're understanding  \n",
       "699  Why are you commenting if all discussion is po...  \n",
       "\n",
       "[700 rows x 2 columns]"
      ]
     },
     "execution_count": 36,
     "metadata": {},
     "output_type": "execute_result"
    }
   ],
   "source": [
    "df"
   ]
  },
  {
   "cell_type": "code",
   "execution_count": 37,
   "id": "d69a8c40",
   "metadata": {},
   "outputs": [],
   "source": [
    "df.to_csv(\"12zkbg0.csv\",index=False, encoding='utf-8-sig')"
   ]
  },
  {
   "cell_type": "markdown",
   "id": "ba0dd75b",
   "metadata": {},
   "source": [
    "## xdgviq"
   ]
  },
  {
   "cell_type": "code",
   "execution_count": 38,
   "id": "e50017d5",
   "metadata": {},
   "outputs": [],
   "source": [
    "#https://www.reddit.com/r/entertainment/comments/xdgviq/the_little_mermaid_makes_disney_history_as_most/"
   ]
  },
  {
   "cell_type": "code",
   "execution_count": 6,
   "id": "5de19554",
   "metadata": {},
   "outputs": [],
   "source": [
    "import pandas as pd"
   ]
  },
  {
   "cell_type": "code",
   "execution_count": 7,
   "id": "dfa74795",
   "metadata": {},
   "outputs": [],
   "source": [
    "import numpy as np"
   ]
  },
  {
   "cell_type": "code",
   "execution_count": 8,
   "id": "77c4a1fd",
   "metadata": {},
   "outputs": [],
   "source": [
    "import praw\n",
    "\n",
    "reddit = praw.Reddit(client_id='iYv0lxCPxdviv70yJY5N1A',\n",
    "                     client_secret='4hGrGCvmuT_xX8aBRIZuGInbWtMXxg',\n",
    "                     username='',\n",
    "                     password='',\n",
    "                     user_agent='mac: my_app : v7.7.0 (by /u/jyngho)')"
   ]
  },
  {
   "cell_type": "code",
   "execution_count": 9,
   "id": "a01d4de2",
   "metadata": {},
   "outputs": [],
   "source": [
    "submission = reddit.submission(id='xdgviq')"
   ]
  },
  {
   "cell_type": "code",
   "execution_count": 10,
   "id": "ccea4f7d",
   "metadata": {},
   "outputs": [],
   "source": [
    "submission.comments.replace_more(limit=None)\n",
    "comments = submission.comments.list()"
   ]
  },
  {
   "cell_type": "code",
   "execution_count": 11,
   "id": "4b473019",
   "metadata": {},
   "outputs": [],
   "source": [
    "comment_list = []"
   ]
  },
  {
   "cell_type": "code",
   "execution_count": 12,
   "id": "aeba911e",
   "metadata": {},
   "outputs": [],
   "source": [
    "for comment in comments:\n",
    "    if isinstance(comment, praw.models.MoreComments):\n",
    "        continue\n",
    "    comment_dict = {\n",
    "        'title': submission.title,\n",
    "        'body': comment.body,\n",
    "    }\n",
    "    comment_list.append(comment_dict)"
   ]
  },
  {
   "cell_type": "code",
   "execution_count": 13,
   "id": "afe72574",
   "metadata": {},
   "outputs": [],
   "source": [
    "df = pd.DataFrame(comment_list, columns=['title', 'body'])"
   ]
  },
  {
   "cell_type": "code",
   "execution_count": 14,
   "id": "be6d55eb",
   "metadata": {},
   "outputs": [],
   "source": [
    "df.title = \"The Little Mermaid makes Disney history as most viewed trailer with thousands of dislikes - ScreenNearYou\""
   ]
  },
  {
   "cell_type": "code",
   "execution_count": 15,
   "id": "1286760d",
   "metadata": {},
   "outputs": [],
   "source": [
    "df.to_csv(\"data/xdgviq.csv\",index=False, encoding='utf-8-sig')"
   ]
  },
  {
   "cell_type": "code",
   "execution_count": 16,
   "id": "fd1545f6",
   "metadata": {},
   "outputs": [
    {
     "data": {
      "text/html": [
       "<div>\n",
       "<style scoped>\n",
       "    .dataframe tbody tr th:only-of-type {\n",
       "        vertical-align: middle;\n",
       "    }\n",
       "\n",
       "    .dataframe tbody tr th {\n",
       "        vertical-align: top;\n",
       "    }\n",
       "\n",
       "    .dataframe thead th {\n",
       "        text-align: right;\n",
       "    }\n",
       "</style>\n",
       "<table border=\"1\" class=\"dataframe\">\n",
       "  <thead>\n",
       "    <tr style=\"text-align: right;\">\n",
       "      <th></th>\n",
       "      <th>title</th>\n",
       "      <th>body</th>\n",
       "    </tr>\n",
       "  </thead>\n",
       "  <tbody>\n",
       "    <tr>\n",
       "      <th>0</th>\n",
       "      <td>The Little Mermaid makes Disney history as mos...</td>\n",
       "      <td>Everyone that calls black people existing \"wok...</td>\n",
       "    </tr>\n",
       "    <tr>\n",
       "      <th>1</th>\n",
       "      <td>The Little Mermaid makes Disney history as mos...</td>\n",
       "      <td>I thought YouTube removed (visible) dislikes</td>\n",
       "    </tr>\n",
       "    <tr>\n",
       "      <th>2</th>\n",
       "      <td>The Little Mermaid makes Disney history as mos...</td>\n",
       "      <td>I honestly don't care who is playing ariel. I ...</td>\n",
       "    </tr>\n",
       "    <tr>\n",
       "      <th>3</th>\n",
       "      <td>The Little Mermaid makes Disney history as mos...</td>\n",
       "      <td>So my dumb ass kept hearing that Halle Berry w...</td>\n",
       "    </tr>\n",
       "    <tr>\n",
       "      <th>4</th>\n",
       "      <td>The Little Mermaid makes Disney history as mos...</td>\n",
       "      <td>I don't care much about the race swap as much ...</td>\n",
       "    </tr>\n",
       "    <tr>\n",
       "      <th>...</th>\n",
       "      <td>...</td>\n",
       "      <td>...</td>\n",
       "    </tr>\n",
       "    <tr>\n",
       "      <th>5454</th>\n",
       "      <td>The Little Mermaid makes Disney history as mos...</td>\n",
       "      <td>Because it is an adaptation. You adapt.\\n\\nI g...</td>\n",
       "    </tr>\n",
       "    <tr>\n",
       "      <th>5455</th>\n",
       "      <td>The Little Mermaid makes Disney history as mos...</td>\n",
       "      <td>Isn't the point of an adaptation to change thi...</td>\n",
       "    </tr>\n",
       "    <tr>\n",
       "      <th>5456</th>\n",
       "      <td>The Little Mermaid makes Disney history as mos...</td>\n",
       "      <td>The point of an adaptation is to translate a w...</td>\n",
       "    </tr>\n",
       "    <tr>\n",
       "      <th>5457</th>\n",
       "      <td>The Little Mermaid makes Disney history as mos...</td>\n",
       "      <td>I don't understand why you're not just as crit...</td>\n",
       "    </tr>\n",
       "    <tr>\n",
       "      <th>5458</th>\n",
       "      <td>The Little Mermaid makes Disney history as mos...</td>\n",
       "      <td>As i repeat, i argue that, if you are making a...</td>\n",
       "    </tr>\n",
       "  </tbody>\n",
       "</table>\n",
       "<p>5459 rows × 2 columns</p>\n",
       "</div>"
      ],
      "text/plain": [
       "                                                  title  \\\n",
       "0     The Little Mermaid makes Disney history as mos...   \n",
       "1     The Little Mermaid makes Disney history as mos...   \n",
       "2     The Little Mermaid makes Disney history as mos...   \n",
       "3     The Little Mermaid makes Disney history as mos...   \n",
       "4     The Little Mermaid makes Disney history as mos...   \n",
       "...                                                 ...   \n",
       "5454  The Little Mermaid makes Disney history as mos...   \n",
       "5455  The Little Mermaid makes Disney history as mos...   \n",
       "5456  The Little Mermaid makes Disney history as mos...   \n",
       "5457  The Little Mermaid makes Disney history as mos...   \n",
       "5458  The Little Mermaid makes Disney history as mos...   \n",
       "\n",
       "                                                   body  \n",
       "0     Everyone that calls black people existing \"wok...  \n",
       "1          I thought YouTube removed (visible) dislikes  \n",
       "2     I honestly don't care who is playing ariel. I ...  \n",
       "3     So my dumb ass kept hearing that Halle Berry w...  \n",
       "4     I don't care much about the race swap as much ...  \n",
       "...                                                 ...  \n",
       "5454  Because it is an adaptation. You adapt.\\n\\nI g...  \n",
       "5455  Isn't the point of an adaptation to change thi...  \n",
       "5456  The point of an adaptation is to translate a w...  \n",
       "5457  I don't understand why you're not just as crit...  \n",
       "5458  As i repeat, i argue that, if you are making a...  \n",
       "\n",
       "[5459 rows x 2 columns]"
      ]
     },
     "execution_count": 16,
     "metadata": {},
     "output_type": "execute_result"
    }
   ],
   "source": [
    "df"
   ]
  },
  {
   "cell_type": "markdown",
   "id": "184a3723",
   "metadata": {},
   "source": [
    "# 개봉 후 리뷰 데이터"
   ]
  },
  {
   "cell_type": "markdown",
   "id": "2415fa5e",
   "metadata": {},
   "source": [
    "## rotten tomato"
   ]
  },
  {
   "cell_type": "code",
   "execution_count": 1,
   "id": "7738355e",
   "metadata": {
    "scrolled": true
   },
   "outputs": [
    {
     "name": "stdout",
     "output_type": "stream",
     "text": [
      "             Reviewer  Rating  \\\n",
      "0        Doris Hecker       5   \n",
      "1              JARPER       5   \n",
      "2              tara h       5   \n",
      "3              Tracey       5   \n",
      "4        witallsmiles       5   \n",
      "...               ...     ...   \n",
      "4211            Brady       5   \n",
      "4212         Daniel K       3   \n",
      "4213  Robert E. Acuna       4   \n",
      "4214      Alejandrina       4   \n",
      "4215           Daniel       3   \n",
      "\n",
      "                                            Review Text  \n",
      "0     A definite must see Movie !!! Alot of differen...  \n",
      "1     Less songs and more excitement. The new versio...  \n",
      "2     It was soooo good,  visual effects were amazin...  \n",
      "3                               The movie was excellent  \n",
      "4                   It was just like the animated movie  \n",
      "...                                                 ...  \n",
      "4211  Fantastic film which lived up to my expectations!  \n",
      "4212  The animated version was much better! The roma...  \n",
      "4213  Son of a fish, this Disney remake actually sla...  \n",
      "4214  CGI was a little off but other than that great...  \n",
      "4215  Good family movie. Pays good tribute to classi...  \n",
      "\n",
      "[4216 rows x 3 columns]\n"
     ]
    }
   ],
   "source": [
    "import time\n",
    "import requests\n",
    "from bs4 import BeautifulSoup\n",
    "import pandas as pd\n",
    "from selenium import webdriver\n",
    "from selenium.webdriver.chrome.service import Service\n",
    "from selenium.webdriver.common.by import By\n",
    "from selenium.webdriver.support.ui import WebDriverWait\n",
    "from selenium.webdriver.support import expected_conditions as EC\n",
    "\n",
    "# Chrome 드라이버 경로 설정\n",
    "chrome_driver_path = '/Users/jyngho/Desktop/주피터 /🔴텍스트데이터분석/3주/chromedriver_mac_arm64/chromedriver' \n",
    "\n",
    "# Selenium 서비스 시작\n",
    "selenium_service = Service(chrome_driver_path)\n",
    "selenium_service.start()\n",
    "\n",
    "# Chrome 옵션 설정\n",
    "chrome_options = webdriver.ChromeOptions()\n",
    "chrome_options.add_argument('--headless')  # 브라우저 창을 띄우지 않고 실행 (headless 모드)\n",
    "chrome_options.add_argument('--disable-gpu')  # GPU 가속 사용 안 함\n",
    "\n",
    "# Chrome 웹 드라이버 시작\n",
    "driver = webdriver.Chrome(service=selenium_service, options=chrome_options)\n",
    "\n",
    "# 영화 리뷰 페이지 URL\n",
    "url = \"https://www.rottentomatoes.com/m/the_little_mermaid_2023/reviews?type=verified_audience\"\n",
    "\n",
    "# 페이지 요청\n",
    "driver.get(url)\n",
    "\n",
    "# 리뷰 정보를 저장할 리스트 생성\n",
    "review_list = []\n",
    "\n",
    "while True:\n",
    "    # 페이지의 HTML 내용을 파싱\n",
    "    soup = BeautifulSoup(driver.page_source, \"html.parser\")\n",
    "\n",
    "    # 리뷰 요소 추출\n",
    "    reviews = soup.find_all(\"div\", class_=\"audience-review-row\")\n",
    "\n",
    "    # 각 리뷰 정보 추출\n",
    "    for review in reviews:\n",
    "        reviewer_element = review.find(\"span\", class_=\"audience-reviews__name\")\n",
    "        rating_element = review.find_all(\"span\", class_=\"star-display__filled\")\n",
    "        review_text_element = review.find(\"p\", class_=\"audience-reviews__review\")\n",
    "\n",
    "        # 리뷰 요소가 존재하지 않는 경우 건너뜁니다.\n",
    "        if reviewer_element is None or rating_element is None or review_text_element is None:\n",
    "            continue\n",
    "\n",
    "        reviewer = reviewer_element.text.strip()\n",
    "        rating = len(list(rating_element))\n",
    "        review_text = review_text_element.text.strip()\n",
    "\n",
    "        review_info = {\n",
    "            \"Reviewer\": reviewer,\n",
    "            \"Rating\": rating,\n",
    "            \"Review Text\": review_text\n",
    "        }\n",
    "\n",
    "        review_list.append(review_info)\n",
    "\n",
    "    # \"Next\" 버튼 클릭\n",
    "    try:\n",
    "        elm = WebDriverWait(driver, 3).until(\n",
    "            EC.element_to_be_clickable((By.CLASS_NAME, \"next\"))\n",
    "        )\n",
    "        if 'inactive' in elm.get_attribute('class'):\n",
    "            break\n",
    "        elm.click()\n",
    "    except:\n",
    "        break\n",
    "\n",
    "    time.sleep(3)  # 로딩 대기를 위한 시간 지연\n",
    "\n",
    "    # 다음 페이지로 넘어갔을 때 리뷰가 없으면 반복문 종료\n",
    "    if not reviews:\n",
    "        break\n",
    "\n",
    "# Selenium 종료\n",
    "driver.quit()\n",
    "\n",
    "# 데이터프레임 생성\n",
    "df = pd.DataFrame(review_list)\n",
    "\n",
    "# 데이터프레임 출력\n",
    "print(df)\n"
   ]
  },
  {
   "cell_type": "code",
   "execution_count": 2,
   "id": "0237b34d",
   "metadata": {},
   "outputs": [],
   "source": [
    "df.to_csv(\"data/인어공주rottentomato리뷰.csv\",index=False,encoding='utf-8-sig')"
   ]
  },
  {
   "cell_type": "markdown",
   "id": "1ea907de",
   "metadata": {},
   "source": [
    "## idmb"
   ]
  },
  {
   "cell_type": "code",
   "execution_count": 3,
   "id": "4dd394b9",
   "metadata": {},
   "outputs": [
    {
     "name": "stderr",
     "output_type": "stream",
     "text": [
      "/var/folders/40/19xj7dj12jjgf4t5_xj3xdsr0000gn/T/ipykernel_25553/4177208760.py:18: DeprecationWarning: executable_path has been deprecated, please pass in a Service object\n",
      "  driver = webdriver.Chrome(executable_path=driver_path, options=options)\n"
     ]
    },
    {
     "name": "stdout",
     "output_type": "stream",
     "text": [
      "                                                    제목    평점  \\\n",
      "0    WHY WHY WHY DISNEY? DO YOU KEEP MAKING LIVE AC...     6   \n",
      "1                                    It's hard to rate     6   \n",
      "2                  A Shallow Dive That Missed its Mark     6   \n",
      "3                           Uninspired, disappointing.     2   \n",
      "4                                      Dark and Gloomy  None   \n",
      "..                                                 ...   ...   \n",
      "865   Fantastic! A must see in 3- D on the big screen!    10   \n",
      "866                                     Beautiful film     9   \n",
      "867   Definitely one of the better live action remakes     8   \n",
      "868              Not PERFECT but Best Live Action Yet!     9   \n",
      "869                             Disney's best one yet!     9   \n",
      "\n",
      "                                                    내용  \n",
      "0    You'd think a company like Disney with the amo...  \n",
      "1    I went to see this movie with the attitude tha...  \n",
      "2    This live action remake was a disappointing at...  \n",
      "3    I saw this movie openining night. I have alway...  \n",
      "4    No excitement or joy. Maybe the movie was rush...  \n",
      "..                                                 ...  \n",
      "865  Halle Bailey is Fantastic. Her singing gave me...  \n",
      "866  2 out of 12 found this helpful. Was this revie...  \n",
      "867  Flounder lost his charm but I never really lik...  \n",
      "868  A lot of people are being hard on this movie b...  \n",
      "869  This could be Disney's best action remake yet....  \n",
      "\n",
      "[870 rows x 3 columns]\n"
     ]
    }
   ],
   "source": [
    "import time\n",
    "import pandas as pd\n",
    "from selenium import webdriver\n",
    "from selenium.webdriver.common.by import By\n",
    "from selenium.webdriver.support import expected_conditions as EC\n",
    "from selenium.webdriver.support.ui import WebDriverWait\n",
    "\n",
    "# Chrome 드라이버 실행 경로 설정\n",
    "driver_path = '/Users/jyngho/Desktop/주피터 /🔴텍스트데이터분석/3주/chromedriver_mac_arm64'  # 자신의 Chrome 드라이버 실행 경로로 변경해주세요\n",
    "\n",
    "# Chrome 드라이버 옵션 설정\n",
    "options = webdriver.ChromeOptions()\n",
    "options.add_argument('--headless')  # 브라우저 창을 열지 않고 실행 (headless 모드)\n",
    "options.add_argument('--no-sandbox')\n",
    "options.add_argument('--disable-dev-shm-usage')\n",
    "\n",
    "# Chrome 드라이버 실행\n",
    "driver = webdriver.Chrome(executable_path=driver_path, options=options)\n",
    "\n",
    "# IMDb 리뷰 페이지 접속\n",
    "url = 'https://www.imdb.com/title/tt5971474/reviews/?ref_=tt_ov_rt'\n",
    "driver.get(url)\n",
    "\n",
    "# \"Load More\" 버튼을 클릭하여 모든 리뷰 로딩\n",
    "while True:\n",
    "    try:\n",
    "        load_more_button = WebDriverWait(driver, 3).until(\n",
    "            EC.element_to_be_clickable((By.XPATH, \"//button[@id='load-more-trigger']\"))\n",
    "        )\n",
    "        load_more_button.click()\n",
    "        time.sleep(3)  # 로딩 대기를 위한 시간 지연\n",
    "    except:\n",
    "        break\n",
    "\n",
    "# 리뷰 요소를 찾아서 추출\n",
    "reviews = driver.find_elements(By.XPATH, \"//div[@class='text show-more__control']\")\n",
    "\n",
    "# 추출한 정보를 저장할 리스트 생성\n",
    "data = []\n",
    "\n",
    "# 각 리뷰에서 필요한 정보를 추출하고 리스트에 추가\n",
    "\n",
    "reviews = driver.find_elements(By.XPATH, \"//div[@class='review-container']\")\n",
    "for review in reviews:\n",
    "    title = review.find_element(By.XPATH, \".//a[@class='title']\").text.strip()\n",
    "    rating_elements = review.find_elements(By.XPATH, \".//span[contains(@class, 'rating-other-user-rating')]\")\n",
    "    rating = rating_elements[0].find_element(By.XPATH, \".//span\").text.strip() if rating_elements else None\n",
    "\n",
    "    content = review.find_element(By.XPATH, \".//div[contains(@class, 'text')]\").text.strip()\n",
    "\n",
    "    data.append({'제목': title, '평점': rating, '내용': content})\n",
    "\n",
    "# Chrome 드라이버 종료\n",
    "driver.quit()\n",
    "\n",
    "# 데이터프레임 생성\n",
    "df = pd.DataFrame(data)\n",
    "\n",
    "# 데이터프레임 출력\n",
    "print(df)\n"
   ]
  },
  {
   "cell_type": "code",
   "execution_count": 4,
   "id": "eb918b6a",
   "metadata": {},
   "outputs": [],
   "source": [
    "df.to_csv('data/imdb리뷰.csv', index=False, encoding='utf-8-sig')"
   ]
  }
 ],
 "metadata": {
  "kernelspec": {
   "display_name": "text",
   "language": "python",
   "name": "text"
  },
  "language_info": {
   "codemirror_mode": {
    "name": "ipython",
    "version": 3
   },
   "file_extension": ".py",
   "mimetype": "text/x-python",
   "name": "python",
   "nbconvert_exporter": "python",
   "pygments_lexer": "ipython3",
   "version": "3.8.11"
  },
  "toc": {
   "base_numbering": 1,
   "nav_menu": {},
   "number_sections": true,
   "sideBar": true,
   "skip_h1_title": false,
   "title_cell": "Table of Contents",
   "title_sidebar": "Contents",
   "toc_cell": false,
   "toc_position": {
    "height": "560px",
    "left": "29px",
    "top": "231px",
    "width": "248.852px"
   },
   "toc_section_display": true,
   "toc_window_display": true
  }
 },
 "nbformat": 4,
 "nbformat_minor": 5
}
