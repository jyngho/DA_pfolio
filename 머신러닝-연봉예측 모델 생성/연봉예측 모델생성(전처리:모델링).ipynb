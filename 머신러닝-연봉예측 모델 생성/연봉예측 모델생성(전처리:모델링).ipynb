{
 "cells": [
  {
   "cell_type": "markdown",
   "id": "51488ded",
   "metadata": {},
   "source": [
    "# 연봉예측 머신러닝 모델 생성"
   ]
  },
  {
   "cell_type": "markdown",
   "id": "c9a91737",
   "metadata": {},
   "source": [
    "**개요**  \n",
    "학과수업 “머신러닝” 기말과제   \n",
    "연봉예측 머신러닝 모델 개발 및  캐글 private leaderboard 컴페티션 진행 \n",
    "\n",
    "\n",
    "**데이터**  \n",
    "기업제공 인사정보 데이터\n",
    "\n",
    "**역할**  \n",
    "조장역할  \n",
    "컬럼 전처리(직무태그, 세부직종, 어학시험, 자격증)  \n",
    "GridSeach 이용 파라미터 세부조정  \n",
    "\n",
    "**진행세부내용**   \n",
    "1.각 컬럼 전처리  \n",
    "2.파이프라인을 통한 세부 처리 과정(정규화, 범주형/연속형 분리, 인코딩)간소화  \n",
    "3.예측모델 Catboost 사용, 평가척도 RMSE  \n",
    "4.Papermill 코드를 통한 파라미터 세부조작  \n",
    "5.power mean ensemble을 통해 각 submission 앙상블   "
   ]
  },
  {
   "cell_type": "markdown",
   "id": "df17de4f",
   "metadata": {},
   "source": [
    "# import"
   ]
  },
  {
   "cell_type": "code",
   "execution_count": 296,
   "id": "cadd1f99",
   "metadata": {
    "executionInfo": {
     "elapsed": 617,
     "status": "ok",
     "timestamp": 1713317908021,
     "user": {
      "displayName": "전영호",
      "userId": "17928441635701806568"
     },
     "user_tz": -540
    },
    "id": "cadd1f99",
    "scrolled": true
   },
   "outputs": [],
   "source": [
    "import numpy as np\n",
    "import pandas as pd\n",
    "import seaborn as sns\n",
    "import re\n",
    "import matplotlib.pyplot as plt\n",
    "get_ipython().run_line_magic('matplotlib', 'inline')\n",
    "pd.set_option(\"display.max_columns\", 30)\n",
    "\n",
    "import optuna\n",
    "from optuna.distributions import CategoricalDistribution, IntDistribution, FloatDistribution\n",
    "from optuna.integration import OptunaSearchCV, ShapleyImportanceEvaluator\n",
    "from optuna.integration.lightgbm import LightGBMTunerCV\n",
    "\n",
    "import sklearn\n",
    "\n",
    "from sklearn import set_config\n",
    "from sklearn.model_selection import train_test_split, cross_val_score\n",
    "from sklearn.model_selection import cross_validate, GridSearchCV, KFold\n",
    "from sklearn.decomposition import PCA\n",
    "from sklearn.compose import ColumnTransformer\n",
    "from sklearn.base import BaseEstimator, TransformerMixin\n",
    "from category_encoders import TargetEncoder, BinaryEncoder\n",
    "from sklearn.experimental import enable_iterative_imputer\n",
    "from sklearn.impute import SimpleImputer, IterativeImputer\n",
    "from sklearn.feature_selection import SelectPercentile, SelectKBest\n",
    "from sklearn.preprocessing import StandardScaler, PowerTransformer, FunctionTransformer\n",
    "from sklearn.preprocessing import OrdinalEncoder, OneHotEncoder, PolynomialFeatures\n",
    "from sklearn.metrics import mean_squared_error, roc_auc_score\n",
    "\n",
    "from sklearn.pipeline import Pipeline, make_pipeline\n",
    "\n",
    "from sklearn.svm import SVC\n",
    "from sklearn.linear_model import Ridge, Lasso\n",
    "from sklearn.linear_model import LinearRegression, LogisticRegression\n",
    "from xgboost import XGBRegressor\n",
    "from catboost import CatBoostRegressor\n",
    "from sklearn.ensemble import BaggingRegressor\n",
    "from sklearn.ensemble import RandomForestRegressor\n",
    "from sklearn.ensemble import GradientBoostingRegressor\n",
    "\n",
    "\n",
    "import warnings\n",
    "warnings.filterwarnings(\"ignore\")\n",
    "\n",
    "import klib\n",
    "from matplotlib import rc\n",
    "\n",
    "#ignore warningss\n",
    "import warnings\n",
    "warnings.filterwarnings('ignore')\n",
    "\n",
    "rc('font', family='AppleGothic')\n",
    "\n",
    "plt.rcParams['axes.unicode_minus'] = False"
   ]
  },
  {
   "cell_type": "code",
   "execution_count": 297,
   "id": "8DgGthBEg3dZ",
   "metadata": {
    "colab": {
     "base_uri": "https://localhost:8080/"
    },
    "executionInfo": {
     "elapsed": 2808,
     "status": "ok",
     "timestamp": 1713317911867,
     "user": {
      "displayName": "전영호",
      "userId": "17928441635701806568"
     },
     "user_tz": -540
    },
    "id": "8DgGthBEg3dZ",
    "outputId": "92e8dbc7-99de-4e94-ffe9-4f115c88ef21"
   },
   "outputs": [
    {
     "name": "stdout",
     "output_type": "stream",
     "text": [
      "Drive already mounted at /content/drive; to attempt to forcibly remount, call drive.mount(\"/content/drive\", force_remount=True).\n"
     ]
    }
   ],
   "source": [
    "from google.colab import drive\n",
    "drive.mount('/content/drive')"
   ]
  },
  {
   "cell_type": "code",
   "execution_count": 298,
   "id": "536578fa",
   "metadata": {
    "executionInfo": {
     "elapsed": 6,
     "status": "ok",
     "timestamp": 1713317911867,
     "user": {
      "displayName": "전영호",
      "userId": "17928441635701806568"
     },
     "user_tz": -540
    },
    "id": "536578fa",
    "scrolled": true
   },
   "outputs": [],
   "source": [
    "X_train = pd.read_csv(\"/content/drive/MyDrive/머신러닝 수업/data/X_train.csv\", encoding=\"CP949\")\n",
    "X_test = pd.read_csv(\"/content/drive/MyDrive/머신러닝 수업/data/X_test.csv\", encoding=\"CP949\")\n",
    "y_train = pd.read_csv(\"/content/drive/MyDrive/머신러닝 수업/data/y_train.csv\", encoding=\"CP949\")"
   ]
  },
  {
   "cell_type": "code",
   "execution_count": 299,
   "id": "PbqjR_0CkPHJ",
   "metadata": {
    "colab": {
     "base_uri": "https://localhost:8080/"
    },
    "executionInfo": {
     "elapsed": 6,
     "status": "ok",
     "timestamp": 1713317911867,
     "user": {
      "displayName": "전영호",
      "userId": "17928441635701806568"
     },
     "user_tz": -540
    },
    "id": "PbqjR_0CkPHJ",
    "outputId": "8d136508-54e4-428d-dc78-0e4dd3790526"
   },
   "outputs": [
    {
     "data": {
      "text/plain": [
       "Index(['ID', '직종', '세부직종', '직무태그', '근무경력', '근무형태', '근무지역', '출신대학', '대학전공',\n",
       "       '어학시험', '자격증', '대학성적'],\n",
       "      dtype='object')"
      ]
     },
     "execution_count": 299,
     "metadata": {},
     "output_type": "execute_result"
    }
   ],
   "source": [
    "X_train.columns"
   ]
  },
  {
   "cell_type": "code",
   "execution_count": 300,
   "id": "LfxOMjhEkSDt",
   "metadata": {
    "colab": {
     "base_uri": "https://localhost:8080/"
    },
    "executionInfo": {
     "elapsed": 3,
     "status": "ok",
     "timestamp": 1713317911867,
     "user": {
      "displayName": "전영호",
      "userId": "17928441635701806568"
     },
     "user_tz": -540
    },
    "id": "LfxOMjhEkSDt",
    "outputId": "b1bd16d8-c735-499d-bcab-4e0d84c94c88"
   },
   "outputs": [
    {
     "name": "stdout",
     "output_type": "stream",
     "text": [
      "<class 'pandas.core.frame.DataFrame'>\n",
      "RangeIndex: 16570 entries, 0 to 16569\n",
      "Data columns (total 12 columns):\n",
      " #   Column  Non-Null Count  Dtype  \n",
      "---  ------  --------------  -----  \n",
      " 0   ID      16570 non-null  object \n",
      " 1   직종      16570 non-null  object \n",
      " 2   세부직종    16570 non-null  object \n",
      " 3   직무태그    14055 non-null  object \n",
      " 4   근무경력    16570 non-null  object \n",
      " 5   근무형태    6661 non-null   object \n",
      " 6   근무지역    16570 non-null  object \n",
      " 7   출신대학    16570 non-null  object \n",
      " 8   대학전공    16570 non-null  object \n",
      " 9   어학시험    4988 non-null   object \n",
      " 10  자격증     16570 non-null  object \n",
      " 11  대학성적    14600 non-null  float64\n",
      "dtypes: float64(1), object(11)\n",
      "memory usage: 1.5+ MB\n"
     ]
    }
   ],
   "source": [
    "X_train.info()"
   ]
  },
  {
   "cell_type": "markdown",
   "id": "Ssgd86mfkOK3",
   "metadata": {
    "id": "Ssgd86mfkOK3"
   },
   "source": []
  },
  {
   "cell_type": "markdown",
   "id": "64cd26f0",
   "metadata": {},
   "source": [
    "# 전처리"
   ]
  },
  {
   "cell_type": "markdown",
   "id": "gQHTPOWbkVob",
   "metadata": {
    "id": "gQHTPOWbkVob"
   },
   "source": [
    "## 직무태그"
   ]
  },
  {
   "cell_type": "code",
   "execution_count": 301,
   "id": "5ca310f2",
   "metadata": {
    "executionInfo": {
     "elapsed": 1,
     "status": "ok",
     "timestamp": 1713317911867,
     "user": {
      "displayName": "전영호",
      "userId": "17928441635701806568"
     },
     "user_tz": -540
    },
    "id": "5ca310f2"
   },
   "outputs": [],
   "source": [
    "X_train.직무태그 = X_train.직무태그.fillna(\"기타\")"
   ]
  },
  {
   "cell_type": "code",
   "execution_count": 302,
   "id": "96dffb9e",
   "metadata": {
    "executionInfo": {
     "elapsed": 637,
     "status": "ok",
     "timestamp": 1713317912503,
     "user": {
      "displayName": "전영호",
      "userId": "17928441635701806568"
     },
     "user_tz": -540
    },
    "id": "96dffb9e",
    "scrolled": true
   },
   "outputs": [],
   "source": [
    "X_train.직무태그 = X_train.직무태그.apply(lambda x : ''.join(filter(str.isalnum, x))) #특문없애기\n",
    "X_train.직무태그 = X_train.직무태그.apply(lambda x : re.sub(r\"[0-9]\", \"\", x)) #숫자없애기\n",
    "X_train.직무태그 = X_train.직무태그.str.lower() #대문자 > 소문자\n",
    "X_train.직무태그= X_train.직무태그.replace('','기타') #빈값 기타로 변경\n",
    "X_train = X_train.sort_values(by='직무태그')"
   ]
  },
  {
   "cell_type": "code",
   "execution_count": 303,
   "id": "ed02d1c2",
   "metadata": {
    "executionInfo": {
     "elapsed": 2,
     "status": "ok",
     "timestamp": 1713317912503,
     "user": {
      "displayName": "전영호",
      "userId": "17928441635701806568"
     },
     "user_tz": -540
    },
    "id": "ed02d1c2"
   },
   "outputs": [],
   "source": [
    "#웹관련 직종 \"웹\"으로 모두 변경\n",
    "\n",
    "웹=[\"웹\",\n",
    "\"웹pd\",\n",
    "\"웹pm\",\n",
    "\"웹ui\",\n",
    "\"웹개발\",\n",
    "\"웹개발자\",\n",
    "\"웹관리\",\n",
    "\"웹기획\",\n",
    "\"웹기획과헤드헌팅을경력자\",\n",
    "\"웹기획및웹마케팅\",\n",
    "\"웹기획웹pd웹pm웹si기획\",\n",
    "\"웹기획웹마스터\",\n",
    "\"웹디자이너\",\n",
    "\"웹디자인\",\n",
    "\"웹디자인게임사이트프로모션\",\n",
    "\"웹디자인플래쉬일러스트레이터포토샵드림위버디자이너\",\n",
    "\"웹디지인\",\n",
    "\"웹마스타\",\n",
    "\"웹마스터\",\n",
    "\"웹마케팅\",\n",
    "\"웹사이트관리\",\n",
    "\"웹사이트기획\",\n",
    "\"웹사이트운영\",\n",
    "\"웹사이트운영관리\",\n",
    "\"웹사이트운영및관리\",\n",
    "\"웹서버관리\",\n",
    "\"웹서비스\",\n",
    "\"웹서비스기획\",\n",
    "\"웹솔루션\",\n",
    "\"웹어플리케이션개발\",\n",
    "\"웹에이전시\",\n",
    "\"웹에이젼시\",\n",
    "\"웹프로\",\n",
    "\"웹프로그래머\",\n",
    "\"웹프로그래머asp\",\n",
    "\"웹프로그래머web\",\n",
    "\"웹프로그래밍\",\n",
    "\"웹프로그램\",\n",
    "\"웹프로그램java\",\n",
    "\"웹프로그램머\",\n",
    "\"웹프로그램머한규\"]"
   ]
  },
  {
   "cell_type": "code",
   "execution_count": 304,
   "id": "da4fc79d",
   "metadata": {
    "executionInfo": {
     "elapsed": 2,
     "status": "ok",
     "timestamp": 1713317912503,
     "user": {
      "displayName": "전영호",
      "userId": "17928441635701806568"
     },
     "user_tz": -540
    },
    "id": "da4fc79d"
   },
   "outputs": [],
   "source": [
    "X_train.직무태그 = X_train.직무태그.replace(웹,'웹')"
   ]
  },
  {
   "cell_type": "code",
   "execution_count": 305,
   "id": "075e5638",
   "metadata": {
    "executionInfo": {
     "elapsed": 2,
     "status": "ok",
     "timestamp": 1713317912503,
     "user": {
      "displayName": "전영호",
      "userId": "17928441635701806568"
     },
     "user_tz": -540
    },
    "id": "075e5638"
   },
   "outputs": [],
   "source": [
    "X_train.직무태그 = X_train.직무태그.str.split('').str[1:3].str.join('') #앞 두 글자만 분류"
   ]
  },
  {
   "cell_type": "code",
   "execution_count": 306,
   "id": "2bdb1845",
   "metadata": {
    "executionInfo": {
     "elapsed": 2,
     "status": "ok",
     "timestamp": 1713317912503,
     "user": {
      "displayName": "전영호",
      "userId": "17928441635701806568"
     },
     "user_tz": -540
    },
    "id": "2bdb1845"
   },
   "outputs": [],
   "source": [
    "train직무=pd.DataFrame(X_train.직무태그.value_counts()).reset_index()"
   ]
  },
  {
   "cell_type": "code",
   "execution_count": 307,
   "id": "e64419b4",
   "metadata": {
    "executionInfo": {
     "elapsed": 2,
     "status": "ok",
     "timestamp": 1713317912503,
     "user": {
      "displayName": "전영호",
      "userId": "17928441635701806568"
     },
     "user_tz": -540
    },
    "id": "e64419b4"
   },
   "outputs": [],
   "source": [
    "train직무리스트=list(train직무[train직무['count'] == 1]['직무태그'])"
   ]
  },
  {
   "cell_type": "code",
   "execution_count": 308,
   "id": "77a8c5bb",
   "metadata": {
    "executionInfo": {
     "elapsed": 3075,
     "status": "ok",
     "timestamp": 1713317915576,
     "user": {
      "displayName": "전영호",
      "userId": "17928441635701806568"
     },
     "user_tz": -540
    },
    "id": "77a8c5bb"
   },
   "outputs": [],
   "source": [
    "for i in range(len(X_train)):\n",
    "    if X_train.loc[i]['직무태그'] in train직무리스트 :\n",
    "        X_train.loc[i,'직무태그'] = '기타'"
   ]
  },
  {
   "cell_type": "code",
   "execution_count": 309,
   "id": "f0053643",
   "metadata": {
    "executionInfo": {
     "elapsed": 2,
     "status": "ok",
     "timestamp": 1713317915576,
     "user": {
      "displayName": "전영호",
      "userId": "17928441635701806568"
     },
     "user_tz": -540
    },
    "id": "f0053643"
   },
   "outputs": [],
   "source": [
    "# test직무태그"
   ]
  },
  {
   "cell_type": "code",
   "execution_count": 310,
   "id": "48f9c383",
   "metadata": {
    "executionInfo": {
     "elapsed": 3,
     "status": "ok",
     "timestamp": 1713317915577,
     "user": {
      "displayName": "전영호",
      "userId": "17928441635701806568"
     },
     "user_tz": -540
    },
    "id": "48f9c383"
   },
   "outputs": [],
   "source": [
    "X_test.직무태그 = X_test.직무태그.fillna(\"기타\")\n",
    "X_test.직무태그 = X_test.직무태그.str.split(',').str[0]\n",
    "X_test.직무태그 = X_test.직무태그.apply(lambda x : ''.join(filter(str.isalnum, x))) #특문없애기\n",
    "X_test.직무태그 = X_test.직무태그.apply(lambda x : re.sub(r\"[0-9]\", \"\", x)) #숫자없애기\n",
    "X_test.직무태그 = X_test.직무태그.str.lower() #대문자 > 소문자\n",
    "X_test.직무태그= X_test.직무태그.replace('','기타') #빈값 기타로 변경\n",
    "X_test = X_test.sort_values(by='직무태그')\n",
    "#pd.DataFrame(list(X_test.직무태그.unique())).to_csv(\"test직무태그.csv\", encoding=\"CP949\") #엑셀로 종류 자세히 확인"
   ]
  },
  {
   "cell_type": "code",
   "execution_count": 311,
   "id": "17550b6b",
   "metadata": {
    "executionInfo": {
     "elapsed": 3,
     "status": "ok",
     "timestamp": 1713317915577,
     "user": {
      "displayName": "전영호",
      "userId": "17928441635701806568"
     },
     "user_tz": -540
    },
    "id": "17550b6b"
   },
   "outputs": [],
   "source": [
    "웹2=[\"웹\",\n",
    "\"웹md\",\n",
    "\"웹pd\",\n",
    "\"웹ui\",\n",
    "\"웹개발\",\n",
    "\"웹기획\",\n",
    "\"웹기획마케팅\",\n",
    "\"웹기획및개발기획\",\n",
    "\"웹기획웹프로젝트어린이사이트교육컨텐츠대입사이트\",\n",
    "\"웹기획이벤트및서비스\",\n",
    "\"웹디자이너\",\n",
    "\"웹디자인\",\n",
    "\"웹디자인디자이너플래셔플래시\",\n",
    "\"웹마스터\",\n",
    "\"웹마스터linux\",\n",
    "\"웹마케팅\",\n",
    "\"웹사이트운영\",\n",
    "\"웹서버관리asp\",\n",
    "\"웹서비스기획\",\n",
    "\"웹서퍼\",\n",
    "\"웹컨텐츠기획및개발\",\n",
    "\"웹퍼블리셔\",\n",
    "\"웹프로그래머\",\n",
    "\"웹프로그래머jsp서블릿일본어\",\n",
    "\"웹프로그래밍\",\n",
    "\"웹프로그래밍asp\",\n",
    "\"웹프로그램\",\n",
    "\"웹프로그램개발\",\n",
    "\"웹프로그램어\",\n",
    "\"웹프로래머\",\n",
    "\"웹프로모션\"]"
   ]
  },
  {
   "cell_type": "code",
   "execution_count": 312,
   "id": "8da24a92",
   "metadata": {
    "executionInfo": {
     "elapsed": 3,
     "status": "ok",
     "timestamp": 1713317915577,
     "user": {
      "displayName": "전영호",
      "userId": "17928441635701806568"
     },
     "user_tz": -540
    },
    "id": "8da24a92"
   },
   "outputs": [],
   "source": [
    "X_test.직무태그 = X_test.직무태그.replace(웹,'웹')\n",
    "X_test.직무태그 = X_test.직무태그.str.split('').str[1:3].str.join('') #앞 두 글자만 분류"
   ]
  },
  {
   "cell_type": "code",
   "execution_count": 313,
   "id": "4c0e6017",
   "metadata": {
    "executionInfo": {
     "elapsed": 3,
     "status": "ok",
     "timestamp": 1713317915577,
     "user": {
      "displayName": "전영호",
      "userId": "17928441635701806568"
     },
     "user_tz": -540
    },
    "id": "4c0e6017"
   },
   "outputs": [],
   "source": [
    "test직무=pd.DataFrame(X_test.직무태그.value_counts()).reset_index()"
   ]
  },
  {
   "cell_type": "code",
   "execution_count": 314,
   "id": "ede70521",
   "metadata": {
    "executionInfo": {
     "elapsed": 2,
     "status": "ok",
     "timestamp": 1713317915577,
     "user": {
      "displayName": "전영호",
      "userId": "17928441635701806568"
     },
     "user_tz": -540
    },
    "id": "ede70521"
   },
   "outputs": [],
   "source": [
    "test직무리스트=list(test직무[test직무['count'] == 1]['직무태그'])"
   ]
  },
  {
   "cell_type": "code",
   "execution_count": 315,
   "id": "e989b1b3",
   "metadata": {
    "executionInfo": {
     "elapsed": 2211,
     "status": "ok",
     "timestamp": 1713317917786,
     "user": {
      "displayName": "전영호",
      "userId": "17928441635701806568"
     },
     "user_tz": -540
    },
    "id": "e989b1b3"
   },
   "outputs": [],
   "source": [
    "for i in range(len(X_test)):\n",
    "    if X_test.loc[i]['직무태그'] in test직무리스트 :\n",
    "        X_test.loc[i,'직무태그'] = '기타'"
   ]
  },
  {
   "cell_type": "markdown",
   "id": "d16d6d37",
   "metadata": {
    "id": "d16d6d37"
   },
   "source": [
    "## 어학시험"
   ]
  },
  {
   "cell_type": "code",
   "execution_count": 316,
   "id": "6c78d78a",
   "metadata": {
    "executionInfo": {
     "elapsed": 9,
     "status": "ok",
     "timestamp": 1713317917786,
     "user": {
      "displayName": "전영호",
      "userId": "17928441635701806568"
     },
     "user_tz": -540
    },
    "id": "6c78d78a"
   },
   "outputs": [],
   "source": [
    "# 어학시험 train"
   ]
  },
  {
   "cell_type": "code",
   "execution_count": 317,
   "id": "fb9fcde4",
   "metadata": {
    "colab": {
     "base_uri": "https://localhost:8080/"
    },
    "executionInfo": {
     "elapsed": 9,
     "status": "ok",
     "timestamp": 1713317917786,
     "user": {
      "displayName": "전영호",
      "userId": "17928441635701806568"
     },
     "user_tz": -540
    },
    "id": "fb9fcde4",
    "outputId": "8458bcad-958e-4c10-c33c-e5aa469e2c36"
   },
   "outputs": [
    {
     "data": {
      "text/plain": [
       "어학시험\n",
       "TOEIC             2767\n",
       "                  1298\n",
       "JLPT               289\n",
       "HSK                197\n",
       "JPT                108\n",
       "TOEFL               80\n",
       "기타                  48\n",
       "OPIc                43\n",
       "TEPS                27\n",
       "TOEIC Speaking      22\n",
       "IELTS               22\n",
       "TOEFL-CBT           21\n",
       "G-TELP              19\n",
       "JTRA                 9\n",
       "기타시험                 9\n",
       "TOEFL-IBT            8\n",
       "新HSK                 7\n",
       "SEPT                 3\n",
       "TOEFL-PBT            3\n",
       "G-ETAT               2\n",
       "G-TELP(GLT)          1\n",
       "DELF                 1\n",
       "OPI                  1\n",
       "GRE                  1\n",
       "DALF                 1\n",
       "TOEIC S&W            1\n",
       "Name: count, dtype: int64"
      ]
     },
     "execution_count": 317,
     "metadata": {},
     "output_type": "execute_result"
    }
   ],
   "source": [
    "X_train.어학시험.value_counts()"
   ]
  },
  {
   "cell_type": "code",
   "execution_count": 318,
   "id": "35351e8c",
   "metadata": {
    "executionInfo": {
     "elapsed": 6,
     "status": "ok",
     "timestamp": 1713317917786,
     "user": {
      "displayName": "전영호",
      "userId": "17928441635701806568"
     },
     "user_tz": -540
    },
    "id": "35351e8c"
   },
   "outputs": [],
   "source": [
    "X_train.어학시험 = X_train.어학시험.replace(' ','없음')"
   ]
  },
  {
   "cell_type": "code",
   "execution_count": 319,
   "id": "fcb9d5af",
   "metadata": {
    "executionInfo": {
     "elapsed": 6,
     "status": "ok",
     "timestamp": 1713317917786,
     "user": {
      "displayName": "전영호",
      "userId": "17928441635701806568"
     },
     "user_tz": -540
    },
    "id": "fcb9d5af"
   },
   "outputs": [],
   "source": [
    "X_train.어학시험 = X_train.어학시험.fillna('없음')"
   ]
  },
  {
   "cell_type": "code",
   "execution_count": 320,
   "id": "1a5b0f42",
   "metadata": {
    "executionInfo": {
     "elapsed": 6,
     "status": "ok",
     "timestamp": 1713317917786,
     "user": {
      "displayName": "전영호",
      "userId": "17928441635701806568"
     },
     "user_tz": -540
    },
    "id": "1a5b0f42"
   },
   "outputs": [],
   "source": [
    "c=pd.DataFrame(X_train.어학시험.value_counts()).reset_index()"
   ]
  },
  {
   "cell_type": "code",
   "execution_count": 321,
   "id": "391c07f5",
   "metadata": {
    "executionInfo": {
     "elapsed": 6,
     "status": "ok",
     "timestamp": 1713317917786,
     "user": {
      "displayName": "전영호",
      "userId": "17928441635701806568"
     },
     "user_tz": -540
    },
    "id": "391c07f5",
    "scrolled": true
   },
   "outputs": [],
   "source": [
    "어학시험10미만=list(c[c['count'] < 10].어학시험)"
   ]
  },
  {
   "cell_type": "code",
   "execution_count": 322,
   "id": "677789fa",
   "metadata": {
    "executionInfo": {
     "elapsed": 6,
     "status": "ok",
     "timestamp": 1713317917786,
     "user": {
      "displayName": "전영호",
      "userId": "17928441635701806568"
     },
     "user_tz": -540
    },
    "id": "677789fa"
   },
   "outputs": [],
   "source": [
    "X_train.어학시험 = X_train.어학시험.replace(어학시험10미만,'기타')"
   ]
  },
  {
   "cell_type": "code",
   "execution_count": 323,
   "id": "d3fe07e1",
   "metadata": {
    "executionInfo": {
     "elapsed": 6,
     "status": "ok",
     "timestamp": 1713317917786,
     "user": {
      "displayName": "전영호",
      "userId": "17928441635701806568"
     },
     "user_tz": -540
    },
    "id": "d3fe07e1"
   },
   "outputs": [],
   "source": [
    "# 어학시험 test"
   ]
  },
  {
   "cell_type": "code",
   "execution_count": 324,
   "id": "9bdcffe4",
   "metadata": {
    "executionInfo": {
     "elapsed": 6,
     "status": "ok",
     "timestamp": 1713317917786,
     "user": {
      "displayName": "전영호",
      "userId": "17928441635701806568"
     },
     "user_tz": -540
    },
    "id": "9bdcffe4"
   },
   "outputs": [],
   "source": [
    "X_test.어학시험 = X_test.어학시험.replace(' ','없음')\n",
    "X_test.어학시험 = X_test.어학시험.fillna('없음')\n",
    "c=pd.DataFrame(X_test.어학시험.value_counts()).reset_index()\n",
    "어학시험10미만=list(c[c['count'] < 10].어학시험)\n",
    "X_test.어학시험 = X_test.어학시험.replace(어학시험10미만,'기타')"
   ]
  },
  {
   "cell_type": "markdown",
   "id": "46ce41c7",
   "metadata": {
    "id": "46ce41c7"
   },
   "source": [
    "## 근무형태"
   ]
  },
  {
   "cell_type": "code",
   "execution_count": 325,
   "id": "b0a59422",
   "metadata": {
    "colab": {
     "base_uri": "https://localhost:8080/"
    },
    "executionInfo": {
     "elapsed": 6,
     "status": "ok",
     "timestamp": 1713317917786,
     "user": {
      "displayName": "전영호",
      "userId": "17928441635701806568"
     },
     "user_tz": -540
    },
    "id": "b0a59422",
    "outputId": "2f7b0b94-7604-41c7-fa18-274d6855a9de",
    "scrolled": false
   },
   "outputs": [
    {
     "data": {
      "text/plain": [
       "근무형태\n",
       "NaN                                0.598008\n",
       "정규직                                0.339650\n",
       "정규직, 계약직                           0.019734\n",
       "정규직, 해외취업                          0.011648\n",
       "정규직, 계약직,                          0.003742\n",
       "계약직                                0.002957\n",
       "정규직, 계약직, 인턴                       0.002957\n",
       "정규직,                               0.002836\n",
       "정규직, 계약직, 해외취업                     0.002655\n",
       "정규직, 인턴                            0.002354\n",
       "정규직, 계약직, 파견직                      0.001811\n",
       "정규직, 계약직, 해외취업,                    0.001509\n",
       "정규직, 계약직, 해외취업, 파견직                0.000966\n",
       "정규직, 계약직, 해외취업, 파견직,               0.000785\n",
       "계약직,                               0.000785\n",
       "정규직, 계약직, 파견직,                     0.000724\n",
       "정규직, 파견직                           0.000724\n",
       "정규직, 계약직, 해외취업, 인턴                 0.000604\n",
       "정규직, 해외취업, 파견직                     0.000543\n",
       "정규직, 계약직, 인턴, 파견직                  0.000422\n",
       "정규직, 해외취업,                         0.000422\n",
       "해외취업                               0.000362\n",
       "정규직, 병역특례                          0.000302\n",
       "정규직, 계약직, 해외취업, 인턴, 파견직,           0.000302\n",
       "정규직, 해외취업, 인턴                      0.000302\n",
       "정규직, 계약직, 인턴,                      0.000302\n",
       "파견직                                0.000241\n",
       "계약직, 해외취업                          0.000241\n",
       "인턴                                 0.000241\n",
       "정규직, 파견직,                          0.000241\n",
       "정규직, 계약직, 해외취업, 인턴,                0.000181\n",
       "계약직, 파견직,                          0.000181\n",
       "정규직, 계약직, 해외취업, 인턴, 파견직            0.000181\n",
       "정규직, 해외취업, 파견직,                    0.000181\n",
       "정규직, 계약직, 인턴, 파견직,                 0.000181\n",
       "정규직, 해외취업, 병역특례                    0.000060\n",
       "정규직, 병역특례, 인턴                      0.000060\n",
       "계약직, 인턴                            0.000060\n",
       "정규직, 계약직, 해외취업, 병역특례, 인턴, 파견직,     0.000060\n",
       "계약직, 해외취업, 파견직,                    0.000060\n",
       "정규직, 인턴,                           0.000060\n",
       "병역특례                               0.000060\n",
       "인턴,                                0.000060\n",
       "계약직, 해외취업, 인턴                      0.000060\n",
       "정규직, 해외취업, 인턴, 파견직                 0.000060\n",
       "정규직, 해외취업, 인턴,                     0.000060\n",
       "계약직, 인턴,                           0.000060\n",
       "Name: proportion, dtype: float64"
      ]
     },
     "execution_count": 325,
     "metadata": {},
     "output_type": "execute_result"
    }
   ],
   "source": [
    "X_train['근무형태'].value_counts(normalize=True, dropna=False)"
   ]
  },
  {
   "cell_type": "code",
   "execution_count": 326,
   "id": "c76b7c74",
   "metadata": {
    "executionInfo": {
     "elapsed": 3,
     "status": "ok",
     "timestamp": 1713317917786,
     "user": {
      "displayName": "전영호",
      "userId": "17928441635701806568"
     },
     "user_tz": -540
    },
    "id": "c76b7c74"
   },
   "outputs": [],
   "source": [
    "# 가장 앞의 기록만 남김\n",
    "X_train['근무형태'] = X_train['근무형태'].str.split(', ').str[0]"
   ]
  },
  {
   "cell_type": "markdown",
   "id": "bf4cb40d",
   "metadata": {
    "id": "bf4cb40d"
   },
   "source": [
    "> test data도 동일하게 처리"
   ]
  },
  {
   "cell_type": "code",
   "execution_count": 327,
   "id": "7282dfba",
   "metadata": {
    "executionInfo": {
     "elapsed": 543,
     "status": "ok",
     "timestamp": 1713317918326,
     "user": {
      "displayName": "전영호",
      "userId": "17928441635701806568"
     },
     "user_tz": -540
    },
    "id": "7282dfba"
   },
   "outputs": [],
   "source": [
    "X_test['근무형태'] = X_test['근무형태'].str.split(', ').str[0]"
   ]
  },
  {
   "cell_type": "code",
   "execution_count": 328,
   "id": "9d937131",
   "metadata": {
    "colab": {
     "base_uri": "https://localhost:8080/"
    },
    "executionInfo": {
     "elapsed": 8,
     "status": "ok",
     "timestamp": 1713317918326,
     "user": {
      "displayName": "전영호",
      "userId": "17928441635701806568"
     },
     "user_tz": -540
    },
    "id": "9d937131",
    "outputId": "75dc57ab-db09-489b-ead8-9ee6fa1545ee"
   },
   "outputs": [
    {
     "data": {
      "text/plain": [
       "근무형태\n",
       "NaN     0.606173\n",
       "정규직     0.390297\n",
       "계약직     0.002625\n",
       "해외취업    0.000362\n",
       "파견직     0.000272\n",
       "인턴      0.000181\n",
       "병역특례    0.000091\n",
       "Name: proportion, dtype: float64"
      ]
     },
     "execution_count": 328,
     "metadata": {},
     "output_type": "execute_result"
    }
   ],
   "source": [
    "X_test['근무형태'].value_counts(normalize=True, dropna=False)"
   ]
  },
  {
   "cell_type": "markdown",
   "id": "430dfb87",
   "metadata": {
    "id": "430dfb87"
   },
   "source": [
    "## 근무지역"
   ]
  },
  {
   "cell_type": "code",
   "execution_count": 329,
   "id": "c1cc39d2",
   "metadata": {
    "colab": {
     "base_uri": "https://localhost:8080/"
    },
    "executionInfo": {
     "elapsed": 7,
     "status": "ok",
     "timestamp": 1713317918326,
     "user": {
      "displayName": "전영호",
      "userId": "17928441635701806568"
     },
     "user_tz": -540
    },
    "id": "c1cc39d2",
    "outputId": "9e818a14-7b56-4b2e-c589-c3e742202351"
   },
   "outputs": [
    {
     "data": {
      "text/plain": [
       "근무지역\n",
       "서울,경기,      0.136391\n",
       "서울,,        0.121243\n",
       "서울,서울,서울    0.112251\n",
       "서울,경기,인천    0.041038\n",
       "서울,서울,경기    0.031684\n",
       "              ...   \n",
       "강원,경기,기타    0.000060\n",
       "울산,서울,경남    0.000060\n",
       "해외,부산,서울    0.000060\n",
       "전북,경기,충남    0.000060\n",
       "부산,부산,경기    0.000060\n",
       "Name: proportion, Length: 1313, dtype: float64"
      ]
     },
     "execution_count": 329,
     "metadata": {},
     "output_type": "execute_result"
    }
   ],
   "source": [
    "X_train['근무지역'].value_counts(normalize=True, dropna=False)"
   ]
  },
  {
   "cell_type": "code",
   "execution_count": 330,
   "id": "2cb25aa0",
   "metadata": {
    "executionInfo": {
     "elapsed": 5,
     "status": "ok",
     "timestamp": 1713317918326,
     "user": {
      "displayName": "전영호",
      "userId": "17928441635701806568"
     },
     "user_tz": -540
    },
    "id": "2cb25aa0"
   },
   "outputs": [],
   "source": [
    "# 가장 앞의 기록만 남김\n",
    "X_train['근무지역'] = X_train['근무지역'].str.split(',').str[0]"
   ]
  },
  {
   "cell_type": "code",
   "execution_count": 331,
   "id": "ad85057d",
   "metadata": {
    "executionInfo": {
     "elapsed": 5,
     "status": "ok",
     "timestamp": 1713317918326,
     "user": {
      "displayName": "전영호",
      "userId": "17928441635701806568"
     },
     "user_tz": -540
    },
    "id": "ad85057d",
    "scrolled": false
   },
   "outputs": [],
   "source": [
    "# 해외 지역은 모두 '해외' 하나로 묶음\n",
    "abroad = ['중국','일본','미국','인도네시아','홍콩','싱가포르','대만','말레이시아','캐나다','필리핀']\n",
    "X_train['근무지역'] = X_train.replace(abroad, '해외')['근무지역']"
   ]
  },
  {
   "cell_type": "code",
   "execution_count": 332,
   "id": "9db81d47",
   "metadata": {
    "executionInfo": {
     "elapsed": 5,
     "status": "ok",
     "timestamp": 1713317918326,
     "user": {
      "displayName": "전영호",
      "userId": "17928441635701806568"
     },
     "user_tz": -540
    },
    "id": "9db81d47"
   },
   "outputs": [],
   "source": [
    "# 전국은 '기타'로\n",
    "X_train['근무지역'] = X_train.replace('전국', '기타')['근무지역']"
   ]
  },
  {
   "cell_type": "markdown",
   "id": "ea47cfbf",
   "metadata": {
    "id": "ea47cfbf"
   },
   "source": [
    "> test data도 동일하게 처리"
   ]
  },
  {
   "cell_type": "code",
   "execution_count": 333,
   "id": "e893d1b8",
   "metadata": {
    "executionInfo": {
     "elapsed": 5,
     "status": "ok",
     "timestamp": 1713317918326,
     "user": {
      "displayName": "전영호",
      "userId": "17928441635701806568"
     },
     "user_tz": -540
    },
    "id": "e893d1b8"
   },
   "outputs": [],
   "source": [
    "X_test['근무지역'] = X_test['근무지역'].str.split(',').str[0]\n",
    "X_test['근무지역'] = X_test.replace(abroad, '해외')['근무지역']\n",
    "X_test['근무지역'] = X_test.replace('전국', '기타')['근무지역']"
   ]
  },
  {
   "cell_type": "code",
   "execution_count": 334,
   "id": "df48f560",
   "metadata": {
    "colab": {
     "base_uri": "https://localhost:8080/"
    },
    "executionInfo": {
     "elapsed": 5,
     "status": "ok",
     "timestamp": 1713317918326,
     "user": {
      "displayName": "전영호",
      "userId": "17928441635701806568"
     },
     "user_tz": -540
    },
    "id": "df48f560",
    "outputId": "e62fa36a-f7e2-4196-c8a3-27b4ec9a095d"
   },
   "outputs": [
    {
     "data": {
      "text/plain": [
       "근무지역\n",
       "서울     0.766293\n",
       "경기     0.065080\n",
       "부산     0.051231\n",
       "인천     0.018012\n",
       "대전     0.017198\n",
       "해외     0.015025\n",
       "기타     0.013125\n",
       "광주     0.011586\n",
       "전북     0.009051\n",
       "충남     0.008689\n",
       "경남     0.005612\n",
       "충북     0.005612\n",
       "울산     0.002806\n",
       "제주     0.002444\n",
       "강원     0.002444\n",
       "대구     0.002172\n",
       "경북     0.002082\n",
       "전남     0.001177\n",
       "러시아    0.000181\n",
       "프랑스    0.000091\n",
       "인도     0.000091\n",
       "Name: proportion, dtype: float64"
      ]
     },
     "execution_count": 334,
     "metadata": {},
     "output_type": "execute_result"
    }
   ],
   "source": [
    "X_test['근무지역'].value_counts(normalize=True, dropna=False)"
   ]
  },
  {
   "cell_type": "code",
   "execution_count": 335,
   "id": "eb1c7167",
   "metadata": {
    "executionInfo": {
     "elapsed": 3,
     "status": "ok",
     "timestamp": 1713317918327,
     "user": {
      "displayName": "전영호",
      "userId": "17928441635701806568"
     },
     "user_tz": -540
    },
    "id": "eb1c7167"
   },
   "outputs": [],
   "source": [
    "# [러시아, 프랑스, 인도]가 train과 다름\n",
    "abroad = ['중국','일본','미국','인도네시아','홍콩','싱가포르','대만','말레이시아','캐나다','필리핀','러시아','프랑스','인도']\n",
    "X_test['근무지역'] = X_test.replace(abroad, '해외')['근무지역']"
   ]
  },
  {
   "cell_type": "markdown",
   "id": "3e13c835",
   "metadata": {
    "id": "3e13c835"
   },
   "source": [
    "## 근무경력"
   ]
  },
  {
   "cell_type": "code",
   "execution_count": 336,
   "id": "890a7c1c",
   "metadata": {
    "colab": {
     "base_uri": "https://localhost:8080/"
    },
    "executionInfo": {
     "elapsed": 625,
     "status": "ok",
     "timestamp": 1713317918949,
     "user": {
      "displayName": "전영호",
      "userId": "17928441635701806568"
     },
     "user_tz": -540
    },
    "id": "890a7c1c",
    "outputId": "adbc5692-626e-417f-fd77-513165354ce7"
   },
   "outputs": [
    {
     "data": {
      "text/plain": [
       "근무경력\n",
       "0개월        9145\n",
       "2년 11개월     281\n",
       "3년 0개월      209\n",
       "5년 1개월      190\n",
       "1년 0개월      177\n",
       "           ... \n",
       "19년 4개월       1\n",
       "21년 5개월       1\n",
       "19년 1개월       1\n",
       "26년 6개월       1\n",
       "27년 0개월       1\n",
       "Name: count, Length: 311, dtype: int64"
      ]
     },
     "execution_count": 336,
     "metadata": {},
     "output_type": "execute_result"
    }
   ],
   "source": [
    "X_train['근무경력'].value_counts(dropna=False)"
   ]
  },
  {
   "cell_type": "markdown",
   "id": "5d5fceb3",
   "metadata": {
    "id": "5d5fceb3"
   },
   "source": [
    "---\n",
    "- 연 단위에서 끊겨도 n년 0개월로 표시됨\n",
    "- 따라서 'n년 l개월', 혹은 'm개월' 밖에 없음"
   ]
  },
  {
   "cell_type": "code",
   "execution_count": 337,
   "id": "49a50269",
   "metadata": {
    "colab": {
     "base_uri": "https://localhost:8080/"
    },
    "executionInfo": {
     "elapsed": 5,
     "status": "ok",
     "timestamp": 1713317918949,
     "user": {
      "displayName": "전영호",
      "userId": "17928441635701806568"
     },
     "user_tz": -540
    },
    "id": "49a50269",
    "outputId": "eba5c02c-dc56-46b4-9162-ee5a37273816"
   },
   "outputs": [
    {
     "data": {
      "text/plain": [
       "1679     0개월\n",
       "5182     0개월\n",
       "3116     6개월\n",
       "8390     7개월\n",
       "4496     0개월\n",
       "        ... \n",
       "1097     4개월\n",
       "15843    2개월\n",
       "5385     0개월\n",
       "11019    1개월\n",
       "3137     0개월\n",
       "Name: 근무경력, Length: 16570, dtype: object"
      ]
     },
     "execution_count": 337,
     "metadata": {},
     "output_type": "execute_result"
    }
   ],
   "source": [
    "# 개월 단위 (l개월, m개월)\n",
    "X_train['근무경력'].str.split('년 ').str[-1]"
   ]
  },
  {
   "cell_type": "code",
   "execution_count": 338,
   "id": "b2c74647",
   "metadata": {
    "colab": {
     "base_uri": "https://localhost:8080/"
    },
    "executionInfo": {
     "elapsed": 4,
     "status": "ok",
     "timestamp": 1713317918949,
     "user": {
      "displayName": "전영호",
      "userId": "17928441635701806568"
     },
     "user_tz": -540
    },
    "id": "b2c74647",
    "outputId": "c22195e6-484f-4b93-8275-0752d738b69c"
   },
   "outputs": [
    {
     "data": {
      "text/plain": [
       "1679     0개월\n",
       "5182     0개월\n",
       "3116       3\n",
       "8390       4\n",
       "4496     0개월\n",
       "        ... \n",
       "1097       1\n",
       "15843    2개월\n",
       "5385     0개월\n",
       "11019     11\n",
       "3137     0개월\n",
       "Name: 근무경력, Length: 16570, dtype: object"
      ]
     },
     "execution_count": 338,
     "metadata": {},
     "output_type": "execute_result"
    }
   ],
   "source": [
    "# 연 단위\n",
    "X_train['근무경력'].str.split('년 ').str[0]\n",
    "# -> n(of n년 l개월)과 m개월 출력됨..!"
   ]
  },
  {
   "cell_type": "code",
   "execution_count": 339,
   "id": "6b3f3fd7",
   "metadata": {
    "executionInfo": {
     "elapsed": 3,
     "status": "ok",
     "timestamp": 1713317918949,
     "user": {
      "displayName": "전영호",
      "userId": "17928441635701806568"
     },
     "user_tz": -540
    },
    "id": "6b3f3fd7"
   },
   "outputs": [],
   "source": [
    "# 연 단위, 개월 단위 열 별도로 기록\n",
    "X_train['year'] = X_train['근무경력'].str.split('년 ').str[-1] != X_train['근무경력'].str.split('년 ').str[0]\n",
    "X_train['month'] = X_train['근무경력'].str.split('년 ').str[-1] == X_train['근무경력'].str.split('년 ').str[0]"
   ]
  },
  {
   "cell_type": "code",
   "execution_count": 340,
   "id": "6e8d304e",
   "metadata": {
    "colab": {
     "base_uri": "https://localhost:8080/"
    },
    "executionInfo": {
     "elapsed": 2,
     "status": "ok",
     "timestamp": 1713317918949,
     "user": {
      "displayName": "전영호",
      "userId": "17928441635701806568"
     },
     "user_tz": -540
    },
    "id": "6e8d304e",
    "outputId": "2016f68b-f861-40c3-b7ad-42fbd58a73f9"
   },
   "outputs": [
    {
     "data": {
      "text/plain": [
       "1679      True\n",
       "5182      True\n",
       "3116     False\n",
       "8390     False\n",
       "4496      True\n",
       "         ...  \n",
       "1097     False\n",
       "15843     True\n",
       "5385      True\n",
       "11019    False\n",
       "3137      True\n",
       "Name: month, Length: 16570, dtype: bool"
      ]
     },
     "execution_count": 340,
     "metadata": {},
     "output_type": "execute_result"
    }
   ],
   "source": [
    "X_train['month']"
   ]
  },
  {
   "cell_type": "markdown",
   "id": "9f793fd0",
   "metadata": {
    "id": "9f793fd0"
   },
   "source": [
    "> m개월 처리"
   ]
  },
  {
   "cell_type": "code",
   "execution_count": 341,
   "id": "5fa43b81",
   "metadata": {
    "colab": {
     "base_uri": "https://localhost:8080/"
    },
    "executionInfo": {
     "elapsed": 10,
     "status": "ok",
     "timestamp": 1713317919461,
     "user": {
      "displayName": "전영호",
      "userId": "17928441635701806568"
     },
     "user_tz": -540
    },
    "id": "5fa43b81",
    "outputId": "f0575ea6-4348-4121-f15d-aa5cc749f3f9"
   },
   "outputs": [
    {
     "data": {
      "text/plain": [
       "1679     0\n",
       "5182     0\n",
       "4496     0\n",
       "7954     0\n",
       "9308     0\n",
       "        ..\n",
       "3944     0\n",
       "7375     0\n",
       "15843    2\n",
       "5385     0\n",
       "3137     0\n",
       "Name: 근무경력, Length: 9406, dtype: object"
      ]
     },
     "execution_count": 341,
     "metadata": {},
     "output_type": "execute_result"
    }
   ],
   "source": [
    "# 개월 단위 index에 해당하는 행 반환, 숫자만 분리\n",
    "X_train.loc[X_train['month']==True]['근무경력'].str.split('개월').str[0]"
   ]
  },
  {
   "cell_type": "code",
   "execution_count": 342,
   "id": "e6ebe077",
   "metadata": {
    "executionInfo": {
     "elapsed": 8,
     "status": "ok",
     "timestamp": 1713317919461,
     "user": {
      "displayName": "전영호",
      "userId": "17928441635701806568"
     },
     "user_tz": -540
    },
    "id": "e6ebe077"
   },
   "outputs": [],
   "source": [
    "# update\n",
    "X_train.loc[X_train['month']==True, '근무경력'] = X_train.loc[X_train['month']==True]['근무경력'].str.split('개월').str[0].astype(int)*30"
   ]
  },
  {
   "cell_type": "markdown",
   "id": "83e1cb6b",
   "metadata": {
    "id": "83e1cb6b"
   },
   "source": [
    "> n년 l개월 처리\n",
    "- n년 l개월은 (n x 365) + (l x 30) 해줄 것임"
   ]
  },
  {
   "cell_type": "code",
   "execution_count": 343,
   "id": "a52da90c",
   "metadata": {
    "executionInfo": {
     "elapsed": 8,
     "status": "ok",
     "timestamp": 1713317919461,
     "user": {
      "displayName": "전영호",
      "userId": "17928441635701806568"
     },
     "user_tz": -540
    },
    "id": "a52da90c"
   },
   "outputs": [],
   "source": [
    "# n년->일\n",
    "n = X_train.loc[X_train['year']==True]['근무경력'].str.split('년 ').str[0].astype(int)*365"
   ]
  },
  {
   "cell_type": "code",
   "execution_count": 344,
   "id": "48b1c03d",
   "metadata": {
    "executionInfo": {
     "elapsed": 8,
     "status": "ok",
     "timestamp": 1713317919461,
     "user": {
      "displayName": "전영호",
      "userId": "17928441635701806568"
     },
     "user_tz": -540
    },
    "id": "48b1c03d"
   },
   "outputs": [],
   "source": [
    "# l개월->일\n",
    "l = X_train.loc[X_train['year']==True]['근무경력'].str.split('년 ').str[-1].str.split('개월').str[0].astype(int)*30"
   ]
  },
  {
   "cell_type": "code",
   "execution_count": 345,
   "id": "5de8198f",
   "metadata": {
    "colab": {
     "base_uri": "https://localhost:8080/"
    },
    "executionInfo": {
     "elapsed": 8,
     "status": "ok",
     "timestamp": 1713317919461,
     "user": {
      "displayName": "전영호",
      "userId": "17928441635701806568"
     },
     "user_tz": -540
    },
    "id": "5de8198f",
    "outputId": "180bada6-dc48-41e2-8832-3a5ba3a68f53"
   },
   "outputs": [
    {
     "data": {
      "text/plain": [
       "3116     1275\n",
       "8390     1670\n",
       "15464    4745\n",
       "14711    1095\n",
       "12681    1700\n",
       "         ... \n",
       "16464    1215\n",
       "13861    3010\n",
       "9146      515\n",
       "1097      485\n",
       "11019    4045\n",
       "Name: 근무경력, Length: 7164, dtype: int64"
      ]
     },
     "execution_count": 345,
     "metadata": {},
     "output_type": "execute_result"
    }
   ],
   "source": [
    "n+l"
   ]
  },
  {
   "cell_type": "code",
   "execution_count": 346,
   "id": "c1209210",
   "metadata": {
    "executionInfo": {
     "elapsed": 7,
     "status": "ok",
     "timestamp": 1713317919461,
     "user": {
      "displayName": "전영호",
      "userId": "17928441635701806568"
     },
     "user_tz": -540
    },
    "id": "c1209210"
   },
   "outputs": [],
   "source": [
    "# update\n",
    "X_train.loc[X_train['year']==True, '근무경력'] = n+l"
   ]
  },
  {
   "cell_type": "code",
   "execution_count": 347,
   "id": "abe19d01",
   "metadata": {
    "executionInfo": {
     "elapsed": 7,
     "status": "ok",
     "timestamp": 1713317919461,
     "user": {
      "displayName": "전영호",
      "userId": "17928441635701806568"
     },
     "user_tz": -540
    },
    "id": "abe19d01"
   },
   "outputs": [],
   "source": [
    "drop_list = ['year','month']\n",
    "X_train = X_train.drop(drop_list, axis=1)"
   ]
  },
  {
   "cell_type": "code",
   "execution_count": 348,
   "id": "5f954ef3",
   "metadata": {
    "colab": {
     "base_uri": "https://localhost:8080/",
     "height": 300
    },
    "executionInfo": {
     "elapsed": 7,
     "status": "ok",
     "timestamp": 1713317919461,
     "user": {
      "displayName": "전영호",
      "userId": "17928441635701806568"
     },
     "user_tz": -540
    },
    "id": "5f954ef3",
    "outputId": "427c4efb-c987-49bd-a11e-701dc8d2e825"
   },
   "outputs": [
    {
     "data": {
      "application/vnd.google.colaboratory.intrinsic+json": {
       "summary": "{\n  \"name\": \"X_train[['\\uadfc\\ubb34\\uacbd\\ub825']]\",\n  \"rows\": 8,\n  \"fields\": [\n    {\n      \"column\": \"\\uadfc\\ubb34\\uacbd\\ub825\",\n      \"properties\": {\n        \"dtype\": \"number\",\n        \"std\": 15507.487878917436,\n        \"min\": 0.0,\n        \"max\": 43950.0,\n        \"num_unique_values\": 6,\n        \"samples\": [\n          16570.0,\n          1060.632468316234,\n          43950.0\n        ],\n        \"semantic_type\": \"\",\n        \"description\": \"\"\n      }\n    }\n  ]\n}",
       "type": "dataframe"
      },
      "text/html": [
       "\n",
       "  <div id=\"df-8a35f175-eb1a-40cb-bbb8-104d9808e8d7\" class=\"colab-df-container\">\n",
       "    <div>\n",
       "<style scoped>\n",
       "    .dataframe tbody tr th:only-of-type {\n",
       "        vertical-align: middle;\n",
       "    }\n",
       "\n",
       "    .dataframe tbody tr th {\n",
       "        vertical-align: top;\n",
       "    }\n",
       "\n",
       "    .dataframe thead th {\n",
       "        text-align: right;\n",
       "    }\n",
       "</style>\n",
       "<table border=\"1\" class=\"dataframe\">\n",
       "  <thead>\n",
       "    <tr style=\"text-align: right;\">\n",
       "      <th></th>\n",
       "      <th>근무경력</th>\n",
       "    </tr>\n",
       "  </thead>\n",
       "  <tbody>\n",
       "    <tr>\n",
       "      <th>count</th>\n",
       "      <td>16570.000000</td>\n",
       "    </tr>\n",
       "    <tr>\n",
       "      <th>mean</th>\n",
       "      <td>1060.632468</td>\n",
       "    </tr>\n",
       "    <tr>\n",
       "      <th>std</th>\n",
       "      <td>1848.384332</td>\n",
       "    </tr>\n",
       "    <tr>\n",
       "      <th>min</th>\n",
       "      <td>0.000000</td>\n",
       "    </tr>\n",
       "    <tr>\n",
       "      <th>25%</th>\n",
       "      <td>0.000000</td>\n",
       "    </tr>\n",
       "    <tr>\n",
       "      <th>50%</th>\n",
       "      <td>0.000000</td>\n",
       "    </tr>\n",
       "    <tr>\n",
       "      <th>75%</th>\n",
       "      <td>1700.000000</td>\n",
       "    </tr>\n",
       "    <tr>\n",
       "      <th>max</th>\n",
       "      <td>43950.000000</td>\n",
       "    </tr>\n",
       "  </tbody>\n",
       "</table>\n",
       "</div>\n",
       "    <div class=\"colab-df-buttons\">\n",
       "\n",
       "  <div class=\"colab-df-container\">\n",
       "    <button class=\"colab-df-convert\" onclick=\"convertToInteractive('df-8a35f175-eb1a-40cb-bbb8-104d9808e8d7')\"\n",
       "            title=\"Convert this dataframe to an interactive table.\"\n",
       "            style=\"display:none;\">\n",
       "\n",
       "  <svg xmlns=\"http://www.w3.org/2000/svg\" height=\"24px\" viewBox=\"0 -960 960 960\">\n",
       "    <path d=\"M120-120v-720h720v720H120Zm60-500h600v-160H180v160Zm220 220h160v-160H400v160Zm0 220h160v-160H400v160ZM180-400h160v-160H180v160Zm440 0h160v-160H620v160ZM180-180h160v-160H180v160Zm440 0h160v-160H620v160Z\"/>\n",
       "  </svg>\n",
       "    </button>\n",
       "\n",
       "  <style>\n",
       "    .colab-df-container {\n",
       "      display:flex;\n",
       "      gap: 12px;\n",
       "    }\n",
       "\n",
       "    .colab-df-convert {\n",
       "      background-color: #E8F0FE;\n",
       "      border: none;\n",
       "      border-radius: 50%;\n",
       "      cursor: pointer;\n",
       "      display: none;\n",
       "      fill: #1967D2;\n",
       "      height: 32px;\n",
       "      padding: 0 0 0 0;\n",
       "      width: 32px;\n",
       "    }\n",
       "\n",
       "    .colab-df-convert:hover {\n",
       "      background-color: #E2EBFA;\n",
       "      box-shadow: 0px 1px 2px rgba(60, 64, 67, 0.3), 0px 1px 3px 1px rgba(60, 64, 67, 0.15);\n",
       "      fill: #174EA6;\n",
       "    }\n",
       "\n",
       "    .colab-df-buttons div {\n",
       "      margin-bottom: 4px;\n",
       "    }\n",
       "\n",
       "    [theme=dark] .colab-df-convert {\n",
       "      background-color: #3B4455;\n",
       "      fill: #D2E3FC;\n",
       "    }\n",
       "\n",
       "    [theme=dark] .colab-df-convert:hover {\n",
       "      background-color: #434B5C;\n",
       "      box-shadow: 0px 1px 3px 1px rgba(0, 0, 0, 0.15);\n",
       "      filter: drop-shadow(0px 1px 2px rgba(0, 0, 0, 0.3));\n",
       "      fill: #FFFFFF;\n",
       "    }\n",
       "  </style>\n",
       "\n",
       "    <script>\n",
       "      const buttonEl =\n",
       "        document.querySelector('#df-8a35f175-eb1a-40cb-bbb8-104d9808e8d7 button.colab-df-convert');\n",
       "      buttonEl.style.display =\n",
       "        google.colab.kernel.accessAllowed ? 'block' : 'none';\n",
       "\n",
       "      async function convertToInteractive(key) {\n",
       "        const element = document.querySelector('#df-8a35f175-eb1a-40cb-bbb8-104d9808e8d7');\n",
       "        const dataTable =\n",
       "          await google.colab.kernel.invokeFunction('convertToInteractive',\n",
       "                                                    [key], {});\n",
       "        if (!dataTable) return;\n",
       "\n",
       "        const docLinkHtml = 'Like what you see? Visit the ' +\n",
       "          '<a target=\"_blank\" href=https://colab.research.google.com/notebooks/data_table.ipynb>data table notebook</a>'\n",
       "          + ' to learn more about interactive tables.';\n",
       "        element.innerHTML = '';\n",
       "        dataTable['output_type'] = 'display_data';\n",
       "        await google.colab.output.renderOutput(dataTable, element);\n",
       "        const docLink = document.createElement('div');\n",
       "        docLink.innerHTML = docLinkHtml;\n",
       "        element.appendChild(docLink);\n",
       "      }\n",
       "    </script>\n",
       "  </div>\n",
       "\n",
       "\n",
       "<div id=\"df-3107e067-ecb6-4109-ae3e-62ec3682fc48\">\n",
       "  <button class=\"colab-df-quickchart\" onclick=\"quickchart('df-3107e067-ecb6-4109-ae3e-62ec3682fc48')\"\n",
       "            title=\"Suggest charts\"\n",
       "            style=\"display:none;\">\n",
       "\n",
       "<svg xmlns=\"http://www.w3.org/2000/svg\" height=\"24px\"viewBox=\"0 0 24 24\"\n",
       "     width=\"24px\">\n",
       "    <g>\n",
       "        <path d=\"M19 3H5c-1.1 0-2 .9-2 2v14c0 1.1.9 2 2 2h14c1.1 0 2-.9 2-2V5c0-1.1-.9-2-2-2zM9 17H7v-7h2v7zm4 0h-2V7h2v10zm4 0h-2v-4h2v4z\"/>\n",
       "    </g>\n",
       "</svg>\n",
       "  </button>\n",
       "\n",
       "<style>\n",
       "  .colab-df-quickchart {\n",
       "      --bg-color: #E8F0FE;\n",
       "      --fill-color: #1967D2;\n",
       "      --hover-bg-color: #E2EBFA;\n",
       "      --hover-fill-color: #174EA6;\n",
       "      --disabled-fill-color: #AAA;\n",
       "      --disabled-bg-color: #DDD;\n",
       "  }\n",
       "\n",
       "  [theme=dark] .colab-df-quickchart {\n",
       "      --bg-color: #3B4455;\n",
       "      --fill-color: #D2E3FC;\n",
       "      --hover-bg-color: #434B5C;\n",
       "      --hover-fill-color: #FFFFFF;\n",
       "      --disabled-bg-color: #3B4455;\n",
       "      --disabled-fill-color: #666;\n",
       "  }\n",
       "\n",
       "  .colab-df-quickchart {\n",
       "    background-color: var(--bg-color);\n",
       "    border: none;\n",
       "    border-radius: 50%;\n",
       "    cursor: pointer;\n",
       "    display: none;\n",
       "    fill: var(--fill-color);\n",
       "    height: 32px;\n",
       "    padding: 0;\n",
       "    width: 32px;\n",
       "  }\n",
       "\n",
       "  .colab-df-quickchart:hover {\n",
       "    background-color: var(--hover-bg-color);\n",
       "    box-shadow: 0 1px 2px rgba(60, 64, 67, 0.3), 0 1px 3px 1px rgba(60, 64, 67, 0.15);\n",
       "    fill: var(--button-hover-fill-color);\n",
       "  }\n",
       "\n",
       "  .colab-df-quickchart-complete:disabled,\n",
       "  .colab-df-quickchart-complete:disabled:hover {\n",
       "    background-color: var(--disabled-bg-color);\n",
       "    fill: var(--disabled-fill-color);\n",
       "    box-shadow: none;\n",
       "  }\n",
       "\n",
       "  .colab-df-spinner {\n",
       "    border: 2px solid var(--fill-color);\n",
       "    border-color: transparent;\n",
       "    border-bottom-color: var(--fill-color);\n",
       "    animation:\n",
       "      spin 1s steps(1) infinite;\n",
       "  }\n",
       "\n",
       "  @keyframes spin {\n",
       "    0% {\n",
       "      border-color: transparent;\n",
       "      border-bottom-color: var(--fill-color);\n",
       "      border-left-color: var(--fill-color);\n",
       "    }\n",
       "    20% {\n",
       "      border-color: transparent;\n",
       "      border-left-color: var(--fill-color);\n",
       "      border-top-color: var(--fill-color);\n",
       "    }\n",
       "    30% {\n",
       "      border-color: transparent;\n",
       "      border-left-color: var(--fill-color);\n",
       "      border-top-color: var(--fill-color);\n",
       "      border-right-color: var(--fill-color);\n",
       "    }\n",
       "    40% {\n",
       "      border-color: transparent;\n",
       "      border-right-color: var(--fill-color);\n",
       "      border-top-color: var(--fill-color);\n",
       "    }\n",
       "    60% {\n",
       "      border-color: transparent;\n",
       "      border-right-color: var(--fill-color);\n",
       "    }\n",
       "    80% {\n",
       "      border-color: transparent;\n",
       "      border-right-color: var(--fill-color);\n",
       "      border-bottom-color: var(--fill-color);\n",
       "    }\n",
       "    90% {\n",
       "      border-color: transparent;\n",
       "      border-bottom-color: var(--fill-color);\n",
       "    }\n",
       "  }\n",
       "</style>\n",
       "\n",
       "  <script>\n",
       "    async function quickchart(key) {\n",
       "      const quickchartButtonEl =\n",
       "        document.querySelector('#' + key + ' button');\n",
       "      quickchartButtonEl.disabled = true;  // To prevent multiple clicks.\n",
       "      quickchartButtonEl.classList.add('colab-df-spinner');\n",
       "      try {\n",
       "        const charts = await google.colab.kernel.invokeFunction(\n",
       "            'suggestCharts', [key], {});\n",
       "      } catch (error) {\n",
       "        console.error('Error during call to suggestCharts:', error);\n",
       "      }\n",
       "      quickchartButtonEl.classList.remove('colab-df-spinner');\n",
       "      quickchartButtonEl.classList.add('colab-df-quickchart-complete');\n",
       "    }\n",
       "    (() => {\n",
       "      let quickchartButtonEl =\n",
       "        document.querySelector('#df-3107e067-ecb6-4109-ae3e-62ec3682fc48 button');\n",
       "      quickchartButtonEl.style.display =\n",
       "        google.colab.kernel.accessAllowed ? 'block' : 'none';\n",
       "    })();\n",
       "  </script>\n",
       "</div>\n",
       "\n",
       "    </div>\n",
       "  </div>\n"
      ],
      "text/plain": [
       "               근무경력\n",
       "count  16570.000000\n",
       "mean    1060.632468\n",
       "std     1848.384332\n",
       "min        0.000000\n",
       "25%        0.000000\n",
       "50%        0.000000\n",
       "75%     1700.000000\n",
       "max    43950.000000"
      ]
     },
     "execution_count": 348,
     "metadata": {},
     "output_type": "execute_result"
    }
   ],
   "source": [
    "X_train['근무경력'] = X_train['근무경력'].astype(int)\n",
    "X_train[['근무경력']].describe()"
   ]
  },
  {
   "cell_type": "code",
   "execution_count": 349,
   "id": "94bdf044",
   "metadata": {
    "colab": {
     "base_uri": "https://localhost:8080/"
    },
    "executionInfo": {
     "elapsed": 6,
     "status": "ok",
     "timestamp": 1713317919461,
     "user": {
      "displayName": "전영호",
      "userId": "17928441635701806568"
     },
     "user_tz": -540
    },
    "id": "94bdf044",
    "outputId": "650f9020-40c8-4992-ca8d-ce5cafb2a427"
   },
   "outputs": [
    {
     "name": "stdout",
     "output_type": "stream",
     "text": [
      "<class 'pandas.core.frame.DataFrame'>\n",
      "Index: 16570 entries, 1679 to 3137\n",
      "Data columns (total 12 columns):\n",
      " #   Column  Non-Null Count  Dtype  \n",
      "---  ------  --------------  -----  \n",
      " 0   ID      16570 non-null  object \n",
      " 1   직종      16570 non-null  object \n",
      " 2   세부직종    16570 non-null  object \n",
      " 3   직무태그    16570 non-null  object \n",
      " 4   근무경력    16570 non-null  int64  \n",
      " 5   근무형태    6661 non-null   object \n",
      " 6   근무지역    16570 non-null  object \n",
      " 7   출신대학    16570 non-null  object \n",
      " 8   대학전공    16570 non-null  object \n",
      " 9   어학시험    16570 non-null  object \n",
      " 10  자격증     16570 non-null  object \n",
      " 11  대학성적    14600 non-null  float64\n",
      "dtypes: float64(1), int64(1), object(10)\n",
      "memory usage: 2.1+ MB\n"
     ]
    }
   ],
   "source": [
    "X_train.info()"
   ]
  },
  {
   "cell_type": "markdown",
   "id": "74b4e1b5",
   "metadata": {
    "id": "74b4e1b5"
   },
   "source": [
    "> test data도 동일하게 처리"
   ]
  },
  {
   "cell_type": "code",
   "execution_count": 350,
   "id": "17fff8b2",
   "metadata": {
    "colab": {
     "base_uri": "https://localhost:8080/"
    },
    "executionInfo": {
     "elapsed": 1224,
     "status": "ok",
     "timestamp": 1713317920682,
     "user": {
      "displayName": "전영호",
      "userId": "17928441635701806568"
     },
     "user_tz": -540
    },
    "id": "17fff8b2",
    "outputId": "acdfca14-1cc7-4094-e8cc-362b60ec81e4"
   },
   "outputs": [
    {
     "name": "stdout",
     "output_type": "stream",
     "text": [
      "<class 'pandas.core.frame.DataFrame'>\n",
      "Index: 11048 entries, 1114 to 1769\n",
      "Data columns (total 12 columns):\n",
      " #   Column  Non-Null Count  Dtype  \n",
      "---  ------  --------------  -----  \n",
      " 0   ID      11048 non-null  object \n",
      " 1   직종      11048 non-null  object \n",
      " 2   세부직종    11048 non-null  object \n",
      " 3   직무태그    11048 non-null  object \n",
      " 4   근무경력    11048 non-null  int64  \n",
      " 5   근무형태    4351 non-null   object \n",
      " 6   근무지역    11048 non-null  object \n",
      " 7   출신대학    11048 non-null  object \n",
      " 8   대학전공    11048 non-null  object \n",
      " 9   어학시험    11048 non-null  object \n",
      " 10  자격증     11048 non-null  object \n",
      " 11  대학성적    9730 non-null   float64\n",
      "dtypes: float64(1), int64(1), object(10)\n",
      "memory usage: 1.3+ MB\n"
     ]
    }
   ],
   "source": [
    "X_test['year'] = X_test['근무경력'].str.split('년 ').str[-1] != X_test['근무경력'].str.split('년 ').str[0]\n",
    "X_test['month'] = X_test['근무경력'].str.split('년 ').str[-1] == X_test['근무경력'].str.split('년 ').str[0]\n",
    "\n",
    "# month * 30\n",
    "X_test.loc[X_test['month']==True, '근무경력'] = X_test.loc[X_test['month']==True]['근무경력'].str.split('개월').str[0].astype(int)*30\n",
    "# (year*365) + (month*30)\n",
    "n = X_test.loc[X_test['year']==True]['근무경력'].str.split('년 ').str[0].astype(int)*365\n",
    "l = X_test.loc[X_test['year']==True]['근무경력'].str.split('년 ').str[-1].str.split('개월').str[0].astype(int)*30\n",
    "X_test.loc[X_test['year']==True, '근무경력'] = n+l\n",
    "\n",
    "X_test = X_test.drop(drop_list, axis=1)\n",
    "X_test['근무경력'] = X_test['근무경력'].astype(int)\n",
    "\n",
    "X_test.info()"
   ]
  },
  {
   "cell_type": "code",
   "execution_count": 351,
   "id": "8db4cf1d",
   "metadata": {
    "colab": {
     "base_uri": "https://localhost:8080/",
     "height": 300
    },
    "executionInfo": {
     "elapsed": 3,
     "status": "ok",
     "timestamp": 1713317920682,
     "user": {
      "displayName": "전영호",
      "userId": "17928441635701806568"
     },
     "user_tz": -540
    },
    "id": "8db4cf1d",
    "outputId": "d7436320-a136-4220-a96d-a0a3d14ccda3"
   },
   "outputs": [
    {
     "data": {
      "application/vnd.google.colaboratory.intrinsic+json": {
       "summary": "{\n  \"name\": \"X_test[['\\uadfc\\ubb34\\uacbd\\ub825']]\",\n  \"rows\": 8,\n  \"fields\": [\n    {\n      \"column\": \"\\uadfc\\ubb34\\uacbd\\ub825\",\n      \"properties\": {\n        \"dtype\": \"number\",\n        \"std\": 9957.984873651254,\n        \"min\": 0.0,\n        \"max\": 28405.0,\n        \"num_unique_values\": 6,\n        \"samples\": [\n          11048.0,\n          1078.191527878349,\n          28405.0\n        ],\n        \"semantic_type\": \"\",\n        \"description\": \"\"\n      }\n    }\n  ]\n}",
       "type": "dataframe"
      },
      "text/html": [
       "\n",
       "  <div id=\"df-9b1ff234-9d29-46bb-a041-63d430593889\" class=\"colab-df-container\">\n",
       "    <div>\n",
       "<style scoped>\n",
       "    .dataframe tbody tr th:only-of-type {\n",
       "        vertical-align: middle;\n",
       "    }\n",
       "\n",
       "    .dataframe tbody tr th {\n",
       "        vertical-align: top;\n",
       "    }\n",
       "\n",
       "    .dataframe thead th {\n",
       "        text-align: right;\n",
       "    }\n",
       "</style>\n",
       "<table border=\"1\" class=\"dataframe\">\n",
       "  <thead>\n",
       "    <tr style=\"text-align: right;\">\n",
       "      <th></th>\n",
       "      <th>근무경력</th>\n",
       "    </tr>\n",
       "  </thead>\n",
       "  <tbody>\n",
       "    <tr>\n",
       "      <th>count</th>\n",
       "      <td>11048.000000</td>\n",
       "    </tr>\n",
       "    <tr>\n",
       "      <th>mean</th>\n",
       "      <td>1078.191528</td>\n",
       "    </tr>\n",
       "    <tr>\n",
       "      <th>std</th>\n",
       "      <td>1762.551012</td>\n",
       "    </tr>\n",
       "    <tr>\n",
       "      <th>min</th>\n",
       "      <td>0.000000</td>\n",
       "    </tr>\n",
       "    <tr>\n",
       "      <th>25%</th>\n",
       "      <td>0.000000</td>\n",
       "    </tr>\n",
       "    <tr>\n",
       "      <th>50%</th>\n",
       "      <td>0.000000</td>\n",
       "    </tr>\n",
       "    <tr>\n",
       "      <th>75%</th>\n",
       "      <td>1700.000000</td>\n",
       "    </tr>\n",
       "    <tr>\n",
       "      <th>max</th>\n",
       "      <td>28405.000000</td>\n",
       "    </tr>\n",
       "  </tbody>\n",
       "</table>\n",
       "</div>\n",
       "    <div class=\"colab-df-buttons\">\n",
       "\n",
       "  <div class=\"colab-df-container\">\n",
       "    <button class=\"colab-df-convert\" onclick=\"convertToInteractive('df-9b1ff234-9d29-46bb-a041-63d430593889')\"\n",
       "            title=\"Convert this dataframe to an interactive table.\"\n",
       "            style=\"display:none;\">\n",
       "\n",
       "  <svg xmlns=\"http://www.w3.org/2000/svg\" height=\"24px\" viewBox=\"0 -960 960 960\">\n",
       "    <path d=\"M120-120v-720h720v720H120Zm60-500h600v-160H180v160Zm220 220h160v-160H400v160Zm0 220h160v-160H400v160ZM180-400h160v-160H180v160Zm440 0h160v-160H620v160ZM180-180h160v-160H180v160Zm440 0h160v-160H620v160Z\"/>\n",
       "  </svg>\n",
       "    </button>\n",
       "\n",
       "  <style>\n",
       "    .colab-df-container {\n",
       "      display:flex;\n",
       "      gap: 12px;\n",
       "    }\n",
       "\n",
       "    .colab-df-convert {\n",
       "      background-color: #E8F0FE;\n",
       "      border: none;\n",
       "      border-radius: 50%;\n",
       "      cursor: pointer;\n",
       "      display: none;\n",
       "      fill: #1967D2;\n",
       "      height: 32px;\n",
       "      padding: 0 0 0 0;\n",
       "      width: 32px;\n",
       "    }\n",
       "\n",
       "    .colab-df-convert:hover {\n",
       "      background-color: #E2EBFA;\n",
       "      box-shadow: 0px 1px 2px rgba(60, 64, 67, 0.3), 0px 1px 3px 1px rgba(60, 64, 67, 0.15);\n",
       "      fill: #174EA6;\n",
       "    }\n",
       "\n",
       "    .colab-df-buttons div {\n",
       "      margin-bottom: 4px;\n",
       "    }\n",
       "\n",
       "    [theme=dark] .colab-df-convert {\n",
       "      background-color: #3B4455;\n",
       "      fill: #D2E3FC;\n",
       "    }\n",
       "\n",
       "    [theme=dark] .colab-df-convert:hover {\n",
       "      background-color: #434B5C;\n",
       "      box-shadow: 0px 1px 3px 1px rgba(0, 0, 0, 0.15);\n",
       "      filter: drop-shadow(0px 1px 2px rgba(0, 0, 0, 0.3));\n",
       "      fill: #FFFFFF;\n",
       "    }\n",
       "  </style>\n",
       "\n",
       "    <script>\n",
       "      const buttonEl =\n",
       "        document.querySelector('#df-9b1ff234-9d29-46bb-a041-63d430593889 button.colab-df-convert');\n",
       "      buttonEl.style.display =\n",
       "        google.colab.kernel.accessAllowed ? 'block' : 'none';\n",
       "\n",
       "      async function convertToInteractive(key) {\n",
       "        const element = document.querySelector('#df-9b1ff234-9d29-46bb-a041-63d430593889');\n",
       "        const dataTable =\n",
       "          await google.colab.kernel.invokeFunction('convertToInteractive',\n",
       "                                                    [key], {});\n",
       "        if (!dataTable) return;\n",
       "\n",
       "        const docLinkHtml = 'Like what you see? Visit the ' +\n",
       "          '<a target=\"_blank\" href=https://colab.research.google.com/notebooks/data_table.ipynb>data table notebook</a>'\n",
       "          + ' to learn more about interactive tables.';\n",
       "        element.innerHTML = '';\n",
       "        dataTable['output_type'] = 'display_data';\n",
       "        await google.colab.output.renderOutput(dataTable, element);\n",
       "        const docLink = document.createElement('div');\n",
       "        docLink.innerHTML = docLinkHtml;\n",
       "        element.appendChild(docLink);\n",
       "      }\n",
       "    </script>\n",
       "  </div>\n",
       "\n",
       "\n",
       "<div id=\"df-4964b598-5b3f-4ae3-bb57-d155716eaac3\">\n",
       "  <button class=\"colab-df-quickchart\" onclick=\"quickchart('df-4964b598-5b3f-4ae3-bb57-d155716eaac3')\"\n",
       "            title=\"Suggest charts\"\n",
       "            style=\"display:none;\">\n",
       "\n",
       "<svg xmlns=\"http://www.w3.org/2000/svg\" height=\"24px\"viewBox=\"0 0 24 24\"\n",
       "     width=\"24px\">\n",
       "    <g>\n",
       "        <path d=\"M19 3H5c-1.1 0-2 .9-2 2v14c0 1.1.9 2 2 2h14c1.1 0 2-.9 2-2V5c0-1.1-.9-2-2-2zM9 17H7v-7h2v7zm4 0h-2V7h2v10zm4 0h-2v-4h2v4z\"/>\n",
       "    </g>\n",
       "</svg>\n",
       "  </button>\n",
       "\n",
       "<style>\n",
       "  .colab-df-quickchart {\n",
       "      --bg-color: #E8F0FE;\n",
       "      --fill-color: #1967D2;\n",
       "      --hover-bg-color: #E2EBFA;\n",
       "      --hover-fill-color: #174EA6;\n",
       "      --disabled-fill-color: #AAA;\n",
       "      --disabled-bg-color: #DDD;\n",
       "  }\n",
       "\n",
       "  [theme=dark] .colab-df-quickchart {\n",
       "      --bg-color: #3B4455;\n",
       "      --fill-color: #D2E3FC;\n",
       "      --hover-bg-color: #434B5C;\n",
       "      --hover-fill-color: #FFFFFF;\n",
       "      --disabled-bg-color: #3B4455;\n",
       "      --disabled-fill-color: #666;\n",
       "  }\n",
       "\n",
       "  .colab-df-quickchart {\n",
       "    background-color: var(--bg-color);\n",
       "    border: none;\n",
       "    border-radius: 50%;\n",
       "    cursor: pointer;\n",
       "    display: none;\n",
       "    fill: var(--fill-color);\n",
       "    height: 32px;\n",
       "    padding: 0;\n",
       "    width: 32px;\n",
       "  }\n",
       "\n",
       "  .colab-df-quickchart:hover {\n",
       "    background-color: var(--hover-bg-color);\n",
       "    box-shadow: 0 1px 2px rgba(60, 64, 67, 0.3), 0 1px 3px 1px rgba(60, 64, 67, 0.15);\n",
       "    fill: var(--button-hover-fill-color);\n",
       "  }\n",
       "\n",
       "  .colab-df-quickchart-complete:disabled,\n",
       "  .colab-df-quickchart-complete:disabled:hover {\n",
       "    background-color: var(--disabled-bg-color);\n",
       "    fill: var(--disabled-fill-color);\n",
       "    box-shadow: none;\n",
       "  }\n",
       "\n",
       "  .colab-df-spinner {\n",
       "    border: 2px solid var(--fill-color);\n",
       "    border-color: transparent;\n",
       "    border-bottom-color: var(--fill-color);\n",
       "    animation:\n",
       "      spin 1s steps(1) infinite;\n",
       "  }\n",
       "\n",
       "  @keyframes spin {\n",
       "    0% {\n",
       "      border-color: transparent;\n",
       "      border-bottom-color: var(--fill-color);\n",
       "      border-left-color: var(--fill-color);\n",
       "    }\n",
       "    20% {\n",
       "      border-color: transparent;\n",
       "      border-left-color: var(--fill-color);\n",
       "      border-top-color: var(--fill-color);\n",
       "    }\n",
       "    30% {\n",
       "      border-color: transparent;\n",
       "      border-left-color: var(--fill-color);\n",
       "      border-top-color: var(--fill-color);\n",
       "      border-right-color: var(--fill-color);\n",
       "    }\n",
       "    40% {\n",
       "      border-color: transparent;\n",
       "      border-right-color: var(--fill-color);\n",
       "      border-top-color: var(--fill-color);\n",
       "    }\n",
       "    60% {\n",
       "      border-color: transparent;\n",
       "      border-right-color: var(--fill-color);\n",
       "    }\n",
       "    80% {\n",
       "      border-color: transparent;\n",
       "      border-right-color: var(--fill-color);\n",
       "      border-bottom-color: var(--fill-color);\n",
       "    }\n",
       "    90% {\n",
       "      border-color: transparent;\n",
       "      border-bottom-color: var(--fill-color);\n",
       "    }\n",
       "  }\n",
       "</style>\n",
       "\n",
       "  <script>\n",
       "    async function quickchart(key) {\n",
       "      const quickchartButtonEl =\n",
       "        document.querySelector('#' + key + ' button');\n",
       "      quickchartButtonEl.disabled = true;  // To prevent multiple clicks.\n",
       "      quickchartButtonEl.classList.add('colab-df-spinner');\n",
       "      try {\n",
       "        const charts = await google.colab.kernel.invokeFunction(\n",
       "            'suggestCharts', [key], {});\n",
       "      } catch (error) {\n",
       "        console.error('Error during call to suggestCharts:', error);\n",
       "      }\n",
       "      quickchartButtonEl.classList.remove('colab-df-spinner');\n",
       "      quickchartButtonEl.classList.add('colab-df-quickchart-complete');\n",
       "    }\n",
       "    (() => {\n",
       "      let quickchartButtonEl =\n",
       "        document.querySelector('#df-4964b598-5b3f-4ae3-bb57-d155716eaac3 button');\n",
       "      quickchartButtonEl.style.display =\n",
       "        google.colab.kernel.accessAllowed ? 'block' : 'none';\n",
       "    })();\n",
       "  </script>\n",
       "</div>\n",
       "\n",
       "    </div>\n",
       "  </div>\n"
      ],
      "text/plain": [
       "               근무경력\n",
       "count  11048.000000\n",
       "mean    1078.191528\n",
       "std     1762.551012\n",
       "min        0.000000\n",
       "25%        0.000000\n",
       "50%        0.000000\n",
       "75%     1700.000000\n",
       "max    28405.000000"
      ]
     },
     "execution_count": 351,
     "metadata": {},
     "output_type": "execute_result"
    }
   ],
   "source": [
    "X_test[['근무경력']].describe()"
   ]
  },
  {
   "cell_type": "markdown",
   "id": "27df89b5",
   "metadata": {
    "id": "27df89b5"
   },
   "source": [
    "## 세부직종"
   ]
  },
  {
   "cell_type": "code",
   "execution_count": 352,
   "id": "3d38c54d",
   "metadata": {
    "executionInfo": {
     "elapsed": 2,
     "status": "ok",
     "timestamp": 1713317920682,
     "user": {
      "displayName": "전영호",
      "userId": "17928441635701806568"
     },
     "user_tz": -540
    },
    "id": "3d38c54d",
    "scrolled": false
   },
   "outputs": [],
   "source": [
    "job_count_df = X_train['세부직종'].value_counts().to_frame().reset_index()"
   ]
  },
  {
   "cell_type": "code",
   "execution_count": 353,
   "id": "07561965",
   "metadata": {
    "executionInfo": {
     "elapsed": 2,
     "status": "ok",
     "timestamp": 1713317920682,
     "user": {
      "displayName": "전영호",
      "userId": "17928441635701806568"
     },
     "user_tz": -540
    },
    "id": "07561965",
    "scrolled": true
   },
   "outputs": [],
   "source": [
    "job_under_10 = list(job_count_df.loc[job_count_df['count']<10].세부직종)"
   ]
  },
  {
   "cell_type": "code",
   "execution_count": 354,
   "id": "4c33477d",
   "metadata": {
    "executionInfo": {
     "elapsed": 2,
     "status": "ok",
     "timestamp": 1713317920682,
     "user": {
      "displayName": "전영호",
      "userId": "17928441635701806568"
     },
     "user_tz": -540
    },
    "id": "4c33477d"
   },
   "outputs": [],
   "source": [
    "X_train = X_train.replace({'세부직종':job_under_10}, '기타')"
   ]
  },
  {
   "cell_type": "markdown",
   "id": "1a577b54",
   "metadata": {
    "id": "1a577b54"
   },
   "source": [
    "> test data도 동일하게 처리"
   ]
  },
  {
   "cell_type": "code",
   "execution_count": 355,
   "id": "cfa1a836",
   "metadata": {
    "executionInfo": {
     "elapsed": 2,
     "status": "ok",
     "timestamp": 1713317920682,
     "user": {
      "displayName": "전영호",
      "userId": "17928441635701806568"
     },
     "user_tz": -540
    },
    "id": "cfa1a836"
   },
   "outputs": [],
   "source": [
    "job_count_df_tst = X_test['세부직종'].value_counts().to_frame().reset_index()"
   ]
  },
  {
   "cell_type": "code",
   "execution_count": 356,
   "id": "b9086fe8",
   "metadata": {
    "executionInfo": {
     "elapsed": 2,
     "status": "ok",
     "timestamp": 1713317920682,
     "user": {
      "displayName": "전영호",
      "userId": "17928441635701806568"
     },
     "user_tz": -540
    },
    "id": "b9086fe8"
   },
   "outputs": [],
   "source": [
    "job_under_10_tst = list(job_count_df.loc[job_count_df['count']<10].세부직종)"
   ]
  },
  {
   "cell_type": "code",
   "execution_count": 357,
   "id": "d8db4b51",
   "metadata": {
    "executionInfo": {
     "elapsed": 12,
     "status": "ok",
     "timestamp": 1713317921377,
     "user": {
      "displayName": "전영호",
      "userId": "17928441635701806568"
     },
     "user_tz": -540
    },
    "id": "d8db4b51"
   },
   "outputs": [],
   "source": [
    "X_test = X_test.replace({'세부직종':job_under_10_tst}, '기타')"
   ]
  },
  {
   "cell_type": "markdown",
   "id": "3564611a",
   "metadata": {
    "id": "3564611a"
   },
   "source": [
    "## 대학전공"
   ]
  },
  {
   "cell_type": "code",
   "execution_count": 358,
   "id": "1323c5a5",
   "metadata": {
    "executionInfo": {
     "elapsed": 12,
     "status": "ok",
     "timestamp": 1713317921377,
     "user": {
      "displayName": "전영호",
      "userId": "17928441635701806568"
     },
     "user_tz": -540
    },
    "id": "1323c5a5"
   },
   "outputs": [],
   "source": [
    "X_train_pre = X_test.copy()"
   ]
  },
  {
   "cell_type": "code",
   "execution_count": 359,
   "id": "ccbd2889",
   "metadata": {
    "colab": {
     "base_uri": "https://localhost:8080/"
    },
    "executionInfo": {
     "elapsed": 12,
     "status": "ok",
     "timestamp": 1713317921377,
     "user": {
      "displayName": "전영호",
      "userId": "17928441635701806568"
     },
     "user_tz": -540
    },
    "id": "ccbd2889",
    "outputId": "3460a24c-c1c8-4f6d-90fb-49f41ac353b9",
    "scrolled": true
   },
   "outputs": [
    {
     "data": {
      "text/plain": [
       "대학전공\n",
       "경영학           774\n",
       "경영학과          450\n",
       "컴퓨터공학         322\n",
       "경제학           322\n",
       "전자공학          243\n",
       "             ... \n",
       "인터넷소프트웨어학과      1\n",
       "응용생물과학          1\n",
       "전기공학부           1\n",
       "식품생명자원학과        1\n",
       "SOC             1\n",
       "Name: count, Length: 2030, dtype: int64"
      ]
     },
     "execution_count": 359,
     "metadata": {},
     "output_type": "execute_result"
    }
   ],
   "source": [
    "X_train['대학전공'].value_counts()"
   ]
  },
  {
   "cell_type": "code",
   "execution_count": 360,
   "id": "03e55054",
   "metadata": {
    "colab": {
     "base_uri": "https://localhost:8080/"
    },
    "executionInfo": {
     "elapsed": 10,
     "status": "ok",
     "timestamp": 1713317921377,
     "user": {
      "displayName": "전영호",
      "userId": "17928441635701806568"
     },
     "user_tz": -540
    },
    "id": "03e55054",
    "outputId": "8024f85d-ad40-4733-a53d-bde2a5bb5e0a"
   },
   "outputs": [
    {
     "data": {
      "text/plain": [
       "대학전공\n",
       "경영정보    78\n",
       "Name: count, dtype: int64"
      ]
     },
     "execution_count": 360,
     "metadata": {},
     "output_type": "execute_result"
    }
   ],
   "source": [
    "a = X_train_pre[X_train_pre['대학전공'].str.contains(\"경영정보\")]\n",
    "a.loc[:, '대학전공'] = '경영정보'\n",
    "X_train_pre[X_train_pre['대학전공'].str.contains(\"경영정보\")] = a\n",
    "X_train_pre[X_train_pre['대학전공'].str.contains(\"경영정보\")]['대학전공'].value_counts()"
   ]
  },
  {
   "cell_type": "code",
   "execution_count": 361,
   "id": "ae357ec3",
   "metadata": {
    "colab": {
     "base_uri": "https://localhost:8080/"
    },
    "executionInfo": {
     "elapsed": 9,
     "status": "ok",
     "timestamp": 1713317921377,
     "user": {
      "displayName": "전영호",
      "userId": "17928441635701806568"
     },
     "user_tz": -540
    },
    "id": "ae357ec3",
    "outputId": "e529897b-641b-4a72-d65a-602d829a60f8"
   },
   "outputs": [
    {
     "data": {
      "text/plain": [
       "대학전공\n",
       "회계    326\n",
       "Name: count, dtype: int64"
      ]
     },
     "execution_count": 361,
     "metadata": {},
     "output_type": "execute_result"
    }
   ],
   "source": [
    "ac = X_train_pre[X_train_pre['대학전공'].str.contains(\"회계\")]\n",
    "ac.loc[:, '대학전공'] = '회계'\n",
    "X_train_pre[X_train_pre['대학전공'].str.contains(\"회계\")] = ac\n",
    "X_train_pre[X_train_pre['대학전공'].str.contains(\"회계\")]['대학전공'].value_counts()"
   ]
  },
  {
   "cell_type": "code",
   "execution_count": 362,
   "id": "2d51dbbb",
   "metadata": {
    "colab": {
     "base_uri": "https://localhost:8080/"
    },
    "executionInfo": {
     "elapsed": 8,
     "status": "ok",
     "timestamp": 1713317921377,
     "user": {
      "displayName": "전영호",
      "userId": "17928441635701806568"
     },
     "user_tz": -540
    },
    "id": "2d51dbbb",
    "outputId": "504b84ed-554e-416b-8b8b-8fcbe14a04ef"
   },
   "outputs": [
    {
     "data": {
      "text/plain": [
       "대학전공\n",
       "광고홍보    64\n",
       "Name: count, dtype: int64"
      ]
     },
     "execution_count": 362,
     "metadata": {},
     "output_type": "execute_result"
    }
   ],
   "source": [
    "ap = X_train_pre[X_train_pre['대학전공'].str.contains(\"홍보\")]\n",
    "ap.loc[:, '대학전공'] = '광고홍보'\n",
    "X_train_pre[X_train_pre['대학전공'].str.contains(\"홍보\")] = ap\n",
    "X_train_pre[X_train_pre['대학전공'].str.contains(\"홍보\")]['대학전공'].value_counts()"
   ]
  },
  {
   "cell_type": "code",
   "execution_count": 363,
   "id": "30f277c8",
   "metadata": {
    "colab": {
     "base_uri": "https://localhost:8080/"
    },
    "executionInfo": {
     "elapsed": 7,
     "status": "ok",
     "timestamp": 1713317921377,
     "user": {
      "displayName": "전영호",
      "userId": "17928441635701806568"
     },
     "user_tz": -540
    },
    "id": "30f277c8",
    "outputId": "e22f732c-51a4-40e5-a075-9a5a6a40406d"
   },
   "outputs": [
    {
     "data": {
      "text/plain": [
       "대학전공\n",
       "게임    6\n",
       "Name: count, dtype: int64"
      ]
     },
     "execution_count": 363,
     "metadata": {},
     "output_type": "execute_result"
    }
   ],
   "source": [
    "a = X_train_pre[X_train_pre['대학전공'].str.contains(\"게임\")]\n",
    "a.loc[:, '대학전공'] = '게임'\n",
    "X_train_pre[X_train_pre['대학전공'].str.contains(\"게임\")] = a\n",
    "X_train_pre[X_train_pre['대학전공'].str.contains(\"게임\")]['대학전공'].value_counts()"
   ]
  },
  {
   "cell_type": "code",
   "execution_count": 364,
   "id": "1f950d83",
   "metadata": {
    "colab": {
     "base_uri": "https://localhost:8080/"
    },
    "executionInfo": {
     "elapsed": 6,
     "status": "ok",
     "timestamp": 1713317921377,
     "user": {
      "displayName": "전영호",
      "userId": "17928441635701806568"
     },
     "user_tz": -540
    },
    "id": "1f950d83",
    "outputId": "21f6174e-855f-42b1-d24b-1b51bb046bd7"
   },
   "outputs": [
    {
     "data": {
      "text/plain": [
       "대학전공\n",
       "소프트웨어    6\n",
       "Name: count, dtype: int64"
      ]
     },
     "execution_count": 364,
     "metadata": {},
     "output_type": "execute_result"
    }
   ],
   "source": [
    "a = X_train_pre[X_train_pre['대학전공'].str.contains(\"소프트웨어\")]\n",
    "a.loc[:, '대학전공'] = '소프트웨어'\n",
    "X_train_pre[X_train_pre['대학전공'].str.contains(\"소프트웨어\")] = a\n",
    "X_train_pre[X_train_pre['대학전공'].str.contains(\"소프트웨어\")]['대학전공'].value_counts()"
   ]
  },
  {
   "cell_type": "code",
   "execution_count": 365,
   "id": "30cae7bd",
   "metadata": {
    "colab": {
     "base_uri": "https://localhost:8080/"
    },
    "executionInfo": {
     "elapsed": 5,
     "status": "ok",
     "timestamp": 1713317921377,
     "user": {
      "displayName": "전영호",
      "userId": "17928441635701806568"
     },
     "user_tz": -540
    },
    "id": "30cae7bd",
    "outputId": "b38432ea-6847-40cd-a91c-87404f00be26"
   },
   "outputs": [
    {
     "data": {
      "text/plain": [
       "대학전공\n",
       "심리    61\n",
       "Name: count, dtype: int64"
      ]
     },
     "execution_count": 365,
     "metadata": {},
     "output_type": "execute_result"
    }
   ],
   "source": [
    "a = X_train_pre[X_train_pre['대학전공'].str.contains(\"심리\")]\n",
    "a.loc[:, '대학전공'] = '심리'\n",
    "X_train_pre[X_train_pre['대학전공'].str.contains(\"심리\")] = a\n",
    "X_train_pre[X_train_pre['대학전공'].str.contains(\"심리\")]['대학전공'].value_counts()"
   ]
  },
  {
   "cell_type": "code",
   "execution_count": 366,
   "id": "4c883767",
   "metadata": {
    "colab": {
     "base_uri": "https://localhost:8080/"
    },
    "executionInfo": {
     "elapsed": 5,
     "status": "ok",
     "timestamp": 1713317921377,
     "user": {
      "displayName": "전영호",
      "userId": "17928441635701806568"
     },
     "user_tz": -540
    },
    "id": "4c883767",
    "outputId": "3cc75fdf-0d05-462c-f628-1212bfa20ab6"
   },
   "outputs": [
    {
     "data": {
      "text/plain": [
       "대학전공\n",
       "교1육    42\n",
       "Name: count, dtype: int64"
      ]
     },
     "execution_count": 366,
     "metadata": {},
     "output_type": "execute_result"
    }
   ],
   "source": [
    "a = X_train_pre[X_train_pre['대학전공'].str.startswith(\"교육\")]\n",
    "a.loc[:, '대학전공'] = '교1육'\n",
    "X_train_pre[X_train_pre['대학전공'].str.startswith(\"교육\")] = a\n",
    "X_train_pre[X_train_pre['대학전공'].str.startswith(\"교1육\")]['대학전공'].value_counts()"
   ]
  },
  {
   "cell_type": "code",
   "execution_count": 367,
   "id": "e80fe00a",
   "metadata": {
    "colab": {
     "base_uri": "https://localhost:8080/"
    },
    "executionInfo": {
     "elapsed": 4,
     "status": "ok",
     "timestamp": 1713317921377,
     "user": {
      "displayName": "전영호",
      "userId": "17928441635701806568"
     },
     "user_tz": -540
    },
    "id": "e80fe00a",
    "outputId": "8de2146e-1ba4-489e-e704-f7935f7389f9"
   },
   "outputs": [
    {
     "data": {
      "text/plain": [
       "대학전공\n",
       "사범     123\n",
       "사범대      1\n",
       "Name: count, dtype: int64"
      ]
     },
     "execution_count": 367,
     "metadata": {},
     "output_type": "execute_result"
    }
   ],
   "source": [
    "a = X_train_pre[X_train_pre['대학전공'].str.contains(\"교육\")]\n",
    "a.loc[:, '대학전공'] = '사범'\n",
    "X_train_pre[X_train_pre['대학전공'].str.contains(\"교육\")] = a\n",
    "X_train_pre[X_train_pre['대학전공'].str.contains(\"사범\")]['대학전공'].value_counts()"
   ]
  },
  {
   "cell_type": "code",
   "execution_count": 368,
   "id": "37ea7fb8",
   "metadata": {
    "colab": {
     "base_uri": "https://localhost:8080/"
    },
    "executionInfo": {
     "elapsed": 3,
     "status": "ok",
     "timestamp": 1713317921377,
     "user": {
      "displayName": "전영호",
      "userId": "17928441635701806568"
     },
     "user_tz": -540
    },
    "id": "37ea7fb8",
    "outputId": "9aafe36e-22f2-4f85-d05e-cca5156608f3"
   },
   "outputs": [
    {
     "data": {
      "text/plain": [
       "대학전공\n",
       "사범    124\n",
       "Name: count, dtype: int64"
      ]
     },
     "execution_count": 368,
     "metadata": {},
     "output_type": "execute_result"
    }
   ],
   "source": [
    "a = X_train_pre[X_train_pre['대학전공'].str.contains(\"사범\")]\n",
    "a.loc[:, '대학전공'] = '사범'\n",
    "X_train_pre[X_train_pre['대학전공'].str.contains(\"사범\")] = a\n",
    "X_train_pre[X_train_pre['대학전공'].str.contains(\"사범\")]['대학전공'].value_counts()"
   ]
  },
  {
   "cell_type": "code",
   "execution_count": 369,
   "id": "9d9f1fb0",
   "metadata": {
    "colab": {
     "base_uri": "https://localhost:8080/"
    },
    "executionInfo": {
     "elapsed": 2,
     "status": "ok",
     "timestamp": 1713317921377,
     "user": {
      "displayName": "전영호",
      "userId": "17928441635701806568"
     },
     "user_tz": -540
    },
    "id": "9d9f1fb0",
    "outputId": "4751111e-81e5-4280-a18d-48ae8313f5e4"
   },
   "outputs": [
    {
     "data": {
      "text/plain": [
       "대학전공\n",
       "공예    51\n",
       "Name: count, dtype: int64"
      ]
     },
     "execution_count": 369,
     "metadata": {},
     "output_type": "execute_result"
    }
   ],
   "source": [
    "a = X_train_pre[X_train_pre['대학전공'].str.contains(\"공예\")]\n",
    "a.loc[:, '대학전공'] = '공예'\n",
    "X_train_pre[X_train_pre['대학전공'].str.contains(\"공예\")] = a\n",
    "X_train_pre[X_train_pre['대학전공'].str.contains(\"공예\")]['대학전공'].value_counts()"
   ]
  },
  {
   "cell_type": "code",
   "execution_count": 370,
   "id": "4d061338",
   "metadata": {
    "colab": {
     "base_uri": "https://localhost:8080/"
    },
    "executionInfo": {
     "elapsed": 1388,
     "status": "ok",
     "timestamp": 1713317922763,
     "user": {
      "displayName": "전영호",
      "userId": "17928441635701806568"
     },
     "user_tz": -540
    },
    "id": "4d061338",
    "outputId": "da37d7da-c81e-436c-8c84-9e639a935f30"
   },
   "outputs": [
    {
     "data": {
      "text/plain": [
       "대학전공\n",
       "의류    207\n",
       "Name: count, dtype: int64"
      ]
     },
     "execution_count": 370,
     "metadata": {},
     "output_type": "execute_result"
    }
   ],
   "source": [
    "a = X_train_pre[X_train_pre['대학전공'].str.contains(\"의류\")]\n",
    "a.loc[:, '대학전공'] = '의류'\n",
    "X_train_pre[X_train_pre['대학전공'].str.contains(\"의류\")] = a\n",
    "X_train_pre[X_train_pre['대학전공'].str.contains(\"의류\")]['대학전공'].value_counts()"
   ]
  },
  {
   "cell_type": "code",
   "execution_count": 371,
   "id": "0b5566a0",
   "metadata": {
    "colab": {
     "base_uri": "https://localhost:8080/"
    },
    "executionInfo": {
     "elapsed": 10,
     "status": "ok",
     "timestamp": 1713317922763,
     "user": {
      "displayName": "전영호",
      "userId": "17928441635701806568"
     },
     "user_tz": -540
    },
    "id": "0b5566a0",
    "outputId": "99fe747f-47a5-4207-e6fe-2b0f10ffe8a4"
   },
   "outputs": [
    {
     "data": {
      "text/plain": [
       "대학전공\n",
       "패션    137\n",
       "Name: count, dtype: int64"
      ]
     },
     "execution_count": 371,
     "metadata": {},
     "output_type": "execute_result"
    }
   ],
   "source": [
    "a = X_train_pre[X_train_pre['대학전공'].str.contains(\"패션\")]\n",
    "a.loc[:, '대학전공'] = '패션'\n",
    "X_train_pre[X_train_pre['대학전공'].str.contains(\"패션\")] = a\n",
    "X_train_pre[X_train_pre['대학전공'].str.contains(\"패션\")]['대학전공'].value_counts()"
   ]
  },
  {
   "cell_type": "code",
   "execution_count": 372,
   "id": "47ce7096",
   "metadata": {
    "colab": {
     "base_uri": "https://localhost:8080/"
    },
    "executionInfo": {
     "elapsed": 8,
     "status": "ok",
     "timestamp": 1713317922763,
     "user": {
      "displayName": "전영호",
      "userId": "17928441635701806568"
     },
     "user_tz": -540
    },
    "id": "47ce7096",
    "outputId": "82a01b55-1fa6-4da2-f73a-026d2f52a281"
   },
   "outputs": [
    {
     "data": {
      "text/plain": [
       "대학전공\n",
       "소비자    15\n",
       "Name: count, dtype: int64"
      ]
     },
     "execution_count": 372,
     "metadata": {},
     "output_type": "execute_result"
    }
   ],
   "source": [
    "a = X_train_pre[X_train_pre['대학전공'].str.contains(\"소비자\")]\n",
    "a.loc[:, '대학전공'] = '소비자'\n",
    "X_train_pre[X_train_pre['대학전공'].str.contains(\"소비자\")] = a\n",
    "X_train_pre[X_train_pre['대학전공'].str.contains(\"소비자\")]['대학전공'].value_counts()"
   ]
  },
  {
   "cell_type": "code",
   "execution_count": 373,
   "id": "22ac3ee4",
   "metadata": {
    "colab": {
     "base_uri": "https://localhost:8080/"
    },
    "executionInfo": {
     "elapsed": 7,
     "status": "ok",
     "timestamp": 1713317922763,
     "user": {
      "displayName": "전영호",
      "userId": "17928441635701806568"
     },
     "user_tz": -540
    },
    "id": "22ac3ee4",
    "outputId": "ca69e4e3-2e69-47e9-c896-aeb0e2ada217"
   },
   "outputs": [
    {
     "data": {
      "text/plain": [
       "대학전공\n",
       "경찰    7\n",
       "Name: count, dtype: int64"
      ]
     },
     "execution_count": 373,
     "metadata": {},
     "output_type": "execute_result"
    }
   ],
   "source": [
    "a = X_train_pre[X_train_pre['대학전공'].str.contains(\"경찰\")]\n",
    "a.loc[:, '대학전공'] = '경찰'\n",
    "X_train_pre[X_train_pre['대학전공'].str.contains(\"경찰\")] = a\n",
    "X_train_pre[X_train_pre['대학전공'].str.contains(\"경찰\")]['대학전공'].value_counts()"
   ]
  },
  {
   "cell_type": "code",
   "execution_count": 374,
   "id": "3942cf2c",
   "metadata": {
    "colab": {
     "base_uri": "https://localhost:8080/"
    },
    "executionInfo": {
     "elapsed": 6,
     "status": "ok",
     "timestamp": 1713317922763,
     "user": {
      "displayName": "전영호",
      "userId": "17928441635701806568"
     },
     "user_tz": -540
    },
    "id": "3942cf2c",
    "outputId": "63001b11-f358-4af3-c0cf-e53eaf1286dd"
   },
   "outputs": [
    {
     "data": {
      "text/plain": [
       "대학전공\n",
       "행정    237\n",
       "Name: count, dtype: int64"
      ]
     },
     "execution_count": 374,
     "metadata": {},
     "output_type": "execute_result"
    }
   ],
   "source": [
    "a = X_train_pre[X_train_pre['대학전공'].str.contains(\"행정\")]\n",
    "a.loc[:, '대학전공'] = '행정'\n",
    "X_train_pre[X_train_pre['대학전공'].str.contains(\"행정\")] = a\n",
    "X_train_pre[X_train_pre['대학전공'].str.contains(\"행정\")]['대학전공'].value_counts()"
   ]
  },
  {
   "cell_type": "code",
   "execution_count": 375,
   "id": "004b97aa",
   "metadata": {
    "colab": {
     "base_uri": "https://localhost:8080/"
    },
    "executionInfo": {
     "elapsed": 5,
     "status": "ok",
     "timestamp": 1713317922763,
     "user": {
      "displayName": "전영호",
      "userId": "17928441635701806568"
     },
     "user_tz": -540
    },
    "id": "004b97aa",
    "outputId": "25bf3657-b552-4ebb-884a-a54ba064190f"
   },
   "outputs": [
    {
     "data": {
      "text/plain": [
       "대학전공\n",
       "복지    69\n",
       "Name: count, dtype: int64"
      ]
     },
     "execution_count": 375,
     "metadata": {},
     "output_type": "execute_result"
    }
   ],
   "source": [
    "a = X_train_pre[X_train_pre['대학전공'].str.contains(\"복지\")]\n",
    "a.loc[:, '대학전공'] = '복지'\n",
    "X_train_pre[X_train_pre['대학전공'].str.contains(\"복지\")] = a\n",
    "X_train_pre[X_train_pre['대학전공'].str.contains(\"복지\")]['대학전공'].value_counts()"
   ]
  },
  {
   "cell_type": "code",
   "execution_count": 376,
   "id": "a1154ab8",
   "metadata": {
    "colab": {
     "base_uri": "https://localhost:8080/"
    },
    "executionInfo": {
     "elapsed": 4,
     "status": "ok",
     "timestamp": 1713317922763,
     "user": {
      "displayName": "전영호",
      "userId": "17928441635701806568"
     },
     "user_tz": -540
    },
    "id": "a1154ab8",
    "outputId": "bd0a549d-e548-483a-db97-5eee1eb9c4ec"
   },
   "outputs": [
    {
     "data": {
      "text/plain": [
       "대학전공\n",
       "통계    217\n",
       "Name: count, dtype: int64"
      ]
     },
     "execution_count": 376,
     "metadata": {},
     "output_type": "execute_result"
    }
   ],
   "source": [
    "a = X_train_pre[X_train_pre['대학전공'].str.contains(\"통계\")]\n",
    "a.loc[:, '대학전공'] = '통계'\n",
    "X_train_pre[X_train_pre['대학전공'].str.contains(\"통계\")] = a\n",
    "X_train_pre[X_train_pre['대학전공'].str.contains(\"통계\")]['대학전공'].value_counts()"
   ]
  },
  {
   "cell_type": "code",
   "execution_count": 377,
   "id": "0458e548",
   "metadata": {
    "colab": {
     "base_uri": "https://localhost:8080/"
    },
    "executionInfo": {
     "elapsed": 2,
     "status": "ok",
     "timestamp": 1713317922763,
     "user": {
      "displayName": "전영호",
      "userId": "17928441635701806568"
     },
     "user_tz": -540
    },
    "id": "0458e548",
    "outputId": "9b1b737d-c528-48b1-d6e9-739b5680d3ca"
   },
   "outputs": [
    {
     "data": {
      "text/plain": [
       "대학전공\n",
       "스포츠    11\n",
       "Name: count, dtype: int64"
      ]
     },
     "execution_count": 377,
     "metadata": {},
     "output_type": "execute_result"
    }
   ],
   "source": [
    "a = X_train_pre[X_train_pre['대학전공'].str.contains(\"스포츠\")]\n",
    "a.loc[:, '대학전공'] = '스포츠'\n",
    "X_train_pre[X_train_pre['대학전공'].str.contains(\"스포츠\")] = a\n",
    "X_train_pre[X_train_pre['대학전공'].str.contains(\"스포츠\")]['대학전공'].value_counts()"
   ]
  },
  {
   "cell_type": "code",
   "execution_count": 378,
   "id": "fbde3244",
   "metadata": {
    "colab": {
     "base_uri": "https://localhost:8080/"
    },
    "executionInfo": {
     "elapsed": 693,
     "status": "ok",
     "timestamp": 1713317923455,
     "user": {
      "displayName": "전영호",
      "userId": "17928441635701806568"
     },
     "user_tz": -540
    },
    "id": "fbde3244",
    "outputId": "64a959d2-de5d-499e-aa9a-a30f90e4081e"
   },
   "outputs": [
    {
     "data": {
      "text/plain": [
       "대학전공\n",
       "컴퓨터            207\n",
       "컴퓨터공학          200\n",
       "컴퓨터공학과         100\n",
       "컴퓨터학과           34\n",
       "컴퓨터과학           25\n",
       "              ... \n",
       "컴퓨터수리정보          1\n",
       "컴퓨터공학전공          1\n",
       "컴퓨터학과, 물리학과      1\n",
       "컴퓨터정보통신공학        1\n",
       "컴퓨터응용과학과         1\n",
       "Name: count, Length: 70, dtype: int64"
      ]
     },
     "execution_count": 378,
     "metadata": {},
     "output_type": "execute_result"
    }
   ],
   "source": [
    "a = X_train_pre[X_train_pre['대학전공'].str.contains(\"전자계\")]\n",
    "a.loc[:, '대학전공'] = '컴퓨터'\n",
    "X_train_pre[X_train_pre['대학전공'].str.contains(\"전자계\")] = a\n",
    "X_train_pre[X_train_pre['대학전공'].str.contains(\"컴퓨터\")]['대학전공'].value_counts()"
   ]
  },
  {
   "cell_type": "code",
   "execution_count": 379,
   "id": "be826c6e",
   "metadata": {
    "colab": {
     "base_uri": "https://localhost:8080/"
    },
    "executionInfo": {
     "elapsed": 11,
     "status": "ok",
     "timestamp": 1713317923456,
     "user": {
      "displayName": "전영호",
      "userId": "17928441635701806568"
     },
     "user_tz": -540
    },
    "id": "be826c6e",
    "outputId": "d36c1000-3f53-44c7-f3b3-2739290f3180"
   },
   "outputs": [
    {
     "data": {
      "text/plain": [
       "대학전공\n",
       "재료공    80\n",
       "Name: count, dtype: int64"
      ]
     },
     "execution_count": 379,
     "metadata": {},
     "output_type": "execute_result"
    }
   ],
   "source": [
    "a = X_train_pre[X_train_pre['대학전공'].str.contains(\"재료\")]\n",
    "a.loc[:, '대학전공'] = '재료공'\n",
    "X_train_pre[X_train_pre['대학전공'].str.contains(\"재료\")] = a\n",
    "X_train_pre[X_train_pre['대학전공'].str.contains(\"재료공\")]['대학전공'].value_counts()"
   ]
  },
  {
   "cell_type": "code",
   "execution_count": 380,
   "id": "a947f07c",
   "metadata": {
    "colab": {
     "base_uri": "https://localhost:8080/"
    },
    "executionInfo": {
     "elapsed": 10,
     "status": "ok",
     "timestamp": 1713317923456,
     "user": {
      "displayName": "전영호",
      "userId": "17928441635701806568"
     },
     "user_tz": -540
    },
    "id": "a947f07c",
    "outputId": "c4f3b3d6-f3e7-4cda-cf20-538458a017c1"
   },
   "outputs": [
    {
     "data": {
      "text/plain": [
       "대학전공\n",
       "방송    123\n",
       "Name: count, dtype: int64"
      ]
     },
     "execution_count": 380,
     "metadata": {},
     "output_type": "execute_result"
    }
   ],
   "source": [
    "a = X_train_pre[X_train_pre['대학전공'].str.contains(\"방송\")]\n",
    "a.loc[:, '대학전공'] = '방송'\n",
    "X_train_pre[X_train_pre['대학전공'].str.contains(\"방송\")] = a\n",
    "X_train_pre[X_train_pre['대학전공'].str.contains(\"방송\")]['대학전공'].value_counts()"
   ]
  },
  {
   "cell_type": "code",
   "execution_count": 381,
   "id": "2365a111",
   "metadata": {
    "colab": {
     "base_uri": "https://localhost:8080/"
    },
    "executionInfo": {
     "elapsed": 9,
     "status": "ok",
     "timestamp": 1713317923456,
     "user": {
      "displayName": "전영호",
      "userId": "17928441635701806568"
     },
     "user_tz": -540
    },
    "id": "2365a111",
    "outputId": "7165f472-510a-434e-b1ba-4ceb5e9e6a1f"
   },
   "outputs": [
    {
     "data": {
      "text/plain": [
       "대학전공\n",
       "통신    236\n",
       "Name: count, dtype: int64"
      ]
     },
     "execution_count": 381,
     "metadata": {},
     "output_type": "execute_result"
    }
   ],
   "source": [
    "a = X_train_pre[X_train_pre['대학전공'].str.contains(\"통신\")]\n",
    "a.loc[:, '대학전공'] = '통신'\n",
    "X_train_pre[X_train_pre['대학전공'].str.contains(\"통신\")] = a\n",
    "X_train_pre[X_train_pre['대학전공'].str.contains(\"통신\")]['대학전공'].value_counts()"
   ]
  },
  {
   "cell_type": "code",
   "execution_count": 382,
   "id": "7e4a3e89",
   "metadata": {
    "colab": {
     "base_uri": "https://localhost:8080/"
    },
    "executionInfo": {
     "elapsed": 8,
     "status": "ok",
     "timestamp": 1713317923456,
     "user": {
      "displayName": "전영호",
      "userId": "17928441635701806568"
     },
     "user_tz": -540
    },
    "id": "7e4a3e89",
    "outputId": "84a99a9e-7e86-484b-ec87-d2f52234f416"
   },
   "outputs": [
    {
     "data": {
      "text/plain": [
       "대학전공\n",
       "전자    393\n",
       "Name: count, dtype: int64"
      ]
     },
     "execution_count": 382,
     "metadata": {},
     "output_type": "execute_result"
    }
   ],
   "source": [
    "a = X_train_pre[X_train_pre['대학전공'].str.contains(\"전자\")]\n",
    "a.loc[:, '대학전공'] = '전자'\n",
    "X_train_pre[X_train_pre['대학전공'].str.contains(\"전자\")] = a\n",
    "X_train_pre[X_train_pre['대학전공'].str.contains(\"전자\")]['대학전공'].value_counts()"
   ]
  },
  {
   "cell_type": "code",
   "execution_count": 383,
   "id": "3fa6bbfc",
   "metadata": {
    "colab": {
     "base_uri": "https://localhost:8080/"
    },
    "executionInfo": {
     "elapsed": 8,
     "status": "ok",
     "timestamp": 1713317923456,
     "user": {
      "displayName": "전영호",
      "userId": "17928441635701806568"
     },
     "user_tz": -540
    },
    "id": "3fa6bbfc",
    "outputId": "e4f106a3-0ed3-4efe-c2b7-025409486002"
   },
   "outputs": [
    {
     "data": {
      "text/plain": [
       "대학전공\n",
       "건축    136\n",
       "Name: count, dtype: int64"
      ]
     },
     "execution_count": 383,
     "metadata": {},
     "output_type": "execute_result"
    }
   ],
   "source": [
    "a = X_train_pre[X_train_pre['대학전공'].str.contains(\"건축\")]\n",
    "a.loc[:, '대학전공'] = '건축'\n",
    "X_train_pre[X_train_pre['대학전공'].str.contains(\"건축\")] = a\n",
    "X_train_pre[X_train_pre['대학전공'].str.contains(\"건축\")]['대학전공'].value_counts()"
   ]
  },
  {
   "cell_type": "code",
   "execution_count": 384,
   "id": "519b40cb",
   "metadata": {
    "colab": {
     "base_uri": "https://localhost:8080/"
    },
    "executionInfo": {
     "elapsed": 7,
     "status": "ok",
     "timestamp": 1713317923456,
     "user": {
      "displayName": "전영호",
      "userId": "17928441635701806568"
     },
     "user_tz": -540
    },
    "id": "519b40cb",
    "outputId": "3e9b2f9e-cc4b-408f-c58e-5ae5d70ac75b"
   },
   "outputs": [
    {
     "data": {
      "text/plain": [
       "대학전공\n",
       "의상디1자인    136\n",
       "Name: count, dtype: int64"
      ]
     },
     "execution_count": 384,
     "metadata": {},
     "output_type": "execute_result"
    }
   ],
   "source": [
    "a = X_train_pre[X_train_pre['대학전공'].str.contains(\"의상\")]\n",
    "a.loc[:, '대학전공'] = '의상디1자인'\n",
    "X_train_pre[X_train_pre['대학전공'].str.contains(\"의상\")] = a\n",
    "X_train_pre[X_train_pre['대학전공'].str.contains(\"의상디1자인\")]['대학전공'].value_counts()"
   ]
  },
  {
   "cell_type": "code",
   "execution_count": 385,
   "id": "b00f83e3",
   "metadata": {
    "colab": {
     "base_uri": "https://localhost:8080/"
    },
    "executionInfo": {
     "elapsed": 6,
     "status": "ok",
     "timestamp": 1713317923456,
     "user": {
      "displayName": "전영호",
      "userId": "17928441635701806568"
     },
     "user_tz": -540
    },
    "id": "b00f83e3",
    "outputId": "7277938c-fb83-411a-9aa7-361c84891c6e"
   },
   "outputs": [
    {
     "data": {
      "text/plain": [
       "대학전공\n",
       "시각디1자인    92\n",
       "Name: count, dtype: int64"
      ]
     },
     "execution_count": 385,
     "metadata": {},
     "output_type": "execute_result"
    }
   ],
   "source": [
    "a = X_train_pre[X_train_pre['대학전공'].str.contains(\"시각\")]\n",
    "a.loc[:, '대학전공'] = '시각디1자인'\n",
    "X_train_pre[X_train_pre['대학전공'].str.contains(\"시각\")] = a\n",
    "X_train_pre[X_train_pre['대학전공'].str.contains(\"시각디1자인\")]['대학전공'].value_counts()"
   ]
  },
  {
   "cell_type": "code",
   "execution_count": 386,
   "id": "47a7d47c",
   "metadata": {
    "colab": {
     "base_uri": "https://localhost:8080/"
    },
    "executionInfo": {
     "elapsed": 5,
     "status": "ok",
     "timestamp": 1713317923456,
     "user": {
      "displayName": "전영호",
      "userId": "17928441635701806568"
     },
     "user_tz": -540
    },
    "id": "47a7d47c",
    "outputId": "79c727c0-b03e-4dac-a3b6-870e53fb9e2f"
   },
   "outputs": [
    {
     "data": {
      "text/plain": [
       "대학전공\n",
       "산업디1자인    160\n",
       "Name: count, dtype: int64"
      ]
     },
     "execution_count": 386,
     "metadata": {},
     "output_type": "execute_result"
    }
   ],
   "source": [
    "a = X_train_pre[X_train_pre['대학전공'].str.contains(\"산업디\")]\n",
    "a.loc[:, '대학전공'] = '산업디1자인'\n",
    "X_train_pre[X_train_pre['대학전공'].str.contains(\"산업디\")] = a\n",
    "X_train_pre[X_train_pre['대학전공'].str.contains(\"산업디1자인\")]['대학전공'].value_counts()"
   ]
  },
  {
   "cell_type": "code",
   "execution_count": 387,
   "id": "fe851507",
   "metadata": {
    "colab": {
     "base_uri": "https://localhost:8080/"
    },
    "executionInfo": {
     "elapsed": 4,
     "status": "ok",
     "timestamp": 1713317923456,
     "user": {
      "displayName": "전영호",
      "userId": "17928441635701806568"
     },
     "user_tz": -540
    },
    "id": "fe851507",
    "outputId": "da542e84-2153-440b-f8a1-46e1fad5eaaf"
   },
   "outputs": [
    {
     "data": {
      "text/plain": [
       "대학전공\n",
       "경제    421\n",
       "Name: count, dtype: int64"
      ]
     },
     "execution_count": 387,
     "metadata": {},
     "output_type": "execute_result"
    }
   ],
   "source": [
    "a = X_train_pre[X_train_pre['대학전공'].str.contains(\"경제\")]\n",
    "a.loc[:, '대학전공'] = '경제'\n",
    "X_train_pre[X_train_pre['대학전공'].str.contains(\"경제\")] = a\n",
    "X_train_pre[X_train_pre['대학전공'].str.contains(\"경제\")]['대학전공'].value_counts()"
   ]
  },
  {
   "cell_type": "code",
   "execution_count": 388,
   "id": "24960af8",
   "metadata": {
    "colab": {
     "base_uri": "https://localhost:8080/"
    },
    "executionInfo": {
     "elapsed": 4,
     "status": "ok",
     "timestamp": 1713317923456,
     "user": {
      "displayName": "전영호",
      "userId": "17928441635701806568"
     },
     "user_tz": -540
    },
    "id": "24960af8",
    "outputId": "49be8e22-98f4-4c9e-cfba-0f4d35ee2e14"
   },
   "outputs": [
    {
     "data": {
      "text/plain": [
       "대학전공\n",
       "국제통상    50\n",
       "Name: count, dtype: int64"
      ]
     },
     "execution_count": 388,
     "metadata": {},
     "output_type": "execute_result"
    }
   ],
   "source": [
    "a = X_train_pre[X_train_pre['대학전공'].str.contains(\"통상\")]\n",
    "a.loc[:, '대학전공'] = '국제통상'\n",
    "X_train_pre[X_train_pre['대학전공'].str.contains(\"통상\")] = a\n",
    "X_train_pre[X_train_pre['대학전공'].str.contains(\"국제통상\")]['대학전공'].value_counts()"
   ]
  },
  {
   "cell_type": "code",
   "execution_count": 389,
   "id": "8c07626c",
   "metadata": {
    "colab": {
     "base_uri": "https://localhost:8080/"
    },
    "executionInfo": {
     "elapsed": 3,
     "status": "ok",
     "timestamp": 1713317923456,
     "user": {
      "displayName": "전영호",
      "userId": "17928441635701806568"
     },
     "user_tz": -540
    },
    "id": "8c07626c",
    "outputId": "49ea6baf-dbac-495f-c4f2-3947ac2fa685"
   },
   "outputs": [
    {
     "data": {
      "text/plain": [
       "대학전공\n",
       "국제통상    345\n",
       "Name: count, dtype: int64"
      ]
     },
     "execution_count": 389,
     "metadata": {},
     "output_type": "execute_result"
    }
   ],
   "source": [
    "a = X_train_pre[X_train_pre['대학전공'].str.contains(\"무역\")]\n",
    "a.loc[:, '대학전공'] = '국제통상'\n",
    "X_train_pre[X_train_pre['대학전공'].str.contains(\"무역\")] = a\n",
    "X_train_pre[X_train_pre['대학전공'].str.contains(\"국제통상\")]['대학전공'].value_counts()"
   ]
  },
  {
   "cell_type": "code",
   "execution_count": 390,
   "id": "10aeb3cc",
   "metadata": {
    "colab": {
     "base_uri": "https://localhost:8080/"
    },
    "executionInfo": {
     "elapsed": 8,
     "status": "ok",
     "timestamp": 1713317924032,
     "user": {
      "displayName": "전영호",
      "userId": "17928441635701806568"
     },
     "user_tz": -540
    },
    "id": "10aeb3cc",
    "outputId": "01df3656-3018-4756-bce6-455c97181d55"
   },
   "outputs": [
    {
     "data": {
      "text/plain": [
       "대학전공\n",
       "일본              139\n",
       "일본어              36\n",
       "일본어학과             6\n",
       "일본학과              6\n",
       "일본학               5\n",
       "일본어학              2\n",
       "일본어과              2\n",
       "일본어 문학            1\n",
       "관광일본어             1\n",
       "동양어문학부 일본어과       1\n",
       "일어 일본학과           1\n",
       "일본어 학과            1\n",
       "관광일본어학과           1\n",
       "관광경영,일본어 부전공      1\n",
       "Name: count, dtype: int64"
      ]
     },
     "execution_count": 390,
     "metadata": {},
     "output_type": "execute_result"
    }
   ],
   "source": [
    "a = X_train_pre[X_train_pre['대학전공'].str.contains(\"일어일\")]\n",
    "a.loc[:, '대학전공'] = '일본'\n",
    "X_train_pre[X_train_pre['대학전공'].str.contains(\"일어일\")] = a\n",
    "X_train_pre[X_train_pre['대학전공'].str.contains(\"일본\")]['대학전공'].value_counts()"
   ]
  },
  {
   "cell_type": "code",
   "execution_count": 391,
   "id": "0b64e8c2",
   "metadata": {
    "colab": {
     "base_uri": "https://localhost:8080/"
    },
    "executionInfo": {
     "elapsed": 7,
     "status": "ok",
     "timestamp": 1713317924032,
     "user": {
      "displayName": "전영호",
      "userId": "17928441635701806568"
     },
     "user_tz": -540
    },
    "id": "0b64e8c2",
    "outputId": "a9f7391c-20a5-4338-de30-dcc651713594"
   },
   "outputs": [
    {
     "data": {
      "text/plain": [
       "대학전공\n",
       "일본    203\n",
       "Name: count, dtype: int64"
      ]
     },
     "execution_count": 391,
     "metadata": {},
     "output_type": "execute_result"
    }
   ],
   "source": [
    "a = X_train_pre[X_train_pre['대학전공'].str.contains(\"일본\")]\n",
    "a.loc[:, '대학전공'] = '일본'\n",
    "X_train_pre[X_train_pre['대학전공'].str.contains(\"일본\")] = a\n",
    "X_train_pre[X_train_pre['대학전공'].str.contains(\"일본\")]['대학전공'].value_counts()"
   ]
  },
  {
   "cell_type": "code",
   "execution_count": 392,
   "id": "21e50927",
   "metadata": {
    "colab": {
     "base_uri": "https://localhost:8080/"
    },
    "executionInfo": {
     "elapsed": 6,
     "status": "ok",
     "timestamp": 1713317924033,
     "user": {
      "displayName": "전영호",
      "userId": "17928441635701806568"
     },
     "user_tz": -540
    },
    "id": "21e50927",
    "outputId": "f1ae2ba1-b866-4917-913b-fc47871a1edf"
   },
   "outputs": [
    {
     "data": {
      "text/plain": [
       "대학전공\n",
       "일본    203\n",
       "Name: count, dtype: int64"
      ]
     },
     "execution_count": 392,
     "metadata": {},
     "output_type": "execute_result"
    }
   ],
   "source": [
    "a = X_train_pre[X_train_pre['대학전공'].str.contains(\"일문\")]\n",
    "a.loc[:, '대학전공'] = '일본'\n",
    "X_train_pre[X_train_pre['대학전공'].str.contains(\"일문\")] = a\n",
    "X_train_pre[X_train_pre['대학전공'].str.contains(\"일본\")]['대학전공'].value_counts()"
   ]
  },
  {
   "cell_type": "code",
   "execution_count": 393,
   "id": "093027cb",
   "metadata": {
    "colab": {
     "base_uri": "https://localhost:8080/"
    },
    "executionInfo": {
     "elapsed": 5,
     "status": "ok",
     "timestamp": 1713317924033,
     "user": {
      "displayName": "전영호",
      "userId": "17928441635701806568"
     },
     "user_tz": -540
    },
    "id": "093027cb",
    "outputId": "9d7e3682-3561-4224-f7b0-8bbc2660fa33"
   },
   "outputs": [
    {
     "data": {
      "text/plain": [
       "대학전공\n",
       "중국        136\n",
       "중국어        36\n",
       "중국학        20\n",
       "중국학과        9\n",
       "중국어학        5\n",
       "중국어학과       4\n",
       "중국어과        3\n",
       "관광중국어       1\n",
       "중국사         1\n",
       "중국어중국학      1\n",
       "중국언어문화      1\n",
       "Name: count, dtype: int64"
      ]
     },
     "execution_count": 393,
     "metadata": {},
     "output_type": "execute_result"
    }
   ],
   "source": [
    "a = X_train_pre[X_train_pre['대학전공'].str.contains(\"중어\")]\n",
    "a.loc[:, '대학전공'] = '중국'\n",
    "X_train_pre[X_train_pre['대학전공'].str.contains(\"중어\")] = a\n",
    "X_train_pre[X_train_pre['대학전공'].str.contains(\"중국\")]['대학전공'].value_counts()"
   ]
  },
  {
   "cell_type": "code",
   "execution_count": 394,
   "id": "383f09b1",
   "metadata": {
    "colab": {
     "base_uri": "https://localhost:8080/"
    },
    "executionInfo": {
     "elapsed": 4,
     "status": "ok",
     "timestamp": 1713317924033,
     "user": {
      "displayName": "전영호",
      "userId": "17928441635701806568"
     },
     "user_tz": -540
    },
    "id": "383f09b1",
    "outputId": "1f5681ab-5998-4f81-986e-1b8568a94eef"
   },
   "outputs": [
    {
     "data": {
      "text/plain": [
       "대학전공\n",
       "중국    217\n",
       "Name: count, dtype: int64"
      ]
     },
     "execution_count": 394,
     "metadata": {},
     "output_type": "execute_result"
    }
   ],
   "source": [
    "a = X_train_pre[X_train_pre['대학전공'].str.contains(\"중국\")]\n",
    "a.loc[:, '대학전공'] = '중국'\n",
    "X_train_pre[X_train_pre['대학전공'].str.contains(\"중국\")] = a\n",
    "X_train_pre[X_train_pre['대학전공'].str.contains(\"중국\")]['대학전공'].value_counts()"
   ]
  },
  {
   "cell_type": "code",
   "execution_count": 395,
   "id": "b8f3096e",
   "metadata": {
    "colab": {
     "base_uri": "https://localhost:8080/"
    },
    "executionInfo": {
     "elapsed": 3,
     "status": "ok",
     "timestamp": 1713317924033,
     "user": {
      "displayName": "전영호",
      "userId": "17928441635701806568"
     },
     "user_tz": -540
    },
    "id": "b8f3096e",
    "outputId": "438207e3-b8fc-4518-dea1-b0e628bbef11"
   },
   "outputs": [
    {
     "data": {
      "text/plain": [
       "대학전공\n",
       "중국    222\n",
       "Name: count, dtype: int64"
      ]
     },
     "execution_count": 395,
     "metadata": {},
     "output_type": "execute_result"
    }
   ],
   "source": [
    "a = X_train_pre[X_train_pre['대학전공'].str.contains(\"중문\")]\n",
    "a.loc[:, '대학전공'] = '중국'\n",
    "X_train_pre[X_train_pre['대학전공'].str.contains(\"중문\")] = a\n",
    "X_train_pre[X_train_pre['대학전공'].str.contains(\"중국\")]['대학전공'].value_counts()"
   ]
  },
  {
   "cell_type": "code",
   "execution_count": 396,
   "id": "1012e334",
   "metadata": {
    "colab": {
     "base_uri": "https://localhost:8080/"
    },
    "executionInfo": {
     "elapsed": 567,
     "status": "ok",
     "timestamp": 1713317924598,
     "user": {
      "displayName": "전영호",
      "userId": "17928441635701806568"
     },
     "user_tz": -540
    },
    "id": "1012e334",
    "outputId": "171c3bca-2612-4d50-8886-a969bfb1d163"
   },
   "outputs": [
    {
     "data": {
      "text/plain": [
       "대학전공\n",
       "영어    404\n",
       "Name: count, dtype: int64"
      ]
     },
     "execution_count": 396,
     "metadata": {},
     "output_type": "execute_result"
    }
   ],
   "source": [
    "a = X_train_pre[X_train_pre['대학전공'].str.contains(\"영어\")]\n",
    "a.loc[:, '대학전공'] = '영어'\n",
    "X_train_pre[X_train_pre['대학전공'].str.contains(\"영어\")] = a\n",
    "X_train_pre[X_train_pre['대학전공'].str.contains(\"영어\")]['대학전공'].value_counts()"
   ]
  },
  {
   "cell_type": "code",
   "execution_count": 397,
   "id": "81ae4944",
   "metadata": {
    "colab": {
     "base_uri": "https://localhost:8080/"
    },
    "executionInfo": {
     "elapsed": 3,
     "status": "ok",
     "timestamp": 1713317924598,
     "user": {
      "displayName": "전영호",
      "userId": "17928441635701806568"
     },
     "user_tz": -540
    },
    "id": "81ae4944",
    "outputId": "d394b580-b8fc-41f0-a429-ee15d2c304b0"
   },
   "outputs": [
    {
     "data": {
      "text/plain": [
       "대학전공\n",
       "영어    447\n",
       "Name: count, dtype: int64"
      ]
     },
     "execution_count": 397,
     "metadata": {},
     "output_type": "execute_result"
    }
   ],
   "source": [
    "a = X_train_pre[X_train_pre['대학전공'].str.contains(\"영문\")]\n",
    "a.loc[:, '대학전공'] = '영어'\n",
    "X_train_pre[X_train_pre['대학전공'].str.contains(\"영문\")] = a\n",
    "X_train_pre[X_train_pre['대학전공'].str.contains(\"영어\")]['대학전공'].value_counts()"
   ]
  },
  {
   "cell_type": "code",
   "execution_count": 398,
   "id": "f7f1fb85",
   "metadata": {
    "colab": {
     "base_uri": "https://localhost:8080/"
    },
    "executionInfo": {
     "elapsed": 1,
     "status": "ok",
     "timestamp": 1713317924598,
     "user": {
      "displayName": "전영호",
      "userId": "17928441635701806568"
     },
     "user_tz": -540
    },
    "id": "f7f1fb85",
    "outputId": "71682411-faf1-439c-edd1-9d1d1ee95c97"
   },
   "outputs": [
    {
     "data": {
      "text/plain": [
       "대학전공\n",
       "국어    129\n",
       "Name: count, dtype: int64"
      ]
     },
     "execution_count": 398,
     "metadata": {},
     "output_type": "execute_result"
    }
   ],
   "source": [
    "a = X_train_pre[X_train_pre['대학전공'].str.contains(\"국어\")]\n",
    "a.loc[:, '대학전공'] = '국어'\n",
    "X_train_pre[X_train_pre['대학전공'].str.contains(\"국어\")] = a\n",
    "X_train_pre[X_train_pre['대학전공'].str.contains(\"국어\")]['대학전공'].value_counts()"
   ]
  },
  {
   "cell_type": "code",
   "execution_count": 399,
   "id": "040ffedc",
   "metadata": {
    "colab": {
     "base_uri": "https://localhost:8080/"
    },
    "executionInfo": {
     "elapsed": 775,
     "status": "ok",
     "timestamp": 1713317925372,
     "user": {
      "displayName": "전영호",
      "userId": "17928441635701806568"
     },
     "user_tz": -540
    },
    "id": "040ffedc",
    "outputId": "e15880b7-e7ae-4bf4-aef9-2965203a3725"
   },
   "outputs": [
    {
     "data": {
      "text/plain": [
       "대학전공\n",
       "국어    137\n",
       "Name: count, dtype: int64"
      ]
     },
     "execution_count": 399,
     "metadata": {},
     "output_type": "execute_result"
    }
   ],
   "source": [
    "a = X_train_pre[X_train_pre['대학전공'].str.contains(\"국문\")]\n",
    "a.loc[:, '대학전공'] = '국어'\n",
    "X_train_pre[X_train_pre['대학전공'].str.contains(\"국문\")] = a\n",
    "X_train_pre[X_train_pre['대학전공'].str.contains(\"국어\")]['대학전공'].value_counts()"
   ]
  },
  {
   "cell_type": "code",
   "execution_count": 400,
   "id": "3d4c7676",
   "metadata": {
    "colab": {
     "base_uri": "https://localhost:8080/"
    },
    "executionInfo": {
     "elapsed": 8,
     "status": "ok",
     "timestamp": 1713317925372,
     "user": {
      "displayName": "전영호",
      "userId": "17928441635701806568"
     },
     "user_tz": -540
    },
    "id": "3d4c7676",
    "outputId": "62d4ad9a-41bf-4605-ba86-66c768d9e53c"
   },
   "outputs": [
    {
     "data": {
      "text/plain": [
       "대학전공\n",
       "러시아      13\n",
       "러시아학      5\n",
       "러시아학과     3\n",
       "러시아어      2\n",
       "러시아어/     1\n",
       "러시아과      1\n",
       "Name: count, dtype: int64"
      ]
     },
     "execution_count": 400,
     "metadata": {},
     "output_type": "execute_result"
    }
   ],
   "source": [
    "a = X_train_pre[X_train_pre['대학전공'].str.contains(\"노어\")]\n",
    "a.loc[:, '대학전공'] = '러시아'\n",
    "X_train_pre[X_train_pre['대학전공'].str.contains(\"노어\")] = a\n",
    "X_train_pre[X_train_pre['대학전공'].str.contains(\"러시아\")]['대학전공'].value_counts()"
   ]
  },
  {
   "cell_type": "code",
   "execution_count": 401,
   "id": "c6cd5d1e",
   "metadata": {
    "colab": {
     "base_uri": "https://localhost:8080/"
    },
    "executionInfo": {
     "elapsed": 7,
     "status": "ok",
     "timestamp": 1713317925372,
     "user": {
      "displayName": "전영호",
      "userId": "17928441635701806568"
     },
     "user_tz": -540
    },
    "id": "c6cd5d1e",
    "outputId": "dc332567-5fdf-4a66-834e-9ac5aba06523"
   },
   "outputs": [
    {
     "data": {
      "text/plain": [
       "대학전공\n",
       "러시아    25\n",
       "Name: count, dtype: int64"
      ]
     },
     "execution_count": 401,
     "metadata": {},
     "output_type": "execute_result"
    }
   ],
   "source": [
    "a = X_train_pre[X_train_pre['대학전공'].str.contains(\"러시아\")]\n",
    "a.loc[:, '대학전공'] = '러시아'\n",
    "X_train_pre[X_train_pre['대학전공'].str.contains(\"러시아\")] = a\n",
    "X_train_pre[X_train_pre['대학전공'].str.contains(\"러시아\")]['대학전공'].value_counts()"
   ]
  },
  {
   "cell_type": "code",
   "execution_count": 402,
   "id": "240afa25",
   "metadata": {
    "colab": {
     "base_uri": "https://localhost:8080/"
    },
    "executionInfo": {
     "elapsed": 6,
     "status": "ok",
     "timestamp": 1713317925372,
     "user": {
      "displayName": "전영호",
      "userId": "17928441635701806568"
     },
     "user_tz": -540
    },
    "id": "240afa25",
    "outputId": "6b5cf0af-3fd8-4dd6-a5c0-c5844ecafb3d"
   },
   "outputs": [
    {
     "data": {
      "text/plain": [
       "대학전공\n",
       "러시아    25\n",
       "Name: count, dtype: int64"
      ]
     },
     "execution_count": 402,
     "metadata": {},
     "output_type": "execute_result"
    }
   ],
   "source": [
    "a = X_train_pre[X_train_pre['대학전공'].str.contains(\"노문\")]\n",
    "a.loc[:, '대학전공'] = '러시아'\n",
    "X_train_pre[X_train_pre['대학전공'].str.contains(\"노문\")] = a\n",
    "X_train_pre[X_train_pre['대학전공'].str.contains(\"러시아\")]['대학전공'].value_counts()"
   ]
  },
  {
   "cell_type": "code",
   "execution_count": 403,
   "id": "cc4d6964",
   "metadata": {
    "colab": {
     "base_uri": "https://localhost:8080/"
    },
    "executionInfo": {
     "elapsed": 5,
     "status": "ok",
     "timestamp": 1713317925372,
     "user": {
      "displayName": "전영호",
      "userId": "17928441635701806568"
     },
     "user_tz": -540
    },
    "id": "cc4d6964",
    "outputId": "98ce127c-5a23-4fef-d598-f185078c6395"
   },
   "outputs": [
    {
     "data": {
      "text/plain": [
       "대학전공\n",
       "프랑스        104\n",
       "프랑스어         1\n",
       "프랑스어문학과      1\n",
       "프랑스어학과       1\n",
       "Name: count, dtype: int64"
      ]
     },
     "execution_count": 403,
     "metadata": {},
     "output_type": "execute_result"
    }
   ],
   "source": [
    "a = X_train_pre[X_train_pre['대학전공'].str.contains(\"불어\")]\n",
    "a.loc[:, '대학전공'] = '프랑스'\n",
    "X_train_pre[X_train_pre['대학전공'].str.contains(\"불어\")] = a\n",
    "X_train_pre[X_train_pre['대학전공'].str.contains(\"프랑스\")]['대학전공'].value_counts()"
   ]
  },
  {
   "cell_type": "code",
   "execution_count": 404,
   "id": "a574d41c",
   "metadata": {
    "colab": {
     "base_uri": "https://localhost:8080/"
    },
    "executionInfo": {
     "elapsed": 4,
     "status": "ok",
     "timestamp": 1713317925372,
     "user": {
      "displayName": "전영호",
      "userId": "17928441635701806568"
     },
     "user_tz": -540
    },
    "id": "a574d41c",
    "outputId": "d1c27633-e9be-4139-9dfc-7a813d457321"
   },
   "outputs": [
    {
     "data": {
      "text/plain": [
       "대학전공\n",
       "프랑스    107\n",
       "Name: count, dtype: int64"
      ]
     },
     "execution_count": 404,
     "metadata": {},
     "output_type": "execute_result"
    }
   ],
   "source": [
    "a = X_train_pre[X_train_pre['대학전공'].str.contains(\"프랑스\")]\n",
    "a.loc[:, '대학전공'] = '프랑스'\n",
    "X_train_pre[X_train_pre['대학전공'].str.contains(\"프랑스\")] = a\n",
    "X_train_pre[X_train_pre['대학전공'].str.contains(\"프랑스\")]['대학전공'].value_counts()"
   ]
  },
  {
   "cell_type": "code",
   "execution_count": 405,
   "id": "918f4255",
   "metadata": {
    "colab": {
     "base_uri": "https://localhost:8080/"
    },
    "executionInfo": {
     "elapsed": 3,
     "status": "ok",
     "timestamp": 1713317925372,
     "user": {
      "displayName": "전영호",
      "userId": "17928441635701806568"
     },
     "user_tz": -540
    },
    "id": "918f4255",
    "outputId": "dea774ba-55c0-4ae0-d5c3-08e39bb7634e"
   },
   "outputs": [
    {
     "data": {
      "text/plain": [
       "대학전공\n",
       "프랑스    113\n",
       "Name: count, dtype: int64"
      ]
     },
     "execution_count": 405,
     "metadata": {},
     "output_type": "execute_result"
    }
   ],
   "source": [
    "a = X_train_pre[X_train_pre['대학전공'].str.contains(\"불문\")]\n",
    "a.loc[:, '대학전공'] = '프랑스'\n",
    "X_train_pre[X_train_pre['대학전공'].str.contains(\"불문\")] = a\n",
    "X_train_pre[X_train_pre['대학전공'].str.contains(\"프랑스\")]['대학전공'].value_counts()"
   ]
  },
  {
   "cell_type": "code",
   "execution_count": 406,
   "id": "6c51b71e",
   "metadata": {
    "colab": {
     "base_uri": "https://localhost:8080/"
    },
    "executionInfo": {
     "elapsed": 9,
     "status": "ok",
     "timestamp": 1713317925935,
     "user": {
      "displayName": "전영호",
      "userId": "17928441635701806568"
     },
     "user_tz": -540
    },
    "id": "6c51b71e",
    "outputId": "dc185184-11dd-4d82-c81e-96a2074fcf63"
   },
   "outputs": [
    {
     "data": {
      "text/plain": [
       "대학전공\n",
       "독일          83\n",
       "독일어          5\n",
       "독일학과         1\n",
       "독일언어문화학      1\n",
       "독일언어문화학과     1\n",
       "Name: count, dtype: int64"
      ]
     },
     "execution_count": 406,
     "metadata": {},
     "output_type": "execute_result"
    }
   ],
   "source": [
    "a = X_train_pre[X_train_pre['대학전공'].str.contains(\"독어\")]\n",
    "a.loc[:, '대학전공'] = '독일'\n",
    "X_train_pre[X_train_pre['대학전공'].str.contains(\"독어\")] = a\n",
    "X_train_pre[X_train_pre['대학전공'].str.contains(\"독일\")]['대학전공'].value_counts()"
   ]
  },
  {
   "cell_type": "code",
   "execution_count": 407,
   "id": "efb38497",
   "metadata": {
    "colab": {
     "base_uri": "https://localhost:8080/"
    },
    "executionInfo": {
     "elapsed": 8,
     "status": "ok",
     "timestamp": 1713317925935,
     "user": {
      "displayName": "전영호",
      "userId": "17928441635701806568"
     },
     "user_tz": -540
    },
    "id": "efb38497",
    "outputId": "1eb9ae8f-1675-481b-f68d-78612e5b62ed"
   },
   "outputs": [
    {
     "data": {
      "text/plain": [
       "대학전공\n",
       "독일    91\n",
       "Name: count, dtype: int64"
      ]
     },
     "execution_count": 407,
     "metadata": {},
     "output_type": "execute_result"
    }
   ],
   "source": [
    "a = X_train_pre[X_train_pre['대학전공'].str.contains(\"독일\")]\n",
    "a.loc[:, '대학전공'] = '독일'\n",
    "X_train_pre[X_train_pre['대학전공'].str.contains(\"독일\")] = a\n",
    "X_train_pre[X_train_pre['대학전공'].str.contains(\"독일\")]['대학전공'].value_counts()"
   ]
  },
  {
   "cell_type": "code",
   "execution_count": 408,
   "id": "7e978a9e",
   "metadata": {
    "colab": {
     "base_uri": "https://localhost:8080/"
    },
    "executionInfo": {
     "elapsed": 5,
     "status": "ok",
     "timestamp": 1713317925935,
     "user": {
      "displayName": "전영호",
      "userId": "17928441635701806568"
     },
     "user_tz": -540
    },
    "id": "7e978a9e",
    "outputId": "5a1af0aa-ce96-4193-c88e-43c4c14f97a5"
   },
   "outputs": [
    {
     "data": {
      "text/plain": [
       "대학전공\n",
       "독일    98\n",
       "Name: count, dtype: int64"
      ]
     },
     "execution_count": 408,
     "metadata": {},
     "output_type": "execute_result"
    }
   ],
   "source": [
    "a = X_train_pre[X_train_pre['대학전공'].str.contains(\"독문\")]\n",
    "a.loc[:, '대학전공'] = '독일'\n",
    "X_train_pre[X_train_pre['대학전공'].str.contains(\"독문\")] = a\n",
    "X_train_pre[X_train_pre['대학전공'].str.contains(\"독일\")]['대학전공'].value_counts()"
   ]
  },
  {
   "cell_type": "code",
   "execution_count": 409,
   "id": "5a42d6b3",
   "metadata": {
    "colab": {
     "base_uri": "https://localhost:8080/"
    },
    "executionInfo": {
     "elapsed": 3,
     "status": "ok",
     "timestamp": 1713317925935,
     "user": {
      "displayName": "전영호",
      "userId": "17928441635701806568"
     },
     "user_tz": -540
    },
    "id": "5a42d6b3",
    "outputId": "76059d9c-4344-4ffd-cb94-13c7929aee9f"
   },
   "outputs": [
    {
     "data": {
      "text/plain": [
       "대학전공\n",
       "천문    7\n",
       "Name: count, dtype: int64"
      ]
     },
     "execution_count": 409,
     "metadata": {},
     "output_type": "execute_result"
    }
   ],
   "source": [
    "a = X_train_pre[X_train_pre['대학전공'].str.contains(\"천문\")]\n",
    "a.loc[:, '대학전공'] = '천문'\n",
    "X_train_pre[X_train_pre['대학전공'].str.contains(\"천문\")] = a\n",
    "X_train_pre[X_train_pre['대학전공'].str.contains(\"천문\")]['대학전공'].value_counts()"
   ]
  },
  {
   "cell_type": "code",
   "execution_count": 410,
   "id": "3207fd8a",
   "metadata": {
    "colab": {
     "base_uri": "https://localhost:8080/"
    },
    "executionInfo": {
     "elapsed": 6,
     "status": "ok",
     "timestamp": 1713317926565,
     "user": {
      "displayName": "전영호",
      "userId": "17928441635701806568"
     },
     "user_tz": -540
    },
    "id": "3207fd8a",
    "outputId": "03990cc6-2d46-4898-dde5-a430f7844d03"
   },
   "outputs": [
    {
     "data": {
      "text/plain": [
       "대학전공\n",
       "체육    98\n",
       "Name: count, dtype: int64"
      ]
     },
     "execution_count": 410,
     "metadata": {},
     "output_type": "execute_result"
    }
   ],
   "source": [
    "a = X_train_pre[X_train_pre['대학전공'].str.contains(\"체육\")]\n",
    "a.loc[:, '대학전공'] = '체육'\n",
    "X_train_pre[X_train_pre['대학전공'].str.contains(\"체육\")] = a\n",
    "X_train_pre[X_train_pre['대학전공'].str.contains(\"체육\")]['대학전공'].value_counts()"
   ]
  },
  {
   "cell_type": "code",
   "execution_count": 411,
   "id": "865f72be",
   "metadata": {
    "colab": {
     "base_uri": "https://localhost:8080/"
    },
    "executionInfo": {
     "elapsed": 4,
     "status": "ok",
     "timestamp": 1713317926565,
     "user": {
      "displayName": "전영호",
      "userId": "17928441635701806568"
     },
     "user_tz": -540
    },
    "id": "865f72be",
    "outputId": "cf39a6ea-798b-40f8-863d-3dfb31785292"
   },
   "outputs": [
    {
     "data": {
      "text/plain": [
       "대학전공\n",
       "사회    76\n",
       "Name: count, dtype: int64"
      ]
     },
     "execution_count": 411,
     "metadata": {},
     "output_type": "execute_result"
    }
   ],
   "source": [
    "a = X_train_pre[X_train_pre['대학전공'].str.contains(\"사회\")]\n",
    "a.loc[:, '대학전공'] = '사회'\n",
    "X_train_pre[X_train_pre['대학전공'].str.contains(\"사회\")] = a\n",
    "X_train_pre[X_train_pre['대학전공'].str.contains(\"사회\")]['대학전공'].value_counts()"
   ]
  },
  {
   "cell_type": "code",
   "execution_count": 412,
   "id": "130ebb65",
   "metadata": {
    "colab": {
     "base_uri": "https://localhost:8080/"
    },
    "executionInfo": {
     "elapsed": 2,
     "status": "ok",
     "timestamp": 1713317926565,
     "user": {
      "displayName": "전영호",
      "userId": "17928441635701806568"
     },
     "user_tz": -540
    },
    "id": "130ebb65",
    "outputId": "c9fc7a59-a78a-4d22-ce2b-cde09477dee7"
   },
   "outputs": [
    {
     "data": {
      "text/plain": [
       "대학전공\n",
       "기타문학    6\n",
       "Name: count, dtype: int64"
      ]
     },
     "execution_count": 412,
     "metadata": {},
     "output_type": "execute_result"
    }
   ],
   "source": [
    "a = X_train_pre[X_train_pre['대학전공'].str.contains(\"문학\")]\n",
    "a.loc[:, '대학전공'] = '기타문학'\n",
    "X_train_pre[X_train_pre['대학전공'].str.contains(\"문학\")] = a\n",
    "X_train_pre[X_train_pre['대학전공'].str.contains(\"기타문학\")]['대학전공'].value_counts()"
   ]
  },
  {
   "cell_type": "code",
   "execution_count": 413,
   "id": "e5280f9c",
   "metadata": {
    "colab": {
     "base_uri": "https://localhost:8080/"
    },
    "executionInfo": {
     "elapsed": 6,
     "status": "ok",
     "timestamp": 1713317927218,
     "user": {
      "displayName": "전영호",
      "userId": "17928441635701806568"
     },
     "user_tz": -540
    },
    "id": "e5280f9c",
    "outputId": "4eae8649-a701-4925-b8a5-e7b4317d020d"
   },
   "outputs": [
    {
     "data": {
      "text/plain": [
       "대학전공\n",
       "사학    97\n",
       "Name: count, dtype: int64"
      ]
     },
     "execution_count": 413,
     "metadata": {},
     "output_type": "execute_result"
    }
   ],
   "source": [
    "a = X_train_pre[X_train_pre['대학전공'].str.contains(\"사학\")]\n",
    "a.loc[:, '대학전공'] = '사학'\n",
    "X_train_pre[X_train_pre['대학전공'].str.contains(\"사학\")] = a\n",
    "X_train_pre[X_train_pre['대학전공'].str.contains(\"사학\")]['대학전공'].value_counts()"
   ]
  },
  {
   "cell_type": "code",
   "execution_count": 414,
   "id": "ad3011f3",
   "metadata": {
    "colab": {
     "base_uri": "https://localhost:8080/"
    },
    "executionInfo": {
     "elapsed": 5,
     "status": "ok",
     "timestamp": 1713317927218,
     "user": {
      "displayName": "전영호",
      "userId": "17928441635701806568"
     },
     "user_tz": -540
    },
    "id": "ad3011f3",
    "outputId": "881fa15d-653c-41b1-9a3c-0078d987ad37"
   },
   "outputs": [
    {
     "data": {
      "text/plain": [
       "대학전공\n",
       "사학    102\n",
       "Name: count, dtype: int64"
      ]
     },
     "execution_count": 414,
     "metadata": {},
     "output_type": "execute_result"
    }
   ],
   "source": [
    "a = X_train_pre[X_train_pre['대학전공'].str.contains(\"역사\")]\n",
    "a.loc[:, '대학전공'] = '사학'\n",
    "X_train_pre[X_train_pre['대학전공'].str.contains(\"역사\")] = a\n",
    "X_train_pre[X_train_pre['대학전공'].str.contains(\"사학\")]['대학전공'].value_counts()"
   ]
  },
  {
   "cell_type": "code",
   "execution_count": 415,
   "id": "f96e4d9e",
   "metadata": {
    "colab": {
     "base_uri": "https://localhost:8080/"
    },
    "executionInfo": {
     "elapsed": 3,
     "status": "ok",
     "timestamp": 1713317927218,
     "user": {
      "displayName": "전영호",
      "userId": "17928441635701806568"
     },
     "user_tz": -540
    },
    "id": "f96e4d9e",
    "outputId": "82f4b5aa-5651-4caa-8f3a-14f2d95a98c2"
   },
   "outputs": [
    {
     "data": {
      "text/plain": [
       "대학전공\n",
       "사학    103\n",
       "Name: count, dtype: int64"
      ]
     },
     "execution_count": 415,
     "metadata": {},
     "output_type": "execute_result"
    }
   ],
   "source": [
    "a = X_train_pre[X_train_pre['대학전공'].str.contains(\"국사\")]\n",
    "a.loc[:, '대학전공'] = '사학'\n",
    "X_train_pre[X_train_pre['대학전공'].str.contains(\"국사\")] = a\n",
    "X_train_pre[X_train_pre['대학전공'].str.contains(\"사학\")]['대학전공'].value_counts()"
   ]
  },
  {
   "cell_type": "code",
   "execution_count": 416,
   "id": "5202df1a",
   "metadata": {
    "colab": {
     "base_uri": "https://localhost:8080/"
    },
    "executionInfo": {
     "elapsed": 2,
     "status": "ok",
     "timestamp": 1713317927218,
     "user": {
      "displayName": "전영호",
      "userId": "17928441635701806568"
     },
     "user_tz": -540
    },
    "id": "5202df1a",
    "outputId": "887a3a1d-a4df-4174-ebb4-61a87451e992"
   },
   "outputs": [
    {
     "data": {
      "text/plain": [
       "대학전공\n",
       "사학    103\n",
       "Name: count, dtype: int64"
      ]
     },
     "execution_count": 416,
     "metadata": {},
     "output_type": "execute_result"
    }
   ],
   "source": [
    "a = X_train_pre[X_train_pre['대학전공'].str.contains(\"사하과\")]\n",
    "a.loc[:, '대학전공'] = '사학'\n",
    "X_train_pre[X_train_pre['대학전공'].str.contains(\"사하과\")] = a\n",
    "X_train_pre[X_train_pre['대학전공'].str.contains(\"사학\")]['대학전공'].value_counts()"
   ]
  },
  {
   "cell_type": "code",
   "execution_count": 417,
   "id": "b0b91496",
   "metadata": {
    "colab": {
     "base_uri": "https://localhost:8080/"
    },
    "executionInfo": {
     "elapsed": 4,
     "status": "ok",
     "timestamp": 1713317927816,
     "user": {
      "displayName": "전영호",
      "userId": "17928441635701806568"
     },
     "user_tz": -540
    },
    "id": "b0b91496",
    "outputId": "f5a948ff-c3ec-4a2b-8216-47e806f1d00c"
   },
   "outputs": [
    {
     "data": {
      "text/plain": [
       "대학전공\n",
       "기계    452\n",
       "Name: count, dtype: int64"
      ]
     },
     "execution_count": 417,
     "metadata": {},
     "output_type": "execute_result"
    }
   ],
   "source": [
    "a = X_train_pre[X_train_pre['대학전공'].str.contains(\"기계\")]\n",
    "a.loc[:, '대학전공'] = '기계'\n",
    "X_train_pre[X_train_pre['대학전공'].str.contains(\"기계\")] = a\n",
    "X_train_pre[X_train_pre['대학전공'].str.contains(\"기계\")]['대학전공'].value_counts()"
   ]
  },
  {
   "cell_type": "code",
   "execution_count": 418,
   "id": "58b9ce49",
   "metadata": {
    "colab": {
     "base_uri": "https://localhost:8080/"
    },
    "executionInfo": {
     "elapsed": 3,
     "status": "ok",
     "timestamp": 1713317927816,
     "user": {
      "displayName": "전영호",
      "userId": "17928441635701806568"
     },
     "user_tz": -540
    },
    "id": "58b9ce49",
    "outputId": "99b04865-b341-440d-a616-fcd9fb126f06"
   },
   "outputs": [
    {
     "data": {
      "text/plain": [
       "대학전공\n",
       "화1학공1학    156\n",
       "Name: count, dtype: int64"
      ]
     },
     "execution_count": 418,
     "metadata": {},
     "output_type": "execute_result"
    }
   ],
   "source": [
    "a = X_train_pre[X_train_pre['대학전공'].str.contains(\"화학공\")]\n",
    "a.loc[:, '대학전공'] = '화1학공1학'\n",
    "X_train_pre[X_train_pre['대학전공'].str.contains(\"화학공\")] = a\n",
    "X_train_pre[X_train_pre['대학전공'].str.contains(\"화1학공1학\")]['대학전공'].value_counts()"
   ]
  },
  {
   "cell_type": "code",
   "execution_count": 419,
   "id": "bb4a15b2",
   "metadata": {
    "colab": {
     "base_uri": "https://localhost:8080/"
    },
    "executionInfo": {
     "elapsed": 2,
     "status": "ok",
     "timestamp": 1713317927816,
     "user": {
      "displayName": "전영호",
      "userId": "17928441635701806568"
     },
     "user_tz": -540
    },
    "id": "bb4a15b2",
    "outputId": "7a759902-c639-4011-e407-6ef3ed5f3800"
   },
   "outputs": [
    {
     "data": {
      "text/plain": [
       "대학전공\n",
       "체육    98\n",
       "Name: count, dtype: int64"
      ]
     },
     "execution_count": 419,
     "metadata": {},
     "output_type": "execute_result"
    }
   ],
   "source": [
    "a = X_train_pre[X_train_pre['대학전공'].str.contains(\"체육\")]\n",
    "a.loc[:, '대학전공'] = '체육'\n",
    "X_train_pre[X_train_pre['대학전공'].str.contains(\"체육\")] = a\n",
    "X_train_pre[X_train_pre['대학전공'].str.contains(\"체육\")]['대학전공'].value_counts()"
   ]
  },
  {
   "cell_type": "code",
   "execution_count": 420,
   "id": "7393508d",
   "metadata": {
    "colab": {
     "base_uri": "https://localhost:8080/"
    },
    "executionInfo": {
     "elapsed": 11,
     "status": "ok",
     "timestamp": 1713317933042,
     "user": {
      "displayName": "전영호",
      "userId": "17928441635701806568"
     },
     "user_tz": -540
    },
    "id": "7393508d",
    "outputId": "c9bda948-85da-49cc-d5a5-577a3f9852cd"
   },
   "outputs": [
    {
     "data": {
      "text/plain": [
       "대학전공\n",
       "전기    156\n",
       "Name: count, dtype: int64"
      ]
     },
     "execution_count": 420,
     "metadata": {},
     "output_type": "execute_result"
    }
   ],
   "source": [
    "a = X_train_pre[X_train_pre['대학전공'].str.contains(\"전기\")]\n",
    "a.loc[:, '대학전공'] = '전기'\n",
    "X_train_pre[X_train_pre['대학전공'].str.contains(\"전기\")] = a\n",
    "X_train_pre[X_train_pre['대학전공'].str.contains(\"전기\")]['대학전공'].value_counts()"
   ]
  },
  {
   "cell_type": "code",
   "execution_count": 421,
   "id": "120daec4",
   "metadata": {
    "colab": {
     "base_uri": "https://localhost:8080/"
    },
    "executionInfo": {
     "elapsed": 9,
     "status": "ok",
     "timestamp": 1713317933043,
     "user": {
      "displayName": "전영호",
      "userId": "17928441635701806568"
     },
     "user_tz": -540
    },
    "id": "120daec4",
    "outputId": "d51a3882-1165-4931-c896-993d45928726"
   },
   "outputs": [
    {
     "data": {
      "text/plain": [
       "대학전공\n",
       "기타 디자인    101\n",
       "Name: count, dtype: int64"
      ]
     },
     "execution_count": 421,
     "metadata": {},
     "output_type": "execute_result"
    }
   ],
   "source": [
    "a = X_train_pre[X_train_pre['대학전공'].str.contains(\"디자인\")]\n",
    "a.loc[:, '대학전공'] = '기타 디자인'\n",
    "X_train_pre[X_train_pre['대학전공'].str.contains(\"디자인\")] = a\n",
    "X_train_pre[X_train_pre['대학전공'].str.contains(\"기타 디자인\")]['대학전공'].value_counts()"
   ]
  },
  {
   "cell_type": "code",
   "execution_count": 422,
   "id": "a7b7437b",
   "metadata": {
    "colab": {
     "base_uri": "https://localhost:8080/"
    },
    "executionInfo": {
     "elapsed": 8,
     "status": "ok",
     "timestamp": 1713317933043,
     "user": {
      "displayName": "전영호",
      "userId": "17928441635701806568"
     },
     "user_tz": -540
    },
    "id": "a7b7437b",
    "outputId": "8c7bc81c-1b37-48c4-e7d2-bda5b83ac1df"
   },
   "outputs": [
    {
     "data": {
      "text/plain": [
       "Series([], Name: count, dtype: int64)"
      ]
     },
     "execution_count": 422,
     "metadata": {},
     "output_type": "execute_result"
    }
   ],
   "source": [
    "a = X_train_pre[X_train_pre['대학전공'].str.contains(\"만화\")]\n",
    "a.loc[:, '대학전공'] = '만화'\n",
    "X_train_pre[X_train_pre['대학전공'].str.contains(\"만화\")] = a\n",
    "X_train_pre[X_train_pre['대학전공'].str.contains(\"만화\")]['대학전공'].value_counts()"
   ]
  },
  {
   "cell_type": "code",
   "execution_count": 423,
   "id": "f36c056f",
   "metadata": {
    "colab": {
     "base_uri": "https://localhost:8080/"
    },
    "executionInfo": {
     "elapsed": 6,
     "status": "ok",
     "timestamp": 1713317933043,
     "user": {
      "displayName": "전영호",
      "userId": "17928441635701806568"
     },
     "user_tz": -540
    },
    "id": "f36c056f",
    "outputId": "122d9547-7cd6-4c7e-f7a1-049965325d22"
   },
   "outputs": [
    {
     "data": {
      "text/plain": [
       "대학전공\n",
       "식1품영양    67\n",
       "Name: count, dtype: int64"
      ]
     },
     "execution_count": 423,
     "metadata": {},
     "output_type": "execute_result"
    }
   ],
   "source": [
    "a = X_train_pre[X_train_pre['대학전공'].str.contains(\"식품영양\")]\n",
    "a.loc[:, '대학전공'] = '식1품영양'\n",
    "X_train_pre[X_train_pre['대학전공'].str.contains(\"식품영양\")] = a\n",
    "X_train_pre[X_train_pre['대학전공'].str.contains(\"식1품영양\")]['대학전공'].value_counts()"
   ]
  },
  {
   "cell_type": "code",
   "execution_count": 424,
   "id": "fa590244",
   "metadata": {
    "colab": {
     "base_uri": "https://localhost:8080/"
    },
    "executionInfo": {
     "elapsed": 4,
     "status": "ok",
     "timestamp": 1713317933043,
     "user": {
      "displayName": "전영호",
      "userId": "17928441635701806568"
     },
     "user_tz": -540
    },
    "id": "fa590244",
    "outputId": "f9b37929-795a-44a2-87ef-bda743d620a5"
   },
   "outputs": [
    {
     "data": {
      "text/plain": [
       "대학전공\n",
       "식품공1학    69\n",
       "Name: count, dtype: int64"
      ]
     },
     "execution_count": 424,
     "metadata": {},
     "output_type": "execute_result"
    }
   ],
   "source": [
    "a = X_train_pre[X_train_pre['대학전공'].str.contains(\"식품\")]\n",
    "a.loc[:, '대학전공'] = '식품공1학'\n",
    "X_train_pre[X_train_pre['대학전공'].str.contains(\"식품\")] = a\n",
    "X_train_pre[X_train_pre['대학전공'].str.contains(\"식품공1학\")]['대학전공'].value_counts()"
   ]
  },
  {
   "cell_type": "code",
   "execution_count": 425,
   "id": "09170298",
   "metadata": {
    "colab": {
     "base_uri": "https://localhost:8080/"
    },
    "executionInfo": {
     "elapsed": 773,
     "status": "ok",
     "timestamp": 1713317935252,
     "user": {
      "displayName": "전영호",
      "userId": "17928441635701806568"
     },
     "user_tz": -540
    },
    "id": "09170298",
    "outputId": "eeb57fd2-ff6a-4479-f874-59c5786bed55"
   },
   "outputs": [
    {
     "data": {
      "text/plain": [
       "대학전공\n",
       "법학    211\n",
       "Name: count, dtype: int64"
      ]
     },
     "execution_count": 425,
     "metadata": {},
     "output_type": "execute_result"
    }
   ],
   "source": [
    "a = X_train_pre[X_train_pre['대학전공'].str.contains(\"법\")]\n",
    "a.loc[:, '대학전공'] = '법학'\n",
    "X_train_pre[X_train_pre['대학전공'].str.contains(\"법\")] = a\n",
    "X_train_pre[X_train_pre['대학전공'].str.contains(\"법학\")]['대학전공'].value_counts()"
   ]
  },
  {
   "cell_type": "code",
   "execution_count": 426,
   "id": "65ffd329",
   "metadata": {
    "colab": {
     "base_uri": "https://localhost:8080/"
    },
    "executionInfo": {
     "elapsed": 51,
     "status": "ok",
     "timestamp": 1713317935252,
     "user": {
      "displayName": "전영호",
      "userId": "17928441635701806568"
     },
     "user_tz": -540
    },
    "id": "65ffd329",
    "outputId": "ed95cc73-ebdf-4f7d-b9af-a4996d02e55b"
   },
   "outputs": [
    {
     "data": {
      "text/plain": [
       "대학전공\n",
       "산업정보시스템    40\n",
       "Name: count, dtype: int64"
      ]
     },
     "execution_count": 426,
     "metadata": {},
     "output_type": "execute_result"
    }
   ],
   "source": [
    "a = X_train_pre[X_train_pre['대학전공'].str.contains(\"시스템\")]\n",
    "a.loc[:, '대학전공'] = '산업정보시스템'\n",
    "X_train_pre[X_train_pre['대학전공'].str.contains(\"시스템\")] = a\n",
    "X_train_pre[X_train_pre['대학전공'].str.contains(\"산업정보시스템\")]['대학전공'].value_counts()"
   ]
  },
  {
   "cell_type": "code",
   "execution_count": 427,
   "id": "5b11cd36",
   "metadata": {
    "colab": {
     "base_uri": "https://localhost:8080/"
    },
    "executionInfo": {
     "elapsed": 49,
     "status": "ok",
     "timestamp": 1713317935252,
     "user": {
      "displayName": "전영호",
      "userId": "17928441635701806568"
     },
     "user_tz": -540
    },
    "id": "5b11cd36",
    "outputId": "ae9ad53c-3b16-471c-ad4a-37586af6e667"
   },
   "outputs": [
    {
     "data": {
      "text/plain": [
       "대학전공\n",
       "음악    10\n",
       "Name: count, dtype: int64"
      ]
     },
     "execution_count": 427,
     "metadata": {},
     "output_type": "execute_result"
    }
   ],
   "source": [
    "a = X_train_pre[X_train_pre['대학전공'].str.contains(\"음\")]\n",
    "a.loc[:, '대학전공'] = '음악'\n",
    "X_train_pre[X_train_pre['대학전공'].str.contains(\"음\")] = a\n",
    "X_train_pre[X_train_pre['대학전공'].str.contains(\"음악\")]['대학전공'].value_counts()"
   ]
  },
  {
   "cell_type": "code",
   "execution_count": 428,
   "id": "1d81dde6",
   "metadata": {
    "colab": {
     "base_uri": "https://localhost:8080/"
    },
    "executionInfo": {
     "elapsed": 49,
     "status": "ok",
     "timestamp": 1713317935252,
     "user": {
      "displayName": "전영호",
      "userId": "17928441635701806568"
     },
     "user_tz": -540
    },
    "id": "1d81dde6",
    "outputId": "0605e3cd-2d7f-47dc-abac-224f71626683"
   },
   "outputs": [
    {
     "data": {
      "text/plain": [
       "대학전공\n",
       "철학    62\n",
       "Name: count, dtype: int64"
      ]
     },
     "execution_count": 428,
     "metadata": {},
     "output_type": "execute_result"
    }
   ],
   "source": [
    "a = X_train_pre[X_train_pre['대학전공'].str.contains(\"철학\")]\n",
    "a.loc[:, '대학전공'] = '철학'\n",
    "X_train_pre[X_train_pre['대학전공'].str.contains(\"철학\")] = a\n",
    "X_train_pre[X_train_pre['대학전공'].str.contains(\"철학\")]['대학전공'].value_counts()"
   ]
  },
  {
   "cell_type": "code",
   "execution_count": 429,
   "id": "451e4daa",
   "metadata": {
    "colab": {
     "base_uri": "https://localhost:8080/"
    },
    "executionInfo": {
     "elapsed": 47,
     "status": "ok",
     "timestamp": 1713317935252,
     "user": {
      "displayName": "전영호",
      "userId": "17928441635701806568"
     },
     "user_tz": -540
    },
    "id": "451e4daa",
    "outputId": "9c635e15-01f7-4045-94f9-b4387c601b92"
   },
   "outputs": [
    {
     "data": {
      "text/plain": [
       "대학전공\n",
       "사진    5\n",
       "Name: count, dtype: int64"
      ]
     },
     "execution_count": 429,
     "metadata": {},
     "output_type": "execute_result"
    }
   ],
   "source": [
    "a = X_train_pre[X_train_pre['대학전공'].str.contains(\"사진\")]\n",
    "a.loc[:, '대학전공'] = '사진'\n",
    "X_train_pre[X_train_pre['대학전공'].str.contains(\"사진\")] = a\n",
    "X_train_pre[X_train_pre['대학전공'].str.contains(\"사진\")]['대학전공'].value_counts()"
   ]
  },
  {
   "cell_type": "code",
   "execution_count": 430,
   "id": "ce75d4c7",
   "metadata": {
    "colab": {
     "base_uri": "https://localhost:8080/"
    },
    "executionInfo": {
     "elapsed": 44,
     "status": "ok",
     "timestamp": 1713317935252,
     "user": {
      "displayName": "전영호",
      "userId": "17928441635701806568"
     },
     "user_tz": -540
    },
    "id": "ce75d4c7",
    "outputId": "c0e47c07-e915-442c-d972-65d741ee7301"
   },
   "outputs": [
    {
     "data": {
      "text/plain": [
       "대학전공\n",
       "문헌정1보    79\n",
       "Name: count, dtype: int64"
      ]
     },
     "execution_count": 430,
     "metadata": {},
     "output_type": "execute_result"
    }
   ],
   "source": [
    "a = X_train_pre[X_train_pre['대학전공'].str.contains(\"문헌\")]\n",
    "a.loc[:, '대학전공'] = '문헌정1보'\n",
    "X_train_pre[X_train_pre['대학전공'].str.contains(\"문헌\")] = a\n",
    "X_train_pre[X_train_pre['대학전공'].str.contains(\"문헌정1보\")]['대학전공'].value_counts()"
   ]
  },
  {
   "cell_type": "code",
   "execution_count": 431,
   "id": "90f8fa76",
   "metadata": {
    "colab": {
     "base_uri": "https://localhost:8080/"
    },
    "executionInfo": {
     "elapsed": 41,
     "status": "ok",
     "timestamp": 1713317935252,
     "user": {
      "displayName": "전영호",
      "userId": "17928441635701806568"
     },
     "user_tz": -540
    },
    "id": "90f8fa76",
    "outputId": "de98fa68-5931-44b0-c57b-bb941916a2c9"
   },
   "outputs": [
    {
     "data": {
      "text/plain": [
       "대학전공\n",
       "광고    71\n",
       "Name: count, dtype: int64"
      ]
     },
     "execution_count": 431,
     "metadata": {},
     "output_type": "execute_result"
    }
   ],
   "source": [
    "a = X_train_pre[X_train_pre['대학전공'].str.contains(\"광고\")]\n",
    "a.loc[:, '대학전공'] = '광고'\n",
    "X_train_pre[X_train_pre['대학전공'].str.contains(\"광고\")] = a\n",
    "X_train_pre[X_train_pre['대학전공'].str.contains(\"광고\")]['대학전공'].value_counts()"
   ]
  },
  {
   "cell_type": "code",
   "execution_count": 432,
   "id": "85c70aed",
   "metadata": {
    "colab": {
     "base_uri": "https://localhost:8080/"
    },
    "executionInfo": {
     "elapsed": 39,
     "status": "ok",
     "timestamp": 1713317935252,
     "user": {
      "displayName": "전영호",
      "userId": "17928441635701806568"
     },
     "user_tz": -540
    },
    "id": "85c70aed",
    "outputId": "4f530905-eb9b-4860-a0d1-4a4a295a1a6c"
   },
   "outputs": [
    {
     "data": {
      "text/plain": [
       "대학전공\n",
       "커뮤니케이션    18\n",
       "Name: count, dtype: int64"
      ]
     },
     "execution_count": 432,
     "metadata": {},
     "output_type": "execute_result"
    }
   ],
   "source": [
    "a = X_train_pre[X_train_pre['대학전공'].str.contains(\"언론\")]\n",
    "a.loc[:, '대학전공'] = '커뮤니케이션'\n",
    "X_train_pre[X_train_pre['대학전공'].str.contains(\"언론\")] = a\n",
    "X_train_pre[X_train_pre['대학전공'].str.contains(\"커뮤니케이션\")]['대학전공'].value_counts()"
   ]
  },
  {
   "cell_type": "code",
   "execution_count": 433,
   "id": "8b1f323f",
   "metadata": {
    "colab": {
     "base_uri": "https://localhost:8080/"
    },
    "executionInfo": {
     "elapsed": 37,
     "status": "ok",
     "timestamp": 1713317935252,
     "user": {
      "displayName": "전영호",
      "userId": "17928441635701806568"
     },
     "user_tz": -540
    },
    "id": "8b1f323f",
    "outputId": "827708c9-2f46-4c59-c446-229f760a2967"
   },
   "outputs": [
    {
     "data": {
      "text/plain": [
       "대학전공\n",
       "환1경공1학    90\n",
       "Name: count, dtype: int64"
      ]
     },
     "execution_count": 433,
     "metadata": {},
     "output_type": "execute_result"
    }
   ],
   "source": [
    "a = X_train_pre[X_train_pre['대학전공'].str.contains(\"환경공\")]\n",
    "a.loc[:, '대학전공'] = '환1경공1학'\n",
    "X_train_pre[X_train_pre['대학전공'].str.contains(\"환경공\")] = a\n",
    "X_train_pre[X_train_pre['대학전공'].str.contains(\"환1경공1학\")]['대학전공'].value_counts()"
   ]
  },
  {
   "cell_type": "code",
   "execution_count": 434,
   "id": "74d44f84",
   "metadata": {
    "colab": {
     "base_uri": "https://localhost:8080/"
    },
    "executionInfo": {
     "elapsed": 35,
     "status": "ok",
     "timestamp": 1713317935252,
     "user": {
      "displayName": "전영호",
      "userId": "17928441635701806568"
     },
     "user_tz": -540
    },
    "id": "74d44f84",
    "outputId": "dba3df41-1e59-4e73-d3e8-be9188cc6d9f"
   },
   "outputs": [
    {
     "data": {
      "text/plain": [
       "대학전공\n",
       "토목    86\n",
       "Name: count, dtype: int64"
      ]
     },
     "execution_count": 434,
     "metadata": {},
     "output_type": "execute_result"
    }
   ],
   "source": [
    "a = X_train_pre[X_train_pre['대학전공'].str.contains(\"토목\")]\n",
    "a.loc[:, '대학전공'] = '토목'\n",
    "X_train_pre[X_train_pre['대학전공'].str.contains(\"토목\")] = a\n",
    "X_train_pre[X_train_pre['대학전공'].str.contains(\"토목\")]['대학전공'].value_counts()"
   ]
  },
  {
   "cell_type": "code",
   "execution_count": 435,
   "id": "967deaba",
   "metadata": {
    "colab": {
     "base_uri": "https://localhost:8080/"
    },
    "executionInfo": {
     "elapsed": 34,
     "status": "ok",
     "timestamp": 1713317935252,
     "user": {
      "displayName": "전영호",
      "userId": "17928441635701806568"
     },
     "user_tz": -540
    },
    "id": "967deaba",
    "outputId": "38a0a958-6c7c-471d-cf47-d27534bd7b93"
   },
   "outputs": [
    {
     "data": {
      "text/plain": [
       "대학전공\n",
       "환경    46\n",
       "Name: count, dtype: int64"
      ]
     },
     "execution_count": 435,
     "metadata": {},
     "output_type": "execute_result"
    }
   ],
   "source": [
    "a = X_train_pre[X_train_pre['대학전공'].str.contains(\"환경\")]\n",
    "a.loc[:, '대학전공'] = '환경'\n",
    "X_train_pre[X_train_pre['대학전공'].str.contains(\"환경\")] = a\n",
    "X_train_pre[X_train_pre['대학전공'].str.contains(\"환경\")]['대학전공'].value_counts()"
   ]
  },
  {
   "cell_type": "code",
   "execution_count": 436,
   "id": "bd5b6b89",
   "metadata": {
    "colab": {
     "base_uri": "https://localhost:8080/"
    },
    "executionInfo": {
     "elapsed": 32,
     "status": "ok",
     "timestamp": 1713317935252,
     "user": {
      "displayName": "전영호",
      "userId": "17928441635701806568"
     },
     "user_tz": -540
    },
    "id": "bd5b6b89",
    "outputId": "6ca7661a-9ddc-468d-9b48-c8617db6ce35"
   },
   "outputs": [
    {
     "data": {
      "text/plain": [
       "대학전공\n",
       "유통    19\n",
       "Name: count, dtype: int64"
      ]
     },
     "execution_count": 436,
     "metadata": {},
     "output_type": "execute_result"
    }
   ],
   "source": [
    "a = X_train_pre[X_train_pre['대학전공'].str.contains(\"유통\")]\n",
    "a.loc[:, '대학전공'] = '유통'\n",
    "X_train_pre[X_train_pre['대학전공'].str.contains(\"유통\")] = a\n",
    "X_train_pre[X_train_pre['대학전공'].str.contains(\"유통\")]['대학전공'].value_counts()"
   ]
  },
  {
   "cell_type": "code",
   "execution_count": 437,
   "id": "837989ce",
   "metadata": {
    "colab": {
     "base_uri": "https://localhost:8080/"
    },
    "executionInfo": {
     "elapsed": 30,
     "status": "ok",
     "timestamp": 1713317935252,
     "user": {
      "displayName": "전영호",
      "userId": "17928441635701806568"
     },
     "user_tz": -540
    },
    "id": "837989ce",
    "outputId": "a9c52f7f-f4bf-4a0b-fdc2-e0ca2df73a33"
   },
   "outputs": [
    {
     "data": {
      "text/plain": [
       "대학전공\n",
       "미생1물    9\n",
       "Name: count, dtype: int64"
      ]
     },
     "execution_count": 437,
     "metadata": {},
     "output_type": "execute_result"
    }
   ],
   "source": [
    "a = X_train_pre[X_train_pre['대학전공'].str.contains(\"미생물\")]\n",
    "a.loc[:, '대학전공'] = '미생1물'\n",
    "X_train_pre[X_train_pre['대학전공'].str.contains(\"미생물\")] = a\n",
    "X_train_pre[X_train_pre['대학전공'].str.contains(\"미생1물\")]['대학전공'].value_counts()"
   ]
  },
  {
   "cell_type": "code",
   "execution_count": 438,
   "id": "21d5af93",
   "metadata": {
    "colab": {
     "base_uri": "https://localhost:8080/"
    },
    "executionInfo": {
     "elapsed": 29,
     "status": "ok",
     "timestamp": 1713317935252,
     "user": {
      "displayName": "전영호",
      "userId": "17928441635701806568"
     },
     "user_tz": -540
    },
    "id": "21d5af93",
    "outputId": "e4e5010c-c6f2-4975-e31a-7196f8788e40"
   },
   "outputs": [
    {
     "data": {
      "text/plain": [
       "대학전공\n",
       "생물    77\n",
       "Name: count, dtype: int64"
      ]
     },
     "execution_count": 438,
     "metadata": {},
     "output_type": "execute_result"
    }
   ],
   "source": [
    "a = X_train_pre[X_train_pre['대학전공'].str.contains(\"생물\")]\n",
    "a.loc[:, '대학전공'] = '생물'\n",
    "X_train_pre[X_train_pre['대학전공'].str.contains(\"생물\")] = a\n",
    "X_train_pre[X_train_pre['대학전공'].str.contains(\"생물\")]['대학전공'].value_counts()"
   ]
  },
  {
   "cell_type": "code",
   "execution_count": 439,
   "id": "60227bce",
   "metadata": {
    "colab": {
     "base_uri": "https://localhost:8080/"
    },
    "executionInfo": {
     "elapsed": 27,
     "status": "ok",
     "timestamp": 1713317935252,
     "user": {
      "displayName": "전영호",
      "userId": "17928441635701806568"
     },
     "user_tz": -540
    },
    "id": "60227bce",
    "outputId": "e487a47e-335a-424d-e314-338c35a264da"
   },
   "outputs": [
    {
     "data": {
      "text/plain": [
       "대학전공\n",
       "바이오              56\n",
       "바이오 메카트로닉스공학과     1\n",
       "Name: count, dtype: int64"
      ]
     },
     "execution_count": 439,
     "metadata": {},
     "output_type": "execute_result"
    }
   ],
   "source": [
    "a = X_train_pre[X_train_pre['대학전공'].str.contains(\"생명\")]\n",
    "a.loc[:, '대학전공'] = '바이오'\n",
    "X_train_pre[X_train_pre['대학전공'].str.contains(\"생명\")] = a\n",
    "X_train_pre[X_train_pre['대학전공'].str.contains(\"바이오\")]['대학전공'].value_counts()"
   ]
  },
  {
   "cell_type": "code",
   "execution_count": 440,
   "id": "7a1057ff",
   "metadata": {
    "colab": {
     "base_uri": "https://localhost:8080/"
    },
    "executionInfo": {
     "elapsed": 25,
     "status": "ok",
     "timestamp": 1713317935252,
     "user": {
      "displayName": "전영호",
      "userId": "17928441635701806568"
     },
     "user_tz": -540
    },
    "id": "7a1057ff",
    "outputId": "f7914acb-a29f-411a-d713-176e8bdb75e7"
   },
   "outputs": [
    {
     "data": {
      "text/plain": [
       "대학전공\n",
       "바이오    57\n",
       "Name: count, dtype: int64"
      ]
     },
     "execution_count": 440,
     "metadata": {},
     "output_type": "execute_result"
    }
   ],
   "source": [
    "a = X_train_pre[X_train_pre['대학전공'].str.contains(\"바이오\")]\n",
    "a.loc[:, '대학전공'] = '바이오'\n",
    "X_train_pre[X_train_pre['대학전공'].str.contains(\"바이오\")] = a\n",
    "X_train_pre[X_train_pre['대학전공'].str.contains(\"바이오\")]['대학전공'].value_counts()"
   ]
  },
  {
   "cell_type": "code",
   "execution_count": 441,
   "id": "eeb726e0",
   "metadata": {
    "colab": {
     "base_uri": "https://localhost:8080/"
    },
    "executionInfo": {
     "elapsed": 24,
     "status": "ok",
     "timestamp": 1713317935253,
     "user": {
      "displayName": "전영호",
      "userId": "17928441635701806568"
     },
     "user_tz": -540
    },
    "id": "eeb726e0",
    "outputId": "583cc9e0-f247-4298-ff36-d74f989d3d41"
   },
   "outputs": [
    {
     "data": {
      "text/plain": [
       "대학전공\n",
       "조리    7\n",
       "Name: count, dtype: int64"
      ]
     },
     "execution_count": 441,
     "metadata": {},
     "output_type": "execute_result"
    }
   ],
   "source": [
    "a = X_train_pre[X_train_pre['대학전공'].str.contains(\"조리\")]\n",
    "a.loc[:, '대학전공'] = '조리'\n",
    "X_train_pre[X_train_pre['대학전공'].str.contains(\"조리\")] = a\n",
    "X_train_pre[X_train_pre['대학전공'].str.contains(\"조리\")]['대학전공'].value_counts()"
   ]
  },
  {
   "cell_type": "code",
   "execution_count": 442,
   "id": "68ffab52",
   "metadata": {
    "colab": {
     "base_uri": "https://localhost:8080/"
    },
    "executionInfo": {
     "elapsed": 23,
     "status": "ok",
     "timestamp": 1713317935253,
     "user": {
      "displayName": "전영호",
      "userId": "17928441635701806568"
     },
     "user_tz": -540
    },
    "id": "68ffab52",
    "outputId": "81e8d7a9-0383-49d5-a569-1dd0c679fbc0"
   },
   "outputs": [
    {
     "data": {
      "text/plain": [
       "대학전공\n",
       "호텔    79\n",
       "Name: count, dtype: int64"
      ]
     },
     "execution_count": 442,
     "metadata": {},
     "output_type": "execute_result"
    }
   ],
   "source": [
    "a = X_train_pre[X_train_pre['대학전공'].str.contains(\"호텔\")]\n",
    "a.loc[:, '대학전공'] = '호텔'\n",
    "X_train_pre[X_train_pre['대학전공'].str.contains(\"호텔\")] = a\n",
    "X_train_pre[X_train_pre['대학전공'].str.contains(\"호텔\")]['대학전공'].value_counts()"
   ]
  },
  {
   "cell_type": "code",
   "execution_count": 443,
   "id": "07725bdd",
   "metadata": {
    "colab": {
     "base_uri": "https://localhost:8080/"
    },
    "executionInfo": {
     "elapsed": 21,
     "status": "ok",
     "timestamp": 1713317935253,
     "user": {
      "displayName": "전영호",
      "userId": "17928441635701806568"
     },
     "user_tz": -540
    },
    "id": "07725bdd",
    "outputId": "2ec6003c-053d-446e-a2f4-cc0dd3fec76d"
   },
   "outputs": [
    {
     "data": {
      "text/plain": [
       "대학전공\n",
       "일본    206\n",
       "Name: count, dtype: int64"
      ]
     },
     "execution_count": 443,
     "metadata": {},
     "output_type": "execute_result"
    }
   ],
   "source": [
    "a = X_train_pre[X_train_pre['대학전공'].str.contains(\"일어\")]\n",
    "a.loc[:, '대학전공'] = '일본'\n",
    "X_train_pre[X_train_pre['대학전공'].str.contains(\"일어\")] = a\n",
    "X_train_pre[X_train_pre['대학전공'].str.contains(\"일본\")]['대학전공'].value_counts()"
   ]
  },
  {
   "cell_type": "code",
   "execution_count": 444,
   "id": "3cf99546",
   "metadata": {
    "colab": {
     "base_uri": "https://localhost:8080/"
    },
    "executionInfo": {
     "elapsed": 20,
     "status": "ok",
     "timestamp": 1713317935253,
     "user": {
      "displayName": "전영호",
      "userId": "17928441635701806568"
     },
     "user_tz": -540
    },
    "id": "3cf99546",
    "outputId": "6518e984-6317-40b4-8ab5-48c3712254db"
   },
   "outputs": [
    {
     "data": {
      "text/plain": [
       "대학전공\n",
       "가정    44\n",
       "Name: count, dtype: int64"
      ]
     },
     "execution_count": 444,
     "metadata": {},
     "output_type": "execute_result"
    }
   ],
   "source": [
    "a = X_train_pre[X_train_pre['대학전공'].str.contains(\"가정\")]\n",
    "a.loc[:, '대학전공'] = '가정'\n",
    "X_train_pre[X_train_pre['대학전공'].str.contains(\"가정\")] = a\n",
    "X_train_pre[X_train_pre['대학전공'].str.contains(\"가정\")]['대학전공'].value_counts()"
   ]
  },
  {
   "cell_type": "code",
   "execution_count": 445,
   "id": "d3184a5a",
   "metadata": {
    "colab": {
     "base_uri": "https://localhost:8080/"
    },
    "executionInfo": {
     "elapsed": 18,
     "status": "ok",
     "timestamp": 1713317935253,
     "user": {
      "displayName": "전영호",
      "userId": "17928441635701806568"
     },
     "user_tz": -540
    },
    "id": "d3184a5a",
    "outputId": "9c21f468-08c0-4cef-941c-dd2ab8739b79"
   },
   "outputs": [
    {
     "data": {
      "text/plain": [
       "대학전공\n",
       "가정    45\n",
       "Name: count, dtype: int64"
      ]
     },
     "execution_count": 445,
     "metadata": {},
     "output_type": "execute_result"
    }
   ],
   "source": [
    "a = X_train_pre[X_train_pre['대학전공'].str.contains(\"가족\")]\n",
    "a.loc[:, '대학전공'] = '가정'\n",
    "X_train_pre[X_train_pre['대학전공'].str.contains(\"가족\")] = a\n",
    "X_train_pre[X_train_pre['대학전공'].str.contains(\"가정\")]['대학전공'].value_counts()"
   ]
  },
  {
   "cell_type": "code",
   "execution_count": 446,
   "id": "4fbfeb49",
   "metadata": {
    "colab": {
     "base_uri": "https://localhost:8080/"
    },
    "executionInfo": {
     "elapsed": 17,
     "status": "ok",
     "timestamp": 1713317935253,
     "user": {
      "displayName": "전영호",
      "userId": "17928441635701806568"
     },
     "user_tz": -540
    },
    "id": "4fbfeb49",
    "outputId": "c15459fa-25d9-4f8d-ef9b-c94b0890264a"
   },
   "outputs": [
    {
     "data": {
      "text/plain": [
       "대학전공\n",
       "신소재    30\n",
       "Name: count, dtype: int64"
      ]
     },
     "execution_count": 446,
     "metadata": {},
     "output_type": "execute_result"
    }
   ],
   "source": [
    "a = X_train_pre[X_train_pre['대학전공'].str.contains(\"신소재\")]\n",
    "a.loc[:, '대학전공'] = '신소재'\n",
    "X_train_pre[X_train_pre['대학전공'].str.contains(\"신소재\")] = a\n",
    "X_train_pre[X_train_pre['대학전공'].str.contains(\"신소재\")]['대학전공'].value_counts()"
   ]
  },
  {
   "cell_type": "code",
   "execution_count": 447,
   "id": "605f4bcc",
   "metadata": {
    "colab": {
     "base_uri": "https://localhost:8080/"
    },
    "executionInfo": {
     "elapsed": 16,
     "status": "ok",
     "timestamp": 1713317935253,
     "user": {
      "displayName": "전영호",
      "userId": "17928441635701806568"
     },
     "user_tz": -540
    },
    "id": "605f4bcc",
    "outputId": "88799e70-2111-4e5d-e905-ae50f06929d4"
   },
   "outputs": [
    {
     "data": {
      "text/plain": [
       "대학전공\n",
       "세라믹    7\n",
       "Name: count, dtype: int64"
      ]
     },
     "execution_count": 447,
     "metadata": {},
     "output_type": "execute_result"
    }
   ],
   "source": [
    "a = X_train_pre[X_train_pre['대학전공'].str.contains(\"세라믹\")]\n",
    "a.loc[:, '대학전공'] = '세라믹'\n",
    "X_train_pre[X_train_pre['대학전공'].str.contains(\"세라믹\")] = a\n",
    "X_train_pre[X_train_pre['대학전공'].str.contains(\"세라믹\")]['대학전공'].value_counts()"
   ]
  },
  {
   "cell_type": "code",
   "execution_count": 448,
   "id": "c06c6f3a",
   "metadata": {
    "colab": {
     "base_uri": "https://localhost:8080/"
    },
    "executionInfo": {
     "elapsed": 14,
     "status": "ok",
     "timestamp": 1713317935253,
     "user": {
      "displayName": "전영호",
      "userId": "17928441635701806568"
     },
     "user_tz": -540
    },
    "id": "c06c6f3a",
    "outputId": "8c9075f1-b62e-4b89-a835-e95a9d32e6f8"
   },
   "outputs": [
    {
     "data": {
      "text/plain": [
       "대학전공\n",
       "마케팅    11\n",
       "Name: count, dtype: int64"
      ]
     },
     "execution_count": 448,
     "metadata": {},
     "output_type": "execute_result"
    }
   ],
   "source": [
    "a = X_train_pre[X_train_pre['대학전공'].str.contains(\"마케\")]\n",
    "a.loc[:, '대학전공'] = '마케팅'\n",
    "X_train_pre[X_train_pre['대학전공'].str.contains(\"마케팅\")] = a\n",
    "X_train_pre[X_train_pre['대학전공'].str.contains(\"마케팅\")]['대학전공'].value_counts()"
   ]
  },
  {
   "cell_type": "code",
   "execution_count": 449,
   "id": "2d8d251c",
   "metadata": {
    "colab": {
     "base_uri": "https://localhost:8080/"
    },
    "executionInfo": {
     "elapsed": 13,
     "status": "ok",
     "timestamp": 1713317935253,
     "user": {
      "displayName": "전영호",
      "userId": "17928441635701806568"
     },
     "user_tz": -540
    },
    "id": "2d8d251c",
    "outputId": "78713ecd-b387-414b-d97a-d97694f5e154"
   },
   "outputs": [
    {
     "data": {
      "text/plain": [
       "대학전공\n",
       "아동    13\n",
       "Name: count, dtype: int64"
      ]
     },
     "execution_count": 449,
     "metadata": {},
     "output_type": "execute_result"
    }
   ],
   "source": [
    "a = X_train_pre[X_train_pre['대학전공'].str.contains(\"아동\")]\n",
    "a.loc[:, '대학전공'] = '아동'\n",
    "X_train_pre[X_train_pre['대학전공'].str.contains(\"아동\")] = a\n",
    "X_train_pre[X_train_pre['대학전공'].str.contains(\"아동\")]['대학전공'].value_counts()"
   ]
  },
  {
   "cell_type": "code",
   "execution_count": 450,
   "id": "df7f5810",
   "metadata": {
    "colab": {
     "base_uri": "https://localhost:8080/"
    },
    "executionInfo": {
     "elapsed": 11,
     "status": "ok",
     "timestamp": 1713317935253,
     "user": {
      "displayName": "전영호",
      "userId": "17928441635701806568"
     },
     "user_tz": -540
    },
    "id": "df7f5810",
    "outputId": "61246e54-cc75-423e-deb8-4ac59f3c5719"
   },
   "outputs": [
    {
     "data": {
      "text/plain": [
       "대학전공\n",
       "메카트로닉스    9\n",
       "Name: count, dtype: int64"
      ]
     },
     "execution_count": 450,
     "metadata": {},
     "output_type": "execute_result"
    }
   ],
   "source": [
    "a = X_train_pre[X_train_pre['대학전공'].str.contains(\"메카\")]\n",
    "a.loc[:, '대학전공'] = '메카트로닉스'\n",
    "X_train_pre[X_train_pre['대학전공'].str.contains(\"메카\")] = a\n",
    "X_train_pre[X_train_pre['대학전공'].str.contains(\"메카트로닉스\")]['대학전공'].value_counts()"
   ]
  },
  {
   "cell_type": "code",
   "execution_count": 451,
   "id": "37998f9f",
   "metadata": {
    "colab": {
     "base_uri": "https://localhost:8080/"
    },
    "executionInfo": {
     "elapsed": 9,
     "status": "ok",
     "timestamp": 1713317935253,
     "user": {
      "displayName": "전영호",
      "userId": "17928441635701806568"
     },
     "user_tz": -540
    },
    "id": "37998f9f",
    "outputId": "7d38cbf4-d767-42b1-beba-c5986440d424"
   },
   "outputs": [
    {
     "data": {
      "text/plain": [
       "대학전공\n",
       "전파    11\n",
       "Name: count, dtype: int64"
      ]
     },
     "execution_count": 451,
     "metadata": {},
     "output_type": "execute_result"
    }
   ],
   "source": [
    "a = X_train_pre[X_train_pre['대학전공'].str.contains(\"전파\")]\n",
    "a.loc[:, '대학전공'] = '전파'\n",
    "X_train_pre[X_train_pre['대학전공'].str.contains(\"전파\")] = a\n",
    "X_train_pre[X_train_pre['대학전공'].str.contains(\"전파\")]['대학전공'].value_counts()"
   ]
  },
  {
   "cell_type": "code",
   "execution_count": 452,
   "id": "7311e654",
   "metadata": {
    "colab": {
     "base_uri": "https://localhost:8080/"
    },
    "executionInfo": {
     "elapsed": 8,
     "status": "ok",
     "timestamp": 1713317935253,
     "user": {
      "displayName": "전영호",
      "userId": "17928441635701806568"
     },
     "user_tz": -540
    },
    "id": "7311e654",
    "outputId": "fcab86b2-be9c-4d9c-c5d6-7e4d4ce48885"
   },
   "outputs": [
    {
     "data": {
      "text/plain": [
       "대학전공\n",
       "제어계측    48\n",
       "Name: count, dtype: int64"
      ]
     },
     "execution_count": 452,
     "metadata": {},
     "output_type": "execute_result"
    }
   ],
   "source": [
    "a = X_train_pre[X_train_pre['대학전공'].str.contains(\"제어\")]\n",
    "a.loc[:, '대학전공'] = '제어계측'\n",
    "X_train_pre[X_train_pre['대학전공'].str.contains(\"제어\")] = a\n",
    "X_train_pre[X_train_pre['대학전공'].str.contains(\"제어계측\")]['대학전공'].value_counts()"
   ]
  },
  {
   "cell_type": "code",
   "execution_count": 453,
   "id": "25d91742",
   "metadata": {
    "colab": {
     "base_uri": "https://localhost:8080/"
    },
    "executionInfo": {
     "elapsed": 7,
     "status": "ok",
     "timestamp": 1713317935253,
     "user": {
      "displayName": "전영호",
      "userId": "17928441635701806568"
     },
     "user_tz": -540
    },
    "id": "25d91742",
    "outputId": "982e2a20-e591-4881-d55a-b189543e12bf"
   },
   "outputs": [
    {
     "data": {
      "text/plain": [
       "대학전공\n",
       "미디어    32\n",
       "Name: count, dtype: int64"
      ]
     },
     "execution_count": 453,
     "metadata": {},
     "output_type": "execute_result"
    }
   ],
   "source": [
    "a = X_train_pre[X_train_pre['대학전공'].str.contains(\"미디어\")]\n",
    "a.loc[:, '대학전공'] = '미디어'\n",
    "X_train_pre[X_train_pre['대학전공'].str.contains(\"미디어\")] = a\n",
    "X_train_pre[X_train_pre['대학전공'].str.contains(\"미디어\")]['대학전공'].value_counts()"
   ]
  },
  {
   "cell_type": "code",
   "execution_count": 454,
   "id": "ef28858b",
   "metadata": {
    "colab": {
     "base_uri": "https://localhost:8080/"
    },
    "executionInfo": {
     "elapsed": 5,
     "status": "ok",
     "timestamp": 1713317935253,
     "user": {
      "displayName": "전영호",
      "userId": "17928441635701806568"
     },
     "user_tz": -540
    },
    "id": "ef28858b",
    "outputId": "999469ff-7835-4ffe-d483-61e69028d705"
   },
   "outputs": [
    {
     "data": {
      "text/plain": [
       "대학전공\n",
       "스페인    2\n",
       "Name: count, dtype: int64"
      ]
     },
     "execution_count": 454,
     "metadata": {},
     "output_type": "execute_result"
    }
   ],
   "source": [
    "a = X_train_pre[X_train_pre['대학전공'].str.contains(\"스페인\")]\n",
    "a.loc[:, '대학전공'] = '스페인'\n",
    "X_train_pre[X_train_pre['대학전공'].str.contains(\"스페인\")] = a\n",
    "X_train_pre[X_train_pre['대학전공'].str.contains(\"스페인\")]['대학전공'].value_counts()"
   ]
  },
  {
   "cell_type": "code",
   "execution_count": 455,
   "id": "62c4164b",
   "metadata": {
    "colab": {
     "base_uri": "https://localhost:8080/"
    },
    "executionInfo": {
     "elapsed": 1419,
     "status": "ok",
     "timestamp": 1713317936668,
     "user": {
      "displayName": "전영호",
      "userId": "17928441635701806568"
     },
     "user_tz": -540
    },
    "id": "62c4164b",
    "outputId": "6d3022a9-a30c-40cc-f7c3-e8215275c948"
   },
   "outputs": [
    {
     "data": {
      "text/plain": [
       "대학전공\n",
       "언어    1\n",
       "Name: count, dtype: int64"
      ]
     },
     "execution_count": 455,
     "metadata": {},
     "output_type": "execute_result"
    }
   ],
   "source": [
    "a = X_train_pre[X_train_pre['대학전공'].str.contains(\"언어\")]\n",
    "a.loc[:, '대학전공'] = '언어'\n",
    "X_train_pre[X_train_pre['대학전공'].str.contains(\"언어\")] = a\n",
    "X_train_pre[X_train_pre['대학전공'].str.contains(\"언어\")]['대학전공'].value_counts()"
   ]
  },
  {
   "cell_type": "code",
   "execution_count": 456,
   "id": "29d2fbd8",
   "metadata": {
    "colab": {
     "base_uri": "https://localhost:8080/"
    },
    "executionInfo": {
     "elapsed": 31,
     "status": "ok",
     "timestamp": 1713317936668,
     "user": {
      "displayName": "전영호",
      "userId": "17928441635701806568"
     },
     "user_tz": -540
    },
    "id": "29d2fbd8",
    "outputId": "8764fc2b-be00-443d-e629-481e5837fe22"
   },
   "outputs": [
    {
     "data": {
      "text/plain": [
       "대학전공\n",
       "소프트웨어    6\n",
       "Name: count, dtype: int64"
      ]
     },
     "execution_count": 456,
     "metadata": {},
     "output_type": "execute_result"
    }
   ],
   "source": [
    "a = X_train_pre[X_train_pre['대학전공'].str.contains(\"소트\")]\n",
    "a.loc[:, '대학전공'] = '소프트웨어'\n",
    "X_train_pre[X_train_pre['대학전공'].str.contains(\"소트\")] = a\n",
    "X_train_pre[X_train_pre['대학전공'].str.contains(\"소프트웨어\")]['대학전공'].value_counts()"
   ]
  },
  {
   "cell_type": "code",
   "execution_count": 457,
   "id": "09989088",
   "metadata": {
    "colab": {
     "base_uri": "https://localhost:8080/"
    },
    "executionInfo": {
     "elapsed": 28,
     "status": "ok",
     "timestamp": 1713317936668,
     "user": {
      "displayName": "전영호",
      "userId": "17928441635701806568"
     },
     "user_tz": -540
    },
    "id": "09989088",
    "outputId": "16ac9de4-a01d-4e5a-db78-3b339b8acd8a"
   },
   "outputs": [
    {
     "data": {
      "text/plain": [
       "대학전공\n",
       "디지털컨텐츠    6\n",
       "Name: count, dtype: int64"
      ]
     },
     "execution_count": 457,
     "metadata": {},
     "output_type": "execute_result"
    }
   ],
   "source": [
    "a = X_train_pre[X_train_pre['대학전공'].str.contains(\"디지털\")]\n",
    "a.loc[:, '대학전공'] = '디지털컨텐츠'\n",
    "X_train_pre[X_train_pre['대학전공'].str.contains(\"디지털\")] = a\n",
    "X_train_pre[X_train_pre['대학전공'].str.contains(\"디지털컨텐츠\")]['대학전공'].value_counts()"
   ]
  },
  {
   "cell_type": "code",
   "execution_count": 458,
   "id": "eb048faa",
   "metadata": {
    "colab": {
     "base_uri": "https://localhost:8080/"
    },
    "executionInfo": {
     "elapsed": 26,
     "status": "ok",
     "timestamp": 1713317936668,
     "user": {
      "displayName": "전영호",
      "userId": "17928441635701806568"
     },
     "user_tz": -540
    },
    "id": "eb048faa",
    "outputId": "d7ccf2c7-6c63-46d5-8789-00a3c14ba6cb"
   },
   "outputs": [
    {
     "data": {
      "text/plain": [
       "대학전공\n",
       "조형    4\n",
       "Name: count, dtype: int64"
      ]
     },
     "execution_count": 458,
     "metadata": {},
     "output_type": "execute_result"
    }
   ],
   "source": [
    "a = X_train_pre[X_train_pre['대학전공'].str.contains(\"조형\")]\n",
    "a.loc[:, '대학전공'] = '조형'\n",
    "X_train_pre[X_train_pre['대학전공'].str.contains(\"조형\")] = a\n",
    "X_train_pre[X_train_pre['대학전공'].str.contains(\"조형\")]['대학전공'].value_counts()"
   ]
  },
  {
   "cell_type": "code",
   "execution_count": 459,
   "id": "84acec02",
   "metadata": {
    "colab": {
     "base_uri": "https://localhost:8080/"
    },
    "executionInfo": {
     "elapsed": 23,
     "status": "ok",
     "timestamp": 1713317936668,
     "user": {
      "displayName": "전영호",
      "userId": "17928441635701806568"
     },
     "user_tz": -540
    },
    "id": "84acec02",
    "outputId": "2157bd12-9a95-4c08-f36e-9ebb95cafa3b"
   },
   "outputs": [
    {
     "data": {
      "text/plain": [
       "대학전공\n",
       "컴퓨터정1보    29\n",
       "Name: count, dtype: int64"
      ]
     },
     "execution_count": 459,
     "metadata": {},
     "output_type": "execute_result"
    }
   ],
   "source": [
    "a = X_train_pre[X_train_pre['대학전공'].str.contains(\"터정\")]\n",
    "a.loc[:, '대학전공'] = '컴퓨터정1보'\n",
    "X_train_pre[X_train_pre['대학전공'].str.contains(\"터정\")] = a\n",
    "X_train_pre[X_train_pre['대학전공'].str.contains(\"컴퓨터정1보\")]['대학전공'].value_counts()"
   ]
  },
  {
   "cell_type": "code",
   "execution_count": 460,
   "id": "22221ef4",
   "metadata": {
    "colab": {
     "base_uri": "https://localhost:8080/"
    },
    "executionInfo": {
     "elapsed": 21,
     "status": "ok",
     "timestamp": 1713317936668,
     "user": {
      "displayName": "전영호",
      "userId": "17928441635701806568"
     },
     "user_tz": -540
    },
    "id": "22221ef4",
    "outputId": "0fc3dd8e-8b50-49c1-8e4d-b81b9826712c"
   },
   "outputs": [
    {
     "data": {
      "text/plain": [
       "대학전공\n",
       "컴퓨터정1보    30\n",
       "Name: count, dtype: int64"
      ]
     },
     "execution_count": 460,
     "metadata": {},
     "output_type": "execute_result"
    }
   ],
   "source": [
    "a = X_train_pre[X_train_pre['대학전공'].str.contains(\"터 정\")]\n",
    "a.loc[:, '대학전공'] = '컴퓨터정1보'\n",
    "X_train_pre[X_train_pre['대학전공'].str.contains(\"터 정\")] = a\n",
    "X_train_pre[X_train_pre['대학전공'].str.contains(\"컴퓨터정1보\")]['대학전공'].value_counts()"
   ]
  },
  {
   "cell_type": "code",
   "execution_count": 461,
   "id": "6f5dd8e6",
   "metadata": {
    "colab": {
     "base_uri": "https://localhost:8080/"
    },
    "executionInfo": {
     "elapsed": 20,
     "status": "ok",
     "timestamp": 1713317936668,
     "user": {
      "displayName": "전영호",
      "userId": "17928441635701806568"
     },
     "user_tz": -540
    },
    "id": "6f5dd8e6",
    "outputId": "9bae3e25-8c37-43fc-cafa-f104cb4f9baa"
   },
   "outputs": [
    {
     "data": {
      "text/plain": [
       "대학전공\n",
       "컴퓨터정1보    30\n",
       "Name: count, dtype: int64"
      ]
     },
     "execution_count": 461,
     "metadata": {},
     "output_type": "execute_result"
    }
   ],
   "source": [
    "a = X_train_pre[X_train_pre['대학전공'].str.contains(\"컴정\")]\n",
    "a.loc[:, '대학전공'] = '컴퓨터정1보'\n",
    "X_train_pre[X_train_pre['대학전공'].str.contains(\"컴정\")] = a\n",
    "X_train_pre[X_train_pre['대학전공'].str.contains(\"컴퓨터정1보\")]['대학전공'].value_counts()"
   ]
  },
  {
   "cell_type": "code",
   "execution_count": 462,
   "id": "7145f45d",
   "metadata": {
    "colab": {
     "base_uri": "https://localhost:8080/"
    },
    "executionInfo": {
     "elapsed": 18,
     "status": "ok",
     "timestamp": 1713317936668,
     "user": {
      "displayName": "전영호",
      "userId": "17928441635701806568"
     },
     "user_tz": -540
    },
    "id": "7145f45d",
    "outputId": "988a69a0-f053-4967-fcad-ff6afde29c34"
   },
   "outputs": [
    {
     "data": {
      "text/plain": [
       "대학전공\n",
       "컴퓨터    682\n",
       "Name: count, dtype: int64"
      ]
     },
     "execution_count": 462,
     "metadata": {},
     "output_type": "execute_result"
    }
   ],
   "source": [
    "a = X_train_pre[X_train_pre['대학전공'].str.contains(\"컴퓨\")]\n",
    "a.loc[:, '대학전공'] = '컴퓨터'\n",
    "X_train_pre[X_train_pre['대학전공'].str.contains(\"컴퓨\")] = a\n",
    "X_train_pre[X_train_pre['대학전공'].str.contains(\"컴퓨터\")]['대학전공'].value_counts()"
   ]
  },
  {
   "cell_type": "code",
   "execution_count": 463,
   "id": "a8dccb06",
   "metadata": {
    "colab": {
     "base_uri": "https://localhost:8080/"
    },
    "executionInfo": {
     "elapsed": 17,
     "status": "ok",
     "timestamp": 1713317936668,
     "user": {
      "displayName": "전영호",
      "userId": "17928441635701806568"
     },
     "user_tz": -540
    },
    "id": "a8dccb06",
    "outputId": "c2cd0a9e-0851-4e12-c8c8-55508a7abee3"
   },
   "outputs": [
    {
     "data": {
      "text/plain": [
       "대학전공\n",
       "제약    8\n",
       "Name: count, dtype: int64"
      ]
     },
     "execution_count": 463,
     "metadata": {},
     "output_type": "execute_result"
    }
   ],
   "source": [
    "a = X_train_pre[X_train_pre['대학전공'].str.contains(\"약\")]\n",
    "a.loc[:, '대학전공'] = '제약'\n",
    "X_train_pre[X_train_pre['대학전공'].str.contains(\"약\")] = a\n",
    "X_train_pre[X_train_pre['대학전공'].str.contains(\"제약\")]['대학전공'].value_counts()"
   ]
  },
  {
   "cell_type": "code",
   "execution_count": 464,
   "id": "f5e258b1",
   "metadata": {
    "colab": {
     "base_uri": "https://localhost:8080/"
    },
    "executionInfo": {
     "elapsed": 15,
     "status": "ok",
     "timestamp": 1713317936668,
     "user": {
      "displayName": "전영호",
      "userId": "17928441635701806568"
     },
     "user_tz": -540
    },
    "id": "f5e258b1",
    "outputId": "9a0374db-0368-40d6-c814-049372659c57"
   },
   "outputs": [
    {
     "data": {
      "text/plain": [
       "대학전공\n",
       "관1광경1영    103\n",
       "Name: count, dtype: int64"
      ]
     },
     "execution_count": 464,
     "metadata": {},
     "output_type": "execute_result"
    }
   ],
   "source": [
    "a = X_train_pre[X_train_pre['대학전공'].str.contains(\"관광경\")]\n",
    "a.loc[:, '대학전공'] = '관1광경1영'\n",
    "X_train_pre[X_train_pre['대학전공'].str.contains(\"관광경\")] = a\n",
    "X_train_pre[X_train_pre['대학전공'].str.contains(\"관1광경1영\")]['대학전공'].value_counts()"
   ]
  },
  {
   "cell_type": "code",
   "execution_count": 465,
   "id": "528d8169",
   "metadata": {
    "colab": {
     "base_uri": "https://localhost:8080/"
    },
    "executionInfo": {
     "elapsed": 14,
     "status": "ok",
     "timestamp": 1713317936668,
     "user": {
      "displayName": "전영호",
      "userId": "17928441635701806568"
     },
     "user_tz": -540
    },
    "id": "528d8169",
    "outputId": "a7461d9b-a927-466b-bc45-cbce4a10752f"
   },
   "outputs": [
    {
     "data": {
      "text/plain": [
       "대학전공\n",
       "관1광경1영    103\n",
       "Name: count, dtype: int64"
      ]
     },
     "execution_count": 465,
     "metadata": {},
     "output_type": "execute_result"
    }
   ],
   "source": [
    "a = X_train_pre[X_train_pre['대학전공'].str.contains(\"관광 경\")]\n",
    "a.loc[:, '대학전공'] = '관1광경1영'\n",
    "X_train_pre[X_train_pre['대학전공'].str.contains(\"관광 경\")] = a\n",
    "X_train_pre[X_train_pre['대학전공'].str.contains(\"관1광경1영\")]['대학전공'].value_counts()"
   ]
  },
  {
   "cell_type": "code",
   "execution_count": 466,
   "id": "f8ec49a0",
   "metadata": {
    "colab": {
     "base_uri": "https://localhost:8080/"
    },
    "executionInfo": {
     "elapsed": 13,
     "status": "ok",
     "timestamp": 1713317936668,
     "user": {
      "displayName": "전영호",
      "userId": "17928441635701806568"
     },
     "user_tz": -540
    },
    "id": "f8ec49a0",
    "outputId": "ef603793-7b95-4442-8fe0-926977ce8d83"
   },
   "outputs": [
    {
     "data": {
      "text/plain": [
       "대학전공\n",
       "통역    8\n",
       "Name: count, dtype: int64"
      ]
     },
     "execution_count": 466,
     "metadata": {},
     "output_type": "execute_result"
    }
   ],
   "source": [
    "a = X_train_pre[X_train_pre['대학전공'].str.contains(\"통역\")]\n",
    "a.loc[:, '대학전공'] = '통역'\n",
    "X_train_pre[X_train_pre['대학전공'].str.contains(\"통역\")] = a\n",
    "X_train_pre[X_train_pre['대학전공'].str.contains(\"통역\")]['대학전공'].value_counts()"
   ]
  },
  {
   "cell_type": "code",
   "execution_count": 467,
   "id": "2fd62d41",
   "metadata": {
    "colab": {
     "base_uri": "https://localhost:8080/"
    },
    "executionInfo": {
     "elapsed": 11,
     "status": "ok",
     "timestamp": 1713317936668,
     "user": {
      "displayName": "전영호",
      "userId": "17928441635701806568"
     },
     "user_tz": -540
    },
    "id": "2fd62d41",
    "outputId": "397412ad-acfa-45e9-99e4-5550824fe1fc"
   },
   "outputs": [
    {
     "data": {
      "text/plain": [
       "대학전공\n",
       "관광    34\n",
       "Name: count, dtype: int64"
      ]
     },
     "execution_count": 467,
     "metadata": {},
     "output_type": "execute_result"
    }
   ],
   "source": [
    "a = X_train_pre[X_train_pre['대학전공'].str.contains(\"관광\")]\n",
    "a.loc[:, '대학전공'] = '관광'\n",
    "X_train_pre[X_train_pre['대학전공'].str.contains(\"관광\")] = a\n",
    "X_train_pre[X_train_pre['대학전공'].str.contains(\"관광\")]['대학전공'].value_counts()"
   ]
  },
  {
   "cell_type": "code",
   "execution_count": 468,
   "id": "90a327ac",
   "metadata": {
    "colab": {
     "base_uri": "https://localhost:8080/"
    },
    "executionInfo": {
     "elapsed": 10,
     "status": "ok",
     "timestamp": 1713317936668,
     "user": {
      "displayName": "전영호",
      "userId": "17928441635701806568"
     },
     "user_tz": -540
    },
    "id": "90a327ac",
    "outputId": "4a637c0c-7252-41d0-b0ec-bc685838acb2"
   },
   "outputs": [
    {
     "data": {
      "text/plain": [
       "대학전공\n",
       "네트워크    1\n",
       "Name: count, dtype: int64"
      ]
     },
     "execution_count": 468,
     "metadata": {},
     "output_type": "execute_result"
    }
   ],
   "source": [
    "a = X_train_pre[X_train_pre['대학전공'].str.contains(\"네트\")]\n",
    "a.loc[:, '대학전공'] = '네트워크'\n",
    "X_train_pre[X_train_pre['대학전공'].str.contains(\"네트\")] = a\n",
    "X_train_pre[X_train_pre['대학전공'].str.contains(\"네트워크\")]['대학전공'].value_counts()"
   ]
  },
  {
   "cell_type": "code",
   "execution_count": 469,
   "id": "982566c5",
   "metadata": {
    "colab": {
     "base_uri": "https://localhost:8080/"
    },
    "executionInfo": {
     "elapsed": 8,
     "status": "ok",
     "timestamp": 1713317936668,
     "user": {
      "displayName": "전영호",
      "userId": "17928441635701806568"
     },
     "user_tz": -540
    },
    "id": "982566c5",
    "outputId": "ca117ca4-15e2-40bf-8a94-2b9e679133fd"
   },
   "outputs": [
    {
     "data": {
      "text/plain": [
       "대학전공\n",
       "원예    8\n",
       "Name: count, dtype: int64"
      ]
     },
     "execution_count": 469,
     "metadata": {},
     "output_type": "execute_result"
    }
   ],
   "source": [
    "a = X_train_pre[X_train_pre['대학전공'].str.contains(\"원예\")]\n",
    "a.loc[:, '대학전공'] = '원예'\n",
    "X_train_pre[X_train_pre['대학전공'].str.contains(\"원예\")] = a\n",
    "X_train_pre[X_train_pre['대학전공'].str.contains(\"원예\")]['대학전공'].value_counts()"
   ]
  },
  {
   "cell_type": "code",
   "execution_count": 470,
   "id": "3759fe8e",
   "metadata": {
    "colab": {
     "base_uri": "https://localhost:8080/"
    },
    "executionInfo": {
     "elapsed": 6,
     "status": "ok",
     "timestamp": 1713317936668,
     "user": {
      "displayName": "전영호",
      "userId": "17928441635701806568"
     },
     "user_tz": -540
    },
    "id": "3759fe8e",
    "outputId": "756bfb56-0630-49fd-895b-45324f879c99"
   },
   "outputs": [
    {
     "data": {
      "text/plain": [
       "대학전공\n",
       "지식정1보    2\n",
       "Name: count, dtype: int64"
      ]
     },
     "execution_count": 470,
     "metadata": {},
     "output_type": "execute_result"
    }
   ],
   "source": [
    "a = X_train_pre[X_train_pre['대학전공'].str.contains(\"지식\")]\n",
    "a.loc[:, '대학전공'] = '지식정1보'\n",
    "X_train_pre[X_train_pre['대학전공'].str.contains(\"지식\")] = a\n",
    "X_train_pre[X_train_pre['대학전공'].str.contains(\"지식정1보\")]['대학전공'].value_counts()"
   ]
  },
  {
   "cell_type": "code",
   "execution_count": 471,
   "id": "d07f0752",
   "metadata": {
    "colab": {
     "base_uri": "https://localhost:8080/"
    },
    "executionInfo": {
     "elapsed": 3,
     "status": "ok",
     "timestamp": 1713317936668,
     "user": {
      "displayName": "전영호",
      "userId": "17928441635701806568"
     },
     "user_tz": -540
    },
    "id": "d07f0752",
    "outputId": "7c91e285-e791-4ac8-8049-486edd2d9350"
   },
   "outputs": [
    {
     "data": {
      "text/plain": [
       "대학전공\n",
       "영상    5\n",
       "Name: count, dtype: int64"
      ]
     },
     "execution_count": 471,
     "metadata": {},
     "output_type": "execute_result"
    }
   ],
   "source": [
    "a = X_train_pre[X_train_pre['대학전공'].str.contains(\"영상\")]\n",
    "a.loc[:, '대학전공'] = '영상'\n",
    "X_train_pre[X_train_pre['대학전공'].str.contains(\"영상\")] = a\n",
    "X_train_pre[X_train_pre['대학전공'].str.contains(\"영상\")]['대학전공'].value_counts()"
   ]
  },
  {
   "cell_type": "code",
   "execution_count": 472,
   "id": "1550cbfc",
   "metadata": {
    "colab": {
     "base_uri": "https://localhost:8080/"
    },
    "executionInfo": {
     "elapsed": 834,
     "status": "ok",
     "timestamp": 1713317937500,
     "user": {
      "displayName": "전영호",
      "userId": "17928441635701806568"
     },
     "user_tz": -540
    },
    "id": "1550cbfc",
    "outputId": "e41a1035-fafe-4e19-ca5a-12f706d2abfe"
   },
   "outputs": [
    {
     "data": {
      "text/plain": [
       "대학전공\n",
       "연극영1화    4\n",
       "Name: count, dtype: int64"
      ]
     },
     "execution_count": 472,
     "metadata": {},
     "output_type": "execute_result"
    }
   ],
   "source": [
    "a = X_train_pre[X_train_pre['대학전공'].str.contains(\"연극\")]\n",
    "a.loc[:, '대학전공'] = '연극영1화'\n",
    "X_train_pre[X_train_pre['대학전공'].str.contains(\"연극\")] = a\n",
    "X_train_pre[X_train_pre['대학전공'].str.contains(\"연극영1화\")]['대학전공'].value_counts()"
   ]
  },
  {
   "cell_type": "code",
   "execution_count": 473,
   "id": "63372c61",
   "metadata": {
    "colab": {
     "base_uri": "https://localhost:8080/"
    },
    "executionInfo": {
     "elapsed": 36,
     "status": "ok",
     "timestamp": 1713317937500,
     "user": {
      "displayName": "전영호",
      "userId": "17928441635701806568"
     },
     "user_tz": -540
    },
    "id": "63372c61",
    "outputId": "7ac18abc-d02c-4110-f69f-021f641dd480"
   },
   "outputs": [
    {
     "data": {
      "text/plain": [
       "대학전공\n",
       "영상    5\n",
       "Name: count, dtype: int64"
      ]
     },
     "execution_count": 473,
     "metadata": {},
     "output_type": "execute_result"
    }
   ],
   "source": [
    "a = X_train_pre[X_train_pre['대학전공'].str.contains(\"영화\")]\n",
    "a.loc[:, '대학전공'] = '영상'\n",
    "X_train_pre[X_train_pre['대학전공'].str.contains(\"영화\")] = a\n",
    "X_train_pre[X_train_pre['대학전공'].str.contains(\"영상\")]['대학전공'].value_counts()"
   ]
  },
  {
   "cell_type": "code",
   "execution_count": 474,
   "id": "8dec5d04",
   "metadata": {
    "colab": {
     "base_uri": "https://localhost:8080/"
    },
    "executionInfo": {
     "elapsed": 34,
     "status": "ok",
     "timestamp": 1713317937500,
     "user": {
      "displayName": "전영호",
      "userId": "17928441635701806568"
     },
     "user_tz": -540
    },
    "id": "8dec5d04",
    "outputId": "883a0958-207b-4b37-ca8d-86f870969a8c"
   },
   "outputs": [
    {
     "data": {
      "text/plain": [
       "대학전공\n",
       "미술    40\n",
       "Name: count, dtype: int64"
      ]
     },
     "execution_count": 474,
     "metadata": {},
     "output_type": "execute_result"
    }
   ],
   "source": [
    "a = X_train_pre[X_train_pre['대학전공'].str.contains(\"미술\")]\n",
    "a.loc[:, '대학전공'] = '미술'\n",
    "X_train_pre[X_train_pre['대학전공'].str.contains(\"미술\")] = a\n",
    "X_train_pre[X_train_pre['대학전공'].str.contains(\"미술\")]['대학전공'].value_counts()"
   ]
  },
  {
   "cell_type": "code",
   "execution_count": 475,
   "id": "191e1fc6",
   "metadata": {
    "colab": {
     "base_uri": "https://localhost:8080/"
    },
    "executionInfo": {
     "elapsed": 33,
     "status": "ok",
     "timestamp": 1713317937500,
     "user": {
      "displayName": "전영호",
      "userId": "17928441635701806568"
     },
     "user_tz": -540
    },
    "id": "191e1fc6",
    "outputId": "b7dd3f56-6107-4dfb-d123-0f54677c4720"
   },
   "outputs": [
    {
     "data": {
      "text/plain": [
       "대학전공\n",
       "보험    32\n",
       "Name: count, dtype: int64"
      ]
     },
     "execution_count": 475,
     "metadata": {},
     "output_type": "execute_result"
    }
   ],
   "source": [
    "a = X_train_pre[X_train_pre['대학전공'].str.contains(\"보험\")]\n",
    "a.loc[:, '대학전공'] = '보험'\n",
    "X_train_pre[X_train_pre['대학전공'].str.contains(\"보험\")] = a\n",
    "X_train_pre[X_train_pre['대학전공'].str.contains(\"보험\")]['대학전공'].value_counts()"
   ]
  },
  {
   "cell_type": "code",
   "execution_count": 476,
   "id": "af5c0322",
   "metadata": {
    "colab": {
     "base_uri": "https://localhost:8080/"
    },
    "executionInfo": {
     "elapsed": 32,
     "status": "ok",
     "timestamp": 1713317937500,
     "user": {
      "displayName": "전영호",
      "userId": "17928441635701806568"
     },
     "user_tz": -540
    },
    "id": "af5c0322",
    "outputId": "d3876a60-ac1b-4b2c-bf44-61ea2ee2bd90"
   },
   "outputs": [
    {
     "data": {
      "text/plain": [
       "대학전공\n",
       "항공우주    4\n",
       "Name: count, dtype: int64"
      ]
     },
     "execution_count": 476,
     "metadata": {},
     "output_type": "execute_result"
    }
   ],
   "source": [
    "a = X_train_pre[X_train_pre['대학전공'].str.contains(\"항공\")]\n",
    "a.loc[:, '대학전공'] = '항공우주'\n",
    "X_train_pre[X_train_pre['대학전공'].str.contains(\"항공\")] = a\n",
    "X_train_pre[X_train_pre['대학전공'].str.contains(\"항공우주\")]['대학전공'].value_counts()"
   ]
  },
  {
   "cell_type": "code",
   "execution_count": 477,
   "id": "e926d630",
   "metadata": {
    "colab": {
     "base_uri": "https://localhost:8080/"
    },
    "executionInfo": {
     "elapsed": 31,
     "status": "ok",
     "timestamp": 1713317937500,
     "user": {
      "displayName": "전영호",
      "userId": "17928441635701806568"
     },
     "user_tz": -540
    },
    "id": "e926d630",
    "outputId": "5e8acefe-8eed-483f-8b41-2db53a912af4"
   },
   "outputs": [
    {
     "data": {
      "text/plain": [
       "대학전공\n",
       "철학    70\n",
       "Name: count, dtype: int64"
      ]
     },
     "execution_count": 477,
     "metadata": {},
     "output_type": "execute_result"
    }
   ],
   "source": [
    "a = X_train_pre[X_train_pre['대학전공'].str.contains(\"윤리\")]\n",
    "a.loc[:, '대학전공'] = '철학'\n",
    "X_train_pre[X_train_pre['대학전공'].str.contains(\"윤리\")] = a\n",
    "X_train_pre[X_train_pre['대학전공'].str.contains(\"철학\")]['대학전공'].value_counts()"
   ]
  },
  {
   "cell_type": "code",
   "execution_count": 478,
   "id": "e9868bfe",
   "metadata": {
    "colab": {
     "base_uri": "https://localhost:8080/"
    },
    "executionInfo": {
     "elapsed": 29,
     "status": "ok",
     "timestamp": 1713317937500,
     "user": {
      "displayName": "전영호",
      "userId": "17928441635701806568"
     },
     "user_tz": -540
    },
    "id": "e9868bfe",
    "outputId": "14395292-f9a8-4438-80aa-0fdc927ea437"
   },
   "outputs": [
    {
     "data": {
      "text/plain": [
       "대학전공\n",
       "인류    3\n",
       "Name: count, dtype: int64"
      ]
     },
     "execution_count": 478,
     "metadata": {},
     "output_type": "execute_result"
    }
   ],
   "source": [
    "a = X_train_pre[X_train_pre['대학전공'].str.contains(\"인류\")]\n",
    "a.loc[:, '대학전공'] = '인류'\n",
    "X_train_pre[X_train_pre['대학전공'].str.contains(\"인류\")] = a\n",
    "X_train_pre[X_train_pre['대학전공'].str.contains(\"인류\")]['대학전공'].value_counts()"
   ]
  },
  {
   "cell_type": "code",
   "execution_count": 479,
   "id": "daec7193",
   "metadata": {
    "colab": {
     "base_uri": "https://localhost:8080/"
    },
    "executionInfo": {
     "elapsed": 27,
     "status": "ok",
     "timestamp": 1713317937500,
     "user": {
      "displayName": "전영호",
      "userId": "17928441635701806568"
     },
     "user_tz": -540
    },
    "id": "daec7193",
    "outputId": "1242b5ef-7e68-4efe-8ccc-71366c805345"
   },
   "outputs": [
    {
     "data": {
      "text/plain": [
       "대학전공\n",
       "수학    98\n",
       "Name: count, dtype: int64"
      ]
     },
     "execution_count": 479,
     "metadata": {},
     "output_type": "execute_result"
    }
   ],
   "source": [
    "a = X_train_pre[X_train_pre['대학전공'].str.contains(\"수학\")]\n",
    "a.loc[:, '대학전공'] = '수학'\n",
    "X_train_pre[X_train_pre['대학전공'].str.contains(\"수학\")] = a\n",
    "X_train_pre[X_train_pre['대학전공'].str.contains(\"수학\")]['대학전공'].value_counts()"
   ]
  },
  {
   "cell_type": "code",
   "execution_count": 480,
   "id": "08ab400b",
   "metadata": {
    "colab": {
     "base_uri": "https://localhost:8080/"
    },
    "executionInfo": {
     "elapsed": 26,
     "status": "ok",
     "timestamp": 1713317937500,
     "user": {
      "displayName": "전영호",
      "userId": "17928441635701806568"
     },
     "user_tz": -540
    },
    "id": "08ab400b",
    "outputId": "f6d1a0db-4ec2-4acb-e41e-b089256d078e"
   },
   "outputs": [
    {
     "data": {
      "text/plain": [
       "대학전공\n",
       "전산    97\n",
       "Name: count, dtype: int64"
      ]
     },
     "execution_count": 480,
     "metadata": {},
     "output_type": "execute_result"
    }
   ],
   "source": [
    "a = X_train_pre[X_train_pre['대학전공'].str.contains(\"전산\")]\n",
    "a.loc[:, '대학전공'] = '전산'\n",
    "X_train_pre[X_train_pre['대학전공'].str.contains(\"전산\")] = a\n",
    "X_train_pre[X_train_pre['대학전공'].str.contains(\"전산\")]['대학전공'].value_counts()"
   ]
  },
  {
   "cell_type": "code",
   "execution_count": 481,
   "id": "6333c07d",
   "metadata": {
    "colab": {
     "base_uri": "https://localhost:8080/"
    },
    "executionInfo": {
     "elapsed": 24,
     "status": "ok",
     "timestamp": 1713317937500,
     "user": {
      "displayName": "전영호",
      "userId": "17928441635701806568"
     },
     "user_tz": -540
    },
    "id": "6333c07d",
    "outputId": "1b3fc54a-69fd-46ee-db25-41f1970ae946"
   },
   "outputs": [
    {
     "data": {
      "text/plain": [
       "대학전공\n",
       "종교    2\n",
       "Name: count, dtype: int64"
      ]
     },
     "execution_count": 481,
     "metadata": {},
     "output_type": "execute_result"
    }
   ],
   "source": [
    "a = X_train_pre[X_train_pre['대학전공'].str.contains(\"선교\")]\n",
    "a.loc[:, '대학전공'] = '종교'\n",
    "X_train_pre[X_train_pre['대학전공'].str.contains(\"선교\")] = a\n",
    "X_train_pre[X_train_pre['대학전공'].str.contains(\"종교\")]['대학전공'].value_counts()"
   ]
  },
  {
   "cell_type": "code",
   "execution_count": 482,
   "id": "e25845ac",
   "metadata": {
    "colab": {
     "base_uri": "https://localhost:8080/"
    },
    "executionInfo": {
     "elapsed": 22,
     "status": "ok",
     "timestamp": 1713317937500,
     "user": {
      "displayName": "전영호",
      "userId": "17928441635701806568"
     },
     "user_tz": -540
    },
    "id": "e25845ac",
    "outputId": "da566458-66e9-4838-a9c7-e4f46b0b6917"
   },
   "outputs": [
    {
     "data": {
      "text/plain": [
       "대학전공\n",
       "종교    4\n",
       "Name: count, dtype: int64"
      ]
     },
     "execution_count": 482,
     "metadata": {},
     "output_type": "execute_result"
    }
   ],
   "source": [
    "a = X_train_pre[X_train_pre['대학전공'].str.contains(\"기독\")]\n",
    "a.loc[:, '대학전공'] = '종교'\n",
    "X_train_pre[X_train_pre['대학전공'].str.contains(\"기독\")] = a\n",
    "X_train_pre[X_train_pre['대학전공'].str.contains(\"종교\")]['대학전공'].value_counts()"
   ]
  },
  {
   "cell_type": "code",
   "execution_count": 483,
   "id": "443ad5a6",
   "metadata": {
    "colab": {
     "base_uri": "https://localhost:8080/"
    },
    "executionInfo": {
     "elapsed": 21,
     "status": "ok",
     "timestamp": 1713317937500,
     "user": {
      "displayName": "전영호",
      "userId": "17928441635701806568"
     },
     "user_tz": -540
    },
    "id": "443ad5a6",
    "outputId": "bff03081-f510-493d-bf97-cdeea860c26d"
   },
   "outputs": [
    {
     "data": {
      "text/plain": [
       "대학전공\n",
       "해양    22\n",
       "Name: count, dtype: int64"
      ]
     },
     "execution_count": 483,
     "metadata": {},
     "output_type": "execute_result"
    }
   ],
   "source": [
    "a = X_train_pre[X_train_pre['대학전공'].str.contains(\"해양\")]\n",
    "a.loc[:, '대학전공'] = '해양'\n",
    "X_train_pre[X_train_pre['대학전공'].str.contains(\"해양\")] = a\n",
    "X_train_pre[X_train_pre['대학전공'].str.contains(\"해양\")]['대학전공'].value_counts()"
   ]
  },
  {
   "cell_type": "code",
   "execution_count": 484,
   "id": "f9ddd3d4",
   "metadata": {
    "colab": {
     "base_uri": "https://localhost:8080/"
    },
    "executionInfo": {
     "elapsed": 20,
     "status": "ok",
     "timestamp": 1713317937500,
     "user": {
      "displayName": "전영호",
      "userId": "17928441635701806568"
     },
     "user_tz": -540
    },
    "id": "f9ddd3d4",
    "outputId": "28951b5c-45c0-4ac9-aa3c-f515ee7d59eb"
   },
   "outputs": [
    {
     "data": {
      "text/plain": [
       "대학전공\n",
       "부동산    8\n",
       "Name: count, dtype: int64"
      ]
     },
     "execution_count": 484,
     "metadata": {},
     "output_type": "execute_result"
    }
   ],
   "source": [
    "a = X_train_pre[X_train_pre['대학전공'].str.contains(\"부동산\")]\n",
    "a.loc[:, '대학전공'] = '부동산'\n",
    "X_train_pre[X_train_pre['대학전공'].str.contains(\"부동산\")] = a\n",
    "X_train_pre[X_train_pre['대학전공'].str.contains(\"부동산\")]['대학전공'].value_counts()"
   ]
  },
  {
   "cell_type": "code",
   "execution_count": 485,
   "id": "b72e0265",
   "metadata": {
    "colab": {
     "base_uri": "https://localhost:8080/"
    },
    "executionInfo": {
     "elapsed": 19,
     "status": "ok",
     "timestamp": 1713317937500,
     "user": {
      "displayName": "전영호",
      "userId": "17928441635701806568"
     },
     "user_tz": -540
    },
    "id": "b72e0265",
    "outputId": "ec284928-8918-45aa-b80f-c386a48d5b53"
   },
   "outputs": [
    {
     "data": {
      "text/plain": [
       "대학전공\n",
       "국1제통상    345\n",
       "Name: count, dtype: int64"
      ]
     },
     "execution_count": 485,
     "metadata": {},
     "output_type": "execute_result"
    }
   ],
   "source": [
    "a = X_train_pre[X_train_pre['대학전공'].str.contains(\"국제통상\")]\n",
    "a.loc[:, '대학전공'] = '국1제통상'\n",
    "X_train_pre[X_train_pre['대학전공'].str.contains(\"국제통상\")] = a\n",
    "X_train_pre[X_train_pre['대학전공'].str.contains(\"국1제통상\")]['대학전공'].value_counts()"
   ]
  },
  {
   "cell_type": "code",
   "execution_count": 486,
   "id": "bd055b19",
   "metadata": {
    "colab": {
     "base_uri": "https://localhost:8080/"
    },
    "executionInfo": {
     "elapsed": 19,
     "status": "ok",
     "timestamp": 1713317937500,
     "user": {
      "displayName": "전영호",
      "userId": "17928441635701806568"
     },
     "user_tz": -540
    },
    "id": "bd055b19",
    "outputId": "edb1f8fe-f2aa-410d-f3dd-547e797d885d"
   },
   "outputs": [
    {
     "data": {
      "text/plain": [
       "대학전공\n",
       "보건    15\n",
       "Name: count, dtype: int64"
      ]
     },
     "execution_count": 486,
     "metadata": {},
     "output_type": "execute_result"
    }
   ],
   "source": [
    "a = X_train_pre[X_train_pre['대학전공'].str.contains(\"보건\")]\n",
    "a.loc[:, '대학전공'] = '보건'\n",
    "X_train_pre[X_train_pre['대학전공'].str.contains(\"보건\")] = a\n",
    "X_train_pre[X_train_pre['대학전공'].str.contains(\"보건\")]['대학전공'].value_counts()"
   ]
  },
  {
   "cell_type": "code",
   "execution_count": 487,
   "id": "eab168c9",
   "metadata": {
    "colab": {
     "base_uri": "https://localhost:8080/"
    },
    "executionInfo": {
     "elapsed": 18,
     "status": "ok",
     "timestamp": 1713317937500,
     "user": {
      "displayName": "전영호",
      "userId": "17928441635701806568"
     },
     "user_tz": -540
    },
    "id": "eab168c9",
    "outputId": "84609f45-90c3-4ded-ae38-ea2a80478320"
   },
   "outputs": [
    {
     "data": {
      "text/plain": [
       "대학전공\n",
       "기타과학    19\n",
       "Name: count, dtype: int64"
      ]
     },
     "execution_count": 487,
     "metadata": {},
     "output_type": "execute_result"
    }
   ],
   "source": [
    "a = X_train_pre[X_train_pre['대학전공'].str.contains(\"과학\")]\n",
    "a.loc[:, '대학전공'] = '기타과학'\n",
    "X_train_pre[X_train_pre['대학전공'].str.contains(\"과학\")] = a\n",
    "X_train_pre[X_train_pre['대학전공'].str.contains(\"기타과학\")]['대학전공'].value_counts()"
   ]
  },
  {
   "cell_type": "code",
   "execution_count": 488,
   "id": "b2680a91",
   "metadata": {
    "colab": {
     "base_uri": "https://localhost:8080/"
    },
    "executionInfo": {
     "elapsed": 17,
     "status": "ok",
     "timestamp": 1713317937500,
     "user": {
      "displayName": "전영호",
      "userId": "17928441635701806568"
     },
     "user_tz": -540
    },
    "id": "b2680a91",
    "outputId": "9ddb7494-e463-41a2-cb98-cfbbf6f19b54"
   },
   "outputs": [
    {
     "data": {
      "text/plain": [
       "대학전공\n",
       "신학    21\n",
       "Name: count, dtype: int64"
      ]
     },
     "execution_count": 488,
     "metadata": {},
     "output_type": "execute_result"
    }
   ],
   "source": [
    "a = X_train_pre[X_train_pre['대학전공'].str.contains(\"신학\")]\n",
    "a.loc[:, '대학전공'] = '신학'\n",
    "X_train_pre[X_train_pre['대학전공'].str.contains(\"신학\")] = a\n",
    "X_train_pre[X_train_pre['대학전공'].str.contains(\"신학\")]['대학전공'].value_counts()"
   ]
  },
  {
   "cell_type": "code",
   "execution_count": 489,
   "id": "900a5bb9",
   "metadata": {
    "colab": {
     "base_uri": "https://localhost:8080/"
    },
    "executionInfo": {
     "elapsed": 17,
     "status": "ok",
     "timestamp": 1713317937501,
     "user": {
      "displayName": "전영호",
      "userId": "17928441635701806568"
     },
     "user_tz": -540
    },
    "id": "900a5bb9",
    "outputId": "0e8ca7fa-fd27-4924-dfe3-1d7ee5bbec1a"
   },
   "outputs": [
    {
     "data": {
      "text/plain": [
       "대학전공\n",
       "신학    25\n",
       "Name: count, dtype: int64"
      ]
     },
     "execution_count": 489,
     "metadata": {},
     "output_type": "execute_result"
    }
   ],
   "source": [
    "a = X_train_pre[X_train_pre['대학전공'].str.contains(\"종교\")]\n",
    "a.loc[:, '대학전공'] = '신학'\n",
    "X_train_pre[X_train_pre['대학전공'].str.contains(\"종교\")] = a\n",
    "X_train_pre[X_train_pre['대학전공'].str.contains(\"신학\")]['대학전공'].value_counts()"
   ]
  },
  {
   "cell_type": "code",
   "execution_count": 490,
   "id": "f0361411",
   "metadata": {
    "colab": {
     "base_uri": "https://localhost:8080/"
    },
    "executionInfo": {
     "elapsed": 16,
     "status": "ok",
     "timestamp": 1713317937501,
     "user": {
      "displayName": "전영호",
      "userId": "17928441635701806568"
     },
     "user_tz": -540
    },
    "id": "f0361411",
    "outputId": "b1ffa48a-a013-4c46-c6ed-a776259be0b4"
   },
   "outputs": [
    {
     "data": {
      "text/plain": [
       "대학전공\n",
       "농업    11\n",
       "Name: count, dtype: int64"
      ]
     },
     "execution_count": 490,
     "metadata": {},
     "output_type": "execute_result"
    }
   ],
   "source": [
    "a = X_train_pre[X_train_pre['대학전공'].str.contains(\"농\")]\n",
    "a.loc[:, '대학전공'] = '농업'\n",
    "X_train_pre[X_train_pre['대학전공'].str.contains(\"농\")] = a\n",
    "X_train_pre[X_train_pre['대학전공'].str.contains(\"농업\")]['대학전공'].value_counts()"
   ]
  },
  {
   "cell_type": "code",
   "execution_count": 491,
   "id": "18d0585c",
   "metadata": {
    "colab": {
     "base_uri": "https://localhost:8080/"
    },
    "executionInfo": {
     "elapsed": 15,
     "status": "ok",
     "timestamp": 1713317937501,
     "user": {
      "displayName": "전영호",
      "userId": "17928441635701806568"
     },
     "user_tz": -540
    },
    "id": "18d0585c",
    "outputId": "db7276f9-b6a4-4ca9-9b92-8568641533f7"
   },
   "outputs": [
    {
     "data": {
      "text/plain": [
       "대학전공\n",
       "신소재    36\n",
       "Name: count, dtype: int64"
      ]
     },
     "execution_count": 491,
     "metadata": {},
     "output_type": "execute_result"
    }
   ],
   "source": [
    "a = X_train_pre[X_train_pre['대학전공'].str.contains(\"소재\")]\n",
    "a.loc[:, '대학전공'] = '신소재'\n",
    "X_train_pre[X_train_pre['대학전공'].str.contains(\"소재\")] = a\n",
    "X_train_pre[X_train_pre['대학전공'].str.contains(\"신소재\")]['대학전공'].value_counts()"
   ]
  },
  {
   "cell_type": "code",
   "execution_count": 492,
   "id": "1009e92f",
   "metadata": {
    "colab": {
     "base_uri": "https://localhost:8080/"
    },
    "executionInfo": {
     "elapsed": 15,
     "status": "ok",
     "timestamp": 1713317937501,
     "user": {
      "displayName": "전영호",
      "userId": "17928441635701806568"
     },
     "user_tz": -540
    },
    "id": "1009e92f",
    "outputId": "5fc74d3d-a9a7-4ff7-a49e-0c13cee40806"
   },
   "outputs": [
    {
     "data": {
      "text/plain": [
       "대학전공\n",
       "정치외교    89\n",
       "Name: count, dtype: int64"
      ]
     },
     "execution_count": 492,
     "metadata": {},
     "output_type": "execute_result"
    }
   ],
   "source": [
    "a = X_train_pre[X_train_pre['대학전공'].str.contains(\"정치\")]\n",
    "a.loc[:, '대학전공'] = '정치외교'\n",
    "X_train_pre[X_train_pre['대학전공'].str.contains(\"정치\")] = a\n",
    "X_train_pre[X_train_pre['대학전공'].str.contains(\"정치외교\")]['대학전공'].value_counts()"
   ]
  },
  {
   "cell_type": "code",
   "execution_count": 493,
   "id": "aec45f43",
   "metadata": {
    "colab": {
     "base_uri": "https://localhost:8080/"
    },
    "executionInfo": {
     "elapsed": 14,
     "status": "ok",
     "timestamp": 1713317937501,
     "user": {
      "displayName": "전영호",
      "userId": "17928441635701806568"
     },
     "user_tz": -540
    },
    "id": "aec45f43",
    "outputId": "460b94bb-20e2-4556-89bf-aae290064e94"
   },
   "outputs": [
    {
     "data": {
      "text/plain": [
       "대학전공\n",
       "정치외교    90\n",
       "Name: count, dtype: int64"
      ]
     },
     "execution_count": 493,
     "metadata": {},
     "output_type": "execute_result"
    }
   ],
   "source": [
    "a = X_train_pre[X_train_pre['대학전공'].str.contains(\"정외\")]\n",
    "a.loc[:, '대학전공'] = '정치외교'\n",
    "X_train_pre[X_train_pre['대학전공'].str.contains(\"정외\")] = a\n",
    "X_train_pre[X_train_pre['대학전공'].str.contains(\"정치외교\")]['대학전공'].value_counts()"
   ]
  },
  {
   "cell_type": "code",
   "execution_count": 494,
   "id": "d62a2c79",
   "metadata": {
    "colab": {
     "base_uri": "https://localhost:8080/"
    },
    "executionInfo": {
     "elapsed": 13,
     "status": "ok",
     "timestamp": 1713317937501,
     "user": {
      "displayName": "전영호",
      "userId": "17928441635701806568"
     },
     "user_tz": -540
    },
    "id": "d62a2c79",
    "outputId": "60430d59-3810-438a-c983-f9eecb5cb022"
   },
   "outputs": [
    {
     "data": {
      "text/plain": [
       "대학전공\n",
       "산1업정1보    58\n",
       "Name: count, dtype: int64"
      ]
     },
     "execution_count": 494,
     "metadata": {},
     "output_type": "execute_result"
    }
   ],
   "source": [
    "a = X_train_pre[X_train_pre['대학전공'].str.contains(\"산업정\")]\n",
    "a.loc[:, '대학전공'] = '산1업정1보'\n",
    "X_train_pre[X_train_pre['대학전공'].str.contains(\"산업정\")] = a\n",
    "X_train_pre[X_train_pre['대학전공'].str.contains(\"산1업정1보\")]['대학전공'].value_counts()"
   ]
  },
  {
   "cell_type": "code",
   "execution_count": 495,
   "id": "59c95cdb",
   "metadata": {
    "colab": {
     "base_uri": "https://localhost:8080/"
    },
    "executionInfo": {
     "elapsed": 12,
     "status": "ok",
     "timestamp": 1713317937501,
     "user": {
      "displayName": "전영호",
      "userId": "17928441635701806568"
     },
     "user_tz": -540
    },
    "id": "59c95cdb",
    "outputId": "abf7cde3-9705-49a7-f68e-c61eda758aa4"
   },
   "outputs": [
    {
     "data": {
      "text/plain": [
       "대학전공\n",
       "도시    34\n",
       "Name: count, dtype: int64"
      ]
     },
     "execution_count": 495,
     "metadata": {},
     "output_type": "execute_result"
    }
   ],
   "source": [
    "a = X_train_pre[X_train_pre['대학전공'].str.contains(\"도시\")]\n",
    "a.loc[:, '대학전공'] = '도시'\n",
    "X_train_pre[X_train_pre['대학전공'].str.contains(\"도시\")] = a\n",
    "X_train_pre[X_train_pre['대학전공'].str.contains(\"도시\")]['대학전공'].value_counts()"
   ]
  },
  {
   "cell_type": "code",
   "execution_count": 496,
   "id": "dceefee0",
   "metadata": {
    "colab": {
     "base_uri": "https://localhost:8080/"
    },
    "executionInfo": {
     "elapsed": 11,
     "status": "ok",
     "timestamp": 1713317937501,
     "user": {
      "displayName": "전영호",
      "userId": "17928441635701806568"
     },
     "user_tz": -540
    },
    "id": "dceefee0",
    "outputId": "5bf9cce2-f263-43fb-da1e-46812819e7b2"
   },
   "outputs": [
    {
     "data": {
      "text/plain": [
       "대학전공\n",
       "산업공1학    245\n",
       "Name: count, dtype: int64"
      ]
     },
     "execution_count": 496,
     "metadata": {},
     "output_type": "execute_result"
    }
   ],
   "source": [
    "a = X_train_pre[X_train_pre['대학전공'].str.contains(\"산업공\")]\n",
    "a.loc[:, '대학전공'] = '산업공1학'\n",
    "X_train_pre[X_train_pre['대학전공'].str.contains(\"산업공\")] = a\n",
    "X_train_pre[X_train_pre['대학전공'].str.contains(\"산업공1학\")]['대학전공'].value_counts()"
   ]
  },
  {
   "cell_type": "code",
   "execution_count": 497,
   "id": "5a77e9f4",
   "metadata": {
    "colab": {
     "base_uri": "https://localhost:8080/"
    },
    "executionInfo": {
     "elapsed": 10,
     "status": "ok",
     "timestamp": 1713317937501,
     "user": {
      "displayName": "전영호",
      "userId": "17928441635701806568"
     },
     "user_tz": -540
    },
    "id": "5a77e9f4",
    "outputId": "f4432785-acc4-48db-a384-02b7edc3fbfc"
   },
   "outputs": [
    {
     "data": {
      "text/plain": [
       "대학전공\n",
       "금속    68\n",
       "Name: count, dtype: int64"
      ]
     },
     "execution_count": 497,
     "metadata": {},
     "output_type": "execute_result"
    }
   ],
   "source": [
    "a = X_train_pre[X_train_pre['대학전공'].str.contains(\"금속\")]\n",
    "a.loc[:, '대학전공'] = '금속'\n",
    "X_train_pre[X_train_pre['대학전공'].str.contains(\"금속\")] = a\n",
    "X_train_pre[X_train_pre['대학전공'].str.contains(\"금속\")]['대학전공'].value_counts()"
   ]
  },
  {
   "cell_type": "code",
   "execution_count": 498,
   "id": "cc889c92",
   "metadata": {
    "colab": {
     "base_uri": "https://localhost:8080/"
    },
    "executionInfo": {
     "elapsed": 9,
     "status": "ok",
     "timestamp": 1713317937501,
     "user": {
      "displayName": "전영호",
      "userId": "17928441635701806568"
     },
     "user_tz": -540
    },
    "id": "cc889c92",
    "outputId": "03a68a5f-e50d-4b6e-e32c-82e82f3ba017"
   },
   "outputs": [
    {
     "data": {
      "text/plain": [
       "대학전공\n",
       "바이오    74\n",
       "Name: count, dtype: int64"
      ]
     },
     "execution_count": 498,
     "metadata": {},
     "output_type": "execute_result"
    }
   ],
   "source": [
    "a = X_train_pre[X_train_pre['대학전공'].str.contains(\"유전\")]\n",
    "a.loc[:, '대학전공'] = '바이오'\n",
    "X_train_pre[X_train_pre['대학전공'].str.contains(\"유전\")] = a\n",
    "X_train_pre[X_train_pre['대학전공'].str.contains(\"바이오\")]['대학전공'].value_counts()"
   ]
  },
  {
   "cell_type": "code",
   "execution_count": 499,
   "id": "bc20b89a",
   "metadata": {
    "colab": {
     "base_uri": "https://localhost:8080/"
    },
    "executionInfo": {
     "elapsed": 7,
     "status": "ok",
     "timestamp": 1713317937501,
     "user": {
      "displayName": "전영호",
      "userId": "17928441635701806568"
     },
     "user_tz": -540
    },
    "id": "bc20b89a",
    "outputId": "af89f29d-03af-4fb1-ea24-022f110de701"
   },
   "outputs": [
    {
     "data": {
      "text/plain": [
       "대학전공\n",
       "산1업경1영    20\n",
       "Name: count, dtype: int64"
      ]
     },
     "execution_count": 499,
     "metadata": {},
     "output_type": "execute_result"
    }
   ],
   "source": [
    "a = X_train_pre[X_train_pre['대학전공'].str.contains(\"산업경\")]\n",
    "a.loc[:, '대학전공'] = '산1업경1영'\n",
    "X_train_pre[X_train_pre['대학전공'].str.contains(\"산업경\")] = a\n",
    "X_train_pre[X_train_pre['대학전공'].str.contains(\"산1업경1영\")]['대학전공'].value_counts()"
   ]
  },
  {
   "cell_type": "code",
   "execution_count": 500,
   "id": "f748b1b9",
   "metadata": {
    "colab": {
     "base_uri": "https://localhost:8080/"
    },
    "executionInfo": {
     "elapsed": 6,
     "status": "ok",
     "timestamp": 1713317937501,
     "user": {
      "displayName": "전영호",
      "userId": "17928441635701806568"
     },
     "user_tz": -540
    },
    "id": "f748b1b9",
    "outputId": "f85d41c1-a4da-4523-883c-193ef466f774"
   },
   "outputs": [
    {
     "data": {
      "text/plain": [
       "대학전공\n",
       "건축    136\n",
       "Name: count, dtype: int64"
      ]
     },
     "execution_count": 500,
     "metadata": {},
     "output_type": "execute_result"
    }
   ],
   "source": [
    "a = X_train_pre[X_train_pre['대학전공'].str.contains(\"건설\")]\n",
    "a.loc[:, '대학전공'] = '건축'\n",
    "X_train_pre[X_train_pre['대학전공'].str.contains(\"건설\")] = a\n",
    "X_train_pre[X_train_pre['대학전공'].str.contains(\"건축\")]['대학전공'].value_counts()"
   ]
  },
  {
   "cell_type": "code",
   "execution_count": 501,
   "id": "3b7be101",
   "metadata": {
    "colab": {
     "base_uri": "https://localhost:8080/"
    },
    "executionInfo": {
     "elapsed": 5,
     "status": "ok",
     "timestamp": 1713317937501,
     "user": {
      "displayName": "전영호",
      "userId": "17928441635701806568"
     },
     "user_tz": -540
    },
    "id": "3b7be101",
    "outputId": "d09503c9-c00e-4d08-81da-458b967549bc"
   },
   "outputs": [
    {
     "data": {
      "text/plain": [
       "대학전공\n",
       "건축    137\n",
       "Name: count, dtype: int64"
      ]
     },
     "execution_count": 501,
     "metadata": {},
     "output_type": "execute_result"
    }
   ],
   "source": [
    "a = X_train_pre[X_train_pre['대학전공'].str.contains(\"충\")]\n",
    "a.loc[:, '대학전공'] = '건축'\n",
    "X_train_pre[X_train_pre['대학전공'].str.contains(\"충\")] = a\n",
    "X_train_pre[X_train_pre['대학전공'].str.contains(\"건축\")]['대학전공'].value_counts()"
   ]
  },
  {
   "cell_type": "code",
   "execution_count": 502,
   "id": "a8bf563b",
   "metadata": {
    "colab": {
     "base_uri": "https://localhost:8080/"
    },
    "executionInfo": {
     "elapsed": 972,
     "status": "ok",
     "timestamp": 1713317938469,
     "user": {
      "displayName": "전영호",
      "userId": "17928441635701806568"
     },
     "user_tz": -540
    },
    "id": "a8bf563b",
    "outputId": "865b4fd1-c7c3-43e5-c9f7-871298939b63"
   },
   "outputs": [
    {
     "data": {
      "text/plain": [
       "대학전공\n",
       "보건    19\n",
       "Name: count, dtype: int64"
      ]
     },
     "execution_count": 502,
     "metadata": {},
     "output_type": "execute_result"
    }
   ],
   "source": [
    "a = X_train_pre[X_train_pre['대학전공'].str.contains(\"건강\")]\n",
    "a.loc[:, '대학전공'] = '보건'\n",
    "X_train_pre[X_train_pre['대학전공'].str.contains(\"건강\")] = a\n",
    "X_train_pre[X_train_pre['대학전공'].str.contains(\"보건\")]['대학전공'].value_counts()"
   ]
  },
  {
   "cell_type": "code",
   "execution_count": 503,
   "id": "1fb67889",
   "metadata": {
    "colab": {
     "base_uri": "https://localhost:8080/"
    },
    "executionInfo": {
     "elapsed": 5,
     "status": "ok",
     "timestamp": 1713317938469,
     "user": {
      "displayName": "전영호",
      "userId": "17928441635701806568"
     },
     "user_tz": -540
    },
    "id": "1fb67889",
    "outputId": "24626c8d-4860-4857-b0b3-260cb1b5e5d6"
   },
   "outputs": [
    {
     "data": {
      "text/plain": [
       "대학전공\n",
       "화학    172\n",
       "Name: count, dtype: int64"
      ]
     },
     "execution_count": 503,
     "metadata": {},
     "output_type": "execute_result"
    }
   ],
   "source": [
    "a = X_train_pre[X_train_pre['대학전공'].str.contains(\"화학\")]\n",
    "a.loc[:, '대학전공'] = '화학'\n",
    "X_train_pre[X_train_pre['대학전공'].str.contains(\"화학\")] = a\n",
    "X_train_pre[X_train_pre['대학전공'].str.contains(\"화학\")]['대학전공'].value_counts()"
   ]
  },
  {
   "cell_type": "code",
   "execution_count": 504,
   "id": "8a65061d",
   "metadata": {
    "colab": {
     "base_uri": "https://localhost:8080/"
    },
    "executionInfo": {
     "elapsed": 4,
     "status": "ok",
     "timestamp": 1713317938469,
     "user": {
      "displayName": "전영호",
      "userId": "17928441635701806568"
     },
     "user_tz": -540
    },
    "id": "8a65061d",
    "outputId": "c7a0b4a9-7283-42ae-c1cd-62dec3495d0e"
   },
   "outputs": [
    {
     "data": {
      "text/plain": [
       "대학전공\n",
       "물리    103\n",
       "Name: count, dtype: int64"
      ]
     },
     "execution_count": 504,
     "metadata": {},
     "output_type": "execute_result"
    }
   ],
   "source": [
    "a = X_train_pre[X_train_pre['대학전공'].str.contains(\"물리\")]\n",
    "a.loc[:, '대학전공'] = '물리'\n",
    "X_train_pre[X_train_pre['대학전공'].str.contains(\"물리\")] = a\n",
    "X_train_pre[X_train_pre['대학전공'].str.contains(\"물리\")]['대학전공'].value_counts()"
   ]
  },
  {
   "cell_type": "code",
   "execution_count": 505,
   "id": "56fe34b6",
   "metadata": {
    "colab": {
     "base_uri": "https://localhost:8080/"
    },
    "executionInfo": {
     "elapsed": 3,
     "status": "ok",
     "timestamp": 1713317938469,
     "user": {
      "displayName": "전영호",
      "userId": "17928441635701806568"
     },
     "user_tz": -540
    },
    "id": "56fe34b6",
    "outputId": "7f6a277b-0e62-42eb-a19d-134d4d29f7f7"
   },
   "outputs": [
    {
     "data": {
      "text/plain": [
       "대학전공\n",
       "유도    10\n",
       "Name: count, dtype: int64"
      ]
     },
     "execution_count": 505,
     "metadata": {},
     "output_type": "execute_result"
    }
   ],
   "source": [
    "a = X_train_pre[X_train_pre['대학전공'].str.contains(\"유도\")]\n",
    "a.loc[:, '대학전공'] = '유도'\n",
    "X_train_pre[X_train_pre['대학전공'].str.contains(\"유도\")] = a\n",
    "X_train_pre[X_train_pre['대학전공'].str.contains(\"유도\")]['대학전공'].value_counts()"
   ]
  },
  {
   "cell_type": "code",
   "execution_count": 506,
   "id": "eafa33a4",
   "metadata": {
    "colab": {
     "base_uri": "https://localhost:8080/"
    },
    "executionInfo": {
     "elapsed": 3,
     "status": "ok",
     "timestamp": 1713317938469,
     "user": {
      "displayName": "전영호",
      "userId": "17928441635701806568"
     },
     "user_tz": -540
    },
    "id": "eafa33a4",
    "outputId": "7a5604b5-b8af-4c39-92b2-04805ffd86f0"
   },
   "outputs": [
    {
     "data": {
      "text/plain": [
       "대학전공\n",
       "체육    98\n",
       "Name: count, dtype: int64"
      ]
     },
     "execution_count": 506,
     "metadata": {},
     "output_type": "execute_result"
    }
   ],
   "source": [
    "a = X_train_pre[X_train_pre['대학전공'].str.contains(\"체욱\")]\n",
    "a.loc[:, '대학전공'] = '체육'\n",
    "X_train_pre[X_train_pre['대학전공'].str.contains(\"체욱\")] = a\n",
    "X_train_pre[X_train_pre['대학전공'].str.contains(\"체육\")]['대학전공'].value_counts()"
   ]
  },
  {
   "cell_type": "code",
   "execution_count": 507,
   "id": "517ec0f5",
   "metadata": {
    "colab": {
     "base_uri": "https://localhost:8080/"
    },
    "executionInfo": {
     "elapsed": 2,
     "status": "ok",
     "timestamp": 1713317938469,
     "user": {
      "displayName": "전영호",
      "userId": "17928441635701806568"
     },
     "user_tz": -540
    },
    "id": "517ec0f5",
    "outputId": "221d817c-62c3-446b-8481-ac376bce84b5"
   },
   "outputs": [
    {
     "data": {
      "text/plain": [
       "대학전공\n",
       "섬1유공1학    24\n",
       "Name: count, dtype: int64"
      ]
     },
     "execution_count": 507,
     "metadata": {},
     "output_type": "execute_result"
    }
   ],
   "source": [
    "a = X_train_pre[X_train_pre['대학전공'].str.contains(\"섬유공\")]\n",
    "a.loc[:, '대학전공'] = '섬1유공1학'\n",
    "X_train_pre[X_train_pre['대학전공'].str.contains(\"섬유공\")] = a\n",
    "X_train_pre[X_train_pre['대학전공'].str.contains(\"섬1유공1학\")]['대학전공'].value_counts()"
   ]
  },
  {
   "cell_type": "code",
   "execution_count": 508,
   "id": "e3a43425",
   "metadata": {
    "colab": {
     "base_uri": "https://localhost:8080/"
    },
    "executionInfo": {
     "elapsed": 1700,
     "status": "ok",
     "timestamp": 1713317940168,
     "user": {
      "displayName": "전영호",
      "userId": "17928441635701806568"
     },
     "user_tz": -540
    },
    "id": "e3a43425",
    "outputId": "ec274812-4821-4d24-bc04-4dc2ed74b0cb"
   },
   "outputs": [
    {
     "data": {
      "text/plain": [
       "대학전공\n",
       "섬유예술    26\n",
       "Name: count, dtype: int64"
      ]
     },
     "execution_count": 508,
     "metadata": {},
     "output_type": "execute_result"
    }
   ],
   "source": [
    "a = X_train_pre[X_train_pre['대학전공'].str.contains(\"섬유\")]\n",
    "a.loc[:, '대학전공'] = '섬유예술'\n",
    "X_train_pre[X_train_pre['대학전공'].str.contains(\"섬유\")] = a\n",
    "X_train_pre[X_train_pre['대학전공'].str.contains(\"섬유예술\")]['대학전공'].value_counts()"
   ]
  },
  {
   "cell_type": "code",
   "execution_count": 509,
   "id": "db3f1e76",
   "metadata": {
    "colab": {
     "base_uri": "https://localhost:8080/"
    },
    "executionInfo": {
     "elapsed": 12,
     "status": "ok",
     "timestamp": 1713317940169,
     "user": {
      "displayName": "전영호",
      "userId": "17928441635701806568"
     },
     "user_tz": -540
    },
    "id": "db3f1e76",
    "outputId": "56541659-4eca-4b31-ae3d-3791ef810b55"
   },
   "outputs": [
    {
     "data": {
      "text/plain": [
       "대학전공\n",
       "정보공1학    29\n",
       "Name: count, dtype: int64"
      ]
     },
     "execution_count": 509,
     "metadata": {},
     "output_type": "execute_result"
    }
   ],
   "source": [
    "a = X_train_pre[X_train_pre['대학전공'].str.contains(\"정보공학\")]\n",
    "a.loc[:, '대학전공'] = '정보공1학'\n",
    "X_train_pre[X_train_pre['대학전공'].str.contains(\"정보공학\")] = a\n",
    "X_train_pre[X_train_pre['대학전공'].str.contains(\"정보공1학\")]['대학전공'].value_counts()"
   ]
  },
  {
   "cell_type": "code",
   "execution_count": 510,
   "id": "117007c3",
   "metadata": {
    "colab": {
     "base_uri": "https://localhost:8080/"
    },
    "executionInfo": {
     "elapsed": 11,
     "status": "ok",
     "timestamp": 1713317940169,
     "user": {
      "displayName": "전영호",
      "userId": "17928441635701806568"
     },
     "user_tz": -540
    },
    "id": "117007c3",
    "outputId": "07e46d98-2ebb-4f4d-bcc9-6a43a3bdb9b5"
   },
   "outputs": [
    {
     "data": {
      "text/plain": [
       "대학전공\n",
       "고분자    16\n",
       "Name: count, dtype: int64"
      ]
     },
     "execution_count": 510,
     "metadata": {},
     "output_type": "execute_result"
    }
   ],
   "source": [
    "a = X_train_pre[X_train_pre['대학전공'].str.contains(\"분자\")]\n",
    "a.loc[:, '대학전공'] = '고분자'\n",
    "X_train_pre[X_train_pre['대학전공'].str.contains(\"분자\")] = a\n",
    "X_train_pre[X_train_pre['대학전공'].str.contains(\"고분자\")]['대학전공'].value_counts()"
   ]
  },
  {
   "cell_type": "code",
   "execution_count": 511,
   "id": "42c2bece",
   "metadata": {
    "colab": {
     "base_uri": "https://localhost:8080/"
    },
    "executionInfo": {
     "elapsed": 10,
     "status": "ok",
     "timestamp": 1713317940169,
     "user": {
      "displayName": "전영호",
      "userId": "17928441635701806568"
     },
     "user_tz": -540
    },
    "id": "42c2bece",
    "outputId": "422467bb-387c-439f-c9bd-ee7c96077ba3"
   },
   "outputs": [
    {
     "data": {
      "text/plain": [
       "대학전공\n",
       "기타공학    56\n",
       "Name: count, dtype: int64"
      ]
     },
     "execution_count": 511,
     "metadata": {},
     "output_type": "execute_result"
    }
   ],
   "source": [
    "a = X_train_pre[X_train_pre['대학전공'].str.contains(\"공학\")]\n",
    "a.loc[:, '대학전공'] = '기타공학'\n",
    "X_train_pre[X_train_pre['대학전공'].str.contains(\"공학\")] = a\n",
    "X_train_pre[X_train_pre['대학전공'].str.contains(\"기타공학\")]['대학전공'].value_counts()"
   ]
  },
  {
   "cell_type": "code",
   "execution_count": 512,
   "id": "d989e979",
   "metadata": {
    "colab": {
     "base_uri": "https://localhost:8080/"
    },
    "executionInfo": {
     "elapsed": 8,
     "status": "ok",
     "timestamp": 1713317940169,
     "user": {
      "displayName": "전영호",
      "userId": "17928441635701806568"
     },
     "user_tz": -540
    },
    "id": "d989e979",
    "outputId": "791e1235-6da0-445a-a6b9-66e173417ece"
   },
   "outputs": [
    {
     "data": {
      "text/plain": [
       "대학전공\n",
       "금융    11\n",
       "Name: count, dtype: int64"
      ]
     },
     "execution_count": 512,
     "metadata": {},
     "output_type": "execute_result"
    }
   ],
   "source": [
    "a = X_train_pre[X_train_pre['대학전공'].str.contains(\"금융\")]\n",
    "a.loc[:, '대학전공'] = '금융'\n",
    "X_train_pre[X_train_pre['대학전공'].str.contains(\"금융\")] = a\n",
    "X_train_pre[X_train_pre['대학전공'].str.contains(\"금융\")]['대학전공'].value_counts()"
   ]
  },
  {
   "cell_type": "code",
   "execution_count": 513,
   "id": "94f9687c",
   "metadata": {
    "colab": {
     "base_uri": "https://localhost:8080/"
    },
    "executionInfo": {
     "elapsed": 8,
     "status": "ok",
     "timestamp": 1713317940170,
     "user": {
      "displayName": "전영호",
      "userId": "17928441635701806568"
     },
     "user_tz": -540
    },
    "id": "94f9687c",
    "outputId": "794f7f03-bb69-4ce4-e1fa-832305b50668"
   },
   "outputs": [
    {
     "data": {
      "text/plain": [
       "대학전공\n",
       "비서    8\n",
       "Name: count, dtype: int64"
      ]
     },
     "execution_count": 513,
     "metadata": {},
     "output_type": "execute_result"
    }
   ],
   "source": [
    "a = X_train_pre[X_train_pre['대학전공'].str.contains(\"비서\")]\n",
    "a.loc[:, '대학전공'] = '비서'\n",
    "X_train_pre[X_train_pre['대학전공'].str.contains(\"비서\")] = a\n",
    "X_train_pre[X_train_pre['대학전공'].str.contains(\"비서\")]['대학전공'].value_counts()"
   ]
  },
  {
   "cell_type": "code",
   "execution_count": 514,
   "id": "ff857ffd",
   "metadata": {
    "colab": {
     "base_uri": "https://localhost:8080/"
    },
    "executionInfo": {
     "elapsed": 7,
     "status": "ok",
     "timestamp": 1713317940170,
     "user": {
      "displayName": "전영호",
      "userId": "17928441635701806568"
     },
     "user_tz": -540
    },
    "id": "ff857ffd",
    "outputId": "2059bffb-82ca-4c7b-8caf-a51d45cae8fc"
   },
   "outputs": [
    {
     "data": {
      "text/plain": [
       "대학전공\n",
       "축산    6\n",
       "Name: count, dtype: int64"
      ]
     },
     "execution_count": 514,
     "metadata": {},
     "output_type": "execute_result"
    }
   ],
   "source": [
    "a = X_train_pre[X_train_pre['대학전공'].str.contains(\"축산\")]\n",
    "a.loc[:, '대학전공'] = '축산'\n",
    "X_train_pre[X_train_pre['대학전공'].str.contains(\"축산\")] = a\n",
    "X_train_pre[X_train_pre['대학전공'].str.contains(\"축산\")]['대학전공'].value_counts()"
   ]
  },
  {
   "cell_type": "code",
   "execution_count": 515,
   "id": "27c64dd1",
   "metadata": {
    "colab": {
     "base_uri": "https://localhost:8080/"
    },
    "executionInfo": {
     "elapsed": 6,
     "status": "ok",
     "timestamp": 1713317940170,
     "user": {
      "displayName": "전영호",
      "userId": "17928441635701806568"
     },
     "user_tz": -540
    },
    "id": "27c64dd1",
    "outputId": "c2b3ad0e-5f7a-4383-efe9-aceb06c837f5"
   },
   "outputs": [
    {
     "data": {
      "text/plain": [
       "대학전공\n",
       "지리    10\n",
       "Name: count, dtype: int64"
      ]
     },
     "execution_count": 515,
     "metadata": {},
     "output_type": "execute_result"
    }
   ],
   "source": [
    "a = X_train_pre[X_train_pre['대학전공'].str.contains(\"지리\")]\n",
    "a.loc[:, '대학전공'] = '지리'\n",
    "X_train_pre[X_train_pre['대학전공'].str.contains(\"지리\")] = a\n",
    "X_train_pre[X_train_pre['대학전공'].str.contains(\"지리\")]['대학전공'].value_counts()"
   ]
  },
  {
   "cell_type": "code",
   "execution_count": 516,
   "id": "83f5f787",
   "metadata": {
    "colab": {
     "base_uri": "https://localhost:8080/"
    },
    "executionInfo": {
     "elapsed": 5,
     "status": "ok",
     "timestamp": 1713317940170,
     "user": {
      "displayName": "전영호",
      "userId": "17928441635701806568"
     },
     "user_tz": -540
    },
    "id": "83f5f787",
    "outputId": "0a5364bf-eff1-4333-e1f3-aeb31e41fba3"
   },
   "outputs": [
    {
     "data": {
      "text/plain": [
       "대학전공\n",
       "무용    19\n",
       "Name: count, dtype: int64"
      ]
     },
     "execution_count": 516,
     "metadata": {},
     "output_type": "execute_result"
    }
   ],
   "source": [
    "a = X_train_pre[X_train_pre['대학전공'].str.contains(\"무용\")]\n",
    "a.loc[:, '대학전공'] = '무용'\n",
    "X_train_pre[X_train_pre['대학전공'].str.contains(\"무용\")] = a\n",
    "X_train_pre[X_train_pre['대학전공'].str.contains(\"무용\")]['대학전공'].value_counts()"
   ]
  },
  {
   "cell_type": "code",
   "execution_count": 517,
   "id": "b26ff8d8",
   "metadata": {
    "colab": {
     "base_uri": "https://localhost:8080/"
    },
    "executionInfo": {
     "elapsed": 4,
     "status": "ok",
     "timestamp": 1713317940170,
     "user": {
      "displayName": "전영호",
      "userId": "17928441635701806568"
     },
     "user_tz": -540
    },
    "id": "b26ff8d8",
    "outputId": "c4d58c49-5623-4c7a-bc3e-dfc277d27388"
   },
   "outputs": [
    {
     "data": {
      "text/plain": [
       "대학전공\n",
       "미술    78\n",
       "Name: count, dtype: int64"
      ]
     },
     "execution_count": 517,
     "metadata": {},
     "output_type": "execute_result"
    }
   ],
   "source": [
    "a = X_train_pre[X_train_pre['대학전공'].str.contains(\"양화\")]\n",
    "a.loc[:, '대학전공'] = '미술'\n",
    "X_train_pre[X_train_pre['대학전공'].str.contains(\"양화\")] = a\n",
    "X_train_pre[X_train_pre['대학전공'].str.contains(\"미술\")]['대학전공'].value_counts()"
   ]
  },
  {
   "cell_type": "code",
   "execution_count": 518,
   "id": "1fe8f73e",
   "metadata": {
    "colab": {
     "base_uri": "https://localhost:8080/"
    },
    "executionInfo": {
     "elapsed": 4,
     "status": "ok",
     "timestamp": 1713317940170,
     "user": {
      "displayName": "전영호",
      "userId": "17928441635701806568"
     },
     "user_tz": -540
    },
    "id": "1fe8f73e",
    "outputId": "bf8220b7-2f10-4d73-9ac8-e651ef9b08d7"
   },
   "outputs": [
    {
     "data": {
      "text/plain": [
       "대학전공\n",
       "경영정보    78\n",
       "Name: count, dtype: int64"
      ]
     },
     "execution_count": 518,
     "metadata": {},
     "output_type": "execute_result"
    }
   ],
   "source": [
    "a = X_train_pre[X_train_pre['대학전공'].str.contains(\"정보경영\")]\n",
    "a.loc[:, '대학전공'] = '경영정보'\n",
    "X_train_pre[X_train_pre['대학전공'].str.contains(\"정보경영\")] = a\n",
    "X_train_pre[X_train_pre['대학전공'].str.contains(\"경영정보\")]['대학전공'].value_counts()"
   ]
  },
  {
   "cell_type": "code",
   "execution_count": 519,
   "id": "78e0e41e",
   "metadata": {
    "colab": {
     "base_uri": "https://localhost:8080/"
    },
    "executionInfo": {
     "elapsed": 8,
     "status": "ok",
     "timestamp": 1713317941159,
     "user": {
      "displayName": "전영호",
      "userId": "17928441635701806568"
     },
     "user_tz": -540
    },
    "id": "78e0e41e",
    "outputId": "23a2d3b4-f162-4aec-c832-6f742c2f1319"
   },
   "outputs": [
    {
     "data": {
      "text/plain": [
       "대학전공\n",
       "경1영정1보    78\n",
       "Name: count, dtype: int64"
      ]
     },
     "execution_count": 519,
     "metadata": {},
     "output_type": "execute_result"
    }
   ],
   "source": [
    "a = X_train_pre[X_train_pre['대학전공'].str.contains(\"경영정보\")]\n",
    "a.loc[:, '대학전공'] = '경1영정1보'\n",
    "X_train_pre[X_train_pre['대학전공'].str.contains(\"경영정보\")] = a\n",
    "X_train_pre[X_train_pre['대학전공'].str.contains(\"경1영정1보\")]['대학전공'].value_counts()"
   ]
  },
  {
   "cell_type": "code",
   "execution_count": 520,
   "id": "4716e604",
   "metadata": {
    "colab": {
     "base_uri": "https://localhost:8080/"
    },
    "executionInfo": {
     "elapsed": 8,
     "status": "ok",
     "timestamp": 1713317941159,
     "user": {
      "displayName": "전영호",
      "userId": "17928441635701806568"
     },
     "user_tz": -540
    },
    "id": "4716e604",
    "outputId": "b138489e-238d-4b1d-ebe6-59f0551d1928"
   },
   "outputs": [
    {
     "data": {
      "text/plain": [
       "대학전공\n",
       "경영    1022\n",
       "Name: count, dtype: int64"
      ]
     },
     "execution_count": 520,
     "metadata": {},
     "output_type": "execute_result"
    }
   ],
   "source": [
    "a = X_train_pre[X_train_pre['대학전공'].str.contains(\"경영\")]\n",
    "a.loc[:, '대학전공'] = '경영'\n",
    "X_train_pre[X_train_pre['대학전공'].str.contains(\"경영\")] = a\n",
    "X_train_pre[X_train_pre['대학전공'].str.contains(\"경영\")]['대학전공'].value_counts()"
   ]
  },
  {
   "cell_type": "code",
   "execution_count": 521,
   "id": "37aba43b",
   "metadata": {
    "colab": {
     "base_uri": "https://localhost:8080/"
    },
    "executionInfo": {
     "elapsed": 6,
     "status": "ok",
     "timestamp": 1713317941159,
     "user": {
      "displayName": "전영호",
      "userId": "17928441635701806568"
     },
     "user_tz": -540
    },
    "id": "37aba43b",
    "outputId": "61153949-32cc-4989-d81d-ebb3e20dda8d"
   },
   "outputs": [
    {
     "data": {
      "text/plain": [
       "대학전공\n",
       "산업재산권    1\n",
       "Name: count, dtype: int64"
      ]
     },
     "execution_count": 521,
     "metadata": {},
     "output_type": "execute_result"
    }
   ],
   "source": [
    "a = X_train_pre[X_train_pre['대학전공'].str.contains(\"산업재산\")]\n",
    "a.loc[:, '대학전공'] = '산업재산권'\n",
    "X_train_pre[X_train_pre['대학전공'].str.contains(\"산업재산\")] = a\n",
    "X_train_pre[X_train_pre['대학전공'].str.contains(\"산업재산권\")]['대학전공'].value_counts()"
   ]
  },
  {
   "cell_type": "code",
   "execution_count": 522,
   "id": "fdcc6c99",
   "metadata": {
    "colab": {
     "base_uri": "https://localhost:8080/"
    },
    "executionInfo": {
     "elapsed": 6,
     "status": "ok",
     "timestamp": 1713317941160,
     "user": {
      "displayName": "전영호",
      "userId": "17928441635701806568"
     },
     "user_tz": -540
    },
    "id": "fdcc6c99",
    "outputId": "cdd30f2f-c0b7-4e4c-a32c-5a5277d855e9"
   },
   "outputs": [
    {
     "data": {
      "text/plain": [
       "대학전공\n",
       "정보공1학    29\n",
       "Name: count, dtype: int64"
      ]
     },
     "execution_count": 522,
     "metadata": {},
     "output_type": "execute_result"
    }
   ],
   "source": [
    "a = X_train_pre[X_train_pre['대학전공'].str.contains(\"정보공\")]\n",
    "a.loc[:, '대학전공'] = '정보공1학'\n",
    "X_train_pre[X_train_pre['대학전공'].str.contains(\"정보공\")] = a\n",
    "X_train_pre[X_train_pre['대학전공'].str.contains(\"정보공1학\")]['대학전공'].value_counts()"
   ]
  },
  {
   "cell_type": "code",
   "execution_count": 523,
   "id": "4fb061e2",
   "metadata": {
    "colab": {
     "base_uri": "https://localhost:8080/"
    },
    "executionInfo": {
     "elapsed": 4,
     "status": "ok",
     "timestamp": 1713317941160,
     "user": {
      "displayName": "전영호",
      "userId": "17928441635701806568"
     },
     "user_tz": -540
    },
    "id": "4fb061e2",
    "outputId": "fa8ff554-cd6c-4b8a-a642-a795b87c6742"
   },
   "outputs": [
    {
     "data": {
      "text/plain": [
       "대학전공\n",
       "정1보공1학    29\n",
       "Name: count, dtype: int64"
      ]
     },
     "execution_count": 523,
     "metadata": {},
     "output_type": "execute_result"
    }
   ],
   "source": [
    "a = X_train_pre[X_train_pre['대학전공'].str.contains(\"정보공1학\")]\n",
    "a.loc[:, '대학전공'] = '정1보공1학'\n",
    "X_train_pre[X_train_pre['대학전공'].str.contains(\"정보공1학\")] = a\n",
    "X_train_pre[X_train_pre['대학전공'].str.contains(\"정1보공1학\")]['대학전공'].value_counts()"
   ]
  },
  {
   "cell_type": "code",
   "execution_count": 524,
   "id": "243f76a7",
   "metadata": {
    "colab": {
     "base_uri": "https://localhost:8080/"
    },
    "executionInfo": {
     "elapsed": 3,
     "status": "ok",
     "timestamp": 1713317941160,
     "user": {
      "displayName": "전영호",
      "userId": "17928441635701806568"
     },
     "user_tz": -540
    },
    "id": "243f76a7",
    "outputId": "9f380572-7f89-4657-a5c2-d05bf386ddcf"
   },
   "outputs": [
    {
     "data": {
      "text/plain": [
       "대학전공\n",
       "기타정보    28\n",
       "Name: count, dtype: int64"
      ]
     },
     "execution_count": 524,
     "metadata": {},
     "output_type": "execute_result"
    }
   ],
   "source": [
    "a = X_train_pre[X_train_pre['대학전공'].str.contains(\"정보\")]\n",
    "a.loc[:, '대학전공'] = '기타정보'\n",
    "X_train_pre[X_train_pre['대학전공'].str.contains(\"정보\")] = a\n",
    "X_train_pre[X_train_pre['대학전공'].str.contains(\"기타정보\")]['대학전공'].value_counts()"
   ]
  },
  {
   "cell_type": "code",
   "execution_count": 525,
   "id": "0b2a770f",
   "metadata": {
    "colab": {
     "base_uri": "https://localhost:8080/"
    },
    "executionInfo": {
     "elapsed": 2,
     "status": "ok",
     "timestamp": 1713317941160,
     "user": {
      "displayName": "전영호",
      "userId": "17928441635701806568"
     },
     "user_tz": -540
    },
    "id": "0b2a770f",
    "outputId": "fe56323d-ea3a-4433-8b1c-d59d5aeafe87"
   },
   "outputs": [
    {
     "data": {
      "text/plain": [
       "대학전공\n",
       "도예    5\n",
       "Name: count, dtype: int64"
      ]
     },
     "execution_count": 525,
     "metadata": {},
     "output_type": "execute_result"
    }
   ],
   "source": [
    "a = X_train_pre[X_train_pre['대학전공'].str.contains(\"도예\")]\n",
    "a.loc[:, '대학전공'] = '도예'\n",
    "X_train_pre[X_train_pre['대학전공'].str.contains(\"도예\")] = a\n",
    "X_train_pre[X_train_pre['대학전공'].str.contains(\"도예\")]['대학전공'].value_counts()"
   ]
  },
  {
   "cell_type": "code",
   "execution_count": 526,
   "id": "283ce6d0",
   "metadata": {
    "colab": {
     "base_uri": "https://localhost:8080/"
    },
    "executionInfo": {
     "elapsed": 21,
     "status": "ok",
     "timestamp": 1713317941723,
     "user": {
      "displayName": "전영호",
      "userId": "17928441635701806568"
     },
     "user_tz": -540
    },
    "id": "283ce6d0",
    "outputId": "e6d306af-1a21-41ca-d3ec-cb61c28b8c3c"
   },
   "outputs": [
    {
     "data": {
      "text/plain": [
       "대학전공\n",
       "화1학공1학    156\n",
       "화1학공        3\n",
       "Name: count, dtype: int64"
      ]
     },
     "execution_count": 526,
     "metadata": {},
     "output_type": "execute_result"
    }
   ],
   "source": [
    "a = X_train_pre[X_train_pre['대학전공'].str.contains(\"화공\")]\n",
    "a.loc[:, '대학전공'] = '화1학공'\n",
    "X_train_pre[X_train_pre['대학전공'].str.contains(\"화공\")] = a\n",
    "X_train_pre[X_train_pre['대학전공'].str.contains(\"화1학공\")]['대학전공'].value_counts()"
   ]
  },
  {
   "cell_type": "code",
   "execution_count": 527,
   "id": "082be08b",
   "metadata": {
    "colab": {
     "base_uri": "https://localhost:8080/"
    },
    "executionInfo": {
     "elapsed": 19,
     "status": "ok",
     "timestamp": 1713317941723,
     "user": {
      "displayName": "전영호",
      "userId": "17928441635701806568"
     },
     "user_tz": -540
    },
    "id": "082be08b",
    "outputId": "30023c2e-4dae-4250-c76c-b87c6f14040a"
   },
   "outputs": [
    {
     "data": {
      "text/plain": [
       "대학전공\n",
       "화1학공1학    159\n",
       "Name: count, dtype: int64"
      ]
     },
     "execution_count": 527,
     "metadata": {},
     "output_type": "execute_result"
    }
   ],
   "source": [
    "a = X_train_pre[X_train_pre['대학전공'].str.contains(\"화1학공\")]\n",
    "a.loc[:, '대학전공'] = '화1학공1학'\n",
    "X_train_pre[X_train_pre['대학전공'].str.contains(\"화1학공\")] = a\n",
    "X_train_pre[X_train_pre['대학전공'].str.contains(\"화1학공1학\")]['대학전공'].value_counts()"
   ]
  },
  {
   "cell_type": "code",
   "execution_count": 528,
   "id": "83d358a5",
   "metadata": {
    "colab": {
     "base_uri": "https://localhost:8080/"
    },
    "executionInfo": {
     "elapsed": 16,
     "status": "ok",
     "timestamp": 1713317941723,
     "user": {
      "displayName": "전영호",
      "userId": "17928441635701806568"
     },
     "user_tz": -540
    },
    "id": "83d358a5",
    "outputId": "ce549fad-220b-47f7-f8c0-4f88c991b0a3"
   },
   "outputs": [
    {
     "data": {
      "text/plain": [
       "대학전공\n",
       "국제    26\n",
       "Name: count, dtype: int64"
      ]
     },
     "execution_count": 528,
     "metadata": {},
     "output_type": "execute_result"
    }
   ],
   "source": [
    "a = X_train_pre[X_train_pre['대학전공'].str.contains(\"국제\")]\n",
    "a.loc[:, '대학전공'] = '국제'\n",
    "X_train_pre[X_train_pre['대학전공'].str.contains(\"국제\")] = a\n",
    "X_train_pre[X_train_pre['대학전공'].str.contains(\"국제\")]['대학전공'].value_counts()"
   ]
  },
  {
   "cell_type": "code",
   "execution_count": 529,
   "id": "50d5c921",
   "metadata": {
    "colab": {
     "base_uri": "https://localhost:8080/"
    },
    "executionInfo": {
     "elapsed": 15,
     "status": "ok",
     "timestamp": 1713317941724,
     "user": {
      "displayName": "전영호",
      "userId": "17928441635701806568"
     },
     "user_tz": -540
    },
    "id": "50d5c921",
    "outputId": "d77c5875-1a44-455b-f8b6-b17f666e4aa8"
   },
   "outputs": [
    {
     "data": {
      "text/plain": [
       "대학전공\n",
       "문예창작    16\n",
       "Name: count, dtype: int64"
      ]
     },
     "execution_count": 529,
     "metadata": {},
     "output_type": "execute_result"
    }
   ],
   "source": [
    "a = X_train_pre[X_train_pre['대학전공'].str.contains(\"문예창작\")]\n",
    "a.loc[:, '대학전공'] = '문예창작'\n",
    "X_train_pre[X_train_pre['대학전공'].str.contains(\"문예창작\")] = a\n",
    "X_train_pre[X_train_pre['대학전공'].str.contains(\"문예창작\")]['대학전공'].value_counts()"
   ]
  },
  {
   "cell_type": "code",
   "execution_count": 530,
   "id": "44719fca",
   "metadata": {
    "colab": {
     "base_uri": "https://localhost:8080/"
    },
    "executionInfo": {
     "elapsed": 13,
     "status": "ok",
     "timestamp": 1713317941724,
     "user": {
      "displayName": "전영호",
      "userId": "17928441635701806568"
     },
     "user_tz": -540
    },
    "id": "44719fca",
    "outputId": "32b90137-0ae8-4a82-f02f-fb599426face"
   },
   "outputs": [
    {
     "data": {
      "text/plain": [
       "Series([], Name: count, dtype: int64)"
      ]
     },
     "execution_count": 530,
     "metadata": {},
     "output_type": "execute_result"
    }
   ],
   "source": [
    "a = X_train_pre[X_train_pre['대학전공'].str.contains(\"의과\")]\n",
    "a.loc[:, '대학전공'] = '의예'\n",
    "X_train_pre[X_train_pre['대학전공'].str.contains(\"의과\")] = a\n",
    "X_train_pre[X_train_pre['대학전공'].str.contains(\"의예\")]['대학전공'].value_counts()"
   ]
  },
  {
   "cell_type": "code",
   "execution_count": 531,
   "id": "a0ec59ca",
   "metadata": {
    "colab": {
     "base_uri": "https://localhost:8080/"
    },
    "executionInfo": {
     "elapsed": 12,
     "status": "ok",
     "timestamp": 1713317941724,
     "user": {
      "displayName": "전영호",
      "userId": "17928441635701806568"
     },
     "user_tz": -540
    },
    "id": "a0ec59ca",
    "outputId": "25f79460-94e9-4e47-f388-812d46554d3c"
   },
   "outputs": [
    {
     "data": {
      "text/plain": [
       "Series([], Name: count, dtype: int64)"
      ]
     },
     "execution_count": 531,
     "metadata": {},
     "output_type": "execute_result"
    }
   ],
   "source": [
    "a = X_train_pre[X_train_pre['대학전공'].str.contains(\"의예\")]\n",
    "a.loc[:, '대학전공'] = '의예'\n",
    "X_train_pre[X_train_pre['대학전공'].str.contains(\"의예\")] = a\n",
    "X_train_pre[X_train_pre['대학전공'].str.contains(\"의예\")]['대학전공'].value_counts()"
   ]
  },
  {
   "cell_type": "code",
   "execution_count": 532,
   "id": "5ec66710",
   "metadata": {
    "colab": {
     "base_uri": "https://localhost:8080/"
    },
    "executionInfo": {
     "elapsed": 11,
     "status": "ok",
     "timestamp": 1713317941724,
     "user": {
      "displayName": "전영호",
      "userId": "17928441635701806568"
     },
     "user_tz": -540
    },
    "id": "5ec66710",
    "outputId": "d4d4f7c9-53b9-49e9-a8f6-aaeca5d1d7bd"
   },
   "outputs": [
    {
     "data": {
      "text/plain": [
       "대학전공\n",
       "의예    1\n",
       "Name: count, dtype: int64"
      ]
     },
     "execution_count": 532,
     "metadata": {},
     "output_type": "execute_result"
    }
   ],
   "source": [
    "a = X_train_pre[X_train_pre['대학전공'].str.contains(\"병\")]\n",
    "a.loc[:, '대학전공'] = '의예'\n",
    "X_train_pre[X_train_pre['대학전공'].str.contains(\"병\")] = a\n",
    "X_train_pre[X_train_pre['대학전공'].str.contains(\"의예\")]['대학전공'].value_counts()"
   ]
  },
  {
   "cell_type": "code",
   "execution_count": 533,
   "id": "0a8787be",
   "metadata": {
    "colab": {
     "base_uri": "https://localhost:8080/"
    },
    "executionInfo": {
     "elapsed": 10,
     "status": "ok",
     "timestamp": 1713317941724,
     "user": {
      "displayName": "전영호",
      "userId": "17928441635701806568"
     },
     "user_tz": -540
    },
    "id": "0a8787be",
    "outputId": "b1aa23f2-3c69-42d1-80a0-45206faa3cf2"
   },
   "outputs": [
    {
     "data": {
      "text/plain": [
       "대학전공\n",
       "도예    5\n",
       "Name: count, dtype: int64"
      ]
     },
     "execution_count": 533,
     "metadata": {},
     "output_type": "execute_result"
    }
   ],
   "source": [
    "a = X_train_pre[X_train_pre['대학전공'].str.contains(\"도예\")]\n",
    "a.loc[:, '대학전공'] = '도예'\n",
    "X_train_pre[X_train_pre['대학전공'].str.contains(\"도예\")] = a\n",
    "X_train_pre[X_train_pre['대학전공'].str.contains(\"도예\")]['대학전공'].value_counts()"
   ]
  },
  {
   "cell_type": "code",
   "execution_count": 534,
   "id": "72a858e2",
   "metadata": {
    "colab": {
     "base_uri": "https://localhost:8080/"
    },
    "executionInfo": {
     "elapsed": 9,
     "status": "ok",
     "timestamp": 1713317941724,
     "user": {
      "displayName": "전영호",
      "userId": "17928441635701806568"
     },
     "user_tz": -540
    },
    "id": "72a858e2",
    "outputId": "c670823b-7043-436a-b787-5ca5c762a66c"
   },
   "outputs": [
    {
     "data": {
      "text/plain": [
       "대학전공\n",
       "미술    81\n",
       "Name: count, dtype: int64"
      ]
     },
     "execution_count": 534,
     "metadata": {},
     "output_type": "execute_result"
    }
   ],
   "source": [
    "a = X_train_pre[X_train_pre['대학전공'].str.contains(\"한국화\")]\n",
    "a.loc[:, '대학전공'] = '미술'\n",
    "X_train_pre[X_train_pre['대학전공'].str.contains(\"한국화\")] = a\n",
    "X_train_pre[X_train_pre['대학전공'].str.contains(\"미술\")]['대학전공'].value_counts()"
   ]
  },
  {
   "cell_type": "code",
   "execution_count": 535,
   "id": "221a4911",
   "metadata": {
    "colab": {
     "base_uri": "https://localhost:8080/"
    },
    "executionInfo": {
     "elapsed": 8,
     "status": "ok",
     "timestamp": 1713317941724,
     "user": {
      "displayName": "전영호",
      "userId": "17928441635701806568"
     },
     "user_tz": -540
    },
    "id": "221a4911",
    "outputId": "e21c190b-d34c-4922-d5c2-a1b39277c566"
   },
   "outputs": [
    {
     "data": {
      "text/plain": [
       "대학전공\n",
       "문화재    7\n",
       "Name: count, dtype: int64"
      ]
     },
     "execution_count": 535,
     "metadata": {},
     "output_type": "execute_result"
    }
   ],
   "source": [
    "a = X_train_pre[X_train_pre['대학전공'].str.contains(\"문화\")]\n",
    "a.loc[:, '대학전공'] = '문화재'\n",
    "X_train_pre[X_train_pre['대학전공'].str.contains(\"문화\")] = a\n",
    "X_train_pre[X_train_pre['대학전공'].str.contains(\"문화재\")]['대학전공'].value_counts()"
   ]
  },
  {
   "cell_type": "code",
   "execution_count": 536,
   "id": "11a28322",
   "metadata": {
    "colab": {
     "base_uri": "https://localhost:8080/"
    },
    "executionInfo": {
     "elapsed": 7,
     "status": "ok",
     "timestamp": 1713317941724,
     "user": {
      "displayName": "전영호",
      "userId": "17928441635701806568"
     },
     "user_tz": -540
    },
    "id": "11a28322",
    "outputId": "9866c20f-14ea-4b7e-e486-7a899634ca16"
   },
   "outputs": [
    {
     "data": {
      "text/plain": [
       "대학전공\n",
       "조경    13\n",
       "Name: count, dtype: int64"
      ]
     },
     "execution_count": 536,
     "metadata": {},
     "output_type": "execute_result"
    }
   ],
   "source": [
    "a = X_train_pre[X_train_pre['대학전공'].str.contains(\"조경\")]\n",
    "a.loc[:, '대학전공'] = '조경'\n",
    "X_train_pre[X_train_pre['대학전공'].str.contains(\"조경\")] = a\n",
    "X_train_pre[X_train_pre['대학전공'].str.contains(\"조경\")]['대학전공'].value_counts()"
   ]
  },
  {
   "cell_type": "code",
   "execution_count": 537,
   "id": "7a05f511",
   "metadata": {
    "colab": {
     "base_uri": "https://localhost:8080/"
    },
    "executionInfo": {
     "elapsed": 6,
     "status": "ok",
     "timestamp": 1713317941724,
     "user": {
      "displayName": "전영호",
      "userId": "17928441635701806568"
     },
     "user_tz": -540
    },
    "id": "7a05f511",
    "outputId": "7dd92ada-58f6-40d5-98b3-cce2e86c17c4"
   },
   "outputs": [
    {
     "data": {
      "text/plain": [
       "대학전공\n",
       "간호    12\n",
       "Name: count, dtype: int64"
      ]
     },
     "execution_count": 537,
     "metadata": {},
     "output_type": "execute_result"
    }
   ],
   "source": [
    "a = X_train_pre[X_train_pre['대학전공'].str.contains(\"간호\")]\n",
    "a.loc[:, '대학전공'] = '간호'\n",
    "X_train_pre[X_train_pre['대학전공'].str.contains(\"간호\")] = a\n",
    "X_train_pre[X_train_pre['대학전공'].str.contains(\"간호\")]['대학전공'].value_counts()"
   ]
  },
  {
   "cell_type": "code",
   "execution_count": 538,
   "id": "90f5b488",
   "metadata": {
    "colab": {
     "base_uri": "https://localhost:8080/"
    },
    "executionInfo": {
     "elapsed": 5,
     "status": "ok",
     "timestamp": 1713317941724,
     "user": {
      "displayName": "전영호",
      "userId": "17928441635701806568"
     },
     "user_tz": -540
    },
    "id": "90f5b488",
    "outputId": "f18eb9e2-4465-4b1d-87d5-7bb36ddf8f65"
   },
   "outputs": [
    {
     "data": {
      "text/plain": [
       "대학전공\n",
       "지역개발    18\n",
       "Name: count, dtype: int64"
      ]
     },
     "execution_count": 538,
     "metadata": {},
     "output_type": "execute_result"
    }
   ],
   "source": [
    "a = X_train_pre[X_train_pre['대학전공'].str.contains(\"지역\")]\n",
    "a.loc[:, '대학전공'] = '지역개발'\n",
    "X_train_pre[X_train_pre['대학전공'].str.contains(\"지역\")] = a\n",
    "X_train_pre[X_train_pre['대학전공'].str.contains(\"지역개발\")]['대학전공'].value_counts()"
   ]
  },
  {
   "cell_type": "code",
   "execution_count": 539,
   "id": "d0d530d4",
   "metadata": {
    "colab": {
     "base_uri": "https://localhost:8080/"
    },
    "executionInfo": {
     "elapsed": 538,
     "status": "ok",
     "timestamp": 1713317942258,
     "user": {
      "displayName": "전영호",
      "userId": "17928441635701806568"
     },
     "user_tz": -540
    },
    "id": "d0d530d4",
    "outputId": "29a902bb-0ece-44da-de39-a12608bf0f46"
   },
   "outputs": [
    {
     "data": {
      "text/plain": [
       "대학전공\n",
       "지질    4\n",
       "Name: count, dtype: int64"
      ]
     },
     "execution_count": 539,
     "metadata": {},
     "output_type": "execute_result"
    }
   ],
   "source": [
    "a = X_train_pre[X_train_pre['대학전공'].str.contains(\"지질\")]\n",
    "a.loc[:, '대학전공'] = '지질'\n",
    "X_train_pre[X_train_pre['대학전공'].str.contains(\"지질\")] = a\n",
    "X_train_pre[X_train_pre['대학전공'].str.contains(\"지질\")]['대학전공'].value_counts()"
   ]
  },
  {
   "cell_type": "code",
   "execution_count": 540,
   "id": "912ab3ae",
   "metadata": {
    "colab": {
     "base_uri": "https://localhost:8080/"
    },
    "executionInfo": {
     "elapsed": 11,
     "status": "ok",
     "timestamp": 1713317942258,
     "user": {
      "displayName": "전영호",
      "userId": "17928441635701806568"
     },
     "user_tz": -540
    },
    "id": "912ab3ae",
    "outputId": "1eaae67c-02d1-4062-b4d7-9a64fd9177b9"
   },
   "outputs": [
    {
     "data": {
      "text/plain": [
       "대학전공\n",
       "식1품영양    69\n",
       "Name: count, dtype: int64"
      ]
     },
     "execution_count": 540,
     "metadata": {},
     "output_type": "execute_result"
    }
   ],
   "source": [
    "a = X_train_pre[X_train_pre['대학전공'].str.contains(\"영양\")]\n",
    "a.loc[:, '대학전공'] = '식1품영양'\n",
    "X_train_pre[X_train_pre['대학전공'].str.contains(\"영양\")] = a\n",
    "X_train_pre[X_train_pre['대학전공'].str.contains(\"식1품영양\")]['대학전공'].value_counts()"
   ]
  },
  {
   "cell_type": "code",
   "execution_count": 541,
   "id": "9c2f7296",
   "metadata": {
    "colab": {
     "base_uri": "https://localhost:8080/"
    },
    "executionInfo": {
     "elapsed": 9,
     "status": "ok",
     "timestamp": 1713317942258,
     "user": {
      "displayName": "전영호",
      "userId": "17928441635701806568"
     },
     "user_tz": -540
    },
    "id": "9c2f7296",
    "outputId": "88cf786d-ced2-45a5-9b98-71bafd8078de"
   },
   "outputs": [
    {
     "data": {
      "text/plain": [
       "대학전공\n",
       "성아ㄱ    8\n",
       "Name: count, dtype: int64"
      ]
     },
     "execution_count": 541,
     "metadata": {},
     "output_type": "execute_result"
    }
   ],
   "source": [
    "a = X_train_pre[X_train_pre['대학전공'].str.contains(\"성악\")]\n",
    "a.loc[:, '대학전공'] = '성아ㄱ'\n",
    "X_train_pre[X_train_pre['대학전공'].str.contains(\"성악\")] = a\n",
    "X_train_pre[X_train_pre['대학전공'].str.contains(\"성아ㄱ\")]['대학전공'].value_counts()"
   ]
  },
  {
   "cell_type": "code",
   "execution_count": 542,
   "id": "0e441626",
   "metadata": {
    "colab": {
     "base_uri": "https://localhost:8080/"
    },
    "executionInfo": {
     "elapsed": 7,
     "status": "ok",
     "timestamp": 1713317942258,
     "user": {
      "displayName": "전영호",
      "userId": "17928441635701806568"
     },
     "user_tz": -540
    },
    "id": "0e441626",
    "outputId": "f8ff38c9-f7e6-409c-ad18-331b2d00bc49"
   },
   "outputs": [
    {
     "data": {
      "text/plain": [
       "대학전공\n",
       "음악    13\n",
       "Name: count, dtype: int64"
      ]
     },
     "execution_count": 542,
     "metadata": {},
     "output_type": "execute_result"
    }
   ],
   "source": [
    "a = X_train_pre[X_train_pre['대학전공'].str.contains(\"악\")]\n",
    "a.loc[:, '대학전공'] = '음악'\n",
    "X_train_pre[X_train_pre['대학전공'].str.contains(\"악\")] = a\n",
    "X_train_pre[X_train_pre['대학전공'].str.contains(\"음악\")]['대학전공'].value_counts()"
   ]
  },
  {
   "cell_type": "code",
   "execution_count": 543,
   "id": "4db47459",
   "metadata": {
    "colab": {
     "base_uri": "https://localhost:8080/"
    },
    "executionInfo": {
     "elapsed": 7,
     "status": "ok",
     "timestamp": 1713317942259,
     "user": {
      "displayName": "전영호",
      "userId": "17928441635701806568"
     },
     "user_tz": -540
    },
    "id": "4db47459",
    "outputId": "0f0f1063-5438-4af3-a943-3561be0d0344"
   },
   "outputs": [
    {
     "data": {
      "text/plain": [
       "대학전공\n",
       "조소    13\n",
       "Name: count, dtype: int64"
      ]
     },
     "execution_count": 543,
     "metadata": {},
     "output_type": "execute_result"
    }
   ],
   "source": [
    "a = X_train_pre[X_train_pre['대학전공'].str.contains(\"조소\")]\n",
    "a.loc[:, '대학전공'] = '조소'\n",
    "X_train_pre[X_train_pre['대학전공'].str.contains(\"조소\")] = a\n",
    "X_train_pre[X_train_pre['대학전공'].str.contains(\"조소\")]['대학전공'].value_counts()"
   ]
  },
  {
   "cell_type": "code",
   "execution_count": 544,
   "id": "4d429289",
   "metadata": {
    "colab": {
     "base_uri": "https://localhost:8080/"
    },
    "executionInfo": {
     "elapsed": 5,
     "status": "ok",
     "timestamp": 1713317942259,
     "user": {
      "displayName": "전영호",
      "userId": "17928441635701806568"
     },
     "user_tz": -540
    },
    "id": "4d429289",
    "outputId": "c191bae1-c39c-4f6e-f320-fd6d2098502f"
   },
   "outputs": [
    {
     "data": {
      "text/plain": [
       "대학전공\n",
       "회화    8\n",
       "Name: count, dtype: int64"
      ]
     },
     "execution_count": 544,
     "metadata": {},
     "output_type": "execute_result"
    }
   ],
   "source": [
    "a = X_train_pre[X_train_pre['대학전공'].str.contains(\"회화\")]\n",
    "a.loc[:, '대학전공'] = '회화'\n",
    "X_train_pre[X_train_pre['대학전공'].str.contains(\"회화\")] = a\n",
    "X_train_pre[X_train_pre['대학전공'].str.contains(\"회화\")]['대학전공'].value_counts()"
   ]
  },
  {
   "cell_type": "code",
   "execution_count": 545,
   "id": "8bde183a",
   "metadata": {
    "executionInfo": {
     "elapsed": 3,
     "status": "ok",
     "timestamp": 1713317942259,
     "user": {
      "displayName": "전영호",
      "userId": "17928441635701806568"
     },
     "user_tz": -540
    },
    "id": "8bde183a"
   },
   "outputs": [],
   "source": [
    "a = X_train_pre['대학전공'].value_counts().loc[lambda x : x <= 3]\n",
    "기타 = list(a.index)"
   ]
  },
  {
   "cell_type": "code",
   "execution_count": 546,
   "id": "25eb6e2a",
   "metadata": {
    "executionInfo": {
     "elapsed": 3,
     "status": "ok",
     "timestamp": 1713317942259,
     "user": {
      "displayName": "전영호",
      "userId": "17928441635701806568"
     },
     "user_tz": -540
    },
    "id": "25eb6e2a"
   },
   "outputs": [],
   "source": [
    "X_train_pre.대학전공 = X_train_pre.대학전공.replace(기타,'기타')"
   ]
  },
  {
   "cell_type": "code",
   "execution_count": 547,
   "id": "b810cfe4",
   "metadata": {
    "executionInfo": {
     "elapsed": 3,
     "status": "ok",
     "timestamp": 1713317942259,
     "user": {
      "displayName": "전영호",
      "userId": "17928441635701806568"
     },
     "user_tz": -540
    },
    "id": "b810cfe4"
   },
   "outputs": [],
   "source": [
    "X_train_pre['대학전공'] = X_train_pre['대학전공'].str.replace('1','')"
   ]
  },
  {
   "cell_type": "code",
   "execution_count": 548,
   "id": "8f3c51f1",
   "metadata": {
    "executionInfo": {
     "elapsed": 2,
     "status": "ok",
     "timestamp": 1713317942259,
     "user": {
      "displayName": "전영호",
      "userId": "17928441635701806568"
     },
     "user_tz": -540
    },
    "id": "8f3c51f1"
   },
   "outputs": [],
   "source": [
    "X_train_pre['대학전공'] = X_train_pre['대학전공'].str.replace('아ㄱ','악')"
   ]
  },
  {
   "cell_type": "code",
   "execution_count": 549,
   "id": "2cb1f880",
   "metadata": {
    "executionInfo": {
     "elapsed": 2,
     "status": "ok",
     "timestamp": 1713317943122,
     "user": {
      "displayName": "전영호",
      "userId": "17928441635701806568"
     },
     "user_tz": -540
    },
    "id": "2cb1f880"
   },
   "outputs": [],
   "source": [
    "X_test.대학전공 = X_train_pre.대학전공"
   ]
  },
  {
   "cell_type": "markdown",
   "id": "822b7e0c",
   "metadata": {
    "id": "822b7e0c"
   },
   "source": [
    "## 자격증"
   ]
  },
  {
   "cell_type": "code",
   "execution_count": 550,
   "id": "f24138b5",
   "metadata": {
    "executionInfo": {
     "elapsed": 1,
     "status": "ok",
     "timestamp": 1713317944728,
     "user": {
      "displayName": "전영호",
      "userId": "17928441635701806568"
     },
     "user_tz": -540
    },
    "id": "f24138b5"
   },
   "outputs": [],
   "source": [
    "X_train.자격증 = X_train.자격증.replace(\"有\",\"1\")\n",
    "X_train.자격증 = X_train.자격증.replace(\"無\",\"0\")\n",
    "\n",
    "X_test.자격증 = X_test.자격증.replace(\"有\",\"1\")\n",
    "X_test.자격증 = X_test.자격증.replace(\"無\",\"0\")"
   ]
  },
  {
   "cell_type": "code",
   "execution_count": 551,
   "id": "f675858f",
   "metadata": {
    "colab": {
     "base_uri": "https://localhost:8080/"
    },
    "executionInfo": {
     "elapsed": 3,
     "status": "ok",
     "timestamp": 1713317946580,
     "user": {
      "displayName": "전영호",
      "userId": "17928441635701806568"
     },
     "user_tz": -540
    },
    "id": "f675858f",
    "outputId": "89bdd850-9907-4ad4-8232-5f2f56af03f0"
   },
   "outputs": [
    {
     "data": {
      "text/plain": [
       "1679         토목\n",
       "5182       전자계산\n",
       "3116        경영학\n",
       "8390        회계학\n",
       "4496        경영학\n",
       "          ...  \n",
       "1097     컴퓨터공학과\n",
       "15843       회계학\n",
       "5385      제품디자인\n",
       "11019      전자공학\n",
       "3137       관광학과\n",
       "Name: 대학전공, Length: 16570, dtype: object"
      ]
     },
     "execution_count": 551,
     "metadata": {},
     "output_type": "execute_result"
    }
   ],
   "source": [
    "X_train.대학전공"
   ]
  },
  {
   "cell_type": "markdown",
   "id": "dbf048d8",
   "metadata": {
    "id": "dbf048d8"
   },
   "source": [
    "# 추출"
   ]
  },
  {
   "cell_type": "code",
   "execution_count": 552,
   "id": "07f675a4",
   "metadata": {
    "colab": {
     "base_uri": "https://localhost:8080/",
     "height": 423
    },
    "executionInfo": {
     "elapsed": 4,
     "status": "ok",
     "timestamp": 1713317947886,
     "user": {
      "displayName": "전영호",
      "userId": "17928441635701806568"
     },
     "user_tz": -540
    },
    "id": "07f675a4",
    "outputId": "e4507cdd-2699-4ad7-ba8e-d4b2a54a6bb1"
   },
   "outputs": [
    {
     "data": {
      "application/vnd.google.colaboratory.intrinsic+json": {
       "summary": "{\n  \"name\": \"X_train\",\n  \"rows\": 16570,\n  \"fields\": [\n    {\n      \"column\": \"ID\",\n      \"properties\": {\n        \"dtype\": \"string\",\n        \"num_unique_values\": 16570,\n        \"samples\": [\n          \"SID133358\",\n          \"SID163644\",\n          \"SID232416\"\n        ],\n        \"semantic_type\": \"\",\n        \"description\": \"\"\n      }\n    },\n    {\n      \"column\": \"\\uc9c1\\uc885\",\n      \"properties\": {\n        \"dtype\": \"category\",\n        \"num_unique_values\": 11,\n        \"samples\": [\n          \"\\uc804\\ubb38\\u00b7\\uad50\\uc721\\u00b7\\uc790\\uaca9\",\n          \"\\uac74\\uc124\\u00b7\\uae30\\uacc4\\u00b7\\uc804\\uae30\\u00b7\\uc804\\uc790\",\n          \"\\ud1b5\\uc2e0\\u00b7\\ubaa8\\ubc14\\uc77c\"\n        ],\n        \"semantic_type\": \"\",\n        \"description\": \"\"\n      }\n    },\n    {\n      \"column\": \"\\uc138\\ubd80\\uc9c1\\uc885\",\n      \"properties\": {\n        \"dtype\": \"category\",\n        \"num_unique_values\": 76,\n        \"samples\": [\n          \"\\uc12c\\uc720\\u00b7\\uc758\\ubcf5\",\n          \"\\ud310\\ub9e4\\u00b7\\ub9e4\\uc7a5\\uad00\\ub9ac\\u00b7\\uce90\\uc154\\u00b7\\ud504\\ub7f0\\ud2b8\",\n          \"\\uacbd\\uc601\\ubd84\\uc11d\\u00b7\\ucee8\\uc124\\ud305\\u00b7M&A\"\n        ],\n        \"semantic_type\": \"\",\n        \"description\": \"\"\n      }\n    },\n    {\n      \"column\": \"\\uc9c1\\ubb34\\ud0dc\\uadf8\",\n      \"properties\": {\n        \"dtype\": \"category\",\n        \"num_unique_values\": 542,\n        \"samples\": [\n          \"\\uc6b4\\uc601\",\n          \"ms\",\n          \"\\uc678\\uc8fc\"\n        ],\n        \"semantic_type\": \"\",\n        \"description\": \"\"\n      }\n    },\n    {\n      \"column\": \"\\uadfc\\ubb34\\uacbd\\ub825\",\n      \"properties\": {\n        \"dtype\": \"number\",\n        \"std\": 1848,\n        \"min\": 0,\n        \"max\": 43950,\n        \"num_unique_values\": 311,\n        \"samples\": [\n          8485,\n          3650,\n          6020\n        ],\n        \"semantic_type\": \"\",\n        \"description\": \"\"\n      }\n    },\n    {\n      \"column\": \"\\uadfc\\ubb34\\ud615\\ud0dc\",\n      \"properties\": {\n        \"dtype\": \"category\",\n        \"num_unique_values\": 6,\n        \"samples\": [\n          \"\\uc815\\uaddc\\uc9c1\",\n          \"\\uacc4\\uc57d\\uc9c1\",\n          \"\\ubcd1\\uc5ed\\ud2b9\\ub840\"\n        ],\n        \"semantic_type\": \"\",\n        \"description\": \"\"\n      }\n    },\n    {\n      \"column\": \"\\uadfc\\ubb34\\uc9c0\\uc5ed\",\n      \"properties\": {\n        \"dtype\": \"category\",\n        \"num_unique_values\": 18,\n        \"samples\": [\n          \"\\uc11c\\uc6b8\",\n          \"\\ub300\\uc804\",\n          \"\\uc804\\ubd81\"\n        ],\n        \"semantic_type\": \"\",\n        \"description\": \"\"\n      }\n    },\n    {\n      \"column\": \"\\ucd9c\\uc2e0\\ub300\\ud559\",\n      \"properties\": {\n        \"dtype\": \"category\",\n        \"num_unique_values\": 41,\n        \"samples\": [\n          \"\\ud55c\\ub9bc\\ub300\\ud559\\uad50\",\n          \"\\ud638\\ub0a8\\ub300\\ud559\\uad50\",\n          \"\\uc911\\uc559\\ub300\\ud559\\uad50\"\n        ],\n        \"semantic_type\": \"\",\n        \"description\": \"\"\n      }\n    },\n    {\n      \"column\": \"\\ub300\\ud559\\uc804\\uacf5\",\n      \"properties\": {\n        \"dtype\": \"category\",\n        \"num_unique_values\": 2030,\n        \"samples\": [\n          \"\\ucca0\\ud559/\\uacbd\\uc601\\ud559\",\n          \"\\uc804\\uae30\\uc804\\uc790\\uacf5\",\n          \"\\uc548\\uc804\\uacf5\\ud559\\uacfc\"\n        ],\n        \"semantic_type\": \"\",\n        \"description\": \"\"\n      }\n    },\n    {\n      \"column\": \"\\uc5b4\\ud559\\uc2dc\\ud5d8\",\n      \"properties\": {\n        \"dtype\": \"category\",\n        \"num_unique_values\": 13,\n        \"samples\": [\n          \"G-TELP\",\n          \"HSK\",\n          \"TOEIC\"\n        ],\n        \"semantic_type\": \"\",\n        \"description\": \"\"\n      }\n    },\n    {\n      \"column\": \"\\uc790\\uaca9\\uc99d\",\n      \"properties\": {\n        \"dtype\": \"category\",\n        \"num_unique_values\": 2,\n        \"samples\": [\n          \"0\",\n          \"1\"\n        ],\n        \"semantic_type\": \"\",\n        \"description\": \"\"\n      }\n    },\n    {\n      \"column\": \"\\ub300\\ud559\\uc131\\uc801\",\n      \"properties\": {\n        \"dtype\": \"number\",\n        \"std\": 9.3142427677756,\n        \"min\": 0.0,\n        \"max\": 110.0,\n        \"num_unique_values\": 10,\n        \"samples\": [\n          0.0,\n          80.0\n        ],\n        \"semantic_type\": \"\",\n        \"description\": \"\"\n      }\n    }\n  ]\n}",
       "type": "dataframe"
      },
      "text/html": [
       "\n",
       "  <div id=\"df-91faa51b-b2da-45db-a680-ebf24e3d9dca\" class=\"colab-df-container\">\n",
       "    <div>\n",
       "<style scoped>\n",
       "    .dataframe tbody tr th:only-of-type {\n",
       "        vertical-align: middle;\n",
       "    }\n",
       "\n",
       "    .dataframe tbody tr th {\n",
       "        vertical-align: top;\n",
       "    }\n",
       "\n",
       "    .dataframe thead th {\n",
       "        text-align: right;\n",
       "    }\n",
       "</style>\n",
       "<table border=\"1\" class=\"dataframe\">\n",
       "  <thead>\n",
       "    <tr style=\"text-align: right;\">\n",
       "      <th></th>\n",
       "      <th>ID</th>\n",
       "      <th>직종</th>\n",
       "      <th>세부직종</th>\n",
       "      <th>직무태그</th>\n",
       "      <th>근무경력</th>\n",
       "      <th>근무형태</th>\n",
       "      <th>근무지역</th>\n",
       "      <th>출신대학</th>\n",
       "      <th>대학전공</th>\n",
       "      <th>어학시험</th>\n",
       "      <th>자격증</th>\n",
       "      <th>대학성적</th>\n",
       "    </tr>\n",
       "  </thead>\n",
       "  <tbody>\n",
       "    <tr>\n",
       "      <th>0</th>\n",
       "      <td>SID167237</td>\n",
       "      <td>건설·기계·전기·전자</td>\n",
       "      <td>건설·토목·건축설비</td>\n",
       "      <td>기타</td>\n",
       "      <td>0</td>\n",
       "      <td>NaN</td>\n",
       "      <td>서울</td>\n",
       "      <td>연세대학교</td>\n",
       "      <td>토목</td>\n",
       "      <td>TOEIC</td>\n",
       "      <td>1</td>\n",
       "      <td>70.0</td>\n",
       "    </tr>\n",
       "    <tr>\n",
       "      <th>1</th>\n",
       "      <td>SID316308</td>\n",
       "      <td>IT·게임</td>\n",
       "      <td>시스템분석·설계·컨설턴트·ERP</td>\n",
       "      <td>기타</td>\n",
       "      <td>0</td>\n",
       "      <td>NaN</td>\n",
       "      <td>대전</td>\n",
       "      <td>한밭대학교</td>\n",
       "      <td>전자계산</td>\n",
       "      <td>없음</td>\n",
       "      <td>1</td>\n",
       "      <td>80.0</td>\n",
       "    </tr>\n",
       "    <tr>\n",
       "      <th>2</th>\n",
       "      <td>SID220787</td>\n",
       "      <td>경영·기획·회계·사무</td>\n",
       "      <td>경리·회계</td>\n",
       "      <td>ac</td>\n",
       "      <td>1275</td>\n",
       "      <td>NaN</td>\n",
       "      <td>서울</td>\n",
       "      <td>이화여자대학교</td>\n",
       "      <td>경영학</td>\n",
       "      <td>TOEIC</td>\n",
       "      <td>1</td>\n",
       "      <td>70.0</td>\n",
       "    </tr>\n",
       "    <tr>\n",
       "      <th>3</th>\n",
       "      <td>SID470405</td>\n",
       "      <td>경영·기획·회계·사무</td>\n",
       "      <td>경리·회계</td>\n",
       "      <td>ac</td>\n",
       "      <td>1670</td>\n",
       "      <td>NaN</td>\n",
       "      <td>강원</td>\n",
       "      <td>상지대학교</td>\n",
       "      <td>회계학</td>\n",
       "      <td>없음</td>\n",
       "      <td>1</td>\n",
       "      <td>80.0</td>\n",
       "    </tr>\n",
       "    <tr>\n",
       "      <th>4</th>\n",
       "      <td>SID278740</td>\n",
       "      <td>경영·기획·회계·사무</td>\n",
       "      <td>경리·회계</td>\n",
       "      <td>ac</td>\n",
       "      <td>0</td>\n",
       "      <td>NaN</td>\n",
       "      <td>서울</td>\n",
       "      <td>이화여자대학교</td>\n",
       "      <td>경영학</td>\n",
       "      <td>없음</td>\n",
       "      <td>0</td>\n",
       "      <td>NaN</td>\n",
       "    </tr>\n",
       "    <tr>\n",
       "      <th>...</th>\n",
       "      <td>...</td>\n",
       "      <td>...</td>\n",
       "      <td>...</td>\n",
       "      <td>...</td>\n",
       "      <td>...</td>\n",
       "      <td>...</td>\n",
       "      <td>...</td>\n",
       "      <td>...</td>\n",
       "      <td>...</td>\n",
       "      <td>...</td>\n",
       "      <td>...</td>\n",
       "      <td>...</td>\n",
       "    </tr>\n",
       "    <tr>\n",
       "      <th>16565</th>\n",
       "      <td>SID145408</td>\n",
       "      <td>건설·기계·전기·전자</td>\n",
       "      <td>전기·전자·제어</td>\n",
       "      <td>휴대</td>\n",
       "      <td>485</td>\n",
       "      <td>NaN</td>\n",
       "      <td>서울</td>\n",
       "      <td>동아대학교</td>\n",
       "      <td>컴퓨터공학과</td>\n",
       "      <td>TOEIC</td>\n",
       "      <td>1</td>\n",
       "      <td>60.0</td>\n",
       "    </tr>\n",
       "    <tr>\n",
       "      <th>16566</th>\n",
       "      <td>SID819286</td>\n",
       "      <td>경영·기획·회계·사무</td>\n",
       "      <td>구매·자재사무</td>\n",
       "      <td>휴대</td>\n",
       "      <td>60</td>\n",
       "      <td>정규직</td>\n",
       "      <td>인천</td>\n",
       "      <td>세명대학교</td>\n",
       "      <td>회계학</td>\n",
       "      <td>없음</td>\n",
       "      <td>0</td>\n",
       "      <td>70.0</td>\n",
       "    </tr>\n",
       "    <tr>\n",
       "      <th>16567</th>\n",
       "      <td>SID326624</td>\n",
       "      <td>디자인</td>\n",
       "      <td>제품·산업디자인</td>\n",
       "      <td>휴대</td>\n",
       "      <td>0</td>\n",
       "      <td>NaN</td>\n",
       "      <td>서울</td>\n",
       "      <td>한밭대학교</td>\n",
       "      <td>제품디자인</td>\n",
       "      <td>없음</td>\n",
       "      <td>1</td>\n",
       "      <td>80.0</td>\n",
       "    </tr>\n",
       "    <tr>\n",
       "      <th>16568</th>\n",
       "      <td>SID579826</td>\n",
       "      <td>경영·기획·회계·사무</td>\n",
       "      <td>마케팅·마케팅기획</td>\n",
       "      <td>휴대</td>\n",
       "      <td>4045</td>\n",
       "      <td>정규직</td>\n",
       "      <td>서울</td>\n",
       "      <td>제주대학교</td>\n",
       "      <td>전자공학</td>\n",
       "      <td>TOEIC</td>\n",
       "      <td>1</td>\n",
       "      <td>70.0</td>\n",
       "    </tr>\n",
       "    <tr>\n",
       "      <th>16569</th>\n",
       "      <td>SID221472</td>\n",
       "      <td>영업·판매·TM</td>\n",
       "      <td>영업·영업기획</td>\n",
       "      <td>기타</td>\n",
       "      <td>0</td>\n",
       "      <td>NaN</td>\n",
       "      <td>광주</td>\n",
       "      <td>광주대학교</td>\n",
       "      <td>관광학과</td>\n",
       "      <td>없음</td>\n",
       "      <td>0</td>\n",
       "      <td>80.0</td>\n",
       "    </tr>\n",
       "  </tbody>\n",
       "</table>\n",
       "<p>16570 rows × 12 columns</p>\n",
       "</div>\n",
       "    <div class=\"colab-df-buttons\">\n",
       "\n",
       "  <div class=\"colab-df-container\">\n",
       "    <button class=\"colab-df-convert\" onclick=\"convertToInteractive('df-91faa51b-b2da-45db-a680-ebf24e3d9dca')\"\n",
       "            title=\"Convert this dataframe to an interactive table.\"\n",
       "            style=\"display:none;\">\n",
       "\n",
       "  <svg xmlns=\"http://www.w3.org/2000/svg\" height=\"24px\" viewBox=\"0 -960 960 960\">\n",
       "    <path d=\"M120-120v-720h720v720H120Zm60-500h600v-160H180v160Zm220 220h160v-160H400v160Zm0 220h160v-160H400v160ZM180-400h160v-160H180v160Zm440 0h160v-160H620v160ZM180-180h160v-160H180v160Zm440 0h160v-160H620v160Z\"/>\n",
       "  </svg>\n",
       "    </button>\n",
       "\n",
       "  <style>\n",
       "    .colab-df-container {\n",
       "      display:flex;\n",
       "      gap: 12px;\n",
       "    }\n",
       "\n",
       "    .colab-df-convert {\n",
       "      background-color: #E8F0FE;\n",
       "      border: none;\n",
       "      border-radius: 50%;\n",
       "      cursor: pointer;\n",
       "      display: none;\n",
       "      fill: #1967D2;\n",
       "      height: 32px;\n",
       "      padding: 0 0 0 0;\n",
       "      width: 32px;\n",
       "    }\n",
       "\n",
       "    .colab-df-convert:hover {\n",
       "      background-color: #E2EBFA;\n",
       "      box-shadow: 0px 1px 2px rgba(60, 64, 67, 0.3), 0px 1px 3px 1px rgba(60, 64, 67, 0.15);\n",
       "      fill: #174EA6;\n",
       "    }\n",
       "\n",
       "    .colab-df-buttons div {\n",
       "      margin-bottom: 4px;\n",
       "    }\n",
       "\n",
       "    [theme=dark] .colab-df-convert {\n",
       "      background-color: #3B4455;\n",
       "      fill: #D2E3FC;\n",
       "    }\n",
       "\n",
       "    [theme=dark] .colab-df-convert:hover {\n",
       "      background-color: #434B5C;\n",
       "      box-shadow: 0px 1px 3px 1px rgba(0, 0, 0, 0.15);\n",
       "      filter: drop-shadow(0px 1px 2px rgba(0, 0, 0, 0.3));\n",
       "      fill: #FFFFFF;\n",
       "    }\n",
       "  </style>\n",
       "\n",
       "    <script>\n",
       "      const buttonEl =\n",
       "        document.querySelector('#df-91faa51b-b2da-45db-a680-ebf24e3d9dca button.colab-df-convert');\n",
       "      buttonEl.style.display =\n",
       "        google.colab.kernel.accessAllowed ? 'block' : 'none';\n",
       "\n",
       "      async function convertToInteractive(key) {\n",
       "        const element = document.querySelector('#df-91faa51b-b2da-45db-a680-ebf24e3d9dca');\n",
       "        const dataTable =\n",
       "          await google.colab.kernel.invokeFunction('convertToInteractive',\n",
       "                                                    [key], {});\n",
       "        if (!dataTable) return;\n",
       "\n",
       "        const docLinkHtml = 'Like what you see? Visit the ' +\n",
       "          '<a target=\"_blank\" href=https://colab.research.google.com/notebooks/data_table.ipynb>data table notebook</a>'\n",
       "          + ' to learn more about interactive tables.';\n",
       "        element.innerHTML = '';\n",
       "        dataTable['output_type'] = 'display_data';\n",
       "        await google.colab.output.renderOutput(dataTable, element);\n",
       "        const docLink = document.createElement('div');\n",
       "        docLink.innerHTML = docLinkHtml;\n",
       "        element.appendChild(docLink);\n",
       "      }\n",
       "    </script>\n",
       "  </div>\n",
       "\n",
       "\n",
       "<div id=\"df-7fd77bfe-46bb-4be7-85d2-6724c9fc7899\">\n",
       "  <button class=\"colab-df-quickchart\" onclick=\"quickchart('df-7fd77bfe-46bb-4be7-85d2-6724c9fc7899')\"\n",
       "            title=\"Suggest charts\"\n",
       "            style=\"display:none;\">\n",
       "\n",
       "<svg xmlns=\"http://www.w3.org/2000/svg\" height=\"24px\"viewBox=\"0 0 24 24\"\n",
       "     width=\"24px\">\n",
       "    <g>\n",
       "        <path d=\"M19 3H5c-1.1 0-2 .9-2 2v14c0 1.1.9 2 2 2h14c1.1 0 2-.9 2-2V5c0-1.1-.9-2-2-2zM9 17H7v-7h2v7zm4 0h-2V7h2v10zm4 0h-2v-4h2v4z\"/>\n",
       "    </g>\n",
       "</svg>\n",
       "  </button>\n",
       "\n",
       "<style>\n",
       "  .colab-df-quickchart {\n",
       "      --bg-color: #E8F0FE;\n",
       "      --fill-color: #1967D2;\n",
       "      --hover-bg-color: #E2EBFA;\n",
       "      --hover-fill-color: #174EA6;\n",
       "      --disabled-fill-color: #AAA;\n",
       "      --disabled-bg-color: #DDD;\n",
       "  }\n",
       "\n",
       "  [theme=dark] .colab-df-quickchart {\n",
       "      --bg-color: #3B4455;\n",
       "      --fill-color: #D2E3FC;\n",
       "      --hover-bg-color: #434B5C;\n",
       "      --hover-fill-color: #FFFFFF;\n",
       "      --disabled-bg-color: #3B4455;\n",
       "      --disabled-fill-color: #666;\n",
       "  }\n",
       "\n",
       "  .colab-df-quickchart {\n",
       "    background-color: var(--bg-color);\n",
       "    border: none;\n",
       "    border-radius: 50%;\n",
       "    cursor: pointer;\n",
       "    display: none;\n",
       "    fill: var(--fill-color);\n",
       "    height: 32px;\n",
       "    padding: 0;\n",
       "    width: 32px;\n",
       "  }\n",
       "\n",
       "  .colab-df-quickchart:hover {\n",
       "    background-color: var(--hover-bg-color);\n",
       "    box-shadow: 0 1px 2px rgba(60, 64, 67, 0.3), 0 1px 3px 1px rgba(60, 64, 67, 0.15);\n",
       "    fill: var(--button-hover-fill-color);\n",
       "  }\n",
       "\n",
       "  .colab-df-quickchart-complete:disabled,\n",
       "  .colab-df-quickchart-complete:disabled:hover {\n",
       "    background-color: var(--disabled-bg-color);\n",
       "    fill: var(--disabled-fill-color);\n",
       "    box-shadow: none;\n",
       "  }\n",
       "\n",
       "  .colab-df-spinner {\n",
       "    border: 2px solid var(--fill-color);\n",
       "    border-color: transparent;\n",
       "    border-bottom-color: var(--fill-color);\n",
       "    animation:\n",
       "      spin 1s steps(1) infinite;\n",
       "  }\n",
       "\n",
       "  @keyframes spin {\n",
       "    0% {\n",
       "      border-color: transparent;\n",
       "      border-bottom-color: var(--fill-color);\n",
       "      border-left-color: var(--fill-color);\n",
       "    }\n",
       "    20% {\n",
       "      border-color: transparent;\n",
       "      border-left-color: var(--fill-color);\n",
       "      border-top-color: var(--fill-color);\n",
       "    }\n",
       "    30% {\n",
       "      border-color: transparent;\n",
       "      border-left-color: var(--fill-color);\n",
       "      border-top-color: var(--fill-color);\n",
       "      border-right-color: var(--fill-color);\n",
       "    }\n",
       "    40% {\n",
       "      border-color: transparent;\n",
       "      border-right-color: var(--fill-color);\n",
       "      border-top-color: var(--fill-color);\n",
       "    }\n",
       "    60% {\n",
       "      border-color: transparent;\n",
       "      border-right-color: var(--fill-color);\n",
       "    }\n",
       "    80% {\n",
       "      border-color: transparent;\n",
       "      border-right-color: var(--fill-color);\n",
       "      border-bottom-color: var(--fill-color);\n",
       "    }\n",
       "    90% {\n",
       "      border-color: transparent;\n",
       "      border-bottom-color: var(--fill-color);\n",
       "    }\n",
       "  }\n",
       "</style>\n",
       "\n",
       "  <script>\n",
       "    async function quickchart(key) {\n",
       "      const quickchartButtonEl =\n",
       "        document.querySelector('#' + key + ' button');\n",
       "      quickchartButtonEl.disabled = true;  // To prevent multiple clicks.\n",
       "      quickchartButtonEl.classList.add('colab-df-spinner');\n",
       "      try {\n",
       "        const charts = await google.colab.kernel.invokeFunction(\n",
       "            'suggestCharts', [key], {});\n",
       "      } catch (error) {\n",
       "        console.error('Error during call to suggestCharts:', error);\n",
       "      }\n",
       "      quickchartButtonEl.classList.remove('colab-df-spinner');\n",
       "      quickchartButtonEl.classList.add('colab-df-quickchart-complete');\n",
       "    }\n",
       "    (() => {\n",
       "      let quickchartButtonEl =\n",
       "        document.querySelector('#df-7fd77bfe-46bb-4be7-85d2-6724c9fc7899 button');\n",
       "      quickchartButtonEl.style.display =\n",
       "        google.colab.kernel.accessAllowed ? 'block' : 'none';\n",
       "    })();\n",
       "  </script>\n",
       "</div>\n",
       "\n",
       "    </div>\n",
       "  </div>\n"
      ],
      "text/plain": [
       "              ID           직종               세부직종 직무태그  근무경력 근무형태 근무지역  \\\n",
       "0      SID167237  건설·기계·전기·전자         건설·토목·건축설비   기타     0  NaN   서울   \n",
       "1      SID316308        IT·게임  시스템분석·설계·컨설턴트·ERP   기타     0  NaN   대전   \n",
       "2      SID220787  경영·기획·회계·사무              경리·회계   ac  1275  NaN   서울   \n",
       "3      SID470405  경영·기획·회계·사무              경리·회계   ac  1670  NaN   강원   \n",
       "4      SID278740  경영·기획·회계·사무              경리·회계   ac     0  NaN   서울   \n",
       "...          ...          ...                ...  ...   ...  ...  ...   \n",
       "16565  SID145408  건설·기계·전기·전자           전기·전자·제어   휴대   485  NaN   서울   \n",
       "16566  SID819286  경영·기획·회계·사무            구매·자재사무   휴대    60  정규직   인천   \n",
       "16567  SID326624          디자인           제품·산업디자인   휴대     0  NaN   서울   \n",
       "16568  SID579826  경영·기획·회계·사무          마케팅·마케팅기획   휴대  4045  정규직   서울   \n",
       "16569  SID221472     영업·판매·TM            영업·영업기획   기타     0  NaN   광주   \n",
       "\n",
       "          출신대학    대학전공   어학시험 자격증  대학성적  \n",
       "0        연세대학교      토목  TOEIC   1  70.0  \n",
       "1        한밭대학교    전자계산     없음   1  80.0  \n",
       "2      이화여자대학교     경영학  TOEIC   1  70.0  \n",
       "3        상지대학교     회계학     없음   1  80.0  \n",
       "4      이화여자대학교     경영학     없음   0   NaN  \n",
       "...        ...     ...    ...  ..   ...  \n",
       "16565    동아대학교  컴퓨터공학과  TOEIC   1  60.0  \n",
       "16566    세명대학교     회계학     없음   0  70.0  \n",
       "16567    한밭대학교   제품디자인     없음   1  80.0  \n",
       "16568    제주대학교    전자공학  TOEIC   1  70.0  \n",
       "16569    광주대학교    관광학과     없음   0  80.0  \n",
       "\n",
       "[16570 rows x 12 columns]"
      ]
     },
     "execution_count": 552,
     "metadata": {},
     "output_type": "execute_result"
    }
   ],
   "source": [
    "X_train.reset_index().drop('index',axis=1)"
   ]
  },
  {
   "cell_type": "code",
   "execution_count": 553,
   "id": "beb55a1e",
   "metadata": {
    "colab": {
     "base_uri": "https://localhost:8080/",
     "height": 423
    },
    "executionInfo": {
     "elapsed": 490,
     "status": "ok",
     "timestamp": 1713317948999,
     "user": {
      "displayName": "전영호",
      "userId": "17928441635701806568"
     },
     "user_tz": -540
    },
    "id": "beb55a1e",
    "outputId": "a0fdcd57-ece8-4676-ddfe-47cd02d4b743"
   },
   "outputs": [
    {
     "data": {
      "application/vnd.google.colaboratory.intrinsic+json": {
       "summary": "{\n  \"name\": \"X_test\",\n  \"rows\": 11048,\n  \"fields\": [\n    {\n      \"column\": \"ID\",\n      \"properties\": {\n        \"dtype\": \"string\",\n        \"num_unique_values\": 11048,\n        \"samples\": [\n          \"SID765541\",\n          \"SID116970\",\n          \"SID611752\"\n        ],\n        \"semantic_type\": \"\",\n        \"description\": \"\"\n      }\n    },\n    {\n      \"column\": \"\\uc9c1\\uc885\",\n      \"properties\": {\n        \"dtype\": \"category\",\n        \"num_unique_values\": 12,\n        \"samples\": [\n          \"\\ubb38\\ud654\\u00b7\\uc608\\uc220\\u00b7\\uc2e0\\ubb38\\u00b7\\ubc29\\uc1a1\",\n          \"\\ud1b5\\uc2e0\\u00b7\\ubaa8\\ubc14\\uc77c\",\n          \"IT\\u00b7\\uac8c\\uc784\"\n        ],\n        \"semantic_type\": \"\",\n        \"description\": \"\"\n      }\n    },\n    {\n      \"column\": \"\\uc138\\ubd80\\uc9c1\\uc885\",\n      \"properties\": {\n        \"dtype\": \"category\",\n        \"num_unique_values\": 82,\n        \"samples\": [\n          \"\\uc678\\uad6d\\uc5b4\\u00b7\\ubc88\\uc5ed\\u00b7\\ud1b5\\uc5ed\",\n          \"\\uc2dc\\uc2a4\\ud15c\\ubd84\\uc11d\\u00b7\\uc124\\uacc4\\u00b7\\ucee8\\uc124\\ud134\\ud2b8\\u00b7ERP\",\n          \"\\uc5f0\\uad6c\\uac1c\\ubc1c\\u00b7R&D\"\n        ],\n        \"semantic_type\": \"\",\n        \"description\": \"\"\n      }\n    },\n    {\n      \"column\": \"\\uc9c1\\ubb34\\ud0dc\\uadf8\",\n      \"properties\": {\n        \"dtype\": \"category\",\n        \"num_unique_values\": 456,\n        \"samples\": [\n          \"\\uc815\\ubcf4\",\n          \"h\",\n          \"\\uc778\\uc0ac\"\n        ],\n        \"semantic_type\": \"\",\n        \"description\": \"\"\n      }\n    },\n    {\n      \"column\": \"\\uadfc\\ubb34\\uacbd\\ub825\",\n      \"properties\": {\n        \"dtype\": \"number\",\n        \"std\": 1762,\n        \"min\": 0,\n        \"max\": 28405,\n        \"num_unique_values\": 301,\n        \"samples\": [\n          4285,\n          5745,\n          7390\n        ],\n        \"semantic_type\": \"\",\n        \"description\": \"\"\n      }\n    },\n    {\n      \"column\": \"\\uadfc\\ubb34\\ud615\\ud0dc\",\n      \"properties\": {\n        \"dtype\": \"category\",\n        \"num_unique_values\": 6,\n        \"samples\": [\n          \"\\uc815\\uaddc\\uc9c1\",\n          \"\\uacc4\\uc57d\\uc9c1\",\n          \"\\ud574\\uc678\\ucde8\\uc5c5\"\n        ],\n        \"semantic_type\": \"\",\n        \"description\": \"\"\n      }\n    },\n    {\n      \"column\": \"\\uadfc\\ubb34\\uc9c0\\uc5ed\",\n      \"properties\": {\n        \"dtype\": \"category\",\n        \"num_unique_values\": 18,\n        \"samples\": [\n          \"\\uc11c\\uc6b8\",\n          \"\\ubd80\\uc0b0\",\n          \"\\uc6b8\\uc0b0\"\n        ],\n        \"semantic_type\": \"\",\n        \"description\": \"\"\n      }\n    },\n    {\n      \"column\": \"\\ucd9c\\uc2e0\\ub300\\ud559\",\n      \"properties\": {\n        \"dtype\": \"category\",\n        \"num_unique_values\": 42,\n        \"samples\": [\n          \"\\ud55c\\ub9bc\\ub300\\ud559\\uad50\",\n          \"\\uc2e0\\ub77c\\ub300\\ud559\\uad50\",\n          \"\\uc131\\uacf5\\ud68c\\ub300\\ud559\\uad50\"\n        ],\n        \"semantic_type\": \"\",\n        \"description\": \"\"\n      }\n    },\n    {\n      \"column\": \"\\ub300\\ud559\\uc804\\uacf5\",\n      \"properties\": {\n        \"dtype\": \"category\",\n        \"num_unique_values\": 126,\n        \"samples\": [\n          \"\\uc12c\\uc720\\uacf5\\ud559\",\n          \"\\ud589\\uc815\",\n          \"\\ubd80\\ub3d9\\uc0b0\"\n        ],\n        \"semantic_type\": \"\",\n        \"description\": \"\"\n      }\n    },\n    {\n      \"column\": \"\\uc5b4\\ud559\\uc2dc\\ud5d8\",\n      \"properties\": {\n        \"dtype\": \"category\",\n        \"num_unique_values\": 11,\n        \"samples\": [\n          \"JPT\",\n          \"\\uc5c6\\uc74c\",\n          \"IELTS\"\n        ],\n        \"semantic_type\": \"\",\n        \"description\": \"\"\n      }\n    },\n    {\n      \"column\": \"\\uc790\\uaca9\\uc99d\",\n      \"properties\": {\n        \"dtype\": \"category\",\n        \"num_unique_values\": 2,\n        \"samples\": [\n          \"1\",\n          \"0\"\n        ],\n        \"semantic_type\": \"\",\n        \"description\": \"\"\n      }\n    },\n    {\n      \"column\": \"\\ub300\\ud559\\uc131\\uc801\",\n      \"properties\": {\n        \"dtype\": \"number\",\n        \"std\": 9.307456411040961,\n        \"min\": 0.0,\n        \"max\": 150.0,\n        \"num_unique_values\": 11,\n        \"samples\": [\n          100.0,\n          80.0\n        ],\n        \"semantic_type\": \"\",\n        \"description\": \"\"\n      }\n    }\n  ]\n}",
       "type": "dataframe"
      },
      "text/html": [
       "\n",
       "  <div id=\"df-be786214-60b9-4baa-831c-6701b9e8a8c0\" class=\"colab-df-container\">\n",
       "    <div>\n",
       "<style scoped>\n",
       "    .dataframe tbody tr th:only-of-type {\n",
       "        vertical-align: middle;\n",
       "    }\n",
       "\n",
       "    .dataframe tbody tr th {\n",
       "        vertical-align: top;\n",
       "    }\n",
       "\n",
       "    .dataframe thead th {\n",
       "        text-align: right;\n",
       "    }\n",
       "</style>\n",
       "<table border=\"1\" class=\"dataframe\">\n",
       "  <thead>\n",
       "    <tr style=\"text-align: right;\">\n",
       "      <th></th>\n",
       "      <th>ID</th>\n",
       "      <th>직종</th>\n",
       "      <th>세부직종</th>\n",
       "      <th>직무태그</th>\n",
       "      <th>근무경력</th>\n",
       "      <th>근무형태</th>\n",
       "      <th>근무지역</th>\n",
       "      <th>출신대학</th>\n",
       "      <th>대학전공</th>\n",
       "      <th>어학시험</th>\n",
       "      <th>자격증</th>\n",
       "      <th>대학성적</th>\n",
       "    </tr>\n",
       "  </thead>\n",
       "  <tbody>\n",
       "    <tr>\n",
       "      <th>0</th>\n",
       "      <td>SID16772</td>\n",
       "      <td>IT·게임</td>\n",
       "      <td>시스템분석·설계·컨설턴트·ERP</td>\n",
       "      <td>ab</td>\n",
       "      <td>0</td>\n",
       "      <td>NaN</td>\n",
       "      <td>서울</td>\n",
       "      <td>성신여자대학교</td>\n",
       "      <td>전산</td>\n",
       "      <td>없음</td>\n",
       "      <td>0</td>\n",
       "      <td>80.0</td>\n",
       "    </tr>\n",
       "    <tr>\n",
       "      <th>1</th>\n",
       "      <td>SID171384</td>\n",
       "      <td>IT·게임</td>\n",
       "      <td>시스템분석·설계·컨설턴트·ERP</td>\n",
       "      <td>ab</td>\n",
       "      <td>0</td>\n",
       "      <td>NaN</td>\n",
       "      <td>서울</td>\n",
       "      <td>서울여자대학교</td>\n",
       "      <td>컴퓨터</td>\n",
       "      <td>기타</td>\n",
       "      <td>1</td>\n",
       "      <td>70.0</td>\n",
       "    </tr>\n",
       "    <tr>\n",
       "      <th>2</th>\n",
       "      <td>SID181009</td>\n",
       "      <td>경영·기획·회계·사무</td>\n",
       "      <td>상담·고객지원</td>\n",
       "      <td>ac</td>\n",
       "      <td>730</td>\n",
       "      <td>정규직</td>\n",
       "      <td>서울</td>\n",
       "      <td>성신여자대학교</td>\n",
       "      <td>공예</td>\n",
       "      <td>없음</td>\n",
       "      <td>1</td>\n",
       "      <td>70.0</td>\n",
       "    </tr>\n",
       "    <tr>\n",
       "      <th>3</th>\n",
       "      <td>SID625415</td>\n",
       "      <td>경영·기획·회계·사무</td>\n",
       "      <td>경리·회계</td>\n",
       "      <td>ac</td>\n",
       "      <td>2555</td>\n",
       "      <td>정규직</td>\n",
       "      <td>서울</td>\n",
       "      <td>중앙대학교</td>\n",
       "      <td>회계</td>\n",
       "      <td>없음</td>\n",
       "      <td>0</td>\n",
       "      <td>80.0</td>\n",
       "    </tr>\n",
       "    <tr>\n",
       "      <th>4</th>\n",
       "      <td>SID230359</td>\n",
       "      <td>경영·기획·회계·사무</td>\n",
       "      <td>경리·회계</td>\n",
       "      <td>ac</td>\n",
       "      <td>0</td>\n",
       "      <td>정규직</td>\n",
       "      <td>서울</td>\n",
       "      <td>세종대학교</td>\n",
       "      <td>영어</td>\n",
       "      <td>TOEIC</td>\n",
       "      <td>1</td>\n",
       "      <td>60.0</td>\n",
       "    </tr>\n",
       "    <tr>\n",
       "      <th>...</th>\n",
       "      <td>...</td>\n",
       "      <td>...</td>\n",
       "      <td>...</td>\n",
       "      <td>...</td>\n",
       "      <td>...</td>\n",
       "      <td>...</td>\n",
       "      <td>...</td>\n",
       "      <td>...</td>\n",
       "      <td>...</td>\n",
       "      <td>...</td>\n",
       "      <td>...</td>\n",
       "      <td>...</td>\n",
       "    </tr>\n",
       "    <tr>\n",
       "      <th>11043</th>\n",
       "      <td>SID240843</td>\n",
       "      <td>경영·기획·회계·사무</td>\n",
       "      <td>무역·수출입·운송사무</td>\n",
       "      <td>기타</td>\n",
       "      <td>0</td>\n",
       "      <td>정규직</td>\n",
       "      <td>서울</td>\n",
       "      <td>중앙대학교</td>\n",
       "      <td>교육</td>\n",
       "      <td>없음</td>\n",
       "      <td>1</td>\n",
       "      <td>70.0</td>\n",
       "    </tr>\n",
       "    <tr>\n",
       "      <th>11044</th>\n",
       "      <td>SID22550</td>\n",
       "      <td>경영·기획·회계·사무</td>\n",
       "      <td>무역·수출입·운송사무</td>\n",
       "      <td>기타</td>\n",
       "      <td>0</td>\n",
       "      <td>NaN</td>\n",
       "      <td>대전</td>\n",
       "      <td>군산대학교</td>\n",
       "      <td>국제통상</td>\n",
       "      <td>없음</td>\n",
       "      <td>1</td>\n",
       "      <td>90.0</td>\n",
       "    </tr>\n",
       "    <tr>\n",
       "      <th>11045</th>\n",
       "      <td>SID360804</td>\n",
       "      <td>경영·기획·회계·사무</td>\n",
       "      <td>구매·자재사무</td>\n",
       "      <td>휴대</td>\n",
       "      <td>0</td>\n",
       "      <td>NaN</td>\n",
       "      <td>경기</td>\n",
       "      <td>경기대학교</td>\n",
       "      <td>신소재</td>\n",
       "      <td>TOEIC</td>\n",
       "      <td>0</td>\n",
       "      <td>60.0</td>\n",
       "    </tr>\n",
       "    <tr>\n",
       "      <th>11046</th>\n",
       "      <td>SID638241</td>\n",
       "      <td>IT·게임</td>\n",
       "      <td>응용프로그래머(Unix,Linux,Java)</td>\n",
       "      <td>휴대</td>\n",
       "      <td>1185</td>\n",
       "      <td>정규직</td>\n",
       "      <td>서울</td>\n",
       "      <td>성균관대학교</td>\n",
       "      <td>통신</td>\n",
       "      <td>없음</td>\n",
       "      <td>0</td>\n",
       "      <td>80.0</td>\n",
       "    </tr>\n",
       "    <tr>\n",
       "      <th>11047</th>\n",
       "      <td>SID202493</td>\n",
       "      <td>IT·게임</td>\n",
       "      <td>응용프로그래머(Unix,Linux,Java)</td>\n",
       "      <td>휴대</td>\n",
       "      <td>0</td>\n",
       "      <td>NaN</td>\n",
       "      <td>서울</td>\n",
       "      <td>세명대학교</td>\n",
       "      <td>컴퓨터</td>\n",
       "      <td>없음</td>\n",
       "      <td>0</td>\n",
       "      <td>80.0</td>\n",
       "    </tr>\n",
       "  </tbody>\n",
       "</table>\n",
       "<p>11048 rows × 12 columns</p>\n",
       "</div>\n",
       "    <div class=\"colab-df-buttons\">\n",
       "\n",
       "  <div class=\"colab-df-container\">\n",
       "    <button class=\"colab-df-convert\" onclick=\"convertToInteractive('df-be786214-60b9-4baa-831c-6701b9e8a8c0')\"\n",
       "            title=\"Convert this dataframe to an interactive table.\"\n",
       "            style=\"display:none;\">\n",
       "\n",
       "  <svg xmlns=\"http://www.w3.org/2000/svg\" height=\"24px\" viewBox=\"0 -960 960 960\">\n",
       "    <path d=\"M120-120v-720h720v720H120Zm60-500h600v-160H180v160Zm220 220h160v-160H400v160Zm0 220h160v-160H400v160ZM180-400h160v-160H180v160Zm440 0h160v-160H620v160ZM180-180h160v-160H180v160Zm440 0h160v-160H620v160Z\"/>\n",
       "  </svg>\n",
       "    </button>\n",
       "\n",
       "  <style>\n",
       "    .colab-df-container {\n",
       "      display:flex;\n",
       "      gap: 12px;\n",
       "    }\n",
       "\n",
       "    .colab-df-convert {\n",
       "      background-color: #E8F0FE;\n",
       "      border: none;\n",
       "      border-radius: 50%;\n",
       "      cursor: pointer;\n",
       "      display: none;\n",
       "      fill: #1967D2;\n",
       "      height: 32px;\n",
       "      padding: 0 0 0 0;\n",
       "      width: 32px;\n",
       "    }\n",
       "\n",
       "    .colab-df-convert:hover {\n",
       "      background-color: #E2EBFA;\n",
       "      box-shadow: 0px 1px 2px rgba(60, 64, 67, 0.3), 0px 1px 3px 1px rgba(60, 64, 67, 0.15);\n",
       "      fill: #174EA6;\n",
       "    }\n",
       "\n",
       "    .colab-df-buttons div {\n",
       "      margin-bottom: 4px;\n",
       "    }\n",
       "\n",
       "    [theme=dark] .colab-df-convert {\n",
       "      background-color: #3B4455;\n",
       "      fill: #D2E3FC;\n",
       "    }\n",
       "\n",
       "    [theme=dark] .colab-df-convert:hover {\n",
       "      background-color: #434B5C;\n",
       "      box-shadow: 0px 1px 3px 1px rgba(0, 0, 0, 0.15);\n",
       "      filter: drop-shadow(0px 1px 2px rgba(0, 0, 0, 0.3));\n",
       "      fill: #FFFFFF;\n",
       "    }\n",
       "  </style>\n",
       "\n",
       "    <script>\n",
       "      const buttonEl =\n",
       "        document.querySelector('#df-be786214-60b9-4baa-831c-6701b9e8a8c0 button.colab-df-convert');\n",
       "      buttonEl.style.display =\n",
       "        google.colab.kernel.accessAllowed ? 'block' : 'none';\n",
       "\n",
       "      async function convertToInteractive(key) {\n",
       "        const element = document.querySelector('#df-be786214-60b9-4baa-831c-6701b9e8a8c0');\n",
       "        const dataTable =\n",
       "          await google.colab.kernel.invokeFunction('convertToInteractive',\n",
       "                                                    [key], {});\n",
       "        if (!dataTable) return;\n",
       "\n",
       "        const docLinkHtml = 'Like what you see? Visit the ' +\n",
       "          '<a target=\"_blank\" href=https://colab.research.google.com/notebooks/data_table.ipynb>data table notebook</a>'\n",
       "          + ' to learn more about interactive tables.';\n",
       "        element.innerHTML = '';\n",
       "        dataTable['output_type'] = 'display_data';\n",
       "        await google.colab.output.renderOutput(dataTable, element);\n",
       "        const docLink = document.createElement('div');\n",
       "        docLink.innerHTML = docLinkHtml;\n",
       "        element.appendChild(docLink);\n",
       "      }\n",
       "    </script>\n",
       "  </div>\n",
       "\n",
       "\n",
       "<div id=\"df-341bb5b4-542f-4c00-a57c-847a2a1bee3d\">\n",
       "  <button class=\"colab-df-quickchart\" onclick=\"quickchart('df-341bb5b4-542f-4c00-a57c-847a2a1bee3d')\"\n",
       "            title=\"Suggest charts\"\n",
       "            style=\"display:none;\">\n",
       "\n",
       "<svg xmlns=\"http://www.w3.org/2000/svg\" height=\"24px\"viewBox=\"0 0 24 24\"\n",
       "     width=\"24px\">\n",
       "    <g>\n",
       "        <path d=\"M19 3H5c-1.1 0-2 .9-2 2v14c0 1.1.9 2 2 2h14c1.1 0 2-.9 2-2V5c0-1.1-.9-2-2-2zM9 17H7v-7h2v7zm4 0h-2V7h2v10zm4 0h-2v-4h2v4z\"/>\n",
       "    </g>\n",
       "</svg>\n",
       "  </button>\n",
       "\n",
       "<style>\n",
       "  .colab-df-quickchart {\n",
       "      --bg-color: #E8F0FE;\n",
       "      --fill-color: #1967D2;\n",
       "      --hover-bg-color: #E2EBFA;\n",
       "      --hover-fill-color: #174EA6;\n",
       "      --disabled-fill-color: #AAA;\n",
       "      --disabled-bg-color: #DDD;\n",
       "  }\n",
       "\n",
       "  [theme=dark] .colab-df-quickchart {\n",
       "      --bg-color: #3B4455;\n",
       "      --fill-color: #D2E3FC;\n",
       "      --hover-bg-color: #434B5C;\n",
       "      --hover-fill-color: #FFFFFF;\n",
       "      --disabled-bg-color: #3B4455;\n",
       "      --disabled-fill-color: #666;\n",
       "  }\n",
       "\n",
       "  .colab-df-quickchart {\n",
       "    background-color: var(--bg-color);\n",
       "    border: none;\n",
       "    border-radius: 50%;\n",
       "    cursor: pointer;\n",
       "    display: none;\n",
       "    fill: var(--fill-color);\n",
       "    height: 32px;\n",
       "    padding: 0;\n",
       "    width: 32px;\n",
       "  }\n",
       "\n",
       "  .colab-df-quickchart:hover {\n",
       "    background-color: var(--hover-bg-color);\n",
       "    box-shadow: 0 1px 2px rgba(60, 64, 67, 0.3), 0 1px 3px 1px rgba(60, 64, 67, 0.15);\n",
       "    fill: var(--button-hover-fill-color);\n",
       "  }\n",
       "\n",
       "  .colab-df-quickchart-complete:disabled,\n",
       "  .colab-df-quickchart-complete:disabled:hover {\n",
       "    background-color: var(--disabled-bg-color);\n",
       "    fill: var(--disabled-fill-color);\n",
       "    box-shadow: none;\n",
       "  }\n",
       "\n",
       "  .colab-df-spinner {\n",
       "    border: 2px solid var(--fill-color);\n",
       "    border-color: transparent;\n",
       "    border-bottom-color: var(--fill-color);\n",
       "    animation:\n",
       "      spin 1s steps(1) infinite;\n",
       "  }\n",
       "\n",
       "  @keyframes spin {\n",
       "    0% {\n",
       "      border-color: transparent;\n",
       "      border-bottom-color: var(--fill-color);\n",
       "      border-left-color: var(--fill-color);\n",
       "    }\n",
       "    20% {\n",
       "      border-color: transparent;\n",
       "      border-left-color: var(--fill-color);\n",
       "      border-top-color: var(--fill-color);\n",
       "    }\n",
       "    30% {\n",
       "      border-color: transparent;\n",
       "      border-left-color: var(--fill-color);\n",
       "      border-top-color: var(--fill-color);\n",
       "      border-right-color: var(--fill-color);\n",
       "    }\n",
       "    40% {\n",
       "      border-color: transparent;\n",
       "      border-right-color: var(--fill-color);\n",
       "      border-top-color: var(--fill-color);\n",
       "    }\n",
       "    60% {\n",
       "      border-color: transparent;\n",
       "      border-right-color: var(--fill-color);\n",
       "    }\n",
       "    80% {\n",
       "      border-color: transparent;\n",
       "      border-right-color: var(--fill-color);\n",
       "      border-bottom-color: var(--fill-color);\n",
       "    }\n",
       "    90% {\n",
       "      border-color: transparent;\n",
       "      border-bottom-color: var(--fill-color);\n",
       "    }\n",
       "  }\n",
       "</style>\n",
       "\n",
       "  <script>\n",
       "    async function quickchart(key) {\n",
       "      const quickchartButtonEl =\n",
       "        document.querySelector('#' + key + ' button');\n",
       "      quickchartButtonEl.disabled = true;  // To prevent multiple clicks.\n",
       "      quickchartButtonEl.classList.add('colab-df-spinner');\n",
       "      try {\n",
       "        const charts = await google.colab.kernel.invokeFunction(\n",
       "            'suggestCharts', [key], {});\n",
       "      } catch (error) {\n",
       "        console.error('Error during call to suggestCharts:', error);\n",
       "      }\n",
       "      quickchartButtonEl.classList.remove('colab-df-spinner');\n",
       "      quickchartButtonEl.classList.add('colab-df-quickchart-complete');\n",
       "    }\n",
       "    (() => {\n",
       "      let quickchartButtonEl =\n",
       "        document.querySelector('#df-341bb5b4-542f-4c00-a57c-847a2a1bee3d button');\n",
       "      quickchartButtonEl.style.display =\n",
       "        google.colab.kernel.accessAllowed ? 'block' : 'none';\n",
       "    })();\n",
       "  </script>\n",
       "</div>\n",
       "\n",
       "    </div>\n",
       "  </div>\n"
      ],
      "text/plain": [
       "              ID           직종                      세부직종 직무태그  근무경력 근무형태 근무지역  \\\n",
       "0       SID16772        IT·게임         시스템분석·설계·컨설턴트·ERP   ab     0  NaN   서울   \n",
       "1      SID171384        IT·게임         시스템분석·설계·컨설턴트·ERP   ab     0  NaN   서울   \n",
       "2      SID181009  경영·기획·회계·사무                   상담·고객지원   ac   730  정규직   서울   \n",
       "3      SID625415  경영·기획·회계·사무                     경리·회계   ac  2555  정규직   서울   \n",
       "4      SID230359  경영·기획·회계·사무                     경리·회계   ac     0  정규직   서울   \n",
       "...          ...          ...                       ...  ...   ...  ...  ...   \n",
       "11043  SID240843  경영·기획·회계·사무               무역·수출입·운송사무   기타     0  정규직   서울   \n",
       "11044   SID22550  경영·기획·회계·사무               무역·수출입·운송사무   기타     0  NaN   대전   \n",
       "11045  SID360804  경영·기획·회계·사무                   구매·자재사무   휴대     0  NaN   경기   \n",
       "11046  SID638241        IT·게임  응용프로그래머(Unix,Linux,Java)   휴대  1185  정규직   서울   \n",
       "11047  SID202493        IT·게임  응용프로그래머(Unix,Linux,Java)   휴대     0  NaN   서울   \n",
       "\n",
       "          출신대학  대학전공   어학시험 자격증  대학성적  \n",
       "0      성신여자대학교    전산     없음   0  80.0  \n",
       "1      서울여자대학교   컴퓨터     기타   1  70.0  \n",
       "2      성신여자대학교    공예     없음   1  70.0  \n",
       "3        중앙대학교    회계     없음   0  80.0  \n",
       "4        세종대학교    영어  TOEIC   1  60.0  \n",
       "...        ...   ...    ...  ..   ...  \n",
       "11043    중앙대학교    교육     없음   1  70.0  \n",
       "11044    군산대학교  국제통상     없음   1  90.0  \n",
       "11045    경기대학교   신소재  TOEIC   0  60.0  \n",
       "11046   성균관대학교    통신     없음   0  80.0  \n",
       "11047    세명대학교   컴퓨터     없음   0  80.0  \n",
       "\n",
       "[11048 rows x 12 columns]"
      ]
     },
     "execution_count": 553,
     "metadata": {},
     "output_type": "execute_result"
    }
   ],
   "source": [
    "X_test.reset_index().drop('index',axis=1)"
   ]
  },
  {
   "cell_type": "code",
   "execution_count": null,
   "id": "6f502404",
   "metadata": {
    "id": "6f502404",
    "scrolled": true
   },
   "outputs": [],
   "source": [
    "X_train.to_csv(\"data/X_train_pre_2.csv\",index=False)"
   ]
  },
  {
   "cell_type": "code",
   "execution_count": null,
   "id": "0fb46e7c",
   "metadata": {
    "id": "0fb46e7c"
   },
   "outputs": [],
   "source": [
    "X_test.to_csv(\"data/X_test_pre_2.csv\",index=False)"
   ]
  },
  {
   "cell_type": "markdown",
   "id": "GhGRA-5qiFao",
   "metadata": {
    "id": "GhGRA-5qiFao"
   },
   "source": [
    "# 모델링"
   ]
  },
  {
   "cell_type": "code",
   "execution_count": 554,
   "id": "bae3a86d",
   "metadata": {
    "executionInfo": {
     "elapsed": 605,
     "status": "ok",
     "timestamp": 1713317953815,
     "user": {
      "displayName": "전영호",
      "userId": "17928441635701806568"
     },
     "user_tz": -540
    },
    "id": "bae3a86d"
   },
   "outputs": [],
   "source": [
    "X_train = pd.read_csv(\"/content/drive/MyDrive/머신러닝 수업/data/X_train_pre_2.csv\")\n",
    "X_test = pd.read_csv(\"/content/drive/MyDrive/머신러닝 수업/data/X_test_pre_2.csv\")\n",
    "y_train = pd.read_csv(\"/content/drive/MyDrive/머신러닝 수업/data/y_train.csv\")"
   ]
  },
  {
   "cell_type": "code",
   "execution_count": 555,
   "id": "d7311d32",
   "metadata": {
    "executionInfo": {
     "elapsed": 825,
     "status": "ok",
     "timestamp": 1713317955300,
     "user": {
      "displayName": "전영호",
      "userId": "17928441635701806568"
     },
     "user_tz": -540
    },
    "id": "d7311d32"
   },
   "outputs": [],
   "source": [
    "X_train = X_train.sort_values(by='ID').reset_index().drop(columns='index')"
   ]
  },
  {
   "cell_type": "code",
   "execution_count": 556,
   "id": "3ef3f6bf",
   "metadata": {
    "colab": {
     "base_uri": "https://localhost:8080/",
     "height": 423
    },
    "executionInfo": {
     "elapsed": 2,
     "status": "ok",
     "timestamp": 1713317955300,
     "user": {
      "displayName": "전영호",
      "userId": "17928441635701806568"
     },
     "user_tz": -540
    },
    "id": "3ef3f6bf",
    "outputId": "437ba8ad-5fc9-41ce-fcf1-55a4aec7a680"
   },
   "outputs": [
    {
     "data": {
      "application/vnd.google.colaboratory.intrinsic+json": {
       "summary": "{\n  \"name\": \"y_train\",\n  \"rows\": 16570,\n  \"fields\": [\n    {\n      \"column\": \"ID\",\n      \"properties\": {\n        \"dtype\": \"string\",\n        \"num_unique_values\": 16570,\n        \"samples\": [\n          \"SID640231\",\n          \"SID723949\",\n          \"SID260644\"\n        ],\n        \"semantic_type\": \"\",\n        \"description\": \"\"\n      }\n    },\n    {\n      \"column\": \"Salary\",\n      \"properties\": {\n        \"dtype\": \"number\",\n        \"std\": 1235,\n        \"min\": 1100,\n        \"max\": 8500,\n        \"num_unique_values\": 26,\n        \"samples\": [\n          2300,\n          5750,\n          2100\n        ],\n        \"semantic_type\": \"\",\n        \"description\": \"\"\n      }\n    }\n  ]\n}",
       "type": "dataframe",
       "variable_name": "y_train"
      },
      "text/html": [
       "\n",
       "  <div id=\"df-ae12dc7d-9759-427e-86f3-449d5678bc44\" class=\"colab-df-container\">\n",
       "    <div>\n",
       "<style scoped>\n",
       "    .dataframe tbody tr th:only-of-type {\n",
       "        vertical-align: middle;\n",
       "    }\n",
       "\n",
       "    .dataframe tbody tr th {\n",
       "        vertical-align: top;\n",
       "    }\n",
       "\n",
       "    .dataframe thead th {\n",
       "        text-align: right;\n",
       "    }\n",
       "</style>\n",
       "<table border=\"1\" class=\"dataframe\">\n",
       "  <thead>\n",
       "    <tr style=\"text-align: right;\">\n",
       "      <th></th>\n",
       "      <th>ID</th>\n",
       "      <th>Salary</th>\n",
       "    </tr>\n",
       "  </thead>\n",
       "  <tbody>\n",
       "    <tr>\n",
       "      <th>0</th>\n",
       "      <td>SID100109</td>\n",
       "      <td>2100</td>\n",
       "    </tr>\n",
       "    <tr>\n",
       "      <th>1</th>\n",
       "      <td>SID100255</td>\n",
       "      <td>2100</td>\n",
       "    </tr>\n",
       "    <tr>\n",
       "      <th>2</th>\n",
       "      <td>SID100284</td>\n",
       "      <td>1900</td>\n",
       "    </tr>\n",
       "    <tr>\n",
       "      <th>3</th>\n",
       "      <td>SID100315</td>\n",
       "      <td>2500</td>\n",
       "    </tr>\n",
       "    <tr>\n",
       "      <th>4</th>\n",
       "      <td>SID100374</td>\n",
       "      <td>1900</td>\n",
       "    </tr>\n",
       "    <tr>\n",
       "      <th>...</th>\n",
       "      <td>...</td>\n",
       "      <td>...</td>\n",
       "    </tr>\n",
       "    <tr>\n",
       "      <th>16565</th>\n",
       "      <td>SID99558</td>\n",
       "      <td>1700</td>\n",
       "    </tr>\n",
       "    <tr>\n",
       "      <th>16566</th>\n",
       "      <td>SID99611</td>\n",
       "      <td>2100</td>\n",
       "    </tr>\n",
       "    <tr>\n",
       "      <th>16567</th>\n",
       "      <td>SID99741</td>\n",
       "      <td>1700</td>\n",
       "    </tr>\n",
       "    <tr>\n",
       "      <th>16568</th>\n",
       "      <td>SID99756</td>\n",
       "      <td>1700</td>\n",
       "    </tr>\n",
       "    <tr>\n",
       "      <th>16569</th>\n",
       "      <td>SID9979</td>\n",
       "      <td>2100</td>\n",
       "    </tr>\n",
       "  </tbody>\n",
       "</table>\n",
       "<p>16570 rows × 2 columns</p>\n",
       "</div>\n",
       "    <div class=\"colab-df-buttons\">\n",
       "\n",
       "  <div class=\"colab-df-container\">\n",
       "    <button class=\"colab-df-convert\" onclick=\"convertToInteractive('df-ae12dc7d-9759-427e-86f3-449d5678bc44')\"\n",
       "            title=\"Convert this dataframe to an interactive table.\"\n",
       "            style=\"display:none;\">\n",
       "\n",
       "  <svg xmlns=\"http://www.w3.org/2000/svg\" height=\"24px\" viewBox=\"0 -960 960 960\">\n",
       "    <path d=\"M120-120v-720h720v720H120Zm60-500h600v-160H180v160Zm220 220h160v-160H400v160Zm0 220h160v-160H400v160ZM180-400h160v-160H180v160Zm440 0h160v-160H620v160ZM180-180h160v-160H180v160Zm440 0h160v-160H620v160Z\"/>\n",
       "  </svg>\n",
       "    </button>\n",
       "\n",
       "  <style>\n",
       "    .colab-df-container {\n",
       "      display:flex;\n",
       "      gap: 12px;\n",
       "    }\n",
       "\n",
       "    .colab-df-convert {\n",
       "      background-color: #E8F0FE;\n",
       "      border: none;\n",
       "      border-radius: 50%;\n",
       "      cursor: pointer;\n",
       "      display: none;\n",
       "      fill: #1967D2;\n",
       "      height: 32px;\n",
       "      padding: 0 0 0 0;\n",
       "      width: 32px;\n",
       "    }\n",
       "\n",
       "    .colab-df-convert:hover {\n",
       "      background-color: #E2EBFA;\n",
       "      box-shadow: 0px 1px 2px rgba(60, 64, 67, 0.3), 0px 1px 3px 1px rgba(60, 64, 67, 0.15);\n",
       "      fill: #174EA6;\n",
       "    }\n",
       "\n",
       "    .colab-df-buttons div {\n",
       "      margin-bottom: 4px;\n",
       "    }\n",
       "\n",
       "    [theme=dark] .colab-df-convert {\n",
       "      background-color: #3B4455;\n",
       "      fill: #D2E3FC;\n",
       "    }\n",
       "\n",
       "    [theme=dark] .colab-df-convert:hover {\n",
       "      background-color: #434B5C;\n",
       "      box-shadow: 0px 1px 3px 1px rgba(0, 0, 0, 0.15);\n",
       "      filter: drop-shadow(0px 1px 2px rgba(0, 0, 0, 0.3));\n",
       "      fill: #FFFFFF;\n",
       "    }\n",
       "  </style>\n",
       "\n",
       "    <script>\n",
       "      const buttonEl =\n",
       "        document.querySelector('#df-ae12dc7d-9759-427e-86f3-449d5678bc44 button.colab-df-convert');\n",
       "      buttonEl.style.display =\n",
       "        google.colab.kernel.accessAllowed ? 'block' : 'none';\n",
       "\n",
       "      async function convertToInteractive(key) {\n",
       "        const element = document.querySelector('#df-ae12dc7d-9759-427e-86f3-449d5678bc44');\n",
       "        const dataTable =\n",
       "          await google.colab.kernel.invokeFunction('convertToInteractive',\n",
       "                                                    [key], {});\n",
       "        if (!dataTable) return;\n",
       "\n",
       "        const docLinkHtml = 'Like what you see? Visit the ' +\n",
       "          '<a target=\"_blank\" href=https://colab.research.google.com/notebooks/data_table.ipynb>data table notebook</a>'\n",
       "          + ' to learn more about interactive tables.';\n",
       "        element.innerHTML = '';\n",
       "        dataTable['output_type'] = 'display_data';\n",
       "        await google.colab.output.renderOutput(dataTable, element);\n",
       "        const docLink = document.createElement('div');\n",
       "        docLink.innerHTML = docLinkHtml;\n",
       "        element.appendChild(docLink);\n",
       "      }\n",
       "    </script>\n",
       "  </div>\n",
       "\n",
       "\n",
       "<div id=\"df-0175eb06-08a2-45fb-8911-af3d7ea083cc\">\n",
       "  <button class=\"colab-df-quickchart\" onclick=\"quickchart('df-0175eb06-08a2-45fb-8911-af3d7ea083cc')\"\n",
       "            title=\"Suggest charts\"\n",
       "            style=\"display:none;\">\n",
       "\n",
       "<svg xmlns=\"http://www.w3.org/2000/svg\" height=\"24px\"viewBox=\"0 0 24 24\"\n",
       "     width=\"24px\">\n",
       "    <g>\n",
       "        <path d=\"M19 3H5c-1.1 0-2 .9-2 2v14c0 1.1.9 2 2 2h14c1.1 0 2-.9 2-2V5c0-1.1-.9-2-2-2zM9 17H7v-7h2v7zm4 0h-2V7h2v10zm4 0h-2v-4h2v4z\"/>\n",
       "    </g>\n",
       "</svg>\n",
       "  </button>\n",
       "\n",
       "<style>\n",
       "  .colab-df-quickchart {\n",
       "      --bg-color: #E8F0FE;\n",
       "      --fill-color: #1967D2;\n",
       "      --hover-bg-color: #E2EBFA;\n",
       "      --hover-fill-color: #174EA6;\n",
       "      --disabled-fill-color: #AAA;\n",
       "      --disabled-bg-color: #DDD;\n",
       "  }\n",
       "\n",
       "  [theme=dark] .colab-df-quickchart {\n",
       "      --bg-color: #3B4455;\n",
       "      --fill-color: #D2E3FC;\n",
       "      --hover-bg-color: #434B5C;\n",
       "      --hover-fill-color: #FFFFFF;\n",
       "      --disabled-bg-color: #3B4455;\n",
       "      --disabled-fill-color: #666;\n",
       "  }\n",
       "\n",
       "  .colab-df-quickchart {\n",
       "    background-color: var(--bg-color);\n",
       "    border: none;\n",
       "    border-radius: 50%;\n",
       "    cursor: pointer;\n",
       "    display: none;\n",
       "    fill: var(--fill-color);\n",
       "    height: 32px;\n",
       "    padding: 0;\n",
       "    width: 32px;\n",
       "  }\n",
       "\n",
       "  .colab-df-quickchart:hover {\n",
       "    background-color: var(--hover-bg-color);\n",
       "    box-shadow: 0 1px 2px rgba(60, 64, 67, 0.3), 0 1px 3px 1px rgba(60, 64, 67, 0.15);\n",
       "    fill: var(--button-hover-fill-color);\n",
       "  }\n",
       "\n",
       "  .colab-df-quickchart-complete:disabled,\n",
       "  .colab-df-quickchart-complete:disabled:hover {\n",
       "    background-color: var(--disabled-bg-color);\n",
       "    fill: var(--disabled-fill-color);\n",
       "    box-shadow: none;\n",
       "  }\n",
       "\n",
       "  .colab-df-spinner {\n",
       "    border: 2px solid var(--fill-color);\n",
       "    border-color: transparent;\n",
       "    border-bottom-color: var(--fill-color);\n",
       "    animation:\n",
       "      spin 1s steps(1) infinite;\n",
       "  }\n",
       "\n",
       "  @keyframes spin {\n",
       "    0% {\n",
       "      border-color: transparent;\n",
       "      border-bottom-color: var(--fill-color);\n",
       "      border-left-color: var(--fill-color);\n",
       "    }\n",
       "    20% {\n",
       "      border-color: transparent;\n",
       "      border-left-color: var(--fill-color);\n",
       "      border-top-color: var(--fill-color);\n",
       "    }\n",
       "    30% {\n",
       "      border-color: transparent;\n",
       "      border-left-color: var(--fill-color);\n",
       "      border-top-color: var(--fill-color);\n",
       "      border-right-color: var(--fill-color);\n",
       "    }\n",
       "    40% {\n",
       "      border-color: transparent;\n",
       "      border-right-color: var(--fill-color);\n",
       "      border-top-color: var(--fill-color);\n",
       "    }\n",
       "    60% {\n",
       "      border-color: transparent;\n",
       "      border-right-color: var(--fill-color);\n",
       "    }\n",
       "    80% {\n",
       "      border-color: transparent;\n",
       "      border-right-color: var(--fill-color);\n",
       "      border-bottom-color: var(--fill-color);\n",
       "    }\n",
       "    90% {\n",
       "      border-color: transparent;\n",
       "      border-bottom-color: var(--fill-color);\n",
       "    }\n",
       "  }\n",
       "</style>\n",
       "\n",
       "  <script>\n",
       "    async function quickchart(key) {\n",
       "      const quickchartButtonEl =\n",
       "        document.querySelector('#' + key + ' button');\n",
       "      quickchartButtonEl.disabled = true;  // To prevent multiple clicks.\n",
       "      quickchartButtonEl.classList.add('colab-df-spinner');\n",
       "      try {\n",
       "        const charts = await google.colab.kernel.invokeFunction(\n",
       "            'suggestCharts', [key], {});\n",
       "      } catch (error) {\n",
       "        console.error('Error during call to suggestCharts:', error);\n",
       "      }\n",
       "      quickchartButtonEl.classList.remove('colab-df-spinner');\n",
       "      quickchartButtonEl.classList.add('colab-df-quickchart-complete');\n",
       "    }\n",
       "    (() => {\n",
       "      let quickchartButtonEl =\n",
       "        document.querySelector('#df-0175eb06-08a2-45fb-8911-af3d7ea083cc button');\n",
       "      quickchartButtonEl.style.display =\n",
       "        google.colab.kernel.accessAllowed ? 'block' : 'none';\n",
       "    })();\n",
       "  </script>\n",
       "</div>\n",
       "\n",
       "  <div id=\"id_b931cc38-93ab-4f8a-9a17-8138869d2efd\">\n",
       "    <style>\n",
       "      .colab-df-generate {\n",
       "        background-color: #E8F0FE;\n",
       "        border: none;\n",
       "        border-radius: 50%;\n",
       "        cursor: pointer;\n",
       "        display: none;\n",
       "        fill: #1967D2;\n",
       "        height: 32px;\n",
       "        padding: 0 0 0 0;\n",
       "        width: 32px;\n",
       "      }\n",
       "\n",
       "      .colab-df-generate:hover {\n",
       "        background-color: #E2EBFA;\n",
       "        box-shadow: 0px 1px 2px rgba(60, 64, 67, 0.3), 0px 1px 3px 1px rgba(60, 64, 67, 0.15);\n",
       "        fill: #174EA6;\n",
       "      }\n",
       "\n",
       "      [theme=dark] .colab-df-generate {\n",
       "        background-color: #3B4455;\n",
       "        fill: #D2E3FC;\n",
       "      }\n",
       "\n",
       "      [theme=dark] .colab-df-generate:hover {\n",
       "        background-color: #434B5C;\n",
       "        box-shadow: 0px 1px 3px 1px rgba(0, 0, 0, 0.15);\n",
       "        filter: drop-shadow(0px 1px 2px rgba(0, 0, 0, 0.3));\n",
       "        fill: #FFFFFF;\n",
       "      }\n",
       "    </style>\n",
       "    <button class=\"colab-df-generate\" onclick=\"generateWithVariable('y_train')\"\n",
       "            title=\"Generate code using this dataframe.\"\n",
       "            style=\"display:none;\">\n",
       "\n",
       "  <svg xmlns=\"http://www.w3.org/2000/svg\" height=\"24px\"viewBox=\"0 0 24 24\"\n",
       "       width=\"24px\">\n",
       "    <path d=\"M7,19H8.4L18.45,9,17,7.55,7,17.6ZM5,21V16.75L18.45,3.32a2,2,0,0,1,2.83,0l1.4,1.43a1.91,1.91,0,0,1,.58,1.4,1.91,1.91,0,0,1-.58,1.4L9.25,21ZM18.45,9,17,7.55Zm-12,3A5.31,5.31,0,0,0,4.9,8.1,5.31,5.31,0,0,0,1,6.5,5.31,5.31,0,0,0,4.9,4.9,5.31,5.31,0,0,0,6.5,1,5.31,5.31,0,0,0,8.1,4.9,5.31,5.31,0,0,0,12,6.5,5.46,5.46,0,0,0,6.5,12Z\"/>\n",
       "  </svg>\n",
       "    </button>\n",
       "    <script>\n",
       "      (() => {\n",
       "      const buttonEl =\n",
       "        document.querySelector('#id_b931cc38-93ab-4f8a-9a17-8138869d2efd button.colab-df-generate');\n",
       "      buttonEl.style.display =\n",
       "        google.colab.kernel.accessAllowed ? 'block' : 'none';\n",
       "\n",
       "      buttonEl.onclick = () => {\n",
       "        google.colab.notebook.generateWithVariable('y_train');\n",
       "      }\n",
       "      })();\n",
       "    </script>\n",
       "  </div>\n",
       "\n",
       "    </div>\n",
       "  </div>\n"
      ],
      "text/plain": [
       "              ID  Salary\n",
       "0      SID100109    2100\n",
       "1      SID100255    2100\n",
       "2      SID100284    1900\n",
       "3      SID100315    2500\n",
       "4      SID100374    1900\n",
       "...          ...     ...\n",
       "16565   SID99558    1700\n",
       "16566   SID99611    2100\n",
       "16567   SID99741    1700\n",
       "16568   SID99756    1700\n",
       "16569    SID9979    2100\n",
       "\n",
       "[16570 rows x 2 columns]"
      ]
     },
     "execution_count": 556,
     "metadata": {},
     "output_type": "execute_result"
    }
   ],
   "source": [
    "y_train"
   ]
  },
  {
   "cell_type": "code",
   "execution_count": 557,
   "id": "429c1b87",
   "metadata": {
    "executionInfo": {
     "elapsed": 1,
     "status": "ok",
     "timestamp": 1713317955932,
     "user": {
      "displayName": "전영호",
      "userId": "17928441635701806568"
     },
     "user_tz": -540
    },
    "id": "429c1b87"
   },
   "outputs": [],
   "source": [
    "CATBOOST_VERSION = 1.0"
   ]
  },
  {
   "cell_type": "code",
   "execution_count": 558,
   "id": "0ca43d5b",
   "metadata": {
    "executionInfo": {
     "elapsed": 1,
     "status": "ok",
     "timestamp": 1713317957117,
     "user": {
      "displayName": "전영호",
      "userId": "17928441635701806568"
     },
     "user_tz": -540
    },
    "id": "0ca43d5b"
   },
   "outputs": [],
   "source": [
    "y_train = y_train.Salary"
   ]
  },
  {
   "cell_type": "code",
   "execution_count": 559,
   "id": "1360bc31",
   "metadata": {
    "executionInfo": {
     "elapsed": 1,
     "status": "ok",
     "timestamp": 1713317957564,
     "user": {
      "displayName": "전영호",
      "userId": "17928441635701806568"
     },
     "user_tz": -540
    },
    "id": "1360bc31"
   },
   "outputs": [],
   "source": [
    "numeric_features = ['대학성적','근무경력']\n",
    "categorical_features = ['직종','세부직종','직무태그','근무형태','근무지역','출신대학','대학전공','어학시험','자격증']\n",
    "\n",
    "X_train = X_train[numeric_features+categorical_features]  # 순서 주의!!!\n",
    "X_test = X_test[numeric_features+categorical_features]"
   ]
  },
  {
   "cell_type": "markdown",
   "id": "iyv9-gWslK18",
   "metadata": {
    "id": "iyv9-gWslK18"
   },
   "source": [
    "## 변환 파이프라인"
   ]
  },
  {
   "cell_type": "code",
   "execution_count": 560,
   "id": "e3936d38",
   "metadata": {
    "colab": {
     "base_uri": "https://localhost:8080/",
     "height": 257
    },
    "executionInfo": {
     "elapsed": 5,
     "status": "ok",
     "timestamp": 1713317958125,
     "user": {
      "displayName": "전영호",
      "userId": "17928441635701806568"
     },
     "user_tz": -540
    },
    "id": "e3936d38",
    "outputId": "0a58e3c2-09c0-4483-da73-6debf2c08b55",
    "scrolled": true
   },
   "outputs": [
    {
     "data": {
      "text/html": [
       "<style>#sk-container-id-3 {color: black;background-color: white;}#sk-container-id-3 pre{padding: 0;}#sk-container-id-3 div.sk-toggleable {background-color: white;}#sk-container-id-3 label.sk-toggleable__label {cursor: pointer;display: block;width: 100%;margin-bottom: 0;padding: 0.3em;box-sizing: border-box;text-align: center;}#sk-container-id-3 label.sk-toggleable__label-arrow:before {content: \"▸\";float: left;margin-right: 0.25em;color: #696969;}#sk-container-id-3 label.sk-toggleable__label-arrow:hover:before {color: black;}#sk-container-id-3 div.sk-estimator:hover label.sk-toggleable__label-arrow:before {color: black;}#sk-container-id-3 div.sk-toggleable__content {max-height: 0;max-width: 0;overflow: hidden;text-align: left;background-color: #f0f8ff;}#sk-container-id-3 div.sk-toggleable__content pre {margin: 0.2em;color: black;border-radius: 0.25em;background-color: #f0f8ff;}#sk-container-id-3 input.sk-toggleable__control:checked~div.sk-toggleable__content {max-height: 200px;max-width: 100%;overflow: auto;}#sk-container-id-3 input.sk-toggleable__control:checked~label.sk-toggleable__label-arrow:before {content: \"▾\";}#sk-container-id-3 div.sk-estimator input.sk-toggleable__control:checked~label.sk-toggleable__label {background-color: #d4ebff;}#sk-container-id-3 div.sk-label input.sk-toggleable__control:checked~label.sk-toggleable__label {background-color: #d4ebff;}#sk-container-id-3 input.sk-hidden--visually {border: 0;clip: rect(1px 1px 1px 1px);clip: rect(1px, 1px, 1px, 1px);height: 1px;margin: -1px;overflow: hidden;padding: 0;position: absolute;width: 1px;}#sk-container-id-3 div.sk-estimator {font-family: monospace;background-color: #f0f8ff;border: 1px dotted black;border-radius: 0.25em;box-sizing: border-box;margin-bottom: 0.5em;}#sk-container-id-3 div.sk-estimator:hover {background-color: #d4ebff;}#sk-container-id-3 div.sk-parallel-item::after {content: \"\";width: 100%;border-bottom: 1px solid gray;flex-grow: 1;}#sk-container-id-3 div.sk-label:hover label.sk-toggleable__label {background-color: #d4ebff;}#sk-container-id-3 div.sk-serial::before {content: \"\";position: absolute;border-left: 1px solid gray;box-sizing: border-box;top: 0;bottom: 0;left: 50%;z-index: 0;}#sk-container-id-3 div.sk-serial {display: flex;flex-direction: column;align-items: center;background-color: white;padding-right: 0.2em;padding-left: 0.2em;position: relative;}#sk-container-id-3 div.sk-item {position: relative;z-index: 1;}#sk-container-id-3 div.sk-parallel {display: flex;align-items: stretch;justify-content: center;background-color: white;position: relative;}#sk-container-id-3 div.sk-item::before, #sk-container-id-3 div.sk-parallel-item::before {content: \"\";position: absolute;border-left: 1px solid gray;box-sizing: border-box;top: 0;bottom: 0;left: 50%;z-index: -1;}#sk-container-id-3 div.sk-parallel-item {display: flex;flex-direction: column;z-index: 1;position: relative;background-color: white;}#sk-container-id-3 div.sk-parallel-item:first-child::after {align-self: flex-end;width: 50%;}#sk-container-id-3 div.sk-parallel-item:last-child::after {align-self: flex-start;width: 50%;}#sk-container-id-3 div.sk-parallel-item:only-child::after {width: 0;}#sk-container-id-3 div.sk-dashed-wrapped {border: 1px dashed gray;margin: 0 0.4em 0.5em 0.4em;box-sizing: border-box;padding-bottom: 0.4em;background-color: white;}#sk-container-id-3 div.sk-label label {font-family: monospace;font-weight: bold;display: inline-block;line-height: 1.2em;}#sk-container-id-3 div.sk-label-container {text-align: center;}#sk-container-id-3 div.sk-container {/* jupyter's `normalize.less` sets `[hidden] { display: none; }` but bootstrap.min.css set `[hidden] { display: none !important; }` so we also need the `!important` here to be able to override the default hidden behavior on the sphinx rendered scikit-learn.org. See: https://github.com/scikit-learn/scikit-learn/issues/21755 */display: inline-block !important;position: relative;}#sk-container-id-3 div.sk-text-repr-fallback {display: none;}</style><div id=\"sk-container-id-3\" class=\"sk-top-container\"><div class=\"sk-text-repr-fallback\"><pre>Pipeline(steps=[(&#x27;column&#x27;,\n",
       "                 ColumnTransformer(transformers=[(&#x27;num&#x27;,\n",
       "                                                  Pipeline(steps=[(&#x27;imputer&#x27;,\n",
       "                                                                   SimpleImputer()),\n",
       "                                                                  (&#x27;outlier&#x27;,\n",
       "                                                                   FunctionTransformer(func=&lt;function remove_outlier at 0x7ff783136680&gt;,\n",
       "                                                                                       kw_args={&#x27;q&#x27;: 0.05})),\n",
       "                                                                  (&#x27;scaler&#x27;,\n",
       "                                                                   PowerTransformer())]),\n",
       "                                                  [&#x27;대학성적&#x27;, &#x27;근무경력&#x27;]),\n",
       "                                                 (&#x27;cat&#x27;,\n",
       "                                                  Pipeline(steps=[(&#x27;imputer&#x27;,\n",
       "                                                                   SimpleImputer(strategy=&#x27;most_frequent&#x27;)),\n",
       "                                                                  (&#x27;encoder&#x27;,\n",
       "                                                                   OrdinalEncoder(dtype=&lt;class &#x27;object&#x27;&gt;,\n",
       "                                                                                  handle_unknown=&#x27;use_encoded_value&#x27;,\n",
       "                                                                                  unknown_value=99999))]),\n",
       "                                                  [&#x27;직종&#x27;, &#x27;세부직종&#x27;, &#x27;직무태그&#x27;, &#x27;근무형태&#x27;,\n",
       "                                                   &#x27;근무지역&#x27;, &#x27;출신대학&#x27;, &#x27;대학전공&#x27;,\n",
       "                                                   &#x27;어학시험&#x27;, &#x27;자격증&#x27;])])),\n",
       "                (&#x27;selector&#x27;, SelectPercentile(percentile=100))])</pre><b>In a Jupyter environment, please rerun this cell to show the HTML representation or trust the notebook. <br />On GitHub, the HTML representation is unable to render, please try loading this page with nbviewer.org.</b></div><div class=\"sk-container\" hidden><div class=\"sk-item sk-dashed-wrapped\"><div class=\"sk-label-container\"><div class=\"sk-label sk-toggleable\"><input class=\"sk-toggleable__control sk-hidden--visually\" id=\"sk-estimator-id-14\" type=\"checkbox\" ><label for=\"sk-estimator-id-14\" class=\"sk-toggleable__label sk-toggleable__label-arrow\">Pipeline</label><div class=\"sk-toggleable__content\"><pre>Pipeline(steps=[(&#x27;column&#x27;,\n",
       "                 ColumnTransformer(transformers=[(&#x27;num&#x27;,\n",
       "                                                  Pipeline(steps=[(&#x27;imputer&#x27;,\n",
       "                                                                   SimpleImputer()),\n",
       "                                                                  (&#x27;outlier&#x27;,\n",
       "                                                                   FunctionTransformer(func=&lt;function remove_outlier at 0x7ff783136680&gt;,\n",
       "                                                                                       kw_args={&#x27;q&#x27;: 0.05})),\n",
       "                                                                  (&#x27;scaler&#x27;,\n",
       "                                                                   PowerTransformer())]),\n",
       "                                                  [&#x27;대학성적&#x27;, &#x27;근무경력&#x27;]),\n",
       "                                                 (&#x27;cat&#x27;,\n",
       "                                                  Pipeline(steps=[(&#x27;imputer&#x27;,\n",
       "                                                                   SimpleImputer(strategy=&#x27;most_frequent&#x27;)),\n",
       "                                                                  (&#x27;encoder&#x27;,\n",
       "                                                                   OrdinalEncoder(dtype=&lt;class &#x27;object&#x27;&gt;,\n",
       "                                                                                  handle_unknown=&#x27;use_encoded_value&#x27;,\n",
       "                                                                                  unknown_value=99999))]),\n",
       "                                                  [&#x27;직종&#x27;, &#x27;세부직종&#x27;, &#x27;직무태그&#x27;, &#x27;근무형태&#x27;,\n",
       "                                                   &#x27;근무지역&#x27;, &#x27;출신대학&#x27;, &#x27;대학전공&#x27;,\n",
       "                                                   &#x27;어학시험&#x27;, &#x27;자격증&#x27;])])),\n",
       "                (&#x27;selector&#x27;, SelectPercentile(percentile=100))])</pre></div></div></div><div class=\"sk-serial\"><div class=\"sk-item sk-dashed-wrapped\"><div class=\"sk-label-container\"><div class=\"sk-label sk-toggleable\"><input class=\"sk-toggleable__control sk-hidden--visually\" id=\"sk-estimator-id-15\" type=\"checkbox\" ><label for=\"sk-estimator-id-15\" class=\"sk-toggleable__label sk-toggleable__label-arrow\">column: ColumnTransformer</label><div class=\"sk-toggleable__content\"><pre>ColumnTransformer(transformers=[(&#x27;num&#x27;,\n",
       "                                 Pipeline(steps=[(&#x27;imputer&#x27;, SimpleImputer()),\n",
       "                                                 (&#x27;outlier&#x27;,\n",
       "                                                  FunctionTransformer(func=&lt;function remove_outlier at 0x7ff783136680&gt;,\n",
       "                                                                      kw_args={&#x27;q&#x27;: 0.05})),\n",
       "                                                 (&#x27;scaler&#x27;,\n",
       "                                                  PowerTransformer())]),\n",
       "                                 [&#x27;대학성적&#x27;, &#x27;근무경력&#x27;]),\n",
       "                                (&#x27;cat&#x27;,\n",
       "                                 Pipeline(steps=[(&#x27;imputer&#x27;,\n",
       "                                                  SimpleImputer(strategy=&#x27;most_frequent&#x27;)),\n",
       "                                                 (&#x27;encoder&#x27;,\n",
       "                                                  OrdinalEncoder(dtype=&lt;class &#x27;object&#x27;&gt;,\n",
       "                                                                 handle_unknown=&#x27;use_encoded_value&#x27;,\n",
       "                                                                 unknown_value=99999))]),\n",
       "                                 [&#x27;직종&#x27;, &#x27;세부직종&#x27;, &#x27;직무태그&#x27;, &#x27;근무형태&#x27;, &#x27;근무지역&#x27;, &#x27;출신대학&#x27;,\n",
       "                                  &#x27;대학전공&#x27;, &#x27;어학시험&#x27;, &#x27;자격증&#x27;])])</pre></div></div></div><div class=\"sk-parallel\"><div class=\"sk-parallel-item\"><div class=\"sk-item\"><div class=\"sk-label-container\"><div class=\"sk-label sk-toggleable\"><input class=\"sk-toggleable__control sk-hidden--visually\" id=\"sk-estimator-id-16\" type=\"checkbox\" ><label for=\"sk-estimator-id-16\" class=\"sk-toggleable__label sk-toggleable__label-arrow\">num</label><div class=\"sk-toggleable__content\"><pre>[&#x27;대학성적&#x27;, &#x27;근무경력&#x27;]</pre></div></div></div><div class=\"sk-serial\"><div class=\"sk-item\"><div class=\"sk-serial\"><div class=\"sk-item\"><div class=\"sk-estimator sk-toggleable\"><input class=\"sk-toggleable__control sk-hidden--visually\" id=\"sk-estimator-id-17\" type=\"checkbox\" ><label for=\"sk-estimator-id-17\" class=\"sk-toggleable__label sk-toggleable__label-arrow\">SimpleImputer</label><div class=\"sk-toggleable__content\"><pre>SimpleImputer()</pre></div></div></div><div class=\"sk-item\"><div class=\"sk-estimator sk-toggleable\"><input class=\"sk-toggleable__control sk-hidden--visually\" id=\"sk-estimator-id-18\" type=\"checkbox\" ><label for=\"sk-estimator-id-18\" class=\"sk-toggleable__label sk-toggleable__label-arrow\">FunctionTransformer</label><div class=\"sk-toggleable__content\"><pre>FunctionTransformer(func=&lt;function remove_outlier at 0x7ff783136680&gt;,\n",
       "                    kw_args={&#x27;q&#x27;: 0.05})</pre></div></div></div><div class=\"sk-item\"><div class=\"sk-estimator sk-toggleable\"><input class=\"sk-toggleable__control sk-hidden--visually\" id=\"sk-estimator-id-19\" type=\"checkbox\" ><label for=\"sk-estimator-id-19\" class=\"sk-toggleable__label sk-toggleable__label-arrow\">PowerTransformer</label><div class=\"sk-toggleable__content\"><pre>PowerTransformer()</pre></div></div></div></div></div></div></div></div><div class=\"sk-parallel-item\"><div class=\"sk-item\"><div class=\"sk-label-container\"><div class=\"sk-label sk-toggleable\"><input class=\"sk-toggleable__control sk-hidden--visually\" id=\"sk-estimator-id-20\" type=\"checkbox\" ><label for=\"sk-estimator-id-20\" class=\"sk-toggleable__label sk-toggleable__label-arrow\">cat</label><div class=\"sk-toggleable__content\"><pre>[&#x27;직종&#x27;, &#x27;세부직종&#x27;, &#x27;직무태그&#x27;, &#x27;근무형태&#x27;, &#x27;근무지역&#x27;, &#x27;출신대학&#x27;, &#x27;대학전공&#x27;, &#x27;어학시험&#x27;, &#x27;자격증&#x27;]</pre></div></div></div><div class=\"sk-serial\"><div class=\"sk-item\"><div class=\"sk-serial\"><div class=\"sk-item\"><div class=\"sk-estimator sk-toggleable\"><input class=\"sk-toggleable__control sk-hidden--visually\" id=\"sk-estimator-id-21\" type=\"checkbox\" ><label for=\"sk-estimator-id-21\" class=\"sk-toggleable__label sk-toggleable__label-arrow\">SimpleImputer</label><div class=\"sk-toggleable__content\"><pre>SimpleImputer(strategy=&#x27;most_frequent&#x27;)</pre></div></div></div><div class=\"sk-item\"><div class=\"sk-estimator sk-toggleable\"><input class=\"sk-toggleable__control sk-hidden--visually\" id=\"sk-estimator-id-22\" type=\"checkbox\" ><label for=\"sk-estimator-id-22\" class=\"sk-toggleable__label sk-toggleable__label-arrow\">OrdinalEncoder</label><div class=\"sk-toggleable__content\"><pre>OrdinalEncoder(dtype=&lt;class &#x27;object&#x27;&gt;, handle_unknown=&#x27;use_encoded_value&#x27;,\n",
       "               unknown_value=99999)</pre></div></div></div></div></div></div></div></div></div></div><div class=\"sk-item\"><div class=\"sk-estimator sk-toggleable\"><input class=\"sk-toggleable__control sk-hidden--visually\" id=\"sk-estimator-id-23\" type=\"checkbox\" ><label for=\"sk-estimator-id-23\" class=\"sk-toggleable__label sk-toggleable__label-arrow\">SelectPercentile</label><div class=\"sk-toggleable__content\"><pre>SelectPercentile(percentile=100)</pre></div></div></div></div></div></div></div>"
      ],
      "text/plain": [
       "Pipeline(steps=[('column',\n",
       "                 ColumnTransformer(transformers=[('num',\n",
       "                                                  Pipeline(steps=[('imputer',\n",
       "                                                                   SimpleImputer()),\n",
       "                                                                  ('outlier',\n",
       "                                                                   FunctionTransformer(func=<function remove_outlier at 0x7ff783136680>,\n",
       "                                                                                       kw_args={'q': 0.05})),\n",
       "                                                                  ('scaler',\n",
       "                                                                   PowerTransformer())]),\n",
       "                                                  ['대학성적', '근무경력']),\n",
       "                                                 ('cat',\n",
       "                                                  Pipeline(steps=[('imputer',\n",
       "                                                                   SimpleImputer(strategy='most_frequent')),\n",
       "                                                                  ('encoder',\n",
       "                                                                   OrdinalEncoder(dtype=<class 'object'>,\n",
       "                                                                                  handle_unknown='use_encoded_value',\n",
       "                                                                                  unknown_value=99999))]),\n",
       "                                                  ['직종', '세부직종', '직무태그', '근무형태',\n",
       "                                                   '근무지역', '출신대학', '대학전공',\n",
       "                                                   '어학시험', '자격증'])])),\n",
       "                ('selector', SelectPercentile(percentile=100))])"
      ]
     },
     "execution_count": 560,
     "metadata": {},
     "output_type": "execute_result"
    }
   ],
   "source": [
    "def remove_outlier(X, q=0.05):\n",
    "    df = pd.DataFrame(X)\n",
    "    return df.apply(lambda x: x.clip(x.quantile(q), x.quantile(1-q)), axis=0).values\n",
    "\n",
    "numeric_transformer = Pipeline(\n",
    "    steps=[\n",
    "        (\"imputer\", SimpleImputer(strategy=\"mean\")),\n",
    "        (\"outlier\", FunctionTransformer(remove_outlier, kw_args={'q':0.05})), # 함수를 전처리기로 변환하여 sklearn에 없는 새로운 전처리기를 만듬\n",
    "        (\"scaler\", PowerTransformer()),\n",
    "    ]\n",
    ")\n",
    "\n",
    "categorical_transformer = Pipeline(\n",
    "    steps=[\n",
    "        (\"imputer\", SimpleImputer(strategy=\"most_frequent\")),\n",
    "        (\"encoder\", OrdinalEncoder(handle_unknown='use_encoded_value', unknown_value=99999, dtype=object)),\n",
    "    ]\n",
    ")\n",
    "\n",
    "\n",
    "column_transformer = ColumnTransformer(\n",
    "    transformers=[\n",
    "        (\"num\", numeric_transformer, numeric_features),\n",
    "        (\"cat\", categorical_transformer, categorical_features),\n",
    "    ]\n",
    ")\n",
    "\n",
    "preprocessor = Pipeline(\n",
    "    steps=[\n",
    "        (\"column\", column_transformer),\n",
    "        (\"selector\", SelectPercentile(percentile=100)), # SelectPercentile(percentile=100)), 피쳐고르는비율지정\n",
    "#        (\"dataframe\", FunctionTransformer(lambda x: pd.DataFrame(x, columns=numeric_features+categorical_features))),\n",
    "    ]\n",
    ")\n",
    "\n",
    "set_config(display=\"diagram\")  # To view the text pipeline, change to display='text'.\n",
    "preprocessor"
   ]
  },
  {
   "cell_type": "code",
   "execution_count": 561,
   "id": "c5fa4d99",
   "metadata": {
    "executionInfo": {
     "elapsed": 717,
     "status": "ok",
     "timestamp": 1713317962484,
     "user": {
      "displayName": "전영호",
      "userId": "17928441635701806568"
     },
     "user_tz": -540
    },
    "id": "c5fa4d99",
    "scrolled": true
   },
   "outputs": [],
   "source": [
    "preprocessor.fit(X_train, y_train)\n",
    "mask = preprocessor.steps[-1][-1].get_support(); new_features = X_train.columns[mask]"
   ]
  },
  {
   "cell_type": "code",
   "execution_count": 562,
   "id": "b3d01592",
   "metadata": {
    "executionInfo": {
     "elapsed": 764,
     "status": "ok",
     "timestamp": 1713317963247,
     "user": {
      "displayName": "전영호",
      "userId": "17928441635701806568"
     },
     "user_tz": -540
    },
    "id": "b3d01592"
   },
   "outputs": [],
   "source": [
    "X_train = pd.DataFrame(preprocessor.transform(X_train), columns=new_features)\n",
    "X_test = pd.DataFrame(preprocessor.transform(X_test), columns=new_features)"
   ]
  },
  {
   "cell_type": "code",
   "execution_count": 563,
   "id": "4818ce42",
   "metadata": {
    "executionInfo": {
     "elapsed": 2,
     "status": "ok",
     "timestamp": 1713317963247,
     "user": {
      "displayName": "전영호",
      "userId": "17928441635701806568"
     },
     "user_tz": -540
    },
    "id": "4818ce42"
   },
   "outputs": [],
   "source": [
    "numeric_features = list(set(numeric_features) & set(new_features))\n",
    "categorical_features = list(set(categorical_features) & set(new_features))"
   ]
  },
  {
   "cell_type": "markdown",
   "id": "PB0zgkE9lP2Z",
   "metadata": {
    "id": "PB0zgkE9lP2Z"
   },
   "source": [
    "## GridSearch - 최적 파라미터 셀렉"
   ]
  },
  {
   "cell_type": "code",
   "execution_count": 564,
   "id": "f843fcbe",
   "metadata": {
    "colab": {
     "base_uri": "https://localhost:8080/",
     "height": 1000
    },
    "executionInfo": {
     "elapsed": 32408,
     "status": "ok",
     "timestamp": 1713317997851,
     "user": {
      "displayName": "전영호",
      "userId": "17928441635701806568"
     },
     "user_tz": -540
    },
    "id": "f843fcbe",
    "outputId": "c41ec8fb-298b-4bd9-e5af-04b953b73a00"
   },
   "outputs": [
    {
     "name": "stdout",
     "output_type": "stream",
     "text": [
      "0:\tlearn: 1190.9877496\ttotal: 4.41ms\tremaining: 437ms\n",
      "1:\tlearn: 1154.4661244\ttotal: 9.38ms\tremaining: 460ms\n",
      "2:\tlearn: 1123.8236258\ttotal: 12.9ms\tremaining: 416ms\n",
      "3:\tlearn: 1096.3566739\ttotal: 16.4ms\tremaining: 394ms\n",
      "4:\tlearn: 1073.3285777\ttotal: 20.1ms\tremaining: 383ms\n",
      "5:\tlearn: 1055.0931756\ttotal: 23.5ms\tremaining: 369ms\n",
      "6:\tlearn: 1038.2971045\ttotal: 27.2ms\tremaining: 361ms\n",
      "7:\tlearn: 1025.1476170\ttotal: 30.8ms\tremaining: 354ms\n",
      "8:\tlearn: 1012.1542744\ttotal: 34.3ms\tremaining: 347ms\n",
      "9:\tlearn: 1002.1156515\ttotal: 37.9ms\tremaining: 341ms\n",
      "10:\tlearn: 994.1781702\ttotal: 41.6ms\tremaining: 336ms\n",
      "11:\tlearn: 986.6245113\ttotal: 45.1ms\tremaining: 331ms\n",
      "12:\tlearn: 980.3903919\ttotal: 49ms\tremaining: 328ms\n",
      "13:\tlearn: 975.0619182\ttotal: 52.7ms\tremaining: 323ms\n",
      "14:\tlearn: 967.6462931\ttotal: 56.4ms\tremaining: 320ms\n",
      "15:\tlearn: 962.2043953\ttotal: 60.3ms\tremaining: 316ms\n",
      "16:\tlearn: 958.9717110\ttotal: 63.9ms\tremaining: 312ms\n",
      "17:\tlearn: 955.1700574\ttotal: 67.4ms\tremaining: 307ms\n",
      "18:\tlearn: 948.0088851\ttotal: 70.9ms\tremaining: 302ms\n",
      "19:\tlearn: 945.0494559\ttotal: 74.4ms\tremaining: 298ms\n",
      "20:\tlearn: 941.4687226\ttotal: 84.6ms\tremaining: 318ms\n",
      "21:\tlearn: 938.5962797\ttotal: 95.3ms\tremaining: 338ms\n",
      "22:\tlearn: 935.7724585\ttotal: 99.5ms\tremaining: 333ms\n",
      "23:\tlearn: 932.8974980\ttotal: 104ms\tremaining: 329ms\n",
      "24:\tlearn: 930.8498204\ttotal: 108ms\tremaining: 325ms\n",
      "25:\tlearn: 928.8602059\ttotal: 112ms\tremaining: 319ms\n",
      "26:\tlearn: 926.6641550\ttotal: 116ms\tremaining: 313ms\n",
      "27:\tlearn: 924.7306363\ttotal: 120ms\tremaining: 309ms\n",
      "28:\tlearn: 922.8223050\ttotal: 123ms\tremaining: 302ms\n",
      "29:\tlearn: 921.2394629\ttotal: 128ms\tremaining: 299ms\n",
      "30:\tlearn: 918.7527731\ttotal: 131ms\tremaining: 293ms\n",
      "31:\tlearn: 917.2063935\ttotal: 136ms\tremaining: 289ms\n",
      "32:\tlearn: 915.0669222\ttotal: 140ms\tremaining: 284ms\n",
      "33:\tlearn: 912.1696901\ttotal: 144ms\tremaining: 280ms\n",
      "34:\tlearn: 911.2649683\ttotal: 148ms\tremaining: 275ms\n",
      "35:\tlearn: 909.0241557\ttotal: 152ms\tremaining: 270ms\n",
      "36:\tlearn: 907.5915661\ttotal: 156ms\tremaining: 266ms\n",
      "37:\tlearn: 905.9201553\ttotal: 160ms\tremaining: 260ms\n",
      "38:\tlearn: 904.3774063\ttotal: 165ms\tremaining: 257ms\n",
      "39:\tlearn: 903.1652852\ttotal: 168ms\tremaining: 252ms\n",
      "40:\tlearn: 902.1058540\ttotal: 173ms\tremaining: 249ms\n",
      "41:\tlearn: 901.2263350\ttotal: 177ms\tremaining: 244ms\n",
      "42:\tlearn: 900.6584587\ttotal: 184ms\tremaining: 244ms\n",
      "43:\tlearn: 898.2230945\ttotal: 187ms\tremaining: 239ms\n",
      "44:\tlearn: 897.5135434\ttotal: 200ms\tremaining: 244ms\n",
      "45:\tlearn: 896.3621664\ttotal: 204ms\tremaining: 239ms\n",
      "46:\tlearn: 895.3936133\ttotal: 208ms\tremaining: 235ms\n",
      "47:\tlearn: 894.6353636\ttotal: 212ms\tremaining: 230ms\n",
      "48:\tlearn: 893.3008079\ttotal: 217ms\tremaining: 226ms\n",
      "49:\tlearn: 892.1913609\ttotal: 225ms\tremaining: 225ms\n",
      "50:\tlearn: 891.4139287\ttotal: 235ms\tremaining: 226ms\n",
      "51:\tlearn: 890.2524989\ttotal: 245ms\tremaining: 226ms\n",
      "52:\tlearn: 889.4108337\ttotal: 256ms\tremaining: 227ms\n",
      "53:\tlearn: 888.8662973\ttotal: 262ms\tremaining: 223ms\n",
      "54:\tlearn: 888.1582360\ttotal: 273ms\tremaining: 224ms\n",
      "55:\tlearn: 886.9788803\ttotal: 281ms\tremaining: 221ms\n",
      "56:\tlearn: 886.5967904\ttotal: 293ms\tremaining: 221ms\n",
      "57:\tlearn: 886.2316616\ttotal: 298ms\tremaining: 216ms\n",
      "58:\tlearn: 884.9744148\ttotal: 302ms\tremaining: 210ms\n",
      "59:\tlearn: 884.2882946\ttotal: 305ms\tremaining: 204ms\n",
      "60:\tlearn: 883.2560350\ttotal: 311ms\tremaining: 199ms\n",
      "61:\tlearn: 882.6680918\ttotal: 315ms\tremaining: 193ms\n",
      "62:\tlearn: 881.7875538\ttotal: 319ms\tremaining: 187ms\n",
      "63:\tlearn: 881.5615466\ttotal: 322ms\tremaining: 181ms\n",
      "64:\tlearn: 880.8492048\ttotal: 325ms\tremaining: 175ms\n",
      "65:\tlearn: 880.3941767\ttotal: 329ms\tremaining: 169ms\n",
      "66:\tlearn: 879.7520606\ttotal: 333ms\tremaining: 164ms\n",
      "67:\tlearn: 878.7898649\ttotal: 338ms\tremaining: 159ms\n",
      "68:\tlearn: 878.1241825\ttotal: 341ms\tremaining: 153ms\n",
      "69:\tlearn: 877.5711953\ttotal: 345ms\tremaining: 148ms\n",
      "70:\tlearn: 877.1046036\ttotal: 348ms\tremaining: 142ms\n",
      "71:\tlearn: 876.5161382\ttotal: 352ms\tremaining: 137ms\n",
      "72:\tlearn: 876.1317678\ttotal: 355ms\tremaining: 131ms\n",
      "73:\tlearn: 875.0840254\ttotal: 359ms\tremaining: 126ms\n",
      "74:\tlearn: 873.8065316\ttotal: 362ms\tremaining: 121ms\n",
      "75:\tlearn: 873.4355284\ttotal: 366ms\tremaining: 115ms\n",
      "76:\tlearn: 872.8630581\ttotal: 372ms\tremaining: 111ms\n",
      "77:\tlearn: 872.2074205\ttotal: 379ms\tremaining: 107ms\n",
      "78:\tlearn: 871.8529888\ttotal: 387ms\tremaining: 103ms\n",
      "79:\tlearn: 871.5258417\ttotal: 399ms\tremaining: 99.8ms\n",
      "80:\tlearn: 870.6641801\ttotal: 404ms\tremaining: 94.9ms\n",
      "81:\tlearn: 870.0121727\ttotal: 410ms\tremaining: 89.9ms\n",
      "82:\tlearn: 869.3407224\ttotal: 413ms\tremaining: 84.6ms\n",
      "83:\tlearn: 869.0146857\ttotal: 417ms\tremaining: 79.3ms\n",
      "84:\tlearn: 868.8086784\ttotal: 420ms\tremaining: 74.1ms\n",
      "85:\tlearn: 868.4543393\ttotal: 424ms\tremaining: 69ms\n",
      "86:\tlearn: 867.8908914\ttotal: 427ms\tremaining: 63.9ms\n",
      "87:\tlearn: 867.4886485\ttotal: 431ms\tremaining: 58.7ms\n",
      "88:\tlearn: 866.8653621\ttotal: 435ms\tremaining: 53.7ms\n",
      "89:\tlearn: 866.5394647\ttotal: 438ms\tremaining: 48.7ms\n",
      "90:\tlearn: 866.1569172\ttotal: 442ms\tremaining: 43.7ms\n",
      "91:\tlearn: 865.6856889\ttotal: 446ms\tremaining: 38.8ms\n",
      "92:\tlearn: 865.0371944\ttotal: 449ms\tremaining: 33.8ms\n",
      "93:\tlearn: 864.4004483\ttotal: 453ms\tremaining: 28.9ms\n",
      "94:\tlearn: 863.6309791\ttotal: 457ms\tremaining: 24ms\n",
      "95:\tlearn: 862.9949639\ttotal: 460ms\tremaining: 19.2ms\n",
      "96:\tlearn: 862.4008591\ttotal: 464ms\tremaining: 14.3ms\n",
      "97:\tlearn: 861.9313721\ttotal: 467ms\tremaining: 9.53ms\n",
      "98:\tlearn: 861.2911764\ttotal: 471ms\tremaining: 4.75ms\n",
      "99:\tlearn: 860.7572806\ttotal: 474ms\tremaining: 0us\n"
     ]
    },
    {
     "data": {
      "text/html": [
       "<style>#sk-container-id-4 {color: black;background-color: white;}#sk-container-id-4 pre{padding: 0;}#sk-container-id-4 div.sk-toggleable {background-color: white;}#sk-container-id-4 label.sk-toggleable__label {cursor: pointer;display: block;width: 100%;margin-bottom: 0;padding: 0.3em;box-sizing: border-box;text-align: center;}#sk-container-id-4 label.sk-toggleable__label-arrow:before {content: \"▸\";float: left;margin-right: 0.25em;color: #696969;}#sk-container-id-4 label.sk-toggleable__label-arrow:hover:before {color: black;}#sk-container-id-4 div.sk-estimator:hover label.sk-toggleable__label-arrow:before {color: black;}#sk-container-id-4 div.sk-toggleable__content {max-height: 0;max-width: 0;overflow: hidden;text-align: left;background-color: #f0f8ff;}#sk-container-id-4 div.sk-toggleable__content pre {margin: 0.2em;color: black;border-radius: 0.25em;background-color: #f0f8ff;}#sk-container-id-4 input.sk-toggleable__control:checked~div.sk-toggleable__content {max-height: 200px;max-width: 100%;overflow: auto;}#sk-container-id-4 input.sk-toggleable__control:checked~label.sk-toggleable__label-arrow:before {content: \"▾\";}#sk-container-id-4 div.sk-estimator input.sk-toggleable__control:checked~label.sk-toggleable__label {background-color: #d4ebff;}#sk-container-id-4 div.sk-label input.sk-toggleable__control:checked~label.sk-toggleable__label {background-color: #d4ebff;}#sk-container-id-4 input.sk-hidden--visually {border: 0;clip: rect(1px 1px 1px 1px);clip: rect(1px, 1px, 1px, 1px);height: 1px;margin: -1px;overflow: hidden;padding: 0;position: absolute;width: 1px;}#sk-container-id-4 div.sk-estimator {font-family: monospace;background-color: #f0f8ff;border: 1px dotted black;border-radius: 0.25em;box-sizing: border-box;margin-bottom: 0.5em;}#sk-container-id-4 div.sk-estimator:hover {background-color: #d4ebff;}#sk-container-id-4 div.sk-parallel-item::after {content: \"\";width: 100%;border-bottom: 1px solid gray;flex-grow: 1;}#sk-container-id-4 div.sk-label:hover label.sk-toggleable__label {background-color: #d4ebff;}#sk-container-id-4 div.sk-serial::before {content: \"\";position: absolute;border-left: 1px solid gray;box-sizing: border-box;top: 0;bottom: 0;left: 50%;z-index: 0;}#sk-container-id-4 div.sk-serial {display: flex;flex-direction: column;align-items: center;background-color: white;padding-right: 0.2em;padding-left: 0.2em;position: relative;}#sk-container-id-4 div.sk-item {position: relative;z-index: 1;}#sk-container-id-4 div.sk-parallel {display: flex;align-items: stretch;justify-content: center;background-color: white;position: relative;}#sk-container-id-4 div.sk-item::before, #sk-container-id-4 div.sk-parallel-item::before {content: \"\";position: absolute;border-left: 1px solid gray;box-sizing: border-box;top: 0;bottom: 0;left: 50%;z-index: -1;}#sk-container-id-4 div.sk-parallel-item {display: flex;flex-direction: column;z-index: 1;position: relative;background-color: white;}#sk-container-id-4 div.sk-parallel-item:first-child::after {align-self: flex-end;width: 50%;}#sk-container-id-4 div.sk-parallel-item:last-child::after {align-self: flex-start;width: 50%;}#sk-container-id-4 div.sk-parallel-item:only-child::after {width: 0;}#sk-container-id-4 div.sk-dashed-wrapped {border: 1px dashed gray;margin: 0 0.4em 0.5em 0.4em;box-sizing: border-box;padding-bottom: 0.4em;background-color: white;}#sk-container-id-4 div.sk-label label {font-family: monospace;font-weight: bold;display: inline-block;line-height: 1.2em;}#sk-container-id-4 div.sk-label-container {text-align: center;}#sk-container-id-4 div.sk-container {/* jupyter's `normalize.less` sets `[hidden] { display: none; }` but bootstrap.min.css set `[hidden] { display: none !important; }` so we also need the `!important` here to be able to override the default hidden behavior on the sphinx rendered scikit-learn.org. See: https://github.com/scikit-learn/scikit-learn/issues/21755 */display: inline-block !important;position: relative;}#sk-container-id-4 div.sk-text-repr-fallback {display: none;}</style><div id=\"sk-container-id-4\" class=\"sk-top-container\"><div class=\"sk-text-repr-fallback\"><pre>GridSearchCV(cv=2,\n",
       "             estimator=&lt;catboost.core.CatBoostRegressor object at 0x7ff7802882b0&gt;,\n",
       "             n_jobs=-1,\n",
       "             param_grid={&#x27;depth&#x27;: [6, 8, 10], &#x27;iterations&#x27;: [30, 50, 100],\n",
       "                         &#x27;learning_rate&#x27;: [0.01, 0.05, 0.1]})</pre><b>In a Jupyter environment, please rerun this cell to show the HTML representation or trust the notebook. <br />On GitHub, the HTML representation is unable to render, please try loading this page with nbviewer.org.</b></div><div class=\"sk-container\" hidden><div class=\"sk-item sk-dashed-wrapped\"><div class=\"sk-label-container\"><div class=\"sk-label sk-toggleable\"><input class=\"sk-toggleable__control sk-hidden--visually\" id=\"sk-estimator-id-24\" type=\"checkbox\" ><label for=\"sk-estimator-id-24\" class=\"sk-toggleable__label sk-toggleable__label-arrow\">GridSearchCV</label><div class=\"sk-toggleable__content\"><pre>GridSearchCV(cv=2,\n",
       "             estimator=&lt;catboost.core.CatBoostRegressor object at 0x7ff7802882b0&gt;,\n",
       "             n_jobs=-1,\n",
       "             param_grid={&#x27;depth&#x27;: [6, 8, 10], &#x27;iterations&#x27;: [30, 50, 100],\n",
       "                         &#x27;learning_rate&#x27;: [0.01, 0.05, 0.1]})</pre></div></div></div><div class=\"sk-parallel\"><div class=\"sk-parallel-item\"><div class=\"sk-item\"><div class=\"sk-label-container\"><div class=\"sk-label sk-toggleable\"><input class=\"sk-toggleable__control sk-hidden--visually\" id=\"sk-estimator-id-25\" type=\"checkbox\" ><label for=\"sk-estimator-id-25\" class=\"sk-toggleable__label sk-toggleable__label-arrow\">estimator: CatBoostRegressor</label><div class=\"sk-toggleable__content\"><pre>&lt;catboost.core.CatBoostRegressor object at 0x7ff7802882b0&gt;</pre></div></div></div><div class=\"sk-serial\"><div class=\"sk-item\"><div class=\"sk-estimator sk-toggleable\"><input class=\"sk-toggleable__control sk-hidden--visually\" id=\"sk-estimator-id-26\" type=\"checkbox\" ><label for=\"sk-estimator-id-26\" class=\"sk-toggleable__label sk-toggleable__label-arrow\">CatBoostRegressor</label><div class=\"sk-toggleable__content\"><pre>&lt;catboost.core.CatBoostRegressor object at 0x7ff7802882b0&gt;</pre></div></div></div></div></div></div></div></div></div></div>"
      ],
      "text/plain": [
       "GridSearchCV(cv=2,\n",
       "             estimator=<catboost.core.CatBoostRegressor object at 0x7ff7802882b0>,\n",
       "             n_jobs=-1,\n",
       "             param_grid={'depth': [6, 8, 10], 'iterations': [30, 50, 100],\n",
       "                         'learning_rate': [0.01, 0.05, 0.1]})"
      ]
     },
     "execution_count": 564,
     "metadata": {},
     "output_type": "execute_result"
    }
   ],
   "source": [
    "from sklearn.model_selection import GridSearchCV\n",
    "\n",
    "model = CatBoostRegressor()\n",
    "parameters = {'depth' : [6,8,10],\n",
    "              'learning_rate' : [0.01, 0.05, 0.1],\n",
    "              'iterations'    : [30, 50, 100]\n",
    "              }\n",
    "\n",
    "grid = GridSearchCV(estimator=model, param_grid = parameters, cv = 2, n_jobs=-1)\n",
    "grid.fit(X_train, y_train)"
   ]
  },
  {
   "cell_type": "code",
   "execution_count": 565,
   "id": "bf4b1b5e",
   "metadata": {
    "colab": {
     "base_uri": "https://localhost:8080/"
    },
    "executionInfo": {
     "elapsed": 496,
     "status": "ok",
     "timestamp": 1713318001003,
     "user": {
      "displayName": "전영호",
      "userId": "17928441635701806568"
     },
     "user_tz": -540
    },
    "id": "bf4b1b5e",
    "outputId": "fc8a775d-bff9-4ec3-e0a4-5b14117218cf"
   },
   "outputs": [
    {
     "data": {
      "text/plain": [
       "{'depth': 6, 'iterations': 100, 'learning_rate': 0.1}"
      ]
     },
     "execution_count": 565,
     "metadata": {},
     "output_type": "execute_result"
    }
   ],
   "source": [
    "grid.best_params_"
   ]
  },
  {
   "cell_type": "markdown",
   "id": "ZrhpjwB6ld8G",
   "metadata": {
    "id": "ZrhpjwB6ld8G"
   },
   "source": [
    "## catboost 모델"
   ]
  },
  {
   "cell_type": "code",
   "execution_count": 577,
   "id": "38ec1cbb",
   "metadata": {
    "executionInfo": {
     "elapsed": 11502,
     "status": "ok",
     "timestamp": 1713318290315,
     "user": {
      "displayName": "전영호",
      "userId": "17928441635701806568"
     },
     "user_tz": -540
    },
    "id": "38ec1cbb"
   },
   "outputs": [],
   "source": [
    "scores = []  # CV 결과 저장\n",
    "oof_pred = np.zeros(X_test.shape[0])  # OOF 저장\n",
    "kfold = KFold(n_splits=5, shuffle=True, random_state=0) # K-Folds cross-validator #n_splits=5 > k 5개 쪼개기, #shuffle > 데이터 섞기 여부. TRUE가 좋음,\n",
    "\n",
    "for train_index, valid_index in kfold.split(X_train, y_train): #kfold.split : 학습데이터가 5개로 쪼개진다. valid_index >test, train_index>train\n",
    "    # 학습/검증 데이터 분할\n",
    "    train_x, valid_x = X_train.iloc[train_index], X_train.iloc[valid_index]\n",
    "    train_y, valid_y = y_train.iloc[train_index], y_train.iloc[valid_index]\n",
    "\n",
    "    # 범주형피처 직접 처리와 Early stopping을 사용하여 CatBoost 모델링\n",
    "    model = CatBoostRegressor(cat_features=categorical_features, verbose=False, random_state=0, **grid.best_params_) #cat_features=categorical_features : 범주형 피쳐 지정해주면 지가 알아서 해줌\n",
    "    model.fit(train_x, train_y, #4개의 fold로 학습,\n",
    "              eval_set=[(valid_x,valid_y)],\n",
    "              early_stopping_rounds=100, #early_stopping_rounds=100 과대적합 줄이기 위함\n",
    "             )\n",
    "\n",
    "    # CV 스코어 계산 및 저장\n",
    "    rmse = np.sqrt(mean_squared_error(valid_y, model.predict(valid_x)))\n",
    "    scores.append(rmse)\n",
    "\n",
    "    # OOF 예측값 저장\n",
    "    oof_pred += model.predict(X_test) / kfold.get_n_splits() #oof와 corssvalidation 한꺼번에 가능."
   ]
  },
  {
   "cell_type": "code",
   "execution_count": 579,
   "id": "Ya3AYQA4um9o",
   "metadata": {
    "colab": {
     "base_uri": "https://localhost:8080/"
    },
    "executionInfo": {
     "elapsed": 652,
     "status": "ok",
     "timestamp": 1713318371030,
     "user": {
      "displayName": "전영호",
      "userId": "17928441635701806568"
     },
     "user_tz": -540
    },
    "id": "Ya3AYQA4um9o",
    "outputId": "4597ad60-25f6-4786-e495-ec5584ce2bfb"
   },
   "outputs": [
    {
     "name": "stdout",
     "output_type": "stream",
     "text": [
      "CV scores:  [865.43451797 846.03093425 875.26949722 835.01248508 848.86497392]\n",
      "CV mean = 854.12 with std = 14.38\n"
     ]
    }
   ],
   "source": [
    "scores = np.array(scores)\n",
    "print(\"CV scores: \", scores)\n",
    "print(\"CV mean = %.2f\" % scores.mean(), \"with std = %.2f\" % scores.std())"
   ]
  }
 ],
 "metadata": {
  "colab": {
   "provenance": [],
   "toc_visible": true
  },
  "kernelspec": {
   "display_name": "Python 3 (ipykernel)",
   "language": "python",
   "name": "python3"
  },
  "language_info": {
   "codemirror_mode": {
    "name": "ipython",
    "version": 3
   },
   "file_extension": ".py",
   "mimetype": "text/x-python",
   "name": "python",
   "nbconvert_exporter": "python",
   "pygments_lexer": "ipython3",
   "version": "3.11.4"
  },
  "toc": {
   "base_numbering": 1,
   "nav_menu": {},
   "number_sections": true,
   "sideBar": true,
   "skip_h1_title": false,
   "title_cell": "Table of Contents",
   "title_sidebar": "Contents",
   "toc_cell": false,
   "toc_position": {
    "height": "553px",
    "left": "38px",
    "top": "418px",
    "width": "259.602px"
   },
   "toc_section_display": true,
   "toc_window_display": true
  }
 },
 "nbformat": 4,
 "nbformat_minor": 5
}
